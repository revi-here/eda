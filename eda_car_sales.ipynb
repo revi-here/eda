{
 "cells": [
  {
   "cell_type": "markdown",
   "metadata": {},
   "source": [
    "# What sells a car?\n",
    "\n",
    " Hundreds of free advertisements for vehicles are published on your site 'Crankshaft List' every day. You need to study data collected over the last few years and determine which factors influence the price of a vehicle."
   ]
  },
  {
   "cell_type": "markdown",
   "metadata": {},
   "source": [
    "## Hypothesis\n",
    "The more the age of the vehicle , price is reduced.\n",
    "\n",
    "Mileage and condition of the vehicle should also be analyzed..\n",
    "Parameters to be analyzed:\n",
    "1.price\n",
    "2.vehicles age\n",
    "3.mileage\n",
    "4.condition"
   ]
  },
  {
   "cell_type": "markdown",
   "metadata": {},
   "source": [
    "## Initialization"
   ]
  },
  {
   "cell_type": "code",
   "execution_count": 1,
   "metadata": {},
   "outputs": [],
   "source": [
    "# Loading all the libraries\n",
    "\n",
    "import pandas as pd\n",
    "import matplotlib.pyplot as plt \n",
    "import warnings"
   ]
  },
  {
   "cell_type": "markdown",
   "metadata": {},
   "source": [
    "### Load data"
   ]
  },
  {
   "cell_type": "code",
   "execution_count": 2,
   "metadata": {},
   "outputs": [
    {
     "data": {
      "text/html": [
       "<div>\n",
       "<style scoped>\n",
       "    .dataframe tbody tr th:only-of-type {\n",
       "        vertical-align: middle;\n",
       "    }\n",
       "\n",
       "    .dataframe tbody tr th {\n",
       "        vertical-align: top;\n",
       "    }\n",
       "\n",
       "    .dataframe thead th {\n",
       "        text-align: right;\n",
       "    }\n",
       "</style>\n",
       "<table border=\"1\" class=\"dataframe\">\n",
       "  <thead>\n",
       "    <tr style=\"text-align: right;\">\n",
       "      <th></th>\n",
       "      <th>price</th>\n",
       "      <th>model_year</th>\n",
       "      <th>model</th>\n",
       "      <th>condition</th>\n",
       "      <th>cylinders</th>\n",
       "      <th>fuel</th>\n",
       "      <th>odometer</th>\n",
       "      <th>transmission</th>\n",
       "      <th>type</th>\n",
       "      <th>paint_color</th>\n",
       "      <th>is_4wd</th>\n",
       "      <th>date_posted</th>\n",
       "      <th>days_listed</th>\n",
       "    </tr>\n",
       "  </thead>\n",
       "  <tbody>\n",
       "    <tr>\n",
       "      <th>0</th>\n",
       "      <td>9400</td>\n",
       "      <td>2011.0</td>\n",
       "      <td>bmw x5</td>\n",
       "      <td>good</td>\n",
       "      <td>6.0</td>\n",
       "      <td>gas</td>\n",
       "      <td>145000.0</td>\n",
       "      <td>automatic</td>\n",
       "      <td>SUV</td>\n",
       "      <td>NaN</td>\n",
       "      <td>1.0</td>\n",
       "      <td>2018-06-23</td>\n",
       "      <td>19</td>\n",
       "    </tr>\n",
       "    <tr>\n",
       "      <th>1</th>\n",
       "      <td>25500</td>\n",
       "      <td>NaN</td>\n",
       "      <td>ford f-150</td>\n",
       "      <td>good</td>\n",
       "      <td>6.0</td>\n",
       "      <td>gas</td>\n",
       "      <td>88705.0</td>\n",
       "      <td>automatic</td>\n",
       "      <td>pickup</td>\n",
       "      <td>white</td>\n",
       "      <td>1.0</td>\n",
       "      <td>2018-10-19</td>\n",
       "      <td>50</td>\n",
       "    </tr>\n",
       "    <tr>\n",
       "      <th>2</th>\n",
       "      <td>5500</td>\n",
       "      <td>2013.0</td>\n",
       "      <td>hyundai sonata</td>\n",
       "      <td>like new</td>\n",
       "      <td>4.0</td>\n",
       "      <td>gas</td>\n",
       "      <td>110000.0</td>\n",
       "      <td>automatic</td>\n",
       "      <td>sedan</td>\n",
       "      <td>red</td>\n",
       "      <td>NaN</td>\n",
       "      <td>2019-02-07</td>\n",
       "      <td>79</td>\n",
       "    </tr>\n",
       "    <tr>\n",
       "      <th>3</th>\n",
       "      <td>1500</td>\n",
       "      <td>2003.0</td>\n",
       "      <td>ford f-150</td>\n",
       "      <td>fair</td>\n",
       "      <td>8.0</td>\n",
       "      <td>gas</td>\n",
       "      <td>NaN</td>\n",
       "      <td>automatic</td>\n",
       "      <td>pickup</td>\n",
       "      <td>NaN</td>\n",
       "      <td>NaN</td>\n",
       "      <td>2019-03-22</td>\n",
       "      <td>9</td>\n",
       "    </tr>\n",
       "    <tr>\n",
       "      <th>4</th>\n",
       "      <td>14900</td>\n",
       "      <td>2017.0</td>\n",
       "      <td>chrysler 200</td>\n",
       "      <td>excellent</td>\n",
       "      <td>4.0</td>\n",
       "      <td>gas</td>\n",
       "      <td>80903.0</td>\n",
       "      <td>automatic</td>\n",
       "      <td>sedan</td>\n",
       "      <td>black</td>\n",
       "      <td>NaN</td>\n",
       "      <td>2019-04-02</td>\n",
       "      <td>28</td>\n",
       "    </tr>\n",
       "    <tr>\n",
       "      <th>5</th>\n",
       "      <td>14990</td>\n",
       "      <td>2014.0</td>\n",
       "      <td>chrysler 300</td>\n",
       "      <td>excellent</td>\n",
       "      <td>6.0</td>\n",
       "      <td>gas</td>\n",
       "      <td>57954.0</td>\n",
       "      <td>automatic</td>\n",
       "      <td>sedan</td>\n",
       "      <td>black</td>\n",
       "      <td>1.0</td>\n",
       "      <td>2018-06-20</td>\n",
       "      <td>15</td>\n",
       "    </tr>\n",
       "    <tr>\n",
       "      <th>6</th>\n",
       "      <td>12990</td>\n",
       "      <td>2015.0</td>\n",
       "      <td>toyota camry</td>\n",
       "      <td>excellent</td>\n",
       "      <td>4.0</td>\n",
       "      <td>gas</td>\n",
       "      <td>79212.0</td>\n",
       "      <td>automatic</td>\n",
       "      <td>sedan</td>\n",
       "      <td>white</td>\n",
       "      <td>NaN</td>\n",
       "      <td>2018-12-27</td>\n",
       "      <td>73</td>\n",
       "    </tr>\n",
       "    <tr>\n",
       "      <th>7</th>\n",
       "      <td>15990</td>\n",
       "      <td>2013.0</td>\n",
       "      <td>honda pilot</td>\n",
       "      <td>excellent</td>\n",
       "      <td>6.0</td>\n",
       "      <td>gas</td>\n",
       "      <td>109473.0</td>\n",
       "      <td>automatic</td>\n",
       "      <td>SUV</td>\n",
       "      <td>black</td>\n",
       "      <td>1.0</td>\n",
       "      <td>2019-01-07</td>\n",
       "      <td>68</td>\n",
       "    </tr>\n",
       "    <tr>\n",
       "      <th>8</th>\n",
       "      <td>11500</td>\n",
       "      <td>2012.0</td>\n",
       "      <td>kia sorento</td>\n",
       "      <td>excellent</td>\n",
       "      <td>4.0</td>\n",
       "      <td>gas</td>\n",
       "      <td>104174.0</td>\n",
       "      <td>automatic</td>\n",
       "      <td>SUV</td>\n",
       "      <td>NaN</td>\n",
       "      <td>1.0</td>\n",
       "      <td>2018-07-16</td>\n",
       "      <td>19</td>\n",
       "    </tr>\n",
       "    <tr>\n",
       "      <th>9</th>\n",
       "      <td>9200</td>\n",
       "      <td>2008.0</td>\n",
       "      <td>honda pilot</td>\n",
       "      <td>excellent</td>\n",
       "      <td>NaN</td>\n",
       "      <td>gas</td>\n",
       "      <td>147191.0</td>\n",
       "      <td>automatic</td>\n",
       "      <td>SUV</td>\n",
       "      <td>blue</td>\n",
       "      <td>1.0</td>\n",
       "      <td>2019-02-15</td>\n",
       "      <td>17</td>\n",
       "    </tr>\n",
       "  </tbody>\n",
       "</table>\n",
       "</div>"
      ],
      "text/plain": [
       "   price  model_year           model  condition  cylinders fuel  odometer  \\\n",
       "0   9400      2011.0          bmw x5       good        6.0  gas  145000.0   \n",
       "1  25500         NaN      ford f-150       good        6.0  gas   88705.0   \n",
       "2   5500      2013.0  hyundai sonata   like new        4.0  gas  110000.0   \n",
       "3   1500      2003.0      ford f-150       fair        8.0  gas       NaN   \n",
       "4  14900      2017.0    chrysler 200  excellent        4.0  gas   80903.0   \n",
       "5  14990      2014.0    chrysler 300  excellent        6.0  gas   57954.0   \n",
       "6  12990      2015.0    toyota camry  excellent        4.0  gas   79212.0   \n",
       "7  15990      2013.0     honda pilot  excellent        6.0  gas  109473.0   \n",
       "8  11500      2012.0     kia sorento  excellent        4.0  gas  104174.0   \n",
       "9   9200      2008.0     honda pilot  excellent        NaN  gas  147191.0   \n",
       "\n",
       "  transmission    type paint_color  is_4wd date_posted  days_listed  \n",
       "0    automatic     SUV         NaN     1.0  2018-06-23           19  \n",
       "1    automatic  pickup       white     1.0  2018-10-19           50  \n",
       "2    automatic   sedan         red     NaN  2019-02-07           79  \n",
       "3    automatic  pickup         NaN     NaN  2019-03-22            9  \n",
       "4    automatic   sedan       black     NaN  2019-04-02           28  \n",
       "5    automatic   sedan       black     1.0  2018-06-20           15  \n",
       "6    automatic   sedan       white     NaN  2018-12-27           73  \n",
       "7    automatic     SUV       black     1.0  2019-01-07           68  \n",
       "8    automatic     SUV         NaN     1.0  2018-07-16           19  \n",
       "9    automatic     SUV        blue     1.0  2019-02-15           17  "
      ]
     },
     "execution_count": 2,
     "metadata": {},
     "output_type": "execute_result"
    }
   ],
   "source": [
    "warnings.filterwarnings(\"ignore\")\n",
    "# Load the data file into a DataFrame\n",
    "df=pd.DataFrame()\n",
    "try:\n",
    "    df=pd.read_csv('/datasets/vehicles_us.csv')\n",
    "except Exception as e:\n",
    "        print ('Error in reading file')\n",
    "        print (e)\n",
    "df.head(10)"
   ]
  },
  {
   "cell_type": "markdown",
   "metadata": {},
   "source": [
    "### Explore initial data"
   ]
  },
  {
   "cell_type": "markdown",
   "metadata": {},
   "source": [
    "The dataset contains the following fields:\n",
    "- `price`\n",
    "- `model_year`\n",
    "- `model`\n",
    "- `condition`\n",
    "- `cylinders`\n",
    "- `fuel` — gas, diesel, etc.\n",
    "- `odometer` — the vehicle's mileage when the ad was published\n",
    "- `transmission`\n",
    "- `paint_color`\n",
    "- `is_4wd` — whether the vehicle has 4-wheel drive (Boolean type)\n",
    "- `date_posted` — the date the ad was published\n",
    "- `days_listed` — from publication to removal\n",
    "\n"
   ]
  },
  {
   "cell_type": "code",
   "execution_count": 3,
   "metadata": {},
   "outputs": [
    {
     "name": "stdout",
     "output_type": "stream",
     "text": [
      "<class 'pandas.core.frame.DataFrame'>\n",
      "RangeIndex: 51525 entries, 0 to 51524\n",
      "Data columns (total 13 columns):\n",
      " #   Column        Non-Null Count  Dtype  \n",
      "---  ------        --------------  -----  \n",
      " 0   price         51525 non-null  int64  \n",
      " 1   model_year    47906 non-null  float64\n",
      " 2   model         51525 non-null  object \n",
      " 3   condition     51525 non-null  object \n",
      " 4   cylinders     46265 non-null  float64\n",
      " 5   fuel          51525 non-null  object \n",
      " 6   odometer      43633 non-null  float64\n",
      " 7   transmission  51525 non-null  object \n",
      " 8   type          51525 non-null  object \n",
      " 9   paint_color   42258 non-null  object \n",
      " 10  is_4wd        25572 non-null  float64\n",
      " 11  date_posted   51525 non-null  object \n",
      " 12  days_listed   51525 non-null  int64  \n",
      "dtypes: float64(4), int64(2), object(7)\n",
      "memory usage: 5.1+ MB\n"
     ]
    }
   ],
   "source": [
    "# print the general/summary information about the DataFrame\n",
    "\n",
    "df.info()\n"
   ]
  },
  {
   "cell_type": "code",
   "execution_count": 4,
   "metadata": {},
   "outputs": [
    {
     "data": {
      "text/html": [
       "<div>\n",
       "<style scoped>\n",
       "    .dataframe tbody tr th:only-of-type {\n",
       "        vertical-align: middle;\n",
       "    }\n",
       "\n",
       "    .dataframe tbody tr th {\n",
       "        vertical-align: top;\n",
       "    }\n",
       "\n",
       "    .dataframe thead th {\n",
       "        text-align: right;\n",
       "    }\n",
       "</style>\n",
       "<table border=\"1\" class=\"dataframe\">\n",
       "  <thead>\n",
       "    <tr style=\"text-align: right;\">\n",
       "      <th></th>\n",
       "      <th>price</th>\n",
       "      <th>model_year</th>\n",
       "      <th>model</th>\n",
       "      <th>condition</th>\n",
       "      <th>cylinders</th>\n",
       "      <th>fuel</th>\n",
       "      <th>odometer</th>\n",
       "      <th>transmission</th>\n",
       "      <th>type</th>\n",
       "      <th>paint_color</th>\n",
       "      <th>is_4wd</th>\n",
       "      <th>date_posted</th>\n",
       "      <th>days_listed</th>\n",
       "    </tr>\n",
       "  </thead>\n",
       "  <tbody>\n",
       "    <tr>\n",
       "      <th>0</th>\n",
       "      <td>9400</td>\n",
       "      <td>2011.0</td>\n",
       "      <td>bmw x5</td>\n",
       "      <td>good</td>\n",
       "      <td>6.0</td>\n",
       "      <td>gas</td>\n",
       "      <td>145000.0</td>\n",
       "      <td>automatic</td>\n",
       "      <td>SUV</td>\n",
       "      <td>NaN</td>\n",
       "      <td>1.0</td>\n",
       "      <td>2018-06-23</td>\n",
       "      <td>19</td>\n",
       "    </tr>\n",
       "    <tr>\n",
       "      <th>1</th>\n",
       "      <td>25500</td>\n",
       "      <td>NaN</td>\n",
       "      <td>ford f-150</td>\n",
       "      <td>good</td>\n",
       "      <td>6.0</td>\n",
       "      <td>gas</td>\n",
       "      <td>88705.0</td>\n",
       "      <td>automatic</td>\n",
       "      <td>pickup</td>\n",
       "      <td>white</td>\n",
       "      <td>1.0</td>\n",
       "      <td>2018-10-19</td>\n",
       "      <td>50</td>\n",
       "    </tr>\n",
       "    <tr>\n",
       "      <th>2</th>\n",
       "      <td>5500</td>\n",
       "      <td>2013.0</td>\n",
       "      <td>hyundai sonata</td>\n",
       "      <td>like new</td>\n",
       "      <td>4.0</td>\n",
       "      <td>gas</td>\n",
       "      <td>110000.0</td>\n",
       "      <td>automatic</td>\n",
       "      <td>sedan</td>\n",
       "      <td>red</td>\n",
       "      <td>NaN</td>\n",
       "      <td>2019-02-07</td>\n",
       "      <td>79</td>\n",
       "    </tr>\n",
       "    <tr>\n",
       "      <th>3</th>\n",
       "      <td>1500</td>\n",
       "      <td>2003.0</td>\n",
       "      <td>ford f-150</td>\n",
       "      <td>fair</td>\n",
       "      <td>8.0</td>\n",
       "      <td>gas</td>\n",
       "      <td>NaN</td>\n",
       "      <td>automatic</td>\n",
       "      <td>pickup</td>\n",
       "      <td>NaN</td>\n",
       "      <td>NaN</td>\n",
       "      <td>2019-03-22</td>\n",
       "      <td>9</td>\n",
       "    </tr>\n",
       "    <tr>\n",
       "      <th>4</th>\n",
       "      <td>14900</td>\n",
       "      <td>2017.0</td>\n",
       "      <td>chrysler 200</td>\n",
       "      <td>excellent</td>\n",
       "      <td>4.0</td>\n",
       "      <td>gas</td>\n",
       "      <td>80903.0</td>\n",
       "      <td>automatic</td>\n",
       "      <td>sedan</td>\n",
       "      <td>black</td>\n",
       "      <td>NaN</td>\n",
       "      <td>2019-04-02</td>\n",
       "      <td>28</td>\n",
       "    </tr>\n",
       "    <tr>\n",
       "      <th>5</th>\n",
       "      <td>14990</td>\n",
       "      <td>2014.0</td>\n",
       "      <td>chrysler 300</td>\n",
       "      <td>excellent</td>\n",
       "      <td>6.0</td>\n",
       "      <td>gas</td>\n",
       "      <td>57954.0</td>\n",
       "      <td>automatic</td>\n",
       "      <td>sedan</td>\n",
       "      <td>black</td>\n",
       "      <td>1.0</td>\n",
       "      <td>2018-06-20</td>\n",
       "      <td>15</td>\n",
       "    </tr>\n",
       "    <tr>\n",
       "      <th>6</th>\n",
       "      <td>12990</td>\n",
       "      <td>2015.0</td>\n",
       "      <td>toyota camry</td>\n",
       "      <td>excellent</td>\n",
       "      <td>4.0</td>\n",
       "      <td>gas</td>\n",
       "      <td>79212.0</td>\n",
       "      <td>automatic</td>\n",
       "      <td>sedan</td>\n",
       "      <td>white</td>\n",
       "      <td>NaN</td>\n",
       "      <td>2018-12-27</td>\n",
       "      <td>73</td>\n",
       "    </tr>\n",
       "    <tr>\n",
       "      <th>7</th>\n",
       "      <td>15990</td>\n",
       "      <td>2013.0</td>\n",
       "      <td>honda pilot</td>\n",
       "      <td>excellent</td>\n",
       "      <td>6.0</td>\n",
       "      <td>gas</td>\n",
       "      <td>109473.0</td>\n",
       "      <td>automatic</td>\n",
       "      <td>SUV</td>\n",
       "      <td>black</td>\n",
       "      <td>1.0</td>\n",
       "      <td>2019-01-07</td>\n",
       "      <td>68</td>\n",
       "    </tr>\n",
       "    <tr>\n",
       "      <th>8</th>\n",
       "      <td>11500</td>\n",
       "      <td>2012.0</td>\n",
       "      <td>kia sorento</td>\n",
       "      <td>excellent</td>\n",
       "      <td>4.0</td>\n",
       "      <td>gas</td>\n",
       "      <td>104174.0</td>\n",
       "      <td>automatic</td>\n",
       "      <td>SUV</td>\n",
       "      <td>NaN</td>\n",
       "      <td>1.0</td>\n",
       "      <td>2018-07-16</td>\n",
       "      <td>19</td>\n",
       "    </tr>\n",
       "    <tr>\n",
       "      <th>9</th>\n",
       "      <td>9200</td>\n",
       "      <td>2008.0</td>\n",
       "      <td>honda pilot</td>\n",
       "      <td>excellent</td>\n",
       "      <td>NaN</td>\n",
       "      <td>gas</td>\n",
       "      <td>147191.0</td>\n",
       "      <td>automatic</td>\n",
       "      <td>SUV</td>\n",
       "      <td>blue</td>\n",
       "      <td>1.0</td>\n",
       "      <td>2019-02-15</td>\n",
       "      <td>17</td>\n",
       "    </tr>\n",
       "  </tbody>\n",
       "</table>\n",
       "</div>"
      ],
      "text/plain": [
       "   price  model_year           model  condition  cylinders fuel  odometer  \\\n",
       "0   9400      2011.0          bmw x5       good        6.0  gas  145000.0   \n",
       "1  25500         NaN      ford f-150       good        6.0  gas   88705.0   \n",
       "2   5500      2013.0  hyundai sonata   like new        4.0  gas  110000.0   \n",
       "3   1500      2003.0      ford f-150       fair        8.0  gas       NaN   \n",
       "4  14900      2017.0    chrysler 200  excellent        4.0  gas   80903.0   \n",
       "5  14990      2014.0    chrysler 300  excellent        6.0  gas   57954.0   \n",
       "6  12990      2015.0    toyota camry  excellent        4.0  gas   79212.0   \n",
       "7  15990      2013.0     honda pilot  excellent        6.0  gas  109473.0   \n",
       "8  11500      2012.0     kia sorento  excellent        4.0  gas  104174.0   \n",
       "9   9200      2008.0     honda pilot  excellent        NaN  gas  147191.0   \n",
       "\n",
       "  transmission    type paint_color  is_4wd date_posted  days_listed  \n",
       "0    automatic     SUV         NaN     1.0  2018-06-23           19  \n",
       "1    automatic  pickup       white     1.0  2018-10-19           50  \n",
       "2    automatic   sedan         red     NaN  2019-02-07           79  \n",
       "3    automatic  pickup         NaN     NaN  2019-03-22            9  \n",
       "4    automatic   sedan       black     NaN  2019-04-02           28  \n",
       "5    automatic   sedan       black     1.0  2018-06-20           15  \n",
       "6    automatic   sedan       white     NaN  2018-12-27           73  \n",
       "7    automatic     SUV       black     1.0  2019-01-07           68  \n",
       "8    automatic     SUV         NaN     1.0  2018-07-16           19  \n",
       "9    automatic     SUV        blue     1.0  2019-02-15           17  "
      ]
     },
     "execution_count": 4,
     "metadata": {},
     "output_type": "execute_result"
    }
   ],
   "source": [
    "# print a sample of data\n",
    "df.head(10)\n"
   ]
  },
  {
   "cell_type": "markdown",
   "metadata": {},
   "source": [
    "We notice missing values in few columns with 'is_4wd' column having increased percentage of missing values\n",
    "which requires proper analysis on how to deal with it."
   ]
  },
  {
   "cell_type": "markdown",
   "metadata": {},
   "source": [
    "'Price' of the dataset is float.Also ,'model_year' is described as float.\n",
    "'cylinders' and 'odometer' column has float value for which int makes\n",
    "more sense . 'is_4wd' is a float which when declared as 'int' can perform operations easily as boolean value can be expressed as '0' and'1'.So it is better to convert all float to int datatype.\n",
    "\n",
    "\n"
   ]
  },
  {
   "cell_type": "markdown",
   "metadata": {},
   "source": [
    "Missing values are present in few columns with the most in 'is_4wd' column.\n",
    "There are few missing values in 'odometer','paint_color','model_year' and 'cylinders'.\n",
    "Other than 'is_4wd' ,other missing values are relatively lower percentage\n",
    "'Is_4wd' being one of the main characteristcs to check on while buying car, we need to analyse carefully about the missing values."
   ]
  },
  {
   "cell_type": "markdown",
   "metadata": {},
   "source": [
    "### Conclusions and further steps\n",
    "\n"
   ]
  },
  {
   "cell_type": "markdown",
   "metadata": {},
   "source": [
    "Observing the initial data shows some significant missing values in 'is_4wd'columns and some fewer missing values in other columns. There are some data type mismatch which needs to be fixed too.\n",
    "Also 'price' column has some rows with 1 as value .This has to be changed as price cannot be 1."
   ]
  },
  {
   "cell_type": "markdown",
   "metadata": {},
   "source": [
    "## Treat missing values (if any)"
   ]
  },
  {
   "cell_type": "code",
   "execution_count": 5,
   "metadata": {},
   "outputs": [
    {
     "name": "stdout",
     "output_type": "stream",
     "text": [
      "                  0\n",
      "price             0\n",
      "model_year     3619\n",
      "model             0\n",
      "condition         0\n",
      "cylinders      5260\n",
      "fuel              0\n",
      "odometer       7892\n",
      "transmission      0\n",
      "type              0\n",
      "paint_color    9267\n",
      "is_4wd        25953\n",
      "date_posted       0\n",
      "days_listed       0\n",
      "              missing_values  % of total\n",
      "is_4wd                 25953        0.50\n",
      "paint_color             9267        0.18\n",
      "odometer                7892        0.15\n",
      "cylinders               5260        0.10\n",
      "model_year              3619        0.07\n",
      "price                      0        0.00\n",
      "model                      0        0.00\n",
      "condition                  0        0.00\n",
      "fuel                       0        0.00\n",
      "transmission               0        0.00\n",
      "type                       0        0.00\n",
      "date_posted                0        0.00\n",
      "days_listed                0        0.00\n"
     ]
    }
   ],
   "source": [
    "#code to calculate % of missing values for each column\n",
    "report = df.isna().sum().to_frame()#to_frame()-- series to dataframe with column headers as 0,1...\n",
    "print(report)\n",
    "report = report.rename(columns = {0: 'missing_values'})\n",
    "report['% of total'] = (report['missing_values'] / df.shape[0]).round(2)\n",
    "print(report.sort_values(by = 'missing_values', ascending = False))\n",
    "\n"
   ]
  },
  {
   "cell_type": "markdown",
   "metadata": {},
   "source": [
    "Filling missing values in 'odometer' with median based on condition of the vehicle."
   ]
  },
  {
   "cell_type": "code",
   "execution_count": 6,
   "metadata": {},
   "outputs": [
    {
     "data": {
      "text/html": [
       "<div>\n",
       "<style scoped>\n",
       "    .dataframe tbody tr th:only-of-type {\n",
       "        vertical-align: middle;\n",
       "    }\n",
       "\n",
       "    .dataframe tbody tr th {\n",
       "        vertical-align: top;\n",
       "    }\n",
       "\n",
       "    .dataframe thead th {\n",
       "        text-align: right;\n",
       "    }\n",
       "</style>\n",
       "<table border=\"1\" class=\"dataframe\">\n",
       "  <thead>\n",
       "    <tr style=\"text-align: right;\">\n",
       "      <th></th>\n",
       "      <th>price</th>\n",
       "      <th>model_year</th>\n",
       "      <th>model</th>\n",
       "      <th>condition</th>\n",
       "      <th>cylinders</th>\n",
       "      <th>fuel</th>\n",
       "      <th>odometer</th>\n",
       "      <th>transmission</th>\n",
       "      <th>type</th>\n",
       "      <th>paint_color</th>\n",
       "      <th>is_4wd</th>\n",
       "      <th>date_posted</th>\n",
       "      <th>days_listed</th>\n",
       "    </tr>\n",
       "  </thead>\n",
       "  <tbody>\n",
       "    <tr>\n",
       "      <th>0</th>\n",
       "      <td>9400</td>\n",
       "      <td>2011.0</td>\n",
       "      <td>bmw x5</td>\n",
       "      <td>good</td>\n",
       "      <td>6.0</td>\n",
       "      <td>gas</td>\n",
       "      <td>145000.0</td>\n",
       "      <td>automatic</td>\n",
       "      <td>SUV</td>\n",
       "      <td>NaN</td>\n",
       "      <td>1.0</td>\n",
       "      <td>2018-06-23</td>\n",
       "      <td>19</td>\n",
       "    </tr>\n",
       "    <tr>\n",
       "      <th>1</th>\n",
       "      <td>25500</td>\n",
       "      <td>NaN</td>\n",
       "      <td>ford f-150</td>\n",
       "      <td>good</td>\n",
       "      <td>6.0</td>\n",
       "      <td>gas</td>\n",
       "      <td>88705.0</td>\n",
       "      <td>automatic</td>\n",
       "      <td>pickup</td>\n",
       "      <td>white</td>\n",
       "      <td>1.0</td>\n",
       "      <td>2018-10-19</td>\n",
       "      <td>50</td>\n",
       "    </tr>\n",
       "    <tr>\n",
       "      <th>2</th>\n",
       "      <td>5500</td>\n",
       "      <td>2013.0</td>\n",
       "      <td>hyundai sonata</td>\n",
       "      <td>like new</td>\n",
       "      <td>4.0</td>\n",
       "      <td>gas</td>\n",
       "      <td>110000.0</td>\n",
       "      <td>automatic</td>\n",
       "      <td>sedan</td>\n",
       "      <td>red</td>\n",
       "      <td>NaN</td>\n",
       "      <td>2019-02-07</td>\n",
       "      <td>79</td>\n",
       "    </tr>\n",
       "    <tr>\n",
       "      <th>3</th>\n",
       "      <td>1500</td>\n",
       "      <td>2003.0</td>\n",
       "      <td>ford f-150</td>\n",
       "      <td>fair</td>\n",
       "      <td>8.0</td>\n",
       "      <td>gas</td>\n",
       "      <td>181613.0</td>\n",
       "      <td>automatic</td>\n",
       "      <td>pickup</td>\n",
       "      <td>NaN</td>\n",
       "      <td>NaN</td>\n",
       "      <td>2019-03-22</td>\n",
       "      <td>9</td>\n",
       "    </tr>\n",
       "    <tr>\n",
       "      <th>4</th>\n",
       "      <td>14900</td>\n",
       "      <td>2017.0</td>\n",
       "      <td>chrysler 200</td>\n",
       "      <td>excellent</td>\n",
       "      <td>4.0</td>\n",
       "      <td>gas</td>\n",
       "      <td>80903.0</td>\n",
       "      <td>automatic</td>\n",
       "      <td>sedan</td>\n",
       "      <td>black</td>\n",
       "      <td>NaN</td>\n",
       "      <td>2019-04-02</td>\n",
       "      <td>28</td>\n",
       "    </tr>\n",
       "    <tr>\n",
       "      <th>5</th>\n",
       "      <td>14990</td>\n",
       "      <td>2014.0</td>\n",
       "      <td>chrysler 300</td>\n",
       "      <td>excellent</td>\n",
       "      <td>6.0</td>\n",
       "      <td>gas</td>\n",
       "      <td>57954.0</td>\n",
       "      <td>automatic</td>\n",
       "      <td>sedan</td>\n",
       "      <td>black</td>\n",
       "      <td>1.0</td>\n",
       "      <td>2018-06-20</td>\n",
       "      <td>15</td>\n",
       "    </tr>\n",
       "    <tr>\n",
       "      <th>6</th>\n",
       "      <td>12990</td>\n",
       "      <td>2015.0</td>\n",
       "      <td>toyota camry</td>\n",
       "      <td>excellent</td>\n",
       "      <td>4.0</td>\n",
       "      <td>gas</td>\n",
       "      <td>79212.0</td>\n",
       "      <td>automatic</td>\n",
       "      <td>sedan</td>\n",
       "      <td>white</td>\n",
       "      <td>NaN</td>\n",
       "      <td>2018-12-27</td>\n",
       "      <td>73</td>\n",
       "    </tr>\n",
       "    <tr>\n",
       "      <th>7</th>\n",
       "      <td>15990</td>\n",
       "      <td>2013.0</td>\n",
       "      <td>honda pilot</td>\n",
       "      <td>excellent</td>\n",
       "      <td>6.0</td>\n",
       "      <td>gas</td>\n",
       "      <td>109473.0</td>\n",
       "      <td>automatic</td>\n",
       "      <td>SUV</td>\n",
       "      <td>black</td>\n",
       "      <td>1.0</td>\n",
       "      <td>2019-01-07</td>\n",
       "      <td>68</td>\n",
       "    </tr>\n",
       "    <tr>\n",
       "      <th>8</th>\n",
       "      <td>11500</td>\n",
       "      <td>2012.0</td>\n",
       "      <td>kia sorento</td>\n",
       "      <td>excellent</td>\n",
       "      <td>4.0</td>\n",
       "      <td>gas</td>\n",
       "      <td>104174.0</td>\n",
       "      <td>automatic</td>\n",
       "      <td>SUV</td>\n",
       "      <td>NaN</td>\n",
       "      <td>1.0</td>\n",
       "      <td>2018-07-16</td>\n",
       "      <td>19</td>\n",
       "    </tr>\n",
       "    <tr>\n",
       "      <th>9</th>\n",
       "      <td>9200</td>\n",
       "      <td>2008.0</td>\n",
       "      <td>honda pilot</td>\n",
       "      <td>excellent</td>\n",
       "      <td>NaN</td>\n",
       "      <td>gas</td>\n",
       "      <td>147191.0</td>\n",
       "      <td>automatic</td>\n",
       "      <td>SUV</td>\n",
       "      <td>blue</td>\n",
       "      <td>1.0</td>\n",
       "      <td>2019-02-15</td>\n",
       "      <td>17</td>\n",
       "    </tr>\n",
       "  </tbody>\n",
       "</table>\n",
       "</div>"
      ],
      "text/plain": [
       "   price  model_year           model  condition  cylinders fuel  odometer  \\\n",
       "0   9400      2011.0          bmw x5       good        6.0  gas  145000.0   \n",
       "1  25500         NaN      ford f-150       good        6.0  gas   88705.0   \n",
       "2   5500      2013.0  hyundai sonata   like new        4.0  gas  110000.0   \n",
       "3   1500      2003.0      ford f-150       fair        8.0  gas  181613.0   \n",
       "4  14900      2017.0    chrysler 200  excellent        4.0  gas   80903.0   \n",
       "5  14990      2014.0    chrysler 300  excellent        6.0  gas   57954.0   \n",
       "6  12990      2015.0    toyota camry  excellent        4.0  gas   79212.0   \n",
       "7  15990      2013.0     honda pilot  excellent        6.0  gas  109473.0   \n",
       "8  11500      2012.0     kia sorento  excellent        4.0  gas  104174.0   \n",
       "9   9200      2008.0     honda pilot  excellent        NaN  gas  147191.0   \n",
       "\n",
       "  transmission    type paint_color  is_4wd date_posted  days_listed  \n",
       "0    automatic     SUV         NaN     1.0  2018-06-23           19  \n",
       "1    automatic  pickup       white     1.0  2018-10-19           50  \n",
       "2    automatic   sedan         red     NaN  2019-02-07           79  \n",
       "3    automatic  pickup         NaN     NaN  2019-03-22            9  \n",
       "4    automatic   sedan       black     NaN  2019-04-02           28  \n",
       "5    automatic   sedan       black     1.0  2018-06-20           15  \n",
       "6    automatic   sedan       white     NaN  2018-12-27           73  \n",
       "7    automatic     SUV       black     1.0  2019-01-07           68  \n",
       "8    automatic     SUV         NaN     1.0  2018-07-16           19  \n",
       "9    automatic     SUV        blue     1.0  2019-02-15           17  "
      ]
     },
     "metadata": {},
     "output_type": "display_data"
    },
    {
     "data": {
      "text/plain": [
       "0"
      ]
     },
     "metadata": {},
     "output_type": "display_data"
    },
    {
     "data": {
      "text/plain": [
       "':'"
      ]
     },
     "metadata": {},
     "output_type": "display_data"
    },
    {
     "data": {
      "text/plain": [
       "0"
      ]
     },
     "metadata": {},
     "output_type": "display_data"
    }
   ],
   "source": [
    "#grouped_by_condition = df.groupby('condition').agg({'odometer': 'median', 'price': 'median'})\n",
    "#print(type(grouped_by_condition))\n",
    "#print(grouped_by_condition)\n",
    "#for row in df:\n",
    "#    row['odometer']=grouped_by_condition[row['condition']]\n",
    "\n",
    "df['odometer'] = df['odometer'].fillna(df.groupby('condition')['odometer'].transform('median'))\n",
    "display(df.head(10))\n",
    "display(df['odometer'].isna().sum(),':',df['price'].isna().sum())"
   ]
  },
  {
   "cell_type": "markdown",
   "metadata": {},
   "source": [
    "Filling missing values of 'model_year' and 'cylinders' with median obtained by grouping based on 'model' of the vehicle."
   ]
  },
  {
   "cell_type": "code",
   "execution_count": 7,
   "metadata": {},
   "outputs": [
    {
     "data": {
      "text/html": [
       "<div>\n",
       "<style scoped>\n",
       "    .dataframe tbody tr th:only-of-type {\n",
       "        vertical-align: middle;\n",
       "    }\n",
       "\n",
       "    .dataframe tbody tr th {\n",
       "        vertical-align: top;\n",
       "    }\n",
       "\n",
       "    .dataframe thead th {\n",
       "        text-align: right;\n",
       "    }\n",
       "</style>\n",
       "<table border=\"1\" class=\"dataframe\">\n",
       "  <thead>\n",
       "    <tr style=\"text-align: right;\">\n",
       "      <th></th>\n",
       "      <th>price</th>\n",
       "      <th>model_year</th>\n",
       "      <th>model</th>\n",
       "      <th>condition</th>\n",
       "      <th>cylinders</th>\n",
       "      <th>fuel</th>\n",
       "      <th>odometer</th>\n",
       "      <th>transmission</th>\n",
       "      <th>type</th>\n",
       "      <th>paint_color</th>\n",
       "      <th>is_4wd</th>\n",
       "      <th>date_posted</th>\n",
       "      <th>days_listed</th>\n",
       "    </tr>\n",
       "  </thead>\n",
       "  <tbody>\n",
       "    <tr>\n",
       "      <th>0</th>\n",
       "      <td>9400</td>\n",
       "      <td>2011.0</td>\n",
       "      <td>bmw x5</td>\n",
       "      <td>good</td>\n",
       "      <td>6.0</td>\n",
       "      <td>gas</td>\n",
       "      <td>145000.0</td>\n",
       "      <td>automatic</td>\n",
       "      <td>SUV</td>\n",
       "      <td>NaN</td>\n",
       "      <td>1.0</td>\n",
       "      <td>2018-06-23</td>\n",
       "      <td>19</td>\n",
       "    </tr>\n",
       "    <tr>\n",
       "      <th>1</th>\n",
       "      <td>25500</td>\n",
       "      <td>2011.0</td>\n",
       "      <td>ford f-150</td>\n",
       "      <td>good</td>\n",
       "      <td>6.0</td>\n",
       "      <td>gas</td>\n",
       "      <td>88705.0</td>\n",
       "      <td>automatic</td>\n",
       "      <td>pickup</td>\n",
       "      <td>white</td>\n",
       "      <td>1.0</td>\n",
       "      <td>2018-10-19</td>\n",
       "      <td>50</td>\n",
       "    </tr>\n",
       "    <tr>\n",
       "      <th>2</th>\n",
       "      <td>5500</td>\n",
       "      <td>2013.0</td>\n",
       "      <td>hyundai sonata</td>\n",
       "      <td>like new</td>\n",
       "      <td>4.0</td>\n",
       "      <td>gas</td>\n",
       "      <td>110000.0</td>\n",
       "      <td>automatic</td>\n",
       "      <td>sedan</td>\n",
       "      <td>red</td>\n",
       "      <td>NaN</td>\n",
       "      <td>2019-02-07</td>\n",
       "      <td>79</td>\n",
       "    </tr>\n",
       "    <tr>\n",
       "      <th>3</th>\n",
       "      <td>1500</td>\n",
       "      <td>2003.0</td>\n",
       "      <td>ford f-150</td>\n",
       "      <td>fair</td>\n",
       "      <td>8.0</td>\n",
       "      <td>gas</td>\n",
       "      <td>181613.0</td>\n",
       "      <td>automatic</td>\n",
       "      <td>pickup</td>\n",
       "      <td>NaN</td>\n",
       "      <td>NaN</td>\n",
       "      <td>2019-03-22</td>\n",
       "      <td>9</td>\n",
       "    </tr>\n",
       "    <tr>\n",
       "      <th>4</th>\n",
       "      <td>14900</td>\n",
       "      <td>2017.0</td>\n",
       "      <td>chrysler 200</td>\n",
       "      <td>excellent</td>\n",
       "      <td>4.0</td>\n",
       "      <td>gas</td>\n",
       "      <td>80903.0</td>\n",
       "      <td>automatic</td>\n",
       "      <td>sedan</td>\n",
       "      <td>black</td>\n",
       "      <td>NaN</td>\n",
       "      <td>2019-04-02</td>\n",
       "      <td>28</td>\n",
       "    </tr>\n",
       "    <tr>\n",
       "      <th>5</th>\n",
       "      <td>14990</td>\n",
       "      <td>2014.0</td>\n",
       "      <td>chrysler 300</td>\n",
       "      <td>excellent</td>\n",
       "      <td>6.0</td>\n",
       "      <td>gas</td>\n",
       "      <td>57954.0</td>\n",
       "      <td>automatic</td>\n",
       "      <td>sedan</td>\n",
       "      <td>black</td>\n",
       "      <td>1.0</td>\n",
       "      <td>2018-06-20</td>\n",
       "      <td>15</td>\n",
       "    </tr>\n",
       "    <tr>\n",
       "      <th>6</th>\n",
       "      <td>12990</td>\n",
       "      <td>2015.0</td>\n",
       "      <td>toyota camry</td>\n",
       "      <td>excellent</td>\n",
       "      <td>4.0</td>\n",
       "      <td>gas</td>\n",
       "      <td>79212.0</td>\n",
       "      <td>automatic</td>\n",
       "      <td>sedan</td>\n",
       "      <td>white</td>\n",
       "      <td>NaN</td>\n",
       "      <td>2018-12-27</td>\n",
       "      <td>73</td>\n",
       "    </tr>\n",
       "    <tr>\n",
       "      <th>7</th>\n",
       "      <td>15990</td>\n",
       "      <td>2013.0</td>\n",
       "      <td>honda pilot</td>\n",
       "      <td>excellent</td>\n",
       "      <td>6.0</td>\n",
       "      <td>gas</td>\n",
       "      <td>109473.0</td>\n",
       "      <td>automatic</td>\n",
       "      <td>SUV</td>\n",
       "      <td>black</td>\n",
       "      <td>1.0</td>\n",
       "      <td>2019-01-07</td>\n",
       "      <td>68</td>\n",
       "    </tr>\n",
       "    <tr>\n",
       "      <th>8</th>\n",
       "      <td>11500</td>\n",
       "      <td>2012.0</td>\n",
       "      <td>kia sorento</td>\n",
       "      <td>excellent</td>\n",
       "      <td>4.0</td>\n",
       "      <td>gas</td>\n",
       "      <td>104174.0</td>\n",
       "      <td>automatic</td>\n",
       "      <td>SUV</td>\n",
       "      <td>NaN</td>\n",
       "      <td>1.0</td>\n",
       "      <td>2018-07-16</td>\n",
       "      <td>19</td>\n",
       "    </tr>\n",
       "    <tr>\n",
       "      <th>9</th>\n",
       "      <td>9200</td>\n",
       "      <td>2008.0</td>\n",
       "      <td>honda pilot</td>\n",
       "      <td>excellent</td>\n",
       "      <td>6.0</td>\n",
       "      <td>gas</td>\n",
       "      <td>147191.0</td>\n",
       "      <td>automatic</td>\n",
       "      <td>SUV</td>\n",
       "      <td>blue</td>\n",
       "      <td>1.0</td>\n",
       "      <td>2019-02-15</td>\n",
       "      <td>17</td>\n",
       "    </tr>\n",
       "  </tbody>\n",
       "</table>\n",
       "</div>"
      ],
      "text/plain": [
       "   price  model_year           model  condition  cylinders fuel  odometer  \\\n",
       "0   9400      2011.0          bmw x5       good        6.0  gas  145000.0   \n",
       "1  25500      2011.0      ford f-150       good        6.0  gas   88705.0   \n",
       "2   5500      2013.0  hyundai sonata   like new        4.0  gas  110000.0   \n",
       "3   1500      2003.0      ford f-150       fair        8.0  gas  181613.0   \n",
       "4  14900      2017.0    chrysler 200  excellent        4.0  gas   80903.0   \n",
       "5  14990      2014.0    chrysler 300  excellent        6.0  gas   57954.0   \n",
       "6  12990      2015.0    toyota camry  excellent        4.0  gas   79212.0   \n",
       "7  15990      2013.0     honda pilot  excellent        6.0  gas  109473.0   \n",
       "8  11500      2012.0     kia sorento  excellent        4.0  gas  104174.0   \n",
       "9   9200      2008.0     honda pilot  excellent        6.0  gas  147191.0   \n",
       "\n",
       "  transmission    type paint_color  is_4wd date_posted  days_listed  \n",
       "0    automatic     SUV         NaN     1.0  2018-06-23           19  \n",
       "1    automatic  pickup       white     1.0  2018-10-19           50  \n",
       "2    automatic   sedan         red     NaN  2019-02-07           79  \n",
       "3    automatic  pickup         NaN     NaN  2019-03-22            9  \n",
       "4    automatic   sedan       black     NaN  2019-04-02           28  \n",
       "5    automatic   sedan       black     1.0  2018-06-20           15  \n",
       "6    automatic   sedan       white     NaN  2018-12-27           73  \n",
       "7    automatic     SUV       black     1.0  2019-01-07           68  \n",
       "8    automatic     SUV         NaN     1.0  2018-07-16           19  \n",
       "9    automatic     SUV        blue     1.0  2019-02-15           17  "
      ]
     },
     "metadata": {},
     "output_type": "display_data"
    }
   ],
   "source": [
    "df['model_year'] = df['model_year'].fillna(df.groupby('model')['model_year'].transform('median'))\n",
    "df['cylinders'] = df['cylinders'].fillna(df.groupby('model')['cylinders'].transform('median'))\n",
    "display(df.head(10))\n"
   ]
  },
  {
   "cell_type": "markdown",
   "metadata": {},
   "source": [
    "'paint_color' has around 17% missing values.Though 'paint_color' is a factor in determining price of car , it is not a very crucial factor . So after proper analysis, missing rows can be removed if it is safe."
   ]
  },
  {
   "cell_type": "code",
   "execution_count": 8,
   "metadata": {},
   "outputs": [
    {
     "name": "stdout",
     "output_type": "stream",
     "text": [
      "white     10029\n",
      "black      7692\n",
      "silver     6244\n",
      "grey       5037\n",
      "blue       4475\n",
      "red        4421\n",
      "green      1396\n",
      "brown      1223\n",
      "custom     1153\n",
      "yellow      255\n",
      "orange      231\n",
      "purple      102\n",
      "Name: paint_color, dtype: int64\n",
      "0\n",
      "white      10029\n",
      "unknown     9267\n",
      "black       7692\n",
      "silver      6244\n",
      "grey        5037\n",
      "blue        4475\n",
      "red         4421\n",
      "green       1396\n",
      "brown       1223\n",
      "custom      1153\n",
      "yellow       255\n",
      "orange       231\n",
      "purple       102\n",
      "Name: paint_color, dtype: int64\n"
     ]
    }
   ],
   "source": [
    "#replacing missing value with 'unknown'\n",
    "print(df['paint_color'].value_counts())\n",
    "df['paint_color'].fillna(value='unknown',inplace=True)\n",
    "print(df['paint_color'].isna().sum())\n",
    "print(df['paint_color'].value_counts())"
   ]
  },
  {
   "cell_type": "markdown",
   "metadata": {},
   "source": [
    "Observing 'is_4wd' ,we see nearly 50% of values are missing which is a really high percentage.So we have to work on this column to replace missing values by some way."
   ]
  },
  {
   "cell_type": "code",
   "execution_count": 9,
   "metadata": {},
   "outputs": [
    {
     "name": "stdout",
     "output_type": "stream",
     "text": [
      "1.0    25572\n",
      "Name: is_4wd, dtype: int64\n"
     ]
    }
   ],
   "source": [
    "print(df['is_4wd'].value_counts())"
   ]
  },
  {
   "cell_type": "markdown",
   "metadata": {},
   "source": [
    "There is only 1 type of value.It looks like boolean True is represented as 1.0.\n",
    "So wil replace missing values as 0.There is a possibility for leaving this field empty for a value of false."
   ]
  },
  {
   "cell_type": "code",
   "execution_count": 10,
   "metadata": {},
   "outputs": [
    {
     "name": "stdout",
     "output_type": "stream",
     "text": [
      "0    1.0\n",
      "1    1.0\n",
      "2    0.0\n",
      "3    0.0\n",
      "4    0.0\n",
      "5    1.0\n",
      "6    0.0\n",
      "7    1.0\n",
      "8    1.0\n",
      "9    1.0\n",
      "Name: is_4wd, dtype: float64\n"
     ]
    }
   ],
   "source": [
    "#replace missing values with 0\n",
    "df['is_4wd'].fillna(value=0,inplace=True)\n",
    "print(df['is_4wd'].head(10))"
   ]
  },
  {
   "cell_type": "markdown",
   "metadata": {},
   "source": [
    "Observing missing values,we dot see any significant patterns in any of the columns.\n",
    "Will continue with next phase to see any missed patterns."
   ]
  },
  {
   "cell_type": "markdown",
   "metadata": {},
   "source": [
    "## Fix data types"
   ]
  },
  {
   "cell_type": "code",
   "execution_count": 11,
   "metadata": {},
   "outputs": [
    {
     "name": "stdout",
     "output_type": "stream",
     "text": [
      "0    2011\n",
      "1    2011\n",
      "2    2013\n",
      "3    2003\n",
      "4    2017\n",
      "5    2014\n",
      "6    2015\n",
      "7    2013\n",
      "8    2012\n",
      "9    2008\n",
      "Name: model_year, dtype: int64\n"
     ]
    }
   ],
   "source": [
    "#'model_year' to int as year cannot be float\n",
    "df['model_year']=df['model_year'].astype('int')\n",
    "print(df['model_year'].head(10))"
   ]
  },
  {
   "cell_type": "code",
   "execution_count": 12,
   "metadata": {},
   "outputs": [
    {
     "name": "stdout",
     "output_type": "stream",
     "text": [
      "0    6\n",
      "1    6\n",
      "2    4\n",
      "3    8\n",
      "4    4\n",
      "5    6\n",
      "6    4\n",
      "7    6\n",
      "8    4\n",
      "9    6\n",
      "Name: cylinders, dtype: int64\n"
     ]
    }
   ],
   "source": [
    "#'cylinders' to int as number of cylinders cannot be float\n",
    "df['cylinders']=df['cylinders'].astype('int')\n",
    "print(df['cylinders'].head(10))"
   ]
  },
  {
   "cell_type": "code",
   "execution_count": 13,
   "metadata": {},
   "outputs": [],
   "source": [
    "#'odometer' to int for easy calculation using mileage\n",
    "df['odometer']=df['odometer'].astype('int')\n"
   ]
  },
  {
   "cell_type": "code",
   "execution_count": 14,
   "metadata": {},
   "outputs": [
    {
     "data": {
      "text/plain": [
       "0     True\n",
       "1     True\n",
       "2    False\n",
       "3    False\n",
       "4    False\n",
       "5     True\n",
       "6    False\n",
       "7     True\n",
       "8     True\n",
       "9     True\n",
       "Name: is_4wd, dtype: bool"
      ]
     },
     "metadata": {},
     "output_type": "display_data"
    }
   ],
   "source": [
    "#'is_4wd' to bool for easy calculation for boolean..\n",
    "df['is_4wd']=df['is_4wd'].astype('bool')\n",
    "display(df['is_4wd'].head(10))"
   ]
  },
  {
   "cell_type": "markdown",
   "metadata": {},
   "source": [
    "## Enrich data"
   ]
  },
  {
   "cell_type": "code",
   "execution_count": 15,
   "metadata": {},
   "outputs": [
    {
     "name": "stdout",
     "output_type": "stream",
     "text": [
      "<class 'str'>\n",
      "<class 'pandas.core.frame.DataFrame'>\n",
      "RangeIndex: 51525 entries, 0 to 51524\n",
      "Data columns (total 14 columns):\n",
      " #   Column                Non-Null Count  Dtype         \n",
      "---  ------                --------------  -----         \n",
      " 0   price                 51525 non-null  int64         \n",
      " 1   model_year            51525 non-null  int64         \n",
      " 2   model                 51525 non-null  object        \n",
      " 3   condition             51525 non-null  object        \n",
      " 4   cylinders             51525 non-null  int64         \n",
      " 5   fuel                  51525 non-null  object        \n",
      " 6   odometer              51525 non-null  int64         \n",
      " 7   transmission          51525 non-null  object        \n",
      " 8   type                  51525 non-null  object        \n",
      " 9   paint_color           51525 non-null  object        \n",
      " 10  is_4wd                51525 non-null  bool          \n",
      " 11  date_posted           51525 non-null  object        \n",
      " 12  days_listed           51525 non-null  int64         \n",
      " 13  date_posted_datetime  51525 non-null  datetime64[ns]\n",
      "dtypes: bool(1), datetime64[ns](1), int64(5), object(7)\n",
      "memory usage: 5.2+ MB\n"
     ]
    }
   ],
   "source": [
    "# Add datetime values for when the ad was placed\n",
    "#since 'date_posted' is string type ,we add a new column of datetime type to perform easy operations using date functions\n",
    "print(type('date_posted'))#string\n",
    "df['date_posted_datetime']=pd.to_datetime(df['date_posted'],format='%Y-%m-%d')\n",
    "df.info()"
   ]
  },
  {
   "cell_type": "code",
   "execution_count": 16,
   "metadata": {},
   "outputs": [
    {
     "data": {
      "text/plain": [
       "0"
      ]
     },
     "metadata": {},
     "output_type": "display_data"
    },
    {
     "data": {
      "text/html": [
       "<div>\n",
       "<style scoped>\n",
       "    .dataframe tbody tr th:only-of-type {\n",
       "        vertical-align: middle;\n",
       "    }\n",
       "\n",
       "    .dataframe tbody tr th {\n",
       "        vertical-align: top;\n",
       "    }\n",
       "\n",
       "    .dataframe thead th {\n",
       "        text-align: right;\n",
       "    }\n",
       "</style>\n",
       "<table border=\"1\" class=\"dataframe\">\n",
       "  <thead>\n",
       "    <tr style=\"text-align: right;\">\n",
       "      <th></th>\n",
       "      <th>price</th>\n",
       "      <th>model_year</th>\n",
       "      <th>model</th>\n",
       "      <th>condition</th>\n",
       "      <th>cylinders</th>\n",
       "      <th>fuel</th>\n",
       "      <th>odometer</th>\n",
       "      <th>transmission</th>\n",
       "      <th>type</th>\n",
       "      <th>paint_color</th>\n",
       "      <th>is_4wd</th>\n",
       "      <th>date_posted</th>\n",
       "      <th>days_listed</th>\n",
       "      <th>date_posted_datetime</th>\n",
       "      <th>vehicle_age</th>\n",
       "      <th>mileage_per_year</th>\n",
       "    </tr>\n",
       "  </thead>\n",
       "  <tbody>\n",
       "    <tr>\n",
       "      <th>0</th>\n",
       "      <td>9400</td>\n",
       "      <td>2011</td>\n",
       "      <td>bmw x5</td>\n",
       "      <td>good</td>\n",
       "      <td>6</td>\n",
       "      <td>gas</td>\n",
       "      <td>145000</td>\n",
       "      <td>automatic</td>\n",
       "      <td>SUV</td>\n",
       "      <td>unknown</td>\n",
       "      <td>True</td>\n",
       "      <td>2018-06-23</td>\n",
       "      <td>19</td>\n",
       "      <td>2018-06-23</td>\n",
       "      <td>8</td>\n",
       "      <td>18125.000000</td>\n",
       "    </tr>\n",
       "    <tr>\n",
       "      <th>1</th>\n",
       "      <td>25500</td>\n",
       "      <td>2011</td>\n",
       "      <td>ford f-150</td>\n",
       "      <td>good</td>\n",
       "      <td>6</td>\n",
       "      <td>gas</td>\n",
       "      <td>88705</td>\n",
       "      <td>automatic</td>\n",
       "      <td>pickup</td>\n",
       "      <td>white</td>\n",
       "      <td>True</td>\n",
       "      <td>2018-10-19</td>\n",
       "      <td>50</td>\n",
       "      <td>2018-10-19</td>\n",
       "      <td>8</td>\n",
       "      <td>11088.125000</td>\n",
       "    </tr>\n",
       "    <tr>\n",
       "      <th>2</th>\n",
       "      <td>5500</td>\n",
       "      <td>2013</td>\n",
       "      <td>hyundai sonata</td>\n",
       "      <td>like new</td>\n",
       "      <td>4</td>\n",
       "      <td>gas</td>\n",
       "      <td>110000</td>\n",
       "      <td>automatic</td>\n",
       "      <td>sedan</td>\n",
       "      <td>red</td>\n",
       "      <td>False</td>\n",
       "      <td>2019-02-07</td>\n",
       "      <td>79</td>\n",
       "      <td>2019-02-07</td>\n",
       "      <td>7</td>\n",
       "      <td>15714.285714</td>\n",
       "    </tr>\n",
       "    <tr>\n",
       "      <th>3</th>\n",
       "      <td>1500</td>\n",
       "      <td>2003</td>\n",
       "      <td>ford f-150</td>\n",
       "      <td>fair</td>\n",
       "      <td>8</td>\n",
       "      <td>gas</td>\n",
       "      <td>181613</td>\n",
       "      <td>automatic</td>\n",
       "      <td>pickup</td>\n",
       "      <td>unknown</td>\n",
       "      <td>False</td>\n",
       "      <td>2019-03-22</td>\n",
       "      <td>9</td>\n",
       "      <td>2019-03-22</td>\n",
       "      <td>17</td>\n",
       "      <td>10683.117647</td>\n",
       "    </tr>\n",
       "    <tr>\n",
       "      <th>4</th>\n",
       "      <td>14900</td>\n",
       "      <td>2017</td>\n",
       "      <td>chrysler 200</td>\n",
       "      <td>excellent</td>\n",
       "      <td>4</td>\n",
       "      <td>gas</td>\n",
       "      <td>80903</td>\n",
       "      <td>automatic</td>\n",
       "      <td>sedan</td>\n",
       "      <td>black</td>\n",
       "      <td>False</td>\n",
       "      <td>2019-04-02</td>\n",
       "      <td>28</td>\n",
       "      <td>2019-04-02</td>\n",
       "      <td>3</td>\n",
       "      <td>26967.666667</td>\n",
       "    </tr>\n",
       "    <tr>\n",
       "      <th>5</th>\n",
       "      <td>14990</td>\n",
       "      <td>2014</td>\n",
       "      <td>chrysler 300</td>\n",
       "      <td>excellent</td>\n",
       "      <td>6</td>\n",
       "      <td>gas</td>\n",
       "      <td>57954</td>\n",
       "      <td>automatic</td>\n",
       "      <td>sedan</td>\n",
       "      <td>black</td>\n",
       "      <td>True</td>\n",
       "      <td>2018-06-20</td>\n",
       "      <td>15</td>\n",
       "      <td>2018-06-20</td>\n",
       "      <td>5</td>\n",
       "      <td>11590.800000</td>\n",
       "    </tr>\n",
       "    <tr>\n",
       "      <th>6</th>\n",
       "      <td>12990</td>\n",
       "      <td>2015</td>\n",
       "      <td>toyota camry</td>\n",
       "      <td>excellent</td>\n",
       "      <td>4</td>\n",
       "      <td>gas</td>\n",
       "      <td>79212</td>\n",
       "      <td>automatic</td>\n",
       "      <td>sedan</td>\n",
       "      <td>white</td>\n",
       "      <td>False</td>\n",
       "      <td>2018-12-27</td>\n",
       "      <td>73</td>\n",
       "      <td>2018-12-27</td>\n",
       "      <td>4</td>\n",
       "      <td>19803.000000</td>\n",
       "    </tr>\n",
       "    <tr>\n",
       "      <th>7</th>\n",
       "      <td>15990</td>\n",
       "      <td>2013</td>\n",
       "      <td>honda pilot</td>\n",
       "      <td>excellent</td>\n",
       "      <td>6</td>\n",
       "      <td>gas</td>\n",
       "      <td>109473</td>\n",
       "      <td>automatic</td>\n",
       "      <td>SUV</td>\n",
       "      <td>black</td>\n",
       "      <td>True</td>\n",
       "      <td>2019-01-07</td>\n",
       "      <td>68</td>\n",
       "      <td>2019-01-07</td>\n",
       "      <td>7</td>\n",
       "      <td>15639.000000</td>\n",
       "    </tr>\n",
       "    <tr>\n",
       "      <th>8</th>\n",
       "      <td>11500</td>\n",
       "      <td>2012</td>\n",
       "      <td>kia sorento</td>\n",
       "      <td>excellent</td>\n",
       "      <td>4</td>\n",
       "      <td>gas</td>\n",
       "      <td>104174</td>\n",
       "      <td>automatic</td>\n",
       "      <td>SUV</td>\n",
       "      <td>unknown</td>\n",
       "      <td>True</td>\n",
       "      <td>2018-07-16</td>\n",
       "      <td>19</td>\n",
       "      <td>2018-07-16</td>\n",
       "      <td>7</td>\n",
       "      <td>14882.000000</td>\n",
       "    </tr>\n",
       "    <tr>\n",
       "      <th>9</th>\n",
       "      <td>9200</td>\n",
       "      <td>2008</td>\n",
       "      <td>honda pilot</td>\n",
       "      <td>excellent</td>\n",
       "      <td>6</td>\n",
       "      <td>gas</td>\n",
       "      <td>147191</td>\n",
       "      <td>automatic</td>\n",
       "      <td>SUV</td>\n",
       "      <td>blue</td>\n",
       "      <td>True</td>\n",
       "      <td>2019-02-15</td>\n",
       "      <td>17</td>\n",
       "      <td>2019-02-15</td>\n",
       "      <td>12</td>\n",
       "      <td>12265.916667</td>\n",
       "    </tr>\n",
       "  </tbody>\n",
       "</table>\n",
       "</div>"
      ],
      "text/plain": [
       "   price  model_year           model  condition  cylinders fuel  odometer  \\\n",
       "0   9400        2011          bmw x5       good          6  gas    145000   \n",
       "1  25500        2011      ford f-150       good          6  gas     88705   \n",
       "2   5500        2013  hyundai sonata   like new          4  gas    110000   \n",
       "3   1500        2003      ford f-150       fair          8  gas    181613   \n",
       "4  14900        2017    chrysler 200  excellent          4  gas     80903   \n",
       "5  14990        2014    chrysler 300  excellent          6  gas     57954   \n",
       "6  12990        2015    toyota camry  excellent          4  gas     79212   \n",
       "7  15990        2013     honda pilot  excellent          6  gas    109473   \n",
       "8  11500        2012     kia sorento  excellent          4  gas    104174   \n",
       "9   9200        2008     honda pilot  excellent          6  gas    147191   \n",
       "\n",
       "  transmission    type paint_color  is_4wd date_posted  days_listed  \\\n",
       "0    automatic     SUV     unknown    True  2018-06-23           19   \n",
       "1    automatic  pickup       white    True  2018-10-19           50   \n",
       "2    automatic   sedan         red   False  2019-02-07           79   \n",
       "3    automatic  pickup     unknown   False  2019-03-22            9   \n",
       "4    automatic   sedan       black   False  2019-04-02           28   \n",
       "5    automatic   sedan       black    True  2018-06-20           15   \n",
       "6    automatic   sedan       white   False  2018-12-27           73   \n",
       "7    automatic     SUV       black    True  2019-01-07           68   \n",
       "8    automatic     SUV     unknown    True  2018-07-16           19   \n",
       "9    automatic     SUV        blue    True  2019-02-15           17   \n",
       "\n",
       "  date_posted_datetime  vehicle_age  mileage_per_year  \n",
       "0           2018-06-23            8      18125.000000  \n",
       "1           2018-10-19            8      11088.125000  \n",
       "2           2019-02-07            7      15714.285714  \n",
       "3           2019-03-22           17      10683.117647  \n",
       "4           2019-04-02            3      26967.666667  \n",
       "5           2018-06-20            5      11590.800000  \n",
       "6           2018-12-27            4      19803.000000  \n",
       "7           2019-01-07            7      15639.000000  \n",
       "8           2018-07-16            7      14882.000000  \n",
       "9           2019-02-15           12      12265.916667  "
      ]
     },
     "metadata": {},
     "output_type": "display_data"
    },
    {
     "data": {
      "text/plain": [
       "17371    359\n",
       "13028    352\n",
       "14890    341\n",
       "20846    285\n",
       "26057    280\n",
       "        ... \n",
       "11637      1\n",
       "15735      1\n",
       "17784      1\n",
       "12965      1\n",
       "6093       1\n",
       "Name: mileage_per_year, Length: 15570, dtype: int64"
      ]
     },
     "metadata": {},
     "output_type": "display_data"
    }
   ],
   "source": [
    "# Add the vehicle's age when the ad was placed\n",
    "month=df['date_posted_datetime'].dt.month_name()\n",
    "day=df['date_posted_datetime'].dt.day_name()\n",
    "\n",
    "df['vehicle_age']=(df['date_posted_datetime'].dt.year-df['model_year'])+1\n",
    "df['mileage_per_year'] = df['odometer']/df['vehicle_age']\n",
    "\n",
    "display(df['mileage_per_year'].isna().sum())\n",
    "display(df.head(10))\n",
    "df['mileage_per_year']=df['mileage_per_year'].astype('int')\n",
    "display(df['mileage_per_year'].value_counts())"
   ]
  },
  {
   "cell_type": "code",
   "execution_count": 17,
   "metadata": {},
   "outputs": [],
   "source": [
    "df['condition'] = df['condition'].map({'new':0,'like new': 1,'excellent':2,'good':3,'fair':4,'salvage':5})"
   ]
  },
  {
   "cell_type": "markdown",
   "metadata": {},
   "source": [
    "## Check clean data"
   ]
  },
  {
   "cell_type": "code",
   "execution_count": 18,
   "metadata": {},
   "outputs": [
    {
     "name": "stdout",
     "output_type": "stream",
     "text": [
      "<class 'pandas.core.frame.DataFrame'>\n",
      "RangeIndex: 51525 entries, 0 to 51524\n",
      "Data columns (total 16 columns):\n",
      " #   Column                Non-Null Count  Dtype         \n",
      "---  ------                --------------  -----         \n",
      " 0   price                 51525 non-null  int64         \n",
      " 1   model_year            51525 non-null  int64         \n",
      " 2   model                 51525 non-null  object        \n",
      " 3   condition             51525 non-null  int64         \n",
      " 4   cylinders             51525 non-null  int64         \n",
      " 5   fuel                  51525 non-null  object        \n",
      " 6   odometer              51525 non-null  int64         \n",
      " 7   transmission          51525 non-null  object        \n",
      " 8   type                  51525 non-null  object        \n",
      " 9   paint_color           51525 non-null  object        \n",
      " 10  is_4wd                51525 non-null  bool          \n",
      " 11  date_posted           51525 non-null  object        \n",
      " 12  days_listed           51525 non-null  int64         \n",
      " 13  date_posted_datetime  51525 non-null  datetime64[ns]\n",
      " 14  vehicle_age           51525 non-null  int64         \n",
      " 15  mileage_per_year      51525 non-null  int64         \n",
      "dtypes: bool(1), datetime64[ns](1), int64(8), object(6)\n",
      "memory usage: 5.9+ MB\n"
     ]
    }
   ],
   "source": [
    "# print the general/summary information about the DataFrame\n",
    "\n",
    "df.info()"
   ]
  },
  {
   "cell_type": "code",
   "execution_count": 19,
   "metadata": {},
   "outputs": [
    {
     "data": {
      "text/html": [
       "<div>\n",
       "<style scoped>\n",
       "    .dataframe tbody tr th:only-of-type {\n",
       "        vertical-align: middle;\n",
       "    }\n",
       "\n",
       "    .dataframe tbody tr th {\n",
       "        vertical-align: top;\n",
       "    }\n",
       "\n",
       "    .dataframe thead th {\n",
       "        text-align: right;\n",
       "    }\n",
       "</style>\n",
       "<table border=\"1\" class=\"dataframe\">\n",
       "  <thead>\n",
       "    <tr style=\"text-align: right;\">\n",
       "      <th></th>\n",
       "      <th>price</th>\n",
       "      <th>model_year</th>\n",
       "      <th>model</th>\n",
       "      <th>condition</th>\n",
       "      <th>cylinders</th>\n",
       "      <th>fuel</th>\n",
       "      <th>odometer</th>\n",
       "      <th>transmission</th>\n",
       "      <th>type</th>\n",
       "      <th>paint_color</th>\n",
       "      <th>is_4wd</th>\n",
       "      <th>date_posted</th>\n",
       "      <th>days_listed</th>\n",
       "      <th>date_posted_datetime</th>\n",
       "      <th>vehicle_age</th>\n",
       "      <th>mileage_per_year</th>\n",
       "    </tr>\n",
       "  </thead>\n",
       "  <tbody>\n",
       "    <tr>\n",
       "      <th>0</th>\n",
       "      <td>9400</td>\n",
       "      <td>2011</td>\n",
       "      <td>bmw x5</td>\n",
       "      <td>3</td>\n",
       "      <td>6</td>\n",
       "      <td>gas</td>\n",
       "      <td>145000</td>\n",
       "      <td>automatic</td>\n",
       "      <td>SUV</td>\n",
       "      <td>unknown</td>\n",
       "      <td>True</td>\n",
       "      <td>2018-06-23</td>\n",
       "      <td>19</td>\n",
       "      <td>2018-06-23</td>\n",
       "      <td>8</td>\n",
       "      <td>18125</td>\n",
       "    </tr>\n",
       "    <tr>\n",
       "      <th>1</th>\n",
       "      <td>25500</td>\n",
       "      <td>2011</td>\n",
       "      <td>ford f-150</td>\n",
       "      <td>3</td>\n",
       "      <td>6</td>\n",
       "      <td>gas</td>\n",
       "      <td>88705</td>\n",
       "      <td>automatic</td>\n",
       "      <td>pickup</td>\n",
       "      <td>white</td>\n",
       "      <td>True</td>\n",
       "      <td>2018-10-19</td>\n",
       "      <td>50</td>\n",
       "      <td>2018-10-19</td>\n",
       "      <td>8</td>\n",
       "      <td>11088</td>\n",
       "    </tr>\n",
       "    <tr>\n",
       "      <th>2</th>\n",
       "      <td>5500</td>\n",
       "      <td>2013</td>\n",
       "      <td>hyundai sonata</td>\n",
       "      <td>1</td>\n",
       "      <td>4</td>\n",
       "      <td>gas</td>\n",
       "      <td>110000</td>\n",
       "      <td>automatic</td>\n",
       "      <td>sedan</td>\n",
       "      <td>red</td>\n",
       "      <td>False</td>\n",
       "      <td>2019-02-07</td>\n",
       "      <td>79</td>\n",
       "      <td>2019-02-07</td>\n",
       "      <td>7</td>\n",
       "      <td>15714</td>\n",
       "    </tr>\n",
       "    <tr>\n",
       "      <th>3</th>\n",
       "      <td>1500</td>\n",
       "      <td>2003</td>\n",
       "      <td>ford f-150</td>\n",
       "      <td>4</td>\n",
       "      <td>8</td>\n",
       "      <td>gas</td>\n",
       "      <td>181613</td>\n",
       "      <td>automatic</td>\n",
       "      <td>pickup</td>\n",
       "      <td>unknown</td>\n",
       "      <td>False</td>\n",
       "      <td>2019-03-22</td>\n",
       "      <td>9</td>\n",
       "      <td>2019-03-22</td>\n",
       "      <td>17</td>\n",
       "      <td>10683</td>\n",
       "    </tr>\n",
       "    <tr>\n",
       "      <th>4</th>\n",
       "      <td>14900</td>\n",
       "      <td>2017</td>\n",
       "      <td>chrysler 200</td>\n",
       "      <td>2</td>\n",
       "      <td>4</td>\n",
       "      <td>gas</td>\n",
       "      <td>80903</td>\n",
       "      <td>automatic</td>\n",
       "      <td>sedan</td>\n",
       "      <td>black</td>\n",
       "      <td>False</td>\n",
       "      <td>2019-04-02</td>\n",
       "      <td>28</td>\n",
       "      <td>2019-04-02</td>\n",
       "      <td>3</td>\n",
       "      <td>26967</td>\n",
       "    </tr>\n",
       "    <tr>\n",
       "      <th>5</th>\n",
       "      <td>14990</td>\n",
       "      <td>2014</td>\n",
       "      <td>chrysler 300</td>\n",
       "      <td>2</td>\n",
       "      <td>6</td>\n",
       "      <td>gas</td>\n",
       "      <td>57954</td>\n",
       "      <td>automatic</td>\n",
       "      <td>sedan</td>\n",
       "      <td>black</td>\n",
       "      <td>True</td>\n",
       "      <td>2018-06-20</td>\n",
       "      <td>15</td>\n",
       "      <td>2018-06-20</td>\n",
       "      <td>5</td>\n",
       "      <td>11590</td>\n",
       "    </tr>\n",
       "    <tr>\n",
       "      <th>6</th>\n",
       "      <td>12990</td>\n",
       "      <td>2015</td>\n",
       "      <td>toyota camry</td>\n",
       "      <td>2</td>\n",
       "      <td>4</td>\n",
       "      <td>gas</td>\n",
       "      <td>79212</td>\n",
       "      <td>automatic</td>\n",
       "      <td>sedan</td>\n",
       "      <td>white</td>\n",
       "      <td>False</td>\n",
       "      <td>2018-12-27</td>\n",
       "      <td>73</td>\n",
       "      <td>2018-12-27</td>\n",
       "      <td>4</td>\n",
       "      <td>19803</td>\n",
       "    </tr>\n",
       "    <tr>\n",
       "      <th>7</th>\n",
       "      <td>15990</td>\n",
       "      <td>2013</td>\n",
       "      <td>honda pilot</td>\n",
       "      <td>2</td>\n",
       "      <td>6</td>\n",
       "      <td>gas</td>\n",
       "      <td>109473</td>\n",
       "      <td>automatic</td>\n",
       "      <td>SUV</td>\n",
       "      <td>black</td>\n",
       "      <td>True</td>\n",
       "      <td>2019-01-07</td>\n",
       "      <td>68</td>\n",
       "      <td>2019-01-07</td>\n",
       "      <td>7</td>\n",
       "      <td>15639</td>\n",
       "    </tr>\n",
       "    <tr>\n",
       "      <th>8</th>\n",
       "      <td>11500</td>\n",
       "      <td>2012</td>\n",
       "      <td>kia sorento</td>\n",
       "      <td>2</td>\n",
       "      <td>4</td>\n",
       "      <td>gas</td>\n",
       "      <td>104174</td>\n",
       "      <td>automatic</td>\n",
       "      <td>SUV</td>\n",
       "      <td>unknown</td>\n",
       "      <td>True</td>\n",
       "      <td>2018-07-16</td>\n",
       "      <td>19</td>\n",
       "      <td>2018-07-16</td>\n",
       "      <td>7</td>\n",
       "      <td>14882</td>\n",
       "    </tr>\n",
       "    <tr>\n",
       "      <th>9</th>\n",
       "      <td>9200</td>\n",
       "      <td>2008</td>\n",
       "      <td>honda pilot</td>\n",
       "      <td>2</td>\n",
       "      <td>6</td>\n",
       "      <td>gas</td>\n",
       "      <td>147191</td>\n",
       "      <td>automatic</td>\n",
       "      <td>SUV</td>\n",
       "      <td>blue</td>\n",
       "      <td>True</td>\n",
       "      <td>2019-02-15</td>\n",
       "      <td>17</td>\n",
       "      <td>2019-02-15</td>\n",
       "      <td>12</td>\n",
       "      <td>12265</td>\n",
       "    </tr>\n",
       "  </tbody>\n",
       "</table>\n",
       "</div>"
      ],
      "text/plain": [
       "   price  model_year           model  condition  cylinders fuel  odometer  \\\n",
       "0   9400        2011          bmw x5          3          6  gas    145000   \n",
       "1  25500        2011      ford f-150          3          6  gas     88705   \n",
       "2   5500        2013  hyundai sonata          1          4  gas    110000   \n",
       "3   1500        2003      ford f-150          4          8  gas    181613   \n",
       "4  14900        2017    chrysler 200          2          4  gas     80903   \n",
       "5  14990        2014    chrysler 300          2          6  gas     57954   \n",
       "6  12990        2015    toyota camry          2          4  gas     79212   \n",
       "7  15990        2013     honda pilot          2          6  gas    109473   \n",
       "8  11500        2012     kia sorento          2          4  gas    104174   \n",
       "9   9200        2008     honda pilot          2          6  gas    147191   \n",
       "\n",
       "  transmission    type paint_color  is_4wd date_posted  days_listed  \\\n",
       "0    automatic     SUV     unknown    True  2018-06-23           19   \n",
       "1    automatic  pickup       white    True  2018-10-19           50   \n",
       "2    automatic   sedan         red   False  2019-02-07           79   \n",
       "3    automatic  pickup     unknown   False  2019-03-22            9   \n",
       "4    automatic   sedan       black   False  2019-04-02           28   \n",
       "5    automatic   sedan       black    True  2018-06-20           15   \n",
       "6    automatic   sedan       white   False  2018-12-27           73   \n",
       "7    automatic     SUV       black    True  2019-01-07           68   \n",
       "8    automatic     SUV     unknown    True  2018-07-16           19   \n",
       "9    automatic     SUV        blue    True  2019-02-15           17   \n",
       "\n",
       "  date_posted_datetime  vehicle_age  mileage_per_year  \n",
       "0           2018-06-23            8             18125  \n",
       "1           2018-10-19            8             11088  \n",
       "2           2019-02-07            7             15714  \n",
       "3           2019-03-22           17             10683  \n",
       "4           2019-04-02            3             26967  \n",
       "5           2018-06-20            5             11590  \n",
       "6           2018-12-27            4             19803  \n",
       "7           2019-01-07            7             15639  \n",
       "8           2018-07-16            7             14882  \n",
       "9           2019-02-15           12             12265  "
      ]
     },
     "execution_count": 19,
     "metadata": {},
     "output_type": "execute_result"
    }
   ],
   "source": [
    "# print a sample of data\n",
    "df.head(10)\n"
   ]
  },
  {
   "cell_type": "code",
   "execution_count": 20,
   "metadata": {},
   "outputs": [
    {
     "data": {
      "text/plain": [
       "0"
      ]
     },
     "execution_count": 20,
     "metadata": {},
     "output_type": "execute_result"
    }
   ],
   "source": [
    "df.duplicated().sum()"
   ]
  },
  {
   "cell_type": "markdown",
   "metadata": {},
   "source": [
    "Checking for duplicates ,shows that the dataset is free from duplicates."
   ]
  },
  {
   "cell_type": "markdown",
   "metadata": {},
   "source": [
    "## Study core parameters\n",
    "\n",
    "The parameters are\n",
    "- Price\n",
    "- The vehicle's age when the ad was placed\n",
    "- Mileage\n",
    "- Number of cylinders\n",
    "- Condition"
   ]
  },
  {
   "cell_type": "code",
   "execution_count": 21,
   "metadata": {},
   "outputs": [
    {
     "name": "stdout",
     "output_type": "stream",
     "text": [
      "1 : 375000\n"
     ]
    },
    {
     "data": {
      "image/png": "[encoded data removed]",
      "text/plain": [
       "<Figure size 432x288 with 1 Axes>"
      ]
     },
     "metadata": {
      "needs_background": "light"
     },
     "output_type": "display_data"
    }
   ],
   "source": [
    "#Price vehicle_age\n",
    "print(df['price'].min(),':',df['price'].max())\n",
    "price_vehicle_age=df.pivot_table(index='vehicle_age' ,values='price',aggfunc='median')\n",
    "plt.xlabel(\"Price for vehicle age\")\n",
    "plt.ylabel(\"Frequency\")\n",
    "plt.hist(price_vehicle_age['price'])\n",
    "plt.show()"
   ]
  },
  {
   "cell_type": "code",
   "execution_count": 22,
   "metadata": {},
   "outputs": [
    {
     "data": {
      "image/png": "[encoded data removed]",
      "text/plain": [
       "<Figure size 432x288 with 1 Axes>"
      ]
     },
     "metadata": {
      "needs_background": "light"
     },
     "output_type": "display_data"
    }
   ],
   "source": [
    "#mileage\n",
    "price_mileage=df.pivot_table(index='mileage_per_year' ,values='price',aggfunc='median')\n",
    "plt.xlabel(\"Price for mileage\")\n",
    "plt.ylabel(\"Frequency\")\n",
    "plt.hist(price_mileage['price'])\n",
    "plt.show()\n"
   ]
  },
  {
   "cell_type": "code",
   "execution_count": 23,
   "metadata": {},
   "outputs": [
    {
     "name": "stdout",
     "output_type": "stream",
     "text": [
      "3 : 12\n"
     ]
    },
    {
     "data": {
      "image/png": "[encoded data removed]",
      "text/plain": [
       "<Figure size 432x288 with 1 Axes>"
      ]
     },
     "metadata": {
      "needs_background": "light"
     },
     "output_type": "display_data"
    }
   ],
   "source": [
    "#Price no of cylinders\n",
    "print(df['cylinders'].min(),':',df['cylinders'].max())\n",
    "price_cylinders=df.pivot_table(index='cylinders' ,values='price',aggfunc='median')\n",
    "plt.xlabel(\"Price for cylinders\")\n",
    "plt.ylabel(\"Frequency\")\n",
    "plt.hist(price_cylinders['price'])\n",
    "plt.show()"
   ]
  },
  {
   "cell_type": "code",
   "execution_count": 24,
   "metadata": {},
   "outputs": [
    {
     "data": {
      "image/png": "[encoded data removed]",
      "text/plain": [
       "<Figure size 432x288 with 1 Axes>"
      ]
     },
     "metadata": {
      "needs_background": "light"
     },
     "output_type": "display_data"
    }
   ],
   "source": [
    "#Price condition\n",
    "price_condition=df.pivot_table(index='condition' ,values='price',aggfunc='median')\n",
    "plt.xlabel(\"Price for vehicle condition\")\n",
    "plt.ylabel(\"Frequency\")\n",
    "plt.hist(price_condition['price'])\n",
    "plt.show()\n"
   ]
  },
  {
   "cell_type": "code",
   "execution_count": 25,
   "metadata": {},
   "outputs": [
    {
     "data": {
      "image/png": "[encoded data removed]",
      "text/plain": [
       "<Figure size 432x288 with 1 Axes>"
      ]
     },
     "metadata": {
      "needs_background": "light"
     },
     "output_type": "display_data"
    }
   ],
   "source": [
    "plt.xlabel(\"vehicle age\")\n",
    "plt.ylabel(\"Frequency\")\n",
    "plt.hist(df['vehicle_age'])\n",
    "plt.show()\n"
   ]
  },
  {
   "cell_type": "markdown",
   "metadata": {},
   "source": [
    "The above histogram shows that most of the vehicles age between 0-10yrs (35,000),fewer\n",
    "ones in the range 10-20yrs(15,000) and very few more than 20yrs of age(very close to 0)..\n",
    "This helps to conclude that vehicles of age 0-35yrs are the ones we need to consider.."
   ]
  },
  {
   "cell_type": "code",
   "execution_count": 26,
   "metadata": {},
   "outputs": [
    {
     "data": {
      "image/png": "[encoded data removed]",
      "text/plain": [
       "<Figure size 432x288 with 1 Axes>"
      ]
     },
     "metadata": {
      "needs_background": "light"
     },
     "output_type": "display_data"
    }
   ],
   "source": [
    "plt.xlabel(\"Price\")\n",
    "plt.ylabel(\"Frequency\")\n",
    "plt.hist(df['price'])\n",
    "plt.show()\n"
   ]
  },
  {
   "cell_type": "markdown",
   "metadata": {},
   "source": [
    "The above histogram shows that most of the vehicles priced between 0-35000(around 50000)\n",
    "and very few more than 35000..\n",
    "This helps to conclude that vehicles priced between 0-35000 are the ones we need to consider..\n"
   ]
  },
  {
   "cell_type": "markdown",
   "metadata": {},
   "source": [
    "The above histogram shows clearly price above 50000 is very rare.."
   ]
  },
  {
   "cell_type": "code",
   "execution_count": 27,
   "metadata": {},
   "outputs": [
    {
     "data": {
      "image/png": "[encoded data removed]",
      "text/plain": [
       "<Figure size 432x288 with 1 Axes>"
      ]
     },
     "metadata": {
      "needs_background": "light"
     },
     "output_type": "display_data"
    }
   ],
   "source": [
    "plt.xlabel(\"Condition\")\n",
    "plt.ylabel(\"Frequency\")\n",
    "plt.hist(df['condition'])\n",
    "plt.show()"
   ]
  },
  {
   "cell_type": "markdown",
   "metadata": {},
   "source": [
    "From the above histogram , we see that vehicles under condition 'new' and 'salvage' (5 and 0)is way too less.."
   ]
  },
  {
   "cell_type": "markdown",
   "metadata": {},
   "source": [
    "vehicles with mileage around 75000 per year are the ones we need to work with."
   ]
  },
  {
   "cell_type": "code",
   "execution_count": 28,
   "metadata": {},
   "outputs": [
    {
     "data": {
      "image/png": "[encoded data removed]",
      "text/plain": [
       "<Figure size 432x288 with 1 Axes>"
      ]
     },
     "metadata": {
      "needs_background": "light"
     },
     "output_type": "display_data"
    }
   ],
   "source": [
    "plt.xlabel(\"Price\")\n",
    "plt.ylabel(\"Mileage\")\n",
    "plt.hist(df['mileage_per_year'])\n",
    "plt.show()"
   ]
  },
  {
   "cell_type": "code",
   "execution_count": 29,
   "metadata": {},
   "outputs": [
    {
     "data": {
      "image/png": "[encoded data removed]",
      "text/plain": [
       "<Figure size 432x288 with 1 Axes>"
      ]
     },
     "metadata": {
      "needs_background": "light"
     },
     "output_type": "display_data"
    }
   ],
   "source": [
    "plt.xlabel(\"Price based on cylinders\")\n",
    "plt.ylabel(\"Frequency\")\n",
    "plt.hist(df['cylinders'])\n",
    "plt.show()"
   ]
  },
  {
   "cell_type": "markdown",
   "metadata": {},
   "source": [
    "vehicles with less than 4 cylinders are very few..So we will consider vehicles with 4-10 cylinders"
   ]
  },
  {
   "cell_type": "markdown",
   "metadata": {},
   "source": [
    "## Study and treat outliers\n",
    "\n",
    "Outliers are determined based on the histogram for each parameter and also the IQR and theoretical range for upper and lower limit."
   ]
  },
  {
   "cell_type": "code",
   "execution_count": 30,
   "metadata": {},
   "outputs": [],
   "source": [
    "#function to Determine the limits for outliers\n",
    "def upper_lower_calc(item):\n",
    "    outlier_list=[]\n",
    "    Q1 = df[item].quantile(0.25)\n",
    "    Q3 = df[item].quantile(0.75)\n",
    "    IQR = Q3 - Q1\n",
    "    print(IQR)\n",
    "    lower_price=Q1 - (1.5*IQR)\n",
    "    outlier_list.append(lower_price)\n",
    "    upper_price= Q3 + (1.5*IQR)\n",
    "    outlier_list.append(upper_price)\n",
    "    return outlier_list"
   ]
  },
  {
   "cell_type": "code",
   "execution_count": 31,
   "metadata": {},
   "outputs": [
    {
     "name": "stdout",
     "output_type": "stream",
     "text": [
      "11839.0\n",
      "price : [-12758.5, 34597.5]\n",
      "8.0\n",
      "vehicle_age : [-7.0, 25.0]\n",
      "1.0\n",
      "condition : [0.5, 4.5]\n",
      "8859.0\n",
      "mileage_per_year : [-3925.5, 31510.5]\n",
      "4.0\n",
      "cylinders: [-2.0, 14.0]\n"
     ]
    }
   ],
   "source": [
    "#Determine the lower and upper limits for outliers\n",
    "price_outlier=upper_lower_calc('price')\n",
    "print('price :', price_outlier)\n",
    "vehicle_age_outlier=upper_lower_calc('vehicle_age')\n",
    "print('vehicle_age :', vehicle_age_outlier)\n",
    "condition_outlier=upper_lower_calc('condition')\n",
    "print('condition :',condition_outlier)\n",
    "mileage_per_year_outlier=upper_lower_calc('mileage_per_year')\n",
    "print('mileage_per_year :', mileage_per_year_outlier)\n",
    "cylinders_outlier=upper_lower_calc('cylinders')\n",
    "print('cylinders:', cylinders_outlier)"
   ]
  },
  {
   "cell_type": "code",
   "execution_count": 32,
   "metadata": {},
   "outputs": [
    {
     "data": {
      "text/html": [
       "<div>\n",
       "<style scoped>\n",
       "    .dataframe tbody tr th:only-of-type {\n",
       "        vertical-align: middle;\n",
       "    }\n",
       "\n",
       "    .dataframe tbody tr th {\n",
       "        vertical-align: top;\n",
       "    }\n",
       "\n",
       "    .dataframe thead th {\n",
       "        text-align: right;\n",
       "    }\n",
       "</style>\n",
       "<table border=\"1\" class=\"dataframe\">\n",
       "  <thead>\n",
       "    <tr style=\"text-align: right;\">\n",
       "      <th></th>\n",
       "      <th>price</th>\n",
       "      <th>model_year</th>\n",
       "      <th>model</th>\n",
       "      <th>condition</th>\n",
       "      <th>cylinders</th>\n",
       "      <th>fuel</th>\n",
       "      <th>odometer</th>\n",
       "      <th>transmission</th>\n",
       "      <th>type</th>\n",
       "      <th>paint_color</th>\n",
       "      <th>is_4wd</th>\n",
       "      <th>date_posted</th>\n",
       "      <th>days_listed</th>\n",
       "      <th>date_posted_datetime</th>\n",
       "      <th>vehicle_age</th>\n",
       "      <th>mileage_per_year</th>\n",
       "    </tr>\n",
       "  </thead>\n",
       "  <tbody>\n",
       "    <tr>\n",
       "      <th>0</th>\n",
       "      <td>9400</td>\n",
       "      <td>2011</td>\n",
       "      <td>bmw x5</td>\n",
       "      <td>3</td>\n",
       "      <td>6</td>\n",
       "      <td>gas</td>\n",
       "      <td>145000</td>\n",
       "      <td>automatic</td>\n",
       "      <td>SUV</td>\n",
       "      <td>unknown</td>\n",
       "      <td>True</td>\n",
       "      <td>2018-06-23</td>\n",
       "      <td>19</td>\n",
       "      <td>2018-06-23</td>\n",
       "      <td>8</td>\n",
       "      <td>18125</td>\n",
       "    </tr>\n",
       "    <tr>\n",
       "      <th>1</th>\n",
       "      <td>25500</td>\n",
       "      <td>2011</td>\n",
       "      <td>ford f-150</td>\n",
       "      <td>3</td>\n",
       "      <td>6</td>\n",
       "      <td>gas</td>\n",
       "      <td>88705</td>\n",
       "      <td>automatic</td>\n",
       "      <td>pickup</td>\n",
       "      <td>white</td>\n",
       "      <td>True</td>\n",
       "      <td>2018-10-19</td>\n",
       "      <td>50</td>\n",
       "      <td>2018-10-19</td>\n",
       "      <td>8</td>\n",
       "      <td>11088</td>\n",
       "    </tr>\n",
       "    <tr>\n",
       "      <th>2</th>\n",
       "      <td>5500</td>\n",
       "      <td>2013</td>\n",
       "      <td>hyundai sonata</td>\n",
       "      <td>1</td>\n",
       "      <td>4</td>\n",
       "      <td>gas</td>\n",
       "      <td>110000</td>\n",
       "      <td>automatic</td>\n",
       "      <td>sedan</td>\n",
       "      <td>red</td>\n",
       "      <td>False</td>\n",
       "      <td>2019-02-07</td>\n",
       "      <td>79</td>\n",
       "      <td>2019-02-07</td>\n",
       "      <td>7</td>\n",
       "      <td>15714</td>\n",
       "    </tr>\n",
       "    <tr>\n",
       "      <th>3</th>\n",
       "      <td>1500</td>\n",
       "      <td>2003</td>\n",
       "      <td>ford f-150</td>\n",
       "      <td>4</td>\n",
       "      <td>8</td>\n",
       "      <td>gas</td>\n",
       "      <td>181613</td>\n",
       "      <td>automatic</td>\n",
       "      <td>pickup</td>\n",
       "      <td>unknown</td>\n",
       "      <td>False</td>\n",
       "      <td>2019-03-22</td>\n",
       "      <td>9</td>\n",
       "      <td>2019-03-22</td>\n",
       "      <td>17</td>\n",
       "      <td>10683</td>\n",
       "    </tr>\n",
       "    <tr>\n",
       "      <th>4</th>\n",
       "      <td>14900</td>\n",
       "      <td>2017</td>\n",
       "      <td>chrysler 200</td>\n",
       "      <td>2</td>\n",
       "      <td>4</td>\n",
       "      <td>gas</td>\n",
       "      <td>80903</td>\n",
       "      <td>automatic</td>\n",
       "      <td>sedan</td>\n",
       "      <td>black</td>\n",
       "      <td>False</td>\n",
       "      <td>2019-04-02</td>\n",
       "      <td>28</td>\n",
       "      <td>2019-04-02</td>\n",
       "      <td>3</td>\n",
       "      <td>26967</td>\n",
       "    </tr>\n",
       "    <tr>\n",
       "      <th>5</th>\n",
       "      <td>14990</td>\n",
       "      <td>2014</td>\n",
       "      <td>chrysler 300</td>\n",
       "      <td>2</td>\n",
       "      <td>6</td>\n",
       "      <td>gas</td>\n",
       "      <td>57954</td>\n",
       "      <td>automatic</td>\n",
       "      <td>sedan</td>\n",
       "      <td>black</td>\n",
       "      <td>True</td>\n",
       "      <td>2018-06-20</td>\n",
       "      <td>15</td>\n",
       "      <td>2018-06-20</td>\n",
       "      <td>5</td>\n",
       "      <td>11590</td>\n",
       "    </tr>\n",
       "    <tr>\n",
       "      <th>6</th>\n",
       "      <td>12990</td>\n",
       "      <td>2015</td>\n",
       "      <td>toyota camry</td>\n",
       "      <td>2</td>\n",
       "      <td>4</td>\n",
       "      <td>gas</td>\n",
       "      <td>79212</td>\n",
       "      <td>automatic</td>\n",
       "      <td>sedan</td>\n",
       "      <td>white</td>\n",
       "      <td>False</td>\n",
       "      <td>2018-12-27</td>\n",
       "      <td>73</td>\n",
       "      <td>2018-12-27</td>\n",
       "      <td>4</td>\n",
       "      <td>19803</td>\n",
       "    </tr>\n",
       "    <tr>\n",
       "      <th>7</th>\n",
       "      <td>15990</td>\n",
       "      <td>2013</td>\n",
       "      <td>honda pilot</td>\n",
       "      <td>2</td>\n",
       "      <td>6</td>\n",
       "      <td>gas</td>\n",
       "      <td>109473</td>\n",
       "      <td>automatic</td>\n",
       "      <td>SUV</td>\n",
       "      <td>black</td>\n",
       "      <td>True</td>\n",
       "      <td>2019-01-07</td>\n",
       "      <td>68</td>\n",
       "      <td>2019-01-07</td>\n",
       "      <td>7</td>\n",
       "      <td>15639</td>\n",
       "    </tr>\n",
       "    <tr>\n",
       "      <th>8</th>\n",
       "      <td>11500</td>\n",
       "      <td>2012</td>\n",
       "      <td>kia sorento</td>\n",
       "      <td>2</td>\n",
       "      <td>4</td>\n",
       "      <td>gas</td>\n",
       "      <td>104174</td>\n",
       "      <td>automatic</td>\n",
       "      <td>SUV</td>\n",
       "      <td>unknown</td>\n",
       "      <td>True</td>\n",
       "      <td>2018-07-16</td>\n",
       "      <td>19</td>\n",
       "      <td>2018-07-16</td>\n",
       "      <td>7</td>\n",
       "      <td>14882</td>\n",
       "    </tr>\n",
       "    <tr>\n",
       "      <th>9</th>\n",
       "      <td>9200</td>\n",
       "      <td>2008</td>\n",
       "      <td>honda pilot</td>\n",
       "      <td>2</td>\n",
       "      <td>6</td>\n",
       "      <td>gas</td>\n",
       "      <td>147191</td>\n",
       "      <td>automatic</td>\n",
       "      <td>SUV</td>\n",
       "      <td>blue</td>\n",
       "      <td>True</td>\n",
       "      <td>2019-02-15</td>\n",
       "      <td>17</td>\n",
       "      <td>2019-02-15</td>\n",
       "      <td>12</td>\n",
       "      <td>12265</td>\n",
       "    </tr>\n",
       "  </tbody>\n",
       "</table>\n",
       "</div>"
      ],
      "text/plain": [
       "   price  model_year           model  condition  cylinders fuel  odometer  \\\n",
       "0   9400        2011          bmw x5          3          6  gas    145000   \n",
       "1  25500        2011      ford f-150          3          6  gas     88705   \n",
       "2   5500        2013  hyundai sonata          1          4  gas    110000   \n",
       "3   1500        2003      ford f-150          4          8  gas    181613   \n",
       "4  14900        2017    chrysler 200          2          4  gas     80903   \n",
       "5  14990        2014    chrysler 300          2          6  gas     57954   \n",
       "6  12990        2015    toyota camry          2          4  gas     79212   \n",
       "7  15990        2013     honda pilot          2          6  gas    109473   \n",
       "8  11500        2012     kia sorento          2          4  gas    104174   \n",
       "9   9200        2008     honda pilot          2          6  gas    147191   \n",
       "\n",
       "  transmission    type paint_color  is_4wd date_posted  days_listed  \\\n",
       "0    automatic     SUV     unknown    True  2018-06-23           19   \n",
       "1    automatic  pickup       white    True  2018-10-19           50   \n",
       "2    automatic   sedan         red   False  2019-02-07           79   \n",
       "3    automatic  pickup     unknown   False  2019-03-22            9   \n",
       "4    automatic   sedan       black   False  2019-04-02           28   \n",
       "5    automatic   sedan       black    True  2018-06-20           15   \n",
       "6    automatic   sedan       white   False  2018-12-27           73   \n",
       "7    automatic     SUV       black    True  2019-01-07           68   \n",
       "8    automatic     SUV     unknown    True  2018-07-16           19   \n",
       "9    automatic     SUV        blue    True  2019-02-15           17   \n",
       "\n",
       "  date_posted_datetime  vehicle_age  mileage_per_year  \n",
       "0           2018-06-23            8             18125  \n",
       "1           2018-10-19            8             11088  \n",
       "2           2019-02-07            7             15714  \n",
       "3           2019-03-22           17             10683  \n",
       "4           2019-04-02            3             26967  \n",
       "5           2018-06-20            5             11590  \n",
       "6           2018-12-27            4             19803  \n",
       "7           2019-01-07            7             15639  \n",
       "8           2018-07-16            7             14882  \n",
       "9           2019-02-15           12             12265  "
      ]
     },
     "metadata": {},
     "output_type": "display_data"
    }
   ],
   "source": [
    "# Store data without outliers in a separate DataFrame\n",
    "updated_df=df.query('price < 35000 and vehicle_age < 24 and condition <5 and condition > 0 and cylinders >= 4 and cylinders < 12 and mileage_per_year < 40000       ')   \n",
    "display(updated_df.head(10))\n"
   ]
  },
  {
   "cell_type": "markdown",
   "metadata": {},
   "source": [
    "## Study core parameters without outliers"
   ]
  },
  {
   "cell_type": "markdown",
   "metadata": {},
   "source": [
    "Plotting each parameter using the new updated dataframe without outliers"
   ]
  },
  {
   "cell_type": "code",
   "execution_count": 33,
   "metadata": {},
   "outputs": [
    {
     "data": {
      "image/png": "[encoded data removed]",
      "text/plain": [
       "<Figure size 432x288 with 1 Axes>"
      ]
     },
     "metadata": {
      "needs_background": "light"
     },
     "output_type": "display_data"
    }
   ],
   "source": [
    "plt.xlabel(\"Price\")\n",
    "plt.ylabel(\"Frequency\")\n",
    "plt.hist(updated_df['price'])\n",
    "plt.show()"
   ]
  },
  {
   "cell_type": "code",
   "execution_count": 34,
   "metadata": {},
   "outputs": [
    {
     "data": {
      "image/png": "[encoded data removed]",
      "text/plain": [
       "<Figure size 432x288 with 1 Axes>"
      ]
     },
     "metadata": {
      "needs_background": "light"
     },
     "output_type": "display_data"
    }
   ],
   "source": [
    "\n",
    "plt.xlabel(\"vehicle_age\")\n",
    "plt.ylabel(\"Frequency\")\n",
    "plt.hist(updated_df['vehicle_age'])\n",
    "plt.show()"
   ]
  },
  {
   "cell_type": "code",
   "execution_count": 35,
   "metadata": {},
   "outputs": [
    {
     "data": {
      "text/html": [
       "<div>\n",
       "<style scoped>\n",
       "    .dataframe tbody tr th:only-of-type {\n",
       "        vertical-align: middle;\n",
       "    }\n",
       "\n",
       "    .dataframe tbody tr th {\n",
       "        vertical-align: top;\n",
       "    }\n",
       "\n",
       "    .dataframe thead th {\n",
       "        text-align: right;\n",
       "    }\n",
       "</style>\n",
       "<table border=\"1\" class=\"dataframe\">\n",
       "  <thead>\n",
       "    <tr style=\"text-align: right;\">\n",
       "      <th></th>\n",
       "      <th>price</th>\n",
       "    </tr>\n",
       "    <tr>\n",
       "      <th>vehicle_age</th>\n",
       "      <th></th>\n",
       "    </tr>\n",
       "  </thead>\n",
       "  <tbody>\n",
       "    <tr>\n",
       "      <th>1</th>\n",
       "      <td>21800</td>\n",
       "    </tr>\n",
       "    <tr>\n",
       "      <th>2</th>\n",
       "      <td>19500</td>\n",
       "    </tr>\n",
       "    <tr>\n",
       "      <th>3</th>\n",
       "      <td>18000</td>\n",
       "    </tr>\n",
       "    <tr>\n",
       "      <th>4</th>\n",
       "      <td>16999</td>\n",
       "    </tr>\n",
       "    <tr>\n",
       "      <th>5</th>\n",
       "      <td>14495</td>\n",
       "    </tr>\n",
       "    <tr>\n",
       "      <th>6</th>\n",
       "      <td>11998</td>\n",
       "    </tr>\n",
       "    <tr>\n",
       "      <th>7</th>\n",
       "      <td>9995</td>\n",
       "    </tr>\n",
       "    <tr>\n",
       "      <th>8</th>\n",
       "      <td>9999</td>\n",
       "    </tr>\n",
       "    <tr>\n",
       "      <th>9</th>\n",
       "      <td>8750</td>\n",
       "    </tr>\n",
       "    <tr>\n",
       "      <th>10</th>\n",
       "      <td>6995</td>\n",
       "    </tr>\n",
       "  </tbody>\n",
       "</table>\n",
       "</div>"
      ],
      "text/plain": [
       "             price\n",
       "vehicle_age       \n",
       "1            21800\n",
       "2            19500\n",
       "3            18000\n",
       "4            16999\n",
       "5            14495\n",
       "6            11998\n",
       "7             9995\n",
       "8             9999\n",
       "9             8750\n",
       "10            6995"
      ]
     },
     "metadata": {},
     "output_type": "display_data"
    }
   ],
   "source": [
    "updated_vehicle_age_pivot=updated_df.pivot_table(index='vehicle_age' ,values='price',aggfunc='median')\n",
    "display(updated_vehicle_age_pivot.head(10))"
   ]
  },
  {
   "cell_type": "code",
   "execution_count": 36,
   "metadata": {},
   "outputs": [
    {
     "data": {
      "image/png": "[encoded data removed]",
      "text/plain": [
       "<Figure size 432x288 with 1 Axes>"
      ]
     },
     "metadata": {
      "needs_background": "light"
     },
     "output_type": "display_data"
    },
    {
     "name": "stdout",
     "output_type": "stream",
     "text": [
      "           price\n",
      "condition       \n",
      "1          12500\n",
      "2           9995\n",
      "3           7500\n",
      "4           2500\n"
     ]
    }
   ],
   "source": [
    "plt.xlabel(\"condition\")\n",
    "plt.ylabel(\"Frequency\")\n",
    "plt.hist(updated_df['condition'])\n",
    "plt.show()\n",
    "updated_condition_pivot=updated_df.pivot_table(index='condition' ,values='price',aggfunc='median')\n",
    "print(updated_condition_pivot)"
   ]
  },
  {
   "cell_type": "code",
   "execution_count": 37,
   "metadata": {},
   "outputs": [
    {
     "data": {
      "image/png": "[encoded data removed]",
      "text/plain": [
       "<Figure size 432x288 with 1 Axes>"
      ]
     },
     "metadata": {
      "needs_background": "light"
     },
     "output_type": "display_data"
    },
    {
     "name": "stdout",
     "output_type": "stream",
     "text": [
      "                    price\n",
      "mileage_per_year         \n",
      "0                  7900.0\n",
      "1                  1995.0\n",
      "2                 13000.0\n",
      "3                  5900.0\n",
      "4                  4574.5\n",
      "...                   ...\n",
      "39856             31988.0\n",
      "39868             19999.0\n",
      "39891              9850.0\n",
      "39982             28990.0\n",
      "39993             17950.0\n",
      "\n",
      "[14340 rows x 1 columns]\n"
     ]
    }
   ],
   "source": [
    "plt.xlabel(\"mileage_per_year\")\n",
    "plt.ylabel(\"Frequency\")\n",
    "plt.hist(updated_df['mileage_per_year'])\n",
    "plt.show()\n",
    "updated_mileage_per_year_pivot=updated_df.pivot_table(index='mileage_per_year' ,values='price',aggfunc='median')\n",
    "print(updated_mileage_per_year_pivot)"
   ]
  },
  {
   "cell_type": "code",
   "execution_count": 38,
   "metadata": {},
   "outputs": [
    {
     "data": {
      "image/png": "[encoded data removed]",
      "text/plain": [
       "<Figure size 432x288 with 1 Axes>"
      ]
     },
     "metadata": {
      "needs_background": "light"
     },
     "output_type": "display_data"
    },
    {
     "name": "stdout",
     "output_type": "stream",
     "text": [
      "           price\n",
      "cylinders       \n",
      "4           6800\n",
      "5           6500\n",
      "6           8995\n",
      "8          12999\n",
      "10             1\n"
     ]
    }
   ],
   "source": [
    "plt.xlabel(\"cylinders\")\n",
    "plt.ylabel(\"Frequency\")\n",
    "plt.hist(updated_df['cylinders'])\n",
    "plt.show()\n",
    "updated_cylinders_pivot=updated_df.pivot_table(index='cylinders' ,values='price',aggfunc='median')\n",
    "print(updated_cylinders_pivot)"
   ]
  },
  {
   "cell_type": "code",
   "execution_count": 39,
   "metadata": {},
   "outputs": [
    {
     "name": "stdout",
     "output_type": "stream",
     "text": [
      "                                          price\n",
      "vehicle_age condition mileage_per_year         \n",
      "1           1         10                  384.0\n",
      "                      13                  371.0\n",
      "                      14                  326.0\n",
      "                      121               28000.0\n",
      "                      677               23988.0\n",
      "...                                         ...\n",
      "23          4         13826              1000.0\n",
      "                      14435              1500.0\n",
      "                      15573               750.0\n",
      "                      15652              3200.0\n",
      "                      17391              3495.0\n",
      "\n",
      "[26783 rows x 1 columns]\n"
     ]
    }
   ],
   "source": [
    "#pivot table with the parameter discussed above and median price.\n",
    "updated_pivot=updated_df.pivot_table(index=['vehicle_age','condition','mileage_per_year'],values='price',aggfunc='median')\n",
    "print(updated_pivot)"
   ]
  },
  {
   "cell_type": "markdown",
   "metadata": {},
   "source": [
    "## Ads lifetime\n",
    "\n",
    "Study how many days advertisements were displayed (`days_listed`). Calculate the mean and median. Describe the typical lifetime of an ad. Determine when ads were removed quickly, and when they were listed for an abnormally long time."
   ]
  },
  {
   "cell_type": "code",
   "execution_count": 40,
   "metadata": {},
   "outputs": [
    {
     "name": "stdout",
     "output_type": "stream",
     "text": [
      "0 271\n",
      "34.0\n",
      "-32.0\n",
      "104.0\n",
      "Ads which were removed quickly within a day \n"
     ]
    },
    {
     "data": {
      "text/html": [
       "<div>\n",
       "<style scoped>\n",
       "    .dataframe tbody tr th:only-of-type {\n",
       "        vertical-align: middle;\n",
       "    }\n",
       "\n",
       "    .dataframe tbody tr th {\n",
       "        vertical-align: top;\n",
       "    }\n",
       "\n",
       "    .dataframe thead th {\n",
       "        text-align: right;\n",
       "    }\n",
       "</style>\n",
       "<table border=\"1\" class=\"dataframe\">\n",
       "  <thead>\n",
       "    <tr style=\"text-align: right;\">\n",
       "      <th></th>\n",
       "      <th>price</th>\n",
       "      <th>model_year</th>\n",
       "      <th>model</th>\n",
       "      <th>condition</th>\n",
       "      <th>cylinders</th>\n",
       "      <th>fuel</th>\n",
       "      <th>odometer</th>\n",
       "      <th>transmission</th>\n",
       "      <th>type</th>\n",
       "      <th>paint_color</th>\n",
       "      <th>is_4wd</th>\n",
       "      <th>date_posted</th>\n",
       "      <th>days_listed</th>\n",
       "      <th>date_posted_datetime</th>\n",
       "      <th>vehicle_age</th>\n",
       "      <th>mileage_per_year</th>\n",
       "    </tr>\n",
       "  </thead>\n",
       "  <tbody>\n",
       "    <tr>\n",
       "      <th>1247</th>\n",
       "      <td>14995</td>\n",
       "      <td>2008</td>\n",
       "      <td>chevrolet silverado 1500</td>\n",
       "      <td>2</td>\n",
       "      <td>8</td>\n",
       "      <td>gas</td>\n",
       "      <td>93300</td>\n",
       "      <td>automatic</td>\n",
       "      <td>truck</td>\n",
       "      <td>grey</td>\n",
       "      <td>True</td>\n",
       "      <td>2018-05-15</td>\n",
       "      <td>0</td>\n",
       "      <td>2018-05-15</td>\n",
       "      <td>11</td>\n",
       "      <td>8481</td>\n",
       "    </tr>\n",
       "    <tr>\n",
       "      <th>1711</th>\n",
       "      <td>59589</td>\n",
       "      <td>2019</td>\n",
       "      <td>chevrolet silverado 2500hd</td>\n",
       "      <td>2</td>\n",
       "      <td>8</td>\n",
       "      <td>diesel</td>\n",
       "      <td>104230</td>\n",
       "      <td>automatic</td>\n",
       "      <td>truck</td>\n",
       "      <td>white</td>\n",
       "      <td>True</td>\n",
       "      <td>2019-01-13</td>\n",
       "      <td>0</td>\n",
       "      <td>2019-01-13</td>\n",
       "      <td>1</td>\n",
       "      <td>104230</td>\n",
       "    </tr>\n",
       "    <tr>\n",
       "      <th>1983</th>\n",
       "      <td>14000</td>\n",
       "      <td>1999</td>\n",
       "      <td>ford f250</td>\n",
       "      <td>2</td>\n",
       "      <td>8</td>\n",
       "      <td>diesel</td>\n",
       "      <td>137500</td>\n",
       "      <td>automatic</td>\n",
       "      <td>truck</td>\n",
       "      <td>red</td>\n",
       "      <td>True</td>\n",
       "      <td>2018-09-27</td>\n",
       "      <td>0</td>\n",
       "      <td>2018-09-27</td>\n",
       "      <td>20</td>\n",
       "      <td>6875</td>\n",
       "    </tr>\n",
       "    <tr>\n",
       "      <th>2883</th>\n",
       "      <td>4000</td>\n",
       "      <td>2004</td>\n",
       "      <td>ram 1500</td>\n",
       "      <td>2</td>\n",
       "      <td>8</td>\n",
       "      <td>gas</td>\n",
       "      <td>250000</td>\n",
       "      <td>automatic</td>\n",
       "      <td>truck</td>\n",
       "      <td>brown</td>\n",
       "      <td>True</td>\n",
       "      <td>2018-08-13</td>\n",
       "      <td>0</td>\n",
       "      <td>2018-08-13</td>\n",
       "      <td>15</td>\n",
       "      <td>16666</td>\n",
       "    </tr>\n",
       "    <tr>\n",
       "      <th>3965</th>\n",
       "      <td>16750</td>\n",
       "      <td>1985</td>\n",
       "      <td>chevrolet corvette</td>\n",
       "      <td>1</td>\n",
       "      <td>8</td>\n",
       "      <td>gas</td>\n",
       "      <td>24540</td>\n",
       "      <td>automatic</td>\n",
       "      <td>hatchback</td>\n",
       "      <td>white</td>\n",
       "      <td>False</td>\n",
       "      <td>2018-10-14</td>\n",
       "      <td>0</td>\n",
       "      <td>2018-10-14</td>\n",
       "      <td>34</td>\n",
       "      <td>721</td>\n",
       "    </tr>\n",
       "    <tr>\n",
       "      <th>4567</th>\n",
       "      <td>5000</td>\n",
       "      <td>2007</td>\n",
       "      <td>toyota corolla</td>\n",
       "      <td>3</td>\n",
       "      <td>4</td>\n",
       "      <td>gas</td>\n",
       "      <td>223000</td>\n",
       "      <td>manual</td>\n",
       "      <td>sedan</td>\n",
       "      <td>silver</td>\n",
       "      <td>False</td>\n",
       "      <td>2018-07-11</td>\n",
       "      <td>0</td>\n",
       "      <td>2018-07-11</td>\n",
       "      <td>12</td>\n",
       "      <td>18583</td>\n",
       "    </tr>\n",
       "    <tr>\n",
       "      <th>4901</th>\n",
       "      <td>12500</td>\n",
       "      <td>2001</td>\n",
       "      <td>ram 1500</td>\n",
       "      <td>3</td>\n",
       "      <td>8</td>\n",
       "      <td>gas</td>\n",
       "      <td>99892</td>\n",
       "      <td>automatic</td>\n",
       "      <td>truck</td>\n",
       "      <td>black</td>\n",
       "      <td>True</td>\n",
       "      <td>2018-05-11</td>\n",
       "      <td>0</td>\n",
       "      <td>2018-05-11</td>\n",
       "      <td>18</td>\n",
       "      <td>5549</td>\n",
       "    </tr>\n",
       "    <tr>\n",
       "      <th>6114</th>\n",
       "      <td>500</td>\n",
       "      <td>2003</td>\n",
       "      <td>dodge dakota</td>\n",
       "      <td>4</td>\n",
       "      <td>6</td>\n",
       "      <td>gas</td>\n",
       "      <td>215457</td>\n",
       "      <td>automatic</td>\n",
       "      <td>pickup</td>\n",
       "      <td>unknown</td>\n",
       "      <td>False</td>\n",
       "      <td>2018-10-31</td>\n",
       "      <td>0</td>\n",
       "      <td>2018-10-31</td>\n",
       "      <td>16</td>\n",
       "      <td>13466</td>\n",
       "    </tr>\n",
       "    <tr>\n",
       "      <th>6548</th>\n",
       "      <td>4800</td>\n",
       "      <td>2007</td>\n",
       "      <td>honda odyssey</td>\n",
       "      <td>3</td>\n",
       "      <td>6</td>\n",
       "      <td>gas</td>\n",
       "      <td>152400</td>\n",
       "      <td>automatic</td>\n",
       "      <td>mini-van</td>\n",
       "      <td>brown</td>\n",
       "      <td>False</td>\n",
       "      <td>2018-09-25</td>\n",
       "      <td>0</td>\n",
       "      <td>2018-09-25</td>\n",
       "      <td>12</td>\n",
       "      <td>12700</td>\n",
       "    </tr>\n",
       "    <tr>\n",
       "      <th>7036</th>\n",
       "      <td>5900</td>\n",
       "      <td>2007</td>\n",
       "      <td>jeep grand cherokee laredo</td>\n",
       "      <td>2</td>\n",
       "      <td>6</td>\n",
       "      <td>gas</td>\n",
       "      <td>104230</td>\n",
       "      <td>automatic</td>\n",
       "      <td>SUV</td>\n",
       "      <td>grey</td>\n",
       "      <td>True</td>\n",
       "      <td>2018-07-21</td>\n",
       "      <td>0</td>\n",
       "      <td>2018-07-21</td>\n",
       "      <td>12</td>\n",
       "      <td>8685</td>\n",
       "    </tr>\n",
       "  </tbody>\n",
       "</table>\n",
       "</div>"
      ],
      "text/plain": [
       "      price  model_year                       model  condition  cylinders  \\\n",
       "1247  14995        2008    chevrolet silverado 1500          2          8   \n",
       "1711  59589        2019  chevrolet silverado 2500hd          2          8   \n",
       "1983  14000        1999                   ford f250          2          8   \n",
       "2883   4000        2004                    ram 1500          2          8   \n",
       "3965  16750        1985          chevrolet corvette          1          8   \n",
       "4567   5000        2007              toyota corolla          3          4   \n",
       "4901  12500        2001                    ram 1500          3          8   \n",
       "6114    500        2003                dodge dakota          4          6   \n",
       "6548   4800        2007               honda odyssey          3          6   \n",
       "7036   5900        2007  jeep grand cherokee laredo          2          6   \n",
       "\n",
       "        fuel  odometer transmission       type paint_color  is_4wd  \\\n",
       "1247     gas     93300    automatic      truck        grey    True   \n",
       "1711  diesel    104230    automatic      truck       white    True   \n",
       "1983  diesel    137500    automatic      truck         red    True   \n",
       "2883     gas    250000    automatic      truck       brown    True   \n",
       "3965     gas     24540    automatic  hatchback       white   False   \n",
       "4567     gas    223000       manual      sedan      silver   False   \n",
       "4901     gas     99892    automatic      truck       black    True   \n",
       "6114     gas    215457    automatic     pickup     unknown   False   \n",
       "6548     gas    152400    automatic   mini-van       brown   False   \n",
       "7036     gas    104230    automatic        SUV        grey    True   \n",
       "\n",
       "     date_posted  days_listed date_posted_datetime  vehicle_age  \\\n",
       "1247  2018-05-15            0           2018-05-15           11   \n",
       "1711  2019-01-13            0           2019-01-13            1   \n",
       "1983  2018-09-27            0           2018-09-27           20   \n",
       "2883  2018-08-13            0           2018-08-13           15   \n",
       "3965  2018-10-14            0           2018-10-14           34   \n",
       "4567  2018-07-11            0           2018-07-11           12   \n",
       "4901  2018-05-11            0           2018-05-11           18   \n",
       "6114  2018-10-31            0           2018-10-31           16   \n",
       "6548  2018-09-25            0           2018-09-25           12   \n",
       "7036  2018-07-21            0           2018-07-21           12   \n",
       "\n",
       "      mileage_per_year  \n",
       "1247              8481  \n",
       "1711            104230  \n",
       "1983              6875  \n",
       "2883             16666  \n",
       "3965               721  \n",
       "4567             18583  \n",
       "4901              5549  \n",
       "6114             13466  \n",
       "6548             12700  \n",
       "7036              8685  "
      ]
     },
     "metadata": {},
     "output_type": "display_data"
    },
    {
     "name": "stdout",
     "output_type": "stream",
     "text": [
      "Ads which were listed for an abnormally long time \n"
     ]
    },
    {
     "data": {
      "text/html": [
       "<div>\n",
       "<style scoped>\n",
       "    .dataframe tbody tr th:only-of-type {\n",
       "        vertical-align: middle;\n",
       "    }\n",
       "\n",
       "    .dataframe tbody tr th {\n",
       "        vertical-align: top;\n",
       "    }\n",
       "\n",
       "    .dataframe thead th {\n",
       "        text-align: right;\n",
       "    }\n",
       "</style>\n",
       "<table border=\"1\" class=\"dataframe\">\n",
       "  <thead>\n",
       "    <tr style=\"text-align: right;\">\n",
       "      <th></th>\n",
       "      <th>price</th>\n",
       "      <th>model_year</th>\n",
       "      <th>model</th>\n",
       "      <th>condition</th>\n",
       "      <th>cylinders</th>\n",
       "      <th>fuel</th>\n",
       "      <th>odometer</th>\n",
       "      <th>transmission</th>\n",
       "      <th>type</th>\n",
       "      <th>paint_color</th>\n",
       "      <th>is_4wd</th>\n",
       "      <th>date_posted</th>\n",
       "      <th>days_listed</th>\n",
       "      <th>date_posted_datetime</th>\n",
       "      <th>vehicle_age</th>\n",
       "      <th>mileage_per_year</th>\n",
       "    </tr>\n",
       "  </thead>\n",
       "  <tbody>\n",
       "    <tr>\n",
       "      <th>4360</th>\n",
       "      <td>5200</td>\n",
       "      <td>2011</td>\n",
       "      <td>chevrolet impala</td>\n",
       "      <td>1</td>\n",
       "      <td>6</td>\n",
       "      <td>gas</td>\n",
       "      <td>122000</td>\n",
       "      <td>automatic</td>\n",
       "      <td>sedan</td>\n",
       "      <td>unknown</td>\n",
       "      <td>False</td>\n",
       "      <td>2018-05-24</td>\n",
       "      <td>271</td>\n",
       "      <td>2018-05-24</td>\n",
       "      <td>8</td>\n",
       "      <td>15250</td>\n",
       "    </tr>\n",
       "  </tbody>\n",
       "</table>\n",
       "</div>"
      ],
      "text/plain": [
       "      price  model_year             model  condition  cylinders fuel  \\\n",
       "4360   5200        2011  chevrolet impala          1          6  gas   \n",
       "\n",
       "      odometer transmission   type paint_color  is_4wd date_posted  \\\n",
       "4360    122000    automatic  sedan     unknown   False  2018-05-24   \n",
       "\n",
       "      days_listed date_posted_datetime  vehicle_age  mileage_per_year  \n",
       "4360          271           2018-05-24            8             15250  "
      ]
     },
     "metadata": {},
     "output_type": "display_data"
    },
    {
     "data": {
      "image/png": "[encoded data removed]",
      "text/plain": [
       "<Figure size 432x288 with 1 Axes>"
      ]
     },
     "metadata": {
      "needs_background": "light"
     },
     "output_type": "display_data"
    }
   ],
   "source": [
    "print(df['days_listed'].min(),df['days_listed'].max())\n",
    "\n",
    "Q1 = df['days_listed'].quantile(0.25)\n",
    "Q3 = df['days_listed'].quantile(0.75)\n",
    "IQR = Q3 - Q1\n",
    "print(IQR)\n",
    "lower_days_listed=Q1 - (1.5*IQR)\n",
    "print(lower_days_listed)\n",
    "upper_days_listed= Q3 + (1.5*IQR)\n",
    "print(upper_days_listed)\n",
    "#After verifying with theoretical value , We stick with min and max values \n",
    "print('Ads which were removed quickly within a day ')\n",
    "display(df[df['days_listed']==df['days_listed'].min()].head(10))\n",
    "print('Ads which were listed for an abnormally long time ')\n",
    "display(df[df['days_listed']== df['days_listed'].max()])\n",
    "\n",
    "plt.xlabel(\"days listed\")\n",
    "plt.ylabel(\"Frequency\")\n",
    "plt.hist(df['days_listed'])\n",
    "plt.show()\n"
   ]
  },
  {
   "cell_type": "markdown",
   "metadata": {},
   "source": [
    "The above graph shows that most of the ads were around 0-50 days..\n"
   ]
  },
  {
   "cell_type": "code",
   "execution_count": 41,
   "metadata": {},
   "outputs": [
    {
     "name": "stdout",
     "output_type": "stream",
     "text": [
      "Mean:  39.55475982532751\n",
      "Median : 33.0\n"
     ]
    }
   ],
   "source": [
    "print('Mean: ',df['days_listed'].mean())\n",
    "print('Median :',df['days_listed'].median())"
   ]
  },
  {
   "cell_type": "code",
   "execution_count": 42,
   "metadata": {},
   "outputs": [
    {
     "data": {
      "image/png": "[encoded data removed]",
      "text/plain": [
       "<Figure size 432x288 with 1 Axes>"
      ]
     },
     "metadata": {
      "needs_background": "light"
     },
     "output_type": "display_data"
    }
   ],
   "source": [
    "\n",
    "plt.xlabel(\"days listed\")\n",
    "plt.ylabel(\"Frequency\")\n",
    "plt.hist(df['days_listed'],range=(0,5))\n",
    "plt.show()"
   ]
  },
  {
   "cell_type": "markdown",
   "metadata": {},
   "source": [
    "Plotting with the range (0,5) for x axis, we see that around 50 of the data (ads) removed as quickly as within a day(0)"
   ]
  },
  {
   "cell_type": "code",
   "execution_count": 43,
   "metadata": {},
   "outputs": [
    {
     "data": {
      "image/png": "[encoded data removed]",
      "text/plain": [
       "<Figure size 432x288 with 1 Axes>"
      ]
     },
     "metadata": {
      "needs_background": "light"
     },
     "output_type": "display_data"
    }
   ],
   "source": [
    "plt.xlabel(\"days listed\")\n",
    "plt.ylabel(\"Frequency\")\n",
    "plt.hist(df['days_listed'],range=(200,250))\n",
    "plt.show()"
   ]
  },
  {
   "cell_type": "markdown",
   "metadata": {},
   "source": [
    "The above histogram shows that few ads placed were there for more than 200 days .."
   ]
  },
  {
   "cell_type": "markdown",
   "metadata": {},
   "source": [
    "## Average price per each type of vehicle"
   ]
  },
  {
   "cell_type": "markdown",
   "metadata": {},
   "source": [
    "Analyze the number of ads and the average price for each type of vehicle. Plot a graph showing the dependence of the number of ads on the vehicle type. Select the two types with the greatest number of ads."
   ]
  },
  {
   "cell_type": "code",
   "execution_count": 44,
   "metadata": {},
   "outputs": [
    {
     "name": "stdout",
     "output_type": "stream",
     "text": [
      "               count          mean\n",
      "type                              \n",
      "SUV          11703.0  10376.381184\n",
      "bus             21.0  18107.428571\n",
      "convertible    330.0  13153.475758\n",
      "coupe         1929.0  13264.594609\n",
      "hatchback      984.0   6678.311992\n",
      "mini-van      1119.0   7762.027703\n",
      "offroad        180.0  14433.983333\n",
      "other          223.0  10394.408072\n",
      "pickup        6214.0  14793.234310\n",
      "sedan        11675.0   6835.982527\n",
      "truck        11029.0  14981.654094\n",
      "van            602.0  10235.438538\n",
      "wagon         1510.0   8869.493377\n"
     ]
    }
   ],
   "source": [
    "price_per_type_pivot=updated_df.pivot_table(index='type' , values='price',aggfunc=('count','mean'))\n",
    "print(price_per_type_pivot)"
   ]
  },
  {
   "cell_type": "code",
   "execution_count": 45,
   "metadata": {},
   "outputs": [
    {
     "data": {
      "text/html": [
       "<div>\n",
       "<style scoped>\n",
       "    .dataframe tbody tr th:only-of-type {\n",
       "        vertical-align: middle;\n",
       "    }\n",
       "\n",
       "    .dataframe tbody tr th {\n",
       "        vertical-align: top;\n",
       "    }\n",
       "\n",
       "    .dataframe thead th {\n",
       "        text-align: right;\n",
       "    }\n",
       "</style>\n",
       "<table border=\"1\" class=\"dataframe\">\n",
       "  <thead>\n",
       "    <tr style=\"text-align: right;\">\n",
       "      <th></th>\n",
       "      <th>type</th>\n",
       "      <th>count</th>\n",
       "      <th>mean</th>\n",
       "    </tr>\n",
       "  </thead>\n",
       "  <tbody>\n",
       "    <tr>\n",
       "      <th>0</th>\n",
       "      <td>SUV</td>\n",
       "      <td>11703.0</td>\n",
       "      <td>10376.381184</td>\n",
       "    </tr>\n",
       "    <tr>\n",
       "      <th>1</th>\n",
       "      <td>bus</td>\n",
       "      <td>21.0</td>\n",
       "      <td>18107.428571</td>\n",
       "    </tr>\n",
       "    <tr>\n",
       "      <th>2</th>\n",
       "      <td>convertible</td>\n",
       "      <td>330.0</td>\n",
       "      <td>13153.475758</td>\n",
       "    </tr>\n",
       "    <tr>\n",
       "      <th>3</th>\n",
       "      <td>coupe</td>\n",
       "      <td>1929.0</td>\n",
       "      <td>13264.594609</td>\n",
       "    </tr>\n",
       "    <tr>\n",
       "      <th>4</th>\n",
       "      <td>hatchback</td>\n",
       "      <td>984.0</td>\n",
       "      <td>6678.311992</td>\n",
       "    </tr>\n",
       "    <tr>\n",
       "      <th>5</th>\n",
       "      <td>mini-van</td>\n",
       "      <td>1119.0</td>\n",
       "      <td>7762.027703</td>\n",
       "    </tr>\n",
       "    <tr>\n",
       "      <th>6</th>\n",
       "      <td>offroad</td>\n",
       "      <td>180.0</td>\n",
       "      <td>14433.983333</td>\n",
       "    </tr>\n",
       "    <tr>\n",
       "      <th>7</th>\n",
       "      <td>other</td>\n",
       "      <td>223.0</td>\n",
       "      <td>10394.408072</td>\n",
       "    </tr>\n",
       "    <tr>\n",
       "      <th>8</th>\n",
       "      <td>pickup</td>\n",
       "      <td>6214.0</td>\n",
       "      <td>14793.234310</td>\n",
       "    </tr>\n",
       "    <tr>\n",
       "      <th>9</th>\n",
       "      <td>sedan</td>\n",
       "      <td>11675.0</td>\n",
       "      <td>6835.982527</td>\n",
       "    </tr>\n",
       "    <tr>\n",
       "      <th>10</th>\n",
       "      <td>truck</td>\n",
       "      <td>11029.0</td>\n",
       "      <td>14981.654094</td>\n",
       "    </tr>\n",
       "    <tr>\n",
       "      <th>11</th>\n",
       "      <td>van</td>\n",
       "      <td>602.0</td>\n",
       "      <td>10235.438538</td>\n",
       "    </tr>\n",
       "    <tr>\n",
       "      <th>12</th>\n",
       "      <td>wagon</td>\n",
       "      <td>1510.0</td>\n",
       "      <td>8869.493377</td>\n",
       "    </tr>\n",
       "  </tbody>\n",
       "</table>\n",
       "</div>"
      ],
      "text/plain": [
       "           type    count          mean\n",
       "0           SUV  11703.0  10376.381184\n",
       "1           bus     21.0  18107.428571\n",
       "2   convertible    330.0  13153.475758\n",
       "3         coupe   1929.0  13264.594609\n",
       "4     hatchback    984.0   6678.311992\n",
       "5      mini-van   1119.0   7762.027703\n",
       "6       offroad    180.0  14433.983333\n",
       "7         other    223.0  10394.408072\n",
       "8        pickup   6214.0  14793.234310\n",
       "9         sedan  11675.0   6835.982527\n",
       "10        truck  11029.0  14981.654094\n",
       "11          van    602.0  10235.438538\n",
       "12        wagon   1510.0   8869.493377"
      ]
     },
     "metadata": {},
     "output_type": "display_data"
    },
    {
     "data": {
      "text/plain": [
       "0             SUV\n",
       "1             bus\n",
       "2     convertible\n",
       "3           coupe\n",
       "4       hatchback\n",
       "5        mini-van\n",
       "6         offroad\n",
       "7           other\n",
       "8          pickup\n",
       "9           sedan\n",
       "10          truck\n",
       "11            van\n",
       "12          wagon\n",
       "Name: type, dtype: object"
      ]
     },
     "metadata": {},
     "output_type": "display_data"
    }
   ],
   "source": [
    "price_per_type_pivot.reset_index(inplace=True)\n",
    "display(price_per_type_pivot)\n",
    "display(price_per_type_pivot['type'])"
   ]
  },
  {
   "cell_type": "code",
   "execution_count": 46,
   "metadata": {},
   "outputs": [
    {
     "data": {
      "image/png": "[encoded data removed]",
      "text/plain": [
       "<Figure size 1080x504 with 1 Axes>"
      ]
     },
     "metadata": {
      "needs_background": "light"
     },
     "output_type": "display_data"
    }
   ],
   "source": [
    "fig = plt.figure(figsize = (15, 7))\n",
    "plt.xlabel(\"type of vehicle\")\n",
    "plt.ylabel(\"Numbe of ads\")\n",
    "plt.bar(price_per_type_pivot['type'],price_per_type_pivot['count'])\n",
    "plt.show()\n"
   ]
  },
  {
   "cell_type": "markdown",
   "metadata": {},
   "source": [
    "SUV and sedan are the vehicle types with greatest number of ads."
   ]
  },
  {
   "cell_type": "markdown",
   "metadata": {},
   "source": [
    "## Price factors"
   ]
  },
  {
   "cell_type": "markdown",
   "metadata": {},
   "source": [
    "What factors impact the price most? Take each of the popular types you detected at the previous stage and study whether the price depends on age, mileage, condition, transmission type, and color. For categorical variables (transmission type and color), plot box-and-whisker charts, and create scatterplots for the rest. When analyzing categorical variables, note that the categories must have at least 50 ads; otherwise, their parameters won't be valid for analysis.\n"
   ]
  },
  {
   "cell_type": "markdown",
   "metadata": {},
   "source": [
    "Creating seperate dataframe for the 2 most advertised vehicle type 'SUV' and 'sedan'."
   ]
  },
  {
   "cell_type": "code",
   "execution_count": 47,
   "metadata": {},
   "outputs": [
    {
     "data": {
      "text/html": [
       "<div>\n",
       "<style scoped>\n",
       "    .dataframe tbody tr th:only-of-type {\n",
       "        vertical-align: middle;\n",
       "    }\n",
       "\n",
       "    .dataframe tbody tr th {\n",
       "        vertical-align: top;\n",
       "    }\n",
       "\n",
       "    .dataframe thead th {\n",
       "        text-align: right;\n",
       "    }\n",
       "</style>\n",
       "<table border=\"1\" class=\"dataframe\">\n",
       "  <thead>\n",
       "    <tr style=\"text-align: right;\">\n",
       "      <th></th>\n",
       "      <th>price</th>\n",
       "      <th>model_year</th>\n",
       "      <th>model</th>\n",
       "      <th>condition</th>\n",
       "      <th>cylinders</th>\n",
       "      <th>fuel</th>\n",
       "      <th>odometer</th>\n",
       "      <th>transmission</th>\n",
       "      <th>type</th>\n",
       "      <th>paint_color</th>\n",
       "      <th>is_4wd</th>\n",
       "      <th>date_posted</th>\n",
       "      <th>days_listed</th>\n",
       "      <th>date_posted_datetime</th>\n",
       "      <th>vehicle_age</th>\n",
       "      <th>mileage_per_year</th>\n",
       "    </tr>\n",
       "  </thead>\n",
       "  <tbody>\n",
       "    <tr>\n",
       "      <th>0</th>\n",
       "      <td>9400</td>\n",
       "      <td>2011</td>\n",
       "      <td>bmw x5</td>\n",
       "      <td>3</td>\n",
       "      <td>6</td>\n",
       "      <td>gas</td>\n",
       "      <td>145000</td>\n",
       "      <td>automatic</td>\n",
       "      <td>SUV</td>\n",
       "      <td>unknown</td>\n",
       "      <td>True</td>\n",
       "      <td>2018-06-23</td>\n",
       "      <td>19</td>\n",
       "      <td>2018-06-23</td>\n",
       "      <td>8</td>\n",
       "      <td>18125</td>\n",
       "    </tr>\n",
       "    <tr>\n",
       "      <th>7</th>\n",
       "      <td>15990</td>\n",
       "      <td>2013</td>\n",
       "      <td>honda pilot</td>\n",
       "      <td>2</td>\n",
       "      <td>6</td>\n",
       "      <td>gas</td>\n",
       "      <td>109473</td>\n",
       "      <td>automatic</td>\n",
       "      <td>SUV</td>\n",
       "      <td>black</td>\n",
       "      <td>True</td>\n",
       "      <td>2019-01-07</td>\n",
       "      <td>68</td>\n",
       "      <td>2019-01-07</td>\n",
       "      <td>7</td>\n",
       "      <td>15639</td>\n",
       "    </tr>\n",
       "    <tr>\n",
       "      <th>8</th>\n",
       "      <td>11500</td>\n",
       "      <td>2012</td>\n",
       "      <td>kia sorento</td>\n",
       "      <td>2</td>\n",
       "      <td>4</td>\n",
       "      <td>gas</td>\n",
       "      <td>104174</td>\n",
       "      <td>automatic</td>\n",
       "      <td>SUV</td>\n",
       "      <td>unknown</td>\n",
       "      <td>True</td>\n",
       "      <td>2018-07-16</td>\n",
       "      <td>19</td>\n",
       "      <td>2018-07-16</td>\n",
       "      <td>7</td>\n",
       "      <td>14882</td>\n",
       "    </tr>\n",
       "    <tr>\n",
       "      <th>9</th>\n",
       "      <td>9200</td>\n",
       "      <td>2008</td>\n",
       "      <td>honda pilot</td>\n",
       "      <td>2</td>\n",
       "      <td>6</td>\n",
       "      <td>gas</td>\n",
       "      <td>147191</td>\n",
       "      <td>automatic</td>\n",
       "      <td>SUV</td>\n",
       "      <td>blue</td>\n",
       "      <td>True</td>\n",
       "      <td>2019-02-15</td>\n",
       "      <td>17</td>\n",
       "      <td>2019-02-15</td>\n",
       "      <td>12</td>\n",
       "      <td>12265</td>\n",
       "    </tr>\n",
       "    <tr>\n",
       "      <th>14</th>\n",
       "      <td>12990</td>\n",
       "      <td>2009</td>\n",
       "      <td>gmc yukon</td>\n",
       "      <td>2</td>\n",
       "      <td>8</td>\n",
       "      <td>gas</td>\n",
       "      <td>132285</td>\n",
       "      <td>automatic</td>\n",
       "      <td>SUV</td>\n",
       "      <td>black</td>\n",
       "      <td>True</td>\n",
       "      <td>2019-01-31</td>\n",
       "      <td>24</td>\n",
       "      <td>2019-01-31</td>\n",
       "      <td>11</td>\n",
       "      <td>12025</td>\n",
       "    </tr>\n",
       "    <tr>\n",
       "      <th>17</th>\n",
       "      <td>13990</td>\n",
       "      <td>2014</td>\n",
       "      <td>jeep cherokee</td>\n",
       "      <td>2</td>\n",
       "      <td>6</td>\n",
       "      <td>gas</td>\n",
       "      <td>100669</td>\n",
       "      <td>automatic</td>\n",
       "      <td>SUV</td>\n",
       "      <td>red</td>\n",
       "      <td>True</td>\n",
       "      <td>2018-08-16</td>\n",
       "      <td>25</td>\n",
       "      <td>2018-08-16</td>\n",
       "      <td>5</td>\n",
       "      <td>20133</td>\n",
       "    </tr>\n",
       "    <tr>\n",
       "      <th>18</th>\n",
       "      <td>12500</td>\n",
       "      <td>2013</td>\n",
       "      <td>chevrolet traverse</td>\n",
       "      <td>2</td>\n",
       "      <td>6</td>\n",
       "      <td>gas</td>\n",
       "      <td>128325</td>\n",
       "      <td>automatic</td>\n",
       "      <td>SUV</td>\n",
       "      <td>white</td>\n",
       "      <td>True</td>\n",
       "      <td>2019-04-09</td>\n",
       "      <td>13</td>\n",
       "      <td>2019-04-09</td>\n",
       "      <td>7</td>\n",
       "      <td>18332</td>\n",
       "    </tr>\n",
       "    <tr>\n",
       "      <th>20</th>\n",
       "      <td>6990</td>\n",
       "      <td>2009</td>\n",
       "      <td>chevrolet tahoe</td>\n",
       "      <td>2</td>\n",
       "      <td>8</td>\n",
       "      <td>gas</td>\n",
       "      <td>147485</td>\n",
       "      <td>automatic</td>\n",
       "      <td>SUV</td>\n",
       "      <td>silver</td>\n",
       "      <td>True</td>\n",
       "      <td>2018-08-05</td>\n",
       "      <td>28</td>\n",
       "      <td>2018-08-05</td>\n",
       "      <td>10</td>\n",
       "      <td>14748</td>\n",
       "    </tr>\n",
       "    <tr>\n",
       "      <th>21</th>\n",
       "      <td>5250</td>\n",
       "      <td>2007</td>\n",
       "      <td>toyota rav4</td>\n",
       "      <td>3</td>\n",
       "      <td>6</td>\n",
       "      <td>gas</td>\n",
       "      <td>154000</td>\n",
       "      <td>automatic</td>\n",
       "      <td>SUV</td>\n",
       "      <td>unknown</td>\n",
       "      <td>False</td>\n",
       "      <td>2018-08-22</td>\n",
       "      <td>8</td>\n",
       "      <td>2018-08-22</td>\n",
       "      <td>12</td>\n",
       "      <td>12833</td>\n",
       "    </tr>\n",
       "    <tr>\n",
       "      <th>23</th>\n",
       "      <td>7500</td>\n",
       "      <td>2004</td>\n",
       "      <td>jeep wrangler</td>\n",
       "      <td>3</td>\n",
       "      <td>6</td>\n",
       "      <td>gas</td>\n",
       "      <td>129000</td>\n",
       "      <td>automatic</td>\n",
       "      <td>SUV</td>\n",
       "      <td>red</td>\n",
       "      <td>True</td>\n",
       "      <td>2018-05-17</td>\n",
       "      <td>39</td>\n",
       "      <td>2018-05-17</td>\n",
       "      <td>15</td>\n",
       "      <td>8600</td>\n",
       "    </tr>\n",
       "  </tbody>\n",
       "</table>\n",
       "</div>"
      ],
      "text/plain": [
       "    price  model_year               model  condition  cylinders fuel  \\\n",
       "0    9400        2011              bmw x5          3          6  gas   \n",
       "7   15990        2013         honda pilot          2          6  gas   \n",
       "8   11500        2012         kia sorento          2          4  gas   \n",
       "9    9200        2008         honda pilot          2          6  gas   \n",
       "14  12990        2009           gmc yukon          2          8  gas   \n",
       "17  13990        2014       jeep cherokee          2          6  gas   \n",
       "18  12500        2013  chevrolet traverse          2          6  gas   \n",
       "20   6990        2009     chevrolet tahoe          2          8  gas   \n",
       "21   5250        2007         toyota rav4          3          6  gas   \n",
       "23   7500        2004       jeep wrangler          3          6  gas   \n",
       "\n",
       "    odometer transmission type paint_color  is_4wd date_posted  days_listed  \\\n",
       "0     145000    automatic  SUV     unknown    True  2018-06-23           19   \n",
       "7     109473    automatic  SUV       black    True  2019-01-07           68   \n",
       "8     104174    automatic  SUV     unknown    True  2018-07-16           19   \n",
       "9     147191    automatic  SUV        blue    True  2019-02-15           17   \n",
       "14    132285    automatic  SUV       black    True  2019-01-31           24   \n",
       "17    100669    automatic  SUV         red    True  2018-08-16           25   \n",
       "18    128325    automatic  SUV       white    True  2019-04-09           13   \n",
       "20    147485    automatic  SUV      silver    True  2018-08-05           28   \n",
       "21    154000    automatic  SUV     unknown   False  2018-08-22            8   \n",
       "23    129000    automatic  SUV         red    True  2018-05-17           39   \n",
       "\n",
       "   date_posted_datetime  vehicle_age  mileage_per_year  \n",
       "0            2018-06-23            8             18125  \n",
       "7            2019-01-07            7             15639  \n",
       "8            2018-07-16            7             14882  \n",
       "9            2019-02-15           12             12265  \n",
       "14           2019-01-31           11             12025  \n",
       "17           2018-08-16            5             20133  \n",
       "18           2019-04-09            7             18332  \n",
       "20           2018-08-05           10             14748  \n",
       "21           2018-08-22           12             12833  \n",
       "23           2018-05-17           15              8600  "
      ]
     },
     "metadata": {},
     "output_type": "display_data"
    }
   ],
   "source": [
    "SUV_df=updated_df[updated_df['type']=='SUV']\n",
    "display(SUV_df.head(10))"
   ]
  },
  {
   "cell_type": "code",
   "execution_count": 48,
   "metadata": {},
   "outputs": [
    {
     "data": {
      "text/html": [
       "<div>\n",
       "<style scoped>\n",
       "    .dataframe tbody tr th:only-of-type {\n",
       "        vertical-align: middle;\n",
       "    }\n",
       "\n",
       "    .dataframe tbody tr th {\n",
       "        vertical-align: top;\n",
       "    }\n",
       "\n",
       "    .dataframe thead th {\n",
       "        text-align: right;\n",
       "    }\n",
       "</style>\n",
       "<table border=\"1\" class=\"dataframe\">\n",
       "  <thead>\n",
       "    <tr style=\"text-align: right;\">\n",
       "      <th></th>\n",
       "      <th>price</th>\n",
       "      <th>model_year</th>\n",
       "      <th>model</th>\n",
       "      <th>condition</th>\n",
       "      <th>cylinders</th>\n",
       "      <th>fuel</th>\n",
       "      <th>odometer</th>\n",
       "      <th>transmission</th>\n",
       "      <th>type</th>\n",
       "      <th>paint_color</th>\n",
       "      <th>is_4wd</th>\n",
       "      <th>date_posted</th>\n",
       "      <th>days_listed</th>\n",
       "      <th>date_posted_datetime</th>\n",
       "      <th>vehicle_age</th>\n",
       "      <th>mileage_per_year</th>\n",
       "    </tr>\n",
       "  </thead>\n",
       "  <tbody>\n",
       "    <tr>\n",
       "      <th>2</th>\n",
       "      <td>5500</td>\n",
       "      <td>2013</td>\n",
       "      <td>hyundai sonata</td>\n",
       "      <td>1</td>\n",
       "      <td>4</td>\n",
       "      <td>gas</td>\n",
       "      <td>110000</td>\n",
       "      <td>automatic</td>\n",
       "      <td>sedan</td>\n",
       "      <td>red</td>\n",
       "      <td>False</td>\n",
       "      <td>2019-02-07</td>\n",
       "      <td>79</td>\n",
       "      <td>2019-02-07</td>\n",
       "      <td>7</td>\n",
       "      <td>15714</td>\n",
       "    </tr>\n",
       "    <tr>\n",
       "      <th>4</th>\n",
       "      <td>14900</td>\n",
       "      <td>2017</td>\n",
       "      <td>chrysler 200</td>\n",
       "      <td>2</td>\n",
       "      <td>4</td>\n",
       "      <td>gas</td>\n",
       "      <td>80903</td>\n",
       "      <td>automatic</td>\n",
       "      <td>sedan</td>\n",
       "      <td>black</td>\n",
       "      <td>False</td>\n",
       "      <td>2019-04-02</td>\n",
       "      <td>28</td>\n",
       "      <td>2019-04-02</td>\n",
       "      <td>3</td>\n",
       "      <td>26967</td>\n",
       "    </tr>\n",
       "    <tr>\n",
       "      <th>5</th>\n",
       "      <td>14990</td>\n",
       "      <td>2014</td>\n",
       "      <td>chrysler 300</td>\n",
       "      <td>2</td>\n",
       "      <td>6</td>\n",
       "      <td>gas</td>\n",
       "      <td>57954</td>\n",
       "      <td>automatic</td>\n",
       "      <td>sedan</td>\n",
       "      <td>black</td>\n",
       "      <td>True</td>\n",
       "      <td>2018-06-20</td>\n",
       "      <td>15</td>\n",
       "      <td>2018-06-20</td>\n",
       "      <td>5</td>\n",
       "      <td>11590</td>\n",
       "    </tr>\n",
       "    <tr>\n",
       "      <th>6</th>\n",
       "      <td>12990</td>\n",
       "      <td>2015</td>\n",
       "      <td>toyota camry</td>\n",
       "      <td>2</td>\n",
       "      <td>4</td>\n",
       "      <td>gas</td>\n",
       "      <td>79212</td>\n",
       "      <td>automatic</td>\n",
       "      <td>sedan</td>\n",
       "      <td>white</td>\n",
       "      <td>False</td>\n",
       "      <td>2018-12-27</td>\n",
       "      <td>73</td>\n",
       "      <td>2018-12-27</td>\n",
       "      <td>4</td>\n",
       "      <td>19803</td>\n",
       "    </tr>\n",
       "    <tr>\n",
       "      <th>11</th>\n",
       "      <td>8990</td>\n",
       "      <td>2012</td>\n",
       "      <td>honda accord</td>\n",
       "      <td>2</td>\n",
       "      <td>4</td>\n",
       "      <td>gas</td>\n",
       "      <td>111142</td>\n",
       "      <td>automatic</td>\n",
       "      <td>sedan</td>\n",
       "      <td>grey</td>\n",
       "      <td>False</td>\n",
       "      <td>2019-03-28</td>\n",
       "      <td>29</td>\n",
       "      <td>2019-03-28</td>\n",
       "      <td>8</td>\n",
       "      <td>13892</td>\n",
       "    </tr>\n",
       "    <tr>\n",
       "      <th>13</th>\n",
       "      <td>16500</td>\n",
       "      <td>2018</td>\n",
       "      <td>hyundai sonata</td>\n",
       "      <td>2</td>\n",
       "      <td>4</td>\n",
       "      <td>gas</td>\n",
       "      <td>22104</td>\n",
       "      <td>automatic</td>\n",
       "      <td>sedan</td>\n",
       "      <td>silver</td>\n",
       "      <td>False</td>\n",
       "      <td>2019-01-14</td>\n",
       "      <td>29</td>\n",
       "      <td>2019-01-14</td>\n",
       "      <td>2</td>\n",
       "      <td>11052</td>\n",
       "    </tr>\n",
       "    <tr>\n",
       "      <th>19</th>\n",
       "      <td>13990</td>\n",
       "      <td>2018</td>\n",
       "      <td>hyundai elantra</td>\n",
       "      <td>2</td>\n",
       "      <td>4</td>\n",
       "      <td>gas</td>\n",
       "      <td>31932</td>\n",
       "      <td>automatic</td>\n",
       "      <td>sedan</td>\n",
       "      <td>red</td>\n",
       "      <td>False</td>\n",
       "      <td>2018-08-25</td>\n",
       "      <td>27</td>\n",
       "      <td>2018-08-25</td>\n",
       "      <td>1</td>\n",
       "      <td>31932</td>\n",
       "    </tr>\n",
       "    <tr>\n",
       "      <th>24</th>\n",
       "      <td>3950</td>\n",
       "      <td>2009</td>\n",
       "      <td>chrysler 200</td>\n",
       "      <td>2</td>\n",
       "      <td>4</td>\n",
       "      <td>gas</td>\n",
       "      <td>104230</td>\n",
       "      <td>automatic</td>\n",
       "      <td>sedan</td>\n",
       "      <td>red</td>\n",
       "      <td>False</td>\n",
       "      <td>2018-06-11</td>\n",
       "      <td>40</td>\n",
       "      <td>2018-06-11</td>\n",
       "      <td>10</td>\n",
       "      <td>10423</td>\n",
       "    </tr>\n",
       "    <tr>\n",
       "      <th>25</th>\n",
       "      <td>11499</td>\n",
       "      <td>2017</td>\n",
       "      <td>chevrolet malibu</td>\n",
       "      <td>1</td>\n",
       "      <td>4</td>\n",
       "      <td>gas</td>\n",
       "      <td>72982</td>\n",
       "      <td>automatic</td>\n",
       "      <td>sedan</td>\n",
       "      <td>unknown</td>\n",
       "      <td>False</td>\n",
       "      <td>2018-07-26</td>\n",
       "      <td>43</td>\n",
       "      <td>2018-07-26</td>\n",
       "      <td>2</td>\n",
       "      <td>36491</td>\n",
       "    </tr>\n",
       "    <tr>\n",
       "      <th>26</th>\n",
       "      <td>8499</td>\n",
       "      <td>2014</td>\n",
       "      <td>ford fusion se</td>\n",
       "      <td>1</td>\n",
       "      <td>4</td>\n",
       "      <td>gas</td>\n",
       "      <td>79523</td>\n",
       "      <td>automatic</td>\n",
       "      <td>sedan</td>\n",
       "      <td>red</td>\n",
       "      <td>False</td>\n",
       "      <td>2018-10-25</td>\n",
       "      <td>23</td>\n",
       "      <td>2018-10-25</td>\n",
       "      <td>5</td>\n",
       "      <td>15904</td>\n",
       "    </tr>\n",
       "  </tbody>\n",
       "</table>\n",
       "</div>"
      ],
      "text/plain": [
       "    price  model_year             model  condition  cylinders fuel  odometer  \\\n",
       "2    5500        2013    hyundai sonata          1          4  gas    110000   \n",
       "4   14900        2017      chrysler 200          2          4  gas     80903   \n",
       "5   14990        2014      chrysler 300          2          6  gas     57954   \n",
       "6   12990        2015      toyota camry          2          4  gas     79212   \n",
       "11   8990        2012      honda accord          2          4  gas    111142   \n",
       "13  16500        2018    hyundai sonata          2          4  gas     22104   \n",
       "19  13990        2018   hyundai elantra          2          4  gas     31932   \n",
       "24   3950        2009      chrysler 200          2          4  gas    104230   \n",
       "25  11499        2017  chevrolet malibu          1          4  gas     72982   \n",
       "26   8499        2014    ford fusion se          1          4  gas     79523   \n",
       "\n",
       "   transmission   type paint_color  is_4wd date_posted  days_listed  \\\n",
       "2     automatic  sedan         red   False  2019-02-07           79   \n",
       "4     automatic  sedan       black   False  2019-04-02           28   \n",
       "5     automatic  sedan       black    True  2018-06-20           15   \n",
       "6     automatic  sedan       white   False  2018-12-27           73   \n",
       "11    automatic  sedan        grey   False  2019-03-28           29   \n",
       "13    automatic  sedan      silver   False  2019-01-14           29   \n",
       "19    automatic  sedan         red   False  2018-08-25           27   \n",
       "24    automatic  sedan         red   False  2018-06-11           40   \n",
       "25    automatic  sedan     unknown   False  2018-07-26           43   \n",
       "26    automatic  sedan         red   False  2018-10-25           23   \n",
       "\n",
       "   date_posted_datetime  vehicle_age  mileage_per_year  \n",
       "2            2019-02-07            7             15714  \n",
       "4            2019-04-02            3             26967  \n",
       "5            2018-06-20            5             11590  \n",
       "6            2018-12-27            4             19803  \n",
       "11           2019-03-28            8             13892  \n",
       "13           2019-01-14            2             11052  \n",
       "19           2018-08-25            1             31932  \n",
       "24           2018-06-11           10             10423  \n",
       "25           2018-07-26            2             36491  \n",
       "26           2018-10-25            5             15904  "
      ]
     },
     "metadata": {},
     "output_type": "display_data"
    }
   ],
   "source": [
    "sedan_df=updated_df[updated_df['type']=='sedan']\n",
    "display(sedan_df.head(10))"
   ]
  },
  {
   "cell_type": "markdown",
   "metadata": {},
   "source": [
    "SUV - categorical and numeric data analysis "
   ]
  },
  {
   "cell_type": "code",
   "execution_count": 49,
   "metadata": {},
   "outputs": [
    {
     "data": {
      "image/png": "[encoded data removed]",
      "text/plain": [
       "<Figure size 432x288 with 1 Axes>"
      ]
     },
     "metadata": {
      "needs_background": "light"
     },
     "output_type": "display_data"
    }
   ],
   "source": [
    "plt.xlabel(\"Vehicle age\")\n",
    "plt.ylabel(\"Price\")\n",
    "plt.scatter(SUV_df['vehicle_age'],SUV_df['price'])\n",
    "plt.show()"
   ]
  },
  {
   "cell_type": "markdown",
   "metadata": {},
   "source": [
    "we see that as the 'vehicle_age' increases , 'price' reduces.."
   ]
  },
  {
   "cell_type": "code",
   "execution_count": 50,
   "metadata": {},
   "outputs": [
    {
     "data": {
      "image/png": "[encoded data removed]",
      "text/plain": [
       "<Figure size 432x288 with 1 Axes>"
      ]
     },
     "metadata": {
      "needs_background": "light"
     },
     "output_type": "display_data"
    }
   ],
   "source": [
    "plt.xlabel(\"mileage\")\n",
    "plt.ylabel(\"Price\")\n",
    "plt.scatter(SUV_df['mileage_per_year'],SUV_df['price'])\n",
    "plt.show()"
   ]
  },
  {
   "cell_type": "markdown",
   "metadata": {},
   "source": [
    "As mileage increases ,price reduces though not very significantly.."
   ]
  },
  {
   "cell_type": "code",
   "execution_count": 51,
   "metadata": {},
   "outputs": [
    {
     "data": {
      "text/html": [
       "<div>\n",
       "<style scoped>\n",
       "    .dataframe tbody tr th:only-of-type {\n",
       "        vertical-align: middle;\n",
       "    }\n",
       "\n",
       "    .dataframe tbody tr th {\n",
       "        vertical-align: top;\n",
       "    }\n",
       "\n",
       "    .dataframe thead th {\n",
       "        text-align: right;\n",
       "    }\n",
       "</style>\n",
       "<table border=\"1\" class=\"dataframe\">\n",
       "  <thead>\n",
       "    <tr style=\"text-align: right;\">\n",
       "      <th></th>\n",
       "      <th>price</th>\n",
       "    </tr>\n",
       "    <tr>\n",
       "      <th>condition</th>\n",
       "      <th></th>\n",
       "    </tr>\n",
       "  </thead>\n",
       "  <tbody>\n",
       "    <tr>\n",
       "      <th>1</th>\n",
       "      <td>12995</td>\n",
       "    </tr>\n",
       "    <tr>\n",
       "      <th>2</th>\n",
       "      <td>9950</td>\n",
       "    </tr>\n",
       "    <tr>\n",
       "      <th>3</th>\n",
       "      <td>6995</td>\n",
       "    </tr>\n",
       "    <tr>\n",
       "      <th>4</th>\n",
       "      <td>2225</td>\n",
       "    </tr>\n",
       "  </tbody>\n",
       "</table>\n",
       "</div>"
      ],
      "text/plain": [
       "           price\n",
       "condition       \n",
       "1          12995\n",
       "2           9950\n",
       "3           6995\n",
       "4           2225"
      ]
     },
     "metadata": {},
     "output_type": "display_data"
    }
   ],
   "source": [
    "price_for_condition_SUV=SUV_df.pivot_table(index='condition' ,values='price' ,aggfunc='median')\n",
    "display(price_for_condition_SUV)\n",
    "price_for_condition_SUV.reset_index(inplace=True)"
   ]
  },
  {
   "cell_type": "code",
   "execution_count": 52,
   "metadata": {},
   "outputs": [
    {
     "data": {
      "image/png": "[encoded data removed]",
      "text/plain": [
       "<Figure size 432x288 with 1 Axes>"
      ]
     },
     "metadata": {
      "needs_background": "light"
     },
     "output_type": "display_data"
    }
   ],
   "source": [
    "plt.xlabel(\"Condition of vehicle\")\n",
    "plt.ylabel(\"Median Price\")\n",
    "plt.bar(price_for_condition_SUV['condition'],price_for_condition_SUV['price'])\n",
    "plt.show()"
   ]
  },
  {
   "cell_type": "markdown",
   "metadata": {},
   "source": [
    "From the above plot , we see that with the better condition ,price increases."
   ]
  },
  {
   "cell_type": "code",
   "execution_count": 53,
   "metadata": {},
   "outputs": [
    {
     "data": {
      "image/png": "[encoded data removed]",
      "text/plain": [
       "<Figure size 432x288 with 1 Axes>"
      ]
     },
     "metadata": {
      "needs_background": "light"
     },
     "output_type": "display_data"
    },
    {
     "name": "stdout",
     "output_type": "stream",
     "text": [
      "automatic    11095\n",
      "manual         454\n",
      "other          154\n",
      "Name: transmission, dtype: int64\n"
     ]
    }
   ],
   "source": [
    "#transmission type\n",
    "\n",
    "plot_data=SUV_df[['transmission','price']]\n",
    "plot_data.boxplot(by='transmission')\n",
    "plt.show()\n",
    "#check if categories have atleast 50 ads.\n",
    "print(SUV_df['transmission'].value_counts())\n"
   ]
  },
  {
   "cell_type": "code",
   "execution_count": 54,
   "metadata": {},
   "outputs": [
    {
     "name": "stdout",
     "output_type": "stream",
     "text": [
      "unknown    2103\n",
      "black      2059\n",
      "white      1833\n",
      "silver     1510\n",
      "grey       1117\n",
      "blue        993\n",
      "red         857\n",
      "green       412\n",
      "brown       362\n",
      "custom      296\n",
      "orange       78\n",
      "yellow       44\n",
      "purple       39\n",
      "Name: paint_color, dtype: int64\n"
     ]
    },
    {
     "data": {
      "image/png": "[encoded data removed]",
      "text/plain": [
       "<Figure size 720x720 with 1 Axes>"
      ]
     },
     "metadata": {
      "needs_background": "light"
     },
     "output_type": "display_data"
    }
   ],
   "source": [
    "#check if categories have atleast 50 ads.\n",
    "print(SUV_df['paint_color'].value_counts())\n",
    "\n",
    "plot_data=SUV_df[['paint_color','price']]\n",
    "#'yellow' and 'orange' paint_color has less than 50 ads.\n",
    "plot_data=plot_data[(plot_data['paint_color']!='yellow')& (plot_data['paint_color']!='orange')]\n",
    "plot_data.boxplot(by='paint_color' ,figsize=(10,10))\n",
    "\n",
    "plt.show()\n",
    "\n",
    "\n",
    "\n"
   ]
  },
  {
   "cell_type": "code",
   "execution_count": 55,
   "metadata": {},
   "outputs": [
    {
     "data": {
      "text/html": [
       "<div>\n",
       "<style scoped>\n",
       "    .dataframe tbody tr th:only-of-type {\n",
       "        vertical-align: middle;\n",
       "    }\n",
       "\n",
       "    .dataframe tbody tr th {\n",
       "        vertical-align: top;\n",
       "    }\n",
       "\n",
       "    .dataframe thead th {\n",
       "        text-align: right;\n",
       "    }\n",
       "</style>\n",
       "<table border=\"1\" class=\"dataframe\">\n",
       "  <thead>\n",
       "    <tr style=\"text-align: right;\">\n",
       "      <th></th>\n",
       "      <th>price</th>\n",
       "      <th>vehicle_age</th>\n",
       "      <th>mileage_per_year</th>\n",
       "    </tr>\n",
       "  </thead>\n",
       "  <tbody>\n",
       "    <tr>\n",
       "      <th>price</th>\n",
       "      <td>1.000000</td>\n",
       "      <td>-0.577141</td>\n",
       "      <td>0.207666</td>\n",
       "    </tr>\n",
       "    <tr>\n",
       "      <th>vehicle_age</th>\n",
       "      <td>-0.577141</td>\n",
       "      <td>1.000000</td>\n",
       "      <td>-0.527566</td>\n",
       "    </tr>\n",
       "    <tr>\n",
       "      <th>mileage_per_year</th>\n",
       "      <td>0.207666</td>\n",
       "      <td>-0.527566</td>\n",
       "      <td>1.000000</td>\n",
       "    </tr>\n",
       "  </tbody>\n",
       "</table>\n",
       "</div>"
      ],
      "text/plain": [
       "                     price  vehicle_age  mileage_per_year\n",
       "price             1.000000    -0.577141          0.207666\n",
       "vehicle_age      -0.577141     1.000000         -0.527566\n",
       "mileage_per_year  0.207666    -0.527566          1.000000"
      ]
     },
     "metadata": {},
     "output_type": "display_data"
    }
   ],
   "source": [
    "SUV_corr_df=SUV_df[['price','vehicle_age','mileage_per_year']]\n",
    "display(SUV_corr_df.corr())"
   ]
  },
  {
   "cell_type": "markdown",
   "metadata": {},
   "source": [
    "we see that price is negatively correated with age.The older the vehicle ,lesser the price.\n",
    "We dont see much correlation with mileage.\n",
    "With the condition of car being around 2-4,the price is more.\n",
    "Suvs show slight increase in manual transmission with 'black' and 'white' paint colors having incresed price."
   ]
  },
  {
   "cell_type": "markdown",
   "metadata": {},
   "source": [
    "Sedan - numeric and categorical values analysis"
   ]
  },
  {
   "cell_type": "code",
   "execution_count": 56,
   "metadata": {},
   "outputs": [
    {
     "data": {
      "image/png": "[encoded data removed]",
      "text/plain": [
       "<Figure size 432x288 with 1 Axes>"
      ]
     },
     "metadata": {
      "needs_background": "light"
     },
     "output_type": "display_data"
    }
   ],
   "source": [
    "plt.xlabel(\"vehicle age\")\n",
    "plt.ylabel(\"price\")\n",
    "plt.scatter(sedan_df['vehicle_age'],sedan_df['price'])\n",
    "plt.show()"
   ]
  },
  {
   "cell_type": "code",
   "execution_count": 57,
   "metadata": {},
   "outputs": [
    {
     "data": {
      "image/png": "[encoded data removed]",
      "text/plain": [
       "<Figure size 432x288 with 1 Axes>"
      ]
     },
     "metadata": {
      "needs_background": "light"
     },
     "output_type": "display_data"
    }
   ],
   "source": [
    "plt.xlabel(\"mileage\")\n",
    "plt.ylabel(\"price\")\n",
    "plt.scatter(sedan_df['mileage_per_year'],sedan_df['price'])\n",
    "plt.show()"
   ]
  },
  {
   "cell_type": "code",
   "execution_count": 58,
   "metadata": {},
   "outputs": [
    {
     "data": {
      "text/html": [
       "<div>\n",
       "<style scoped>\n",
       "    .dataframe tbody tr th:only-of-type {\n",
       "        vertical-align: middle;\n",
       "    }\n",
       "\n",
       "    .dataframe tbody tr th {\n",
       "        vertical-align: top;\n",
       "    }\n",
       "\n",
       "    .dataframe thead th {\n",
       "        text-align: right;\n",
       "    }\n",
       "</style>\n",
       "<table border=\"1\" class=\"dataframe\">\n",
       "  <thead>\n",
       "    <tr style=\"text-align: right;\">\n",
       "      <th></th>\n",
       "      <th>price</th>\n",
       "    </tr>\n",
       "    <tr>\n",
       "      <th>condition</th>\n",
       "      <th></th>\n",
       "    </tr>\n",
       "  </thead>\n",
       "  <tbody>\n",
       "    <tr>\n",
       "      <th>1</th>\n",
       "      <td>7995</td>\n",
       "    </tr>\n",
       "    <tr>\n",
       "      <th>2</th>\n",
       "      <td>6800</td>\n",
       "    </tr>\n",
       "    <tr>\n",
       "      <th>3</th>\n",
       "      <td>4995</td>\n",
       "    </tr>\n",
       "    <tr>\n",
       "      <th>4</th>\n",
       "      <td>1500</td>\n",
       "    </tr>\n",
       "  </tbody>\n",
       "</table>\n",
       "</div>"
      ],
      "text/plain": [
       "           price\n",
       "condition       \n",
       "1           7995\n",
       "2           6800\n",
       "3           4995\n",
       "4           1500"
      ]
     },
     "metadata": {},
     "output_type": "display_data"
    }
   ],
   "source": [
    "price_for_condition_sedan=sedan_df.pivot_table(index='condition' ,values='price' ,aggfunc='median')\n",
    "display(price_for_condition_sedan)\n",
    "price_for_condition_sedan.reset_index(inplace=True)"
   ]
  },
  {
   "cell_type": "code",
   "execution_count": 59,
   "metadata": {},
   "outputs": [
    {
     "data": {
      "image/png": "[encoded data removed]",
      "text/plain": [
       "<Figure size 432x288 with 1 Axes>"
      ]
     },
     "metadata": {
      "needs_background": "light"
     },
     "output_type": "display_data"
    }
   ],
   "source": [
    "plt.xlabel(\"Condition of vehicle\")\n",
    "plt.ylabel(\"Median Price\")\n",
    "plt.bar(price_for_condition_sedan['condition'],price_for_condition_sedan['price'])\n",
    "plt.show()"
   ]
  },
  {
   "cell_type": "code",
   "execution_count": 60,
   "metadata": {},
   "outputs": [
    {
     "name": "stdout",
     "output_type": "stream",
     "text": [
      "automatic    10982\n",
      "manual         571\n",
      "other          122\n",
      "Name: transmission, dtype: int64\n"
     ]
    },
    {
     "data": {
      "image/png": "[encoded data removed]",
      "text/plain": [
       "<Figure size 720x720 with 1 Axes>"
      ]
     },
     "metadata": {
      "needs_background": "light"
     },
     "output_type": "display_data"
    }
   ],
   "source": [
    "#transmission type\n",
    "\n",
    "print(sedan_df['transmission'].value_counts())\n",
    "\n",
    "plot_data=sedan_df[['transmission','price']]\n",
    "plot_data.boxplot(by='transmission' ,figsize=(10,10))\n",
    "\n",
    "plt.show()"
   ]
  },
  {
   "cell_type": "code",
   "execution_count": 61,
   "metadata": {},
   "outputs": [
    {
     "name": "stdout",
     "output_type": "stream",
     "text": [
      "unknown    2097\n",
      "silver     1975\n",
      "black      1703\n",
      "grey       1573\n",
      "white      1431\n",
      "blue       1190\n",
      "red         917\n",
      "custom      278\n",
      "brown       252\n",
      "green       202\n",
      "purple       26\n",
      "yellow       22\n",
      "orange        9\n",
      "Name: paint_color, dtype: int64\n"
     ]
    },
    {
     "data": {
      "image/png": "[encoded data removed]",
      "text/plain": [
       "<Figure size 720x720 with 1 Axes>"
      ]
     },
     "metadata": {
      "needs_background": "light"
     },
     "output_type": "display_data"
    }
   ],
   "source": [
    "print(sedan_df['paint_color'].value_counts())\n",
    "\n",
    "plot_data=sedan_df[['paint_color','price']]\n",
    "plot_data=plot_data[(plot_data['paint_color']!='yellow')& (plot_data['paint_color']!='orange')& (plot_data['paint_color']!='purple')]\n",
    "plot_data.boxplot(by='paint_color' ,figsize=(10,10))\n",
    "plt.show()"
   ]
  },
  {
   "cell_type": "code",
   "execution_count": 62,
   "metadata": {},
   "outputs": [
    {
     "data": {
      "text/html": [
       "<div>\n",
       "<style scoped>\n",
       "    .dataframe tbody tr th:only-of-type {\n",
       "        vertical-align: middle;\n",
       "    }\n",
       "\n",
       "    .dataframe tbody tr th {\n",
       "        vertical-align: top;\n",
       "    }\n",
       "\n",
       "    .dataframe thead th {\n",
       "        text-align: right;\n",
       "    }\n",
       "</style>\n",
       "<table border=\"1\" class=\"dataframe\">\n",
       "  <thead>\n",
       "    <tr style=\"text-align: right;\">\n",
       "      <th></th>\n",
       "      <th>price</th>\n",
       "      <th>vehicle_age</th>\n",
       "      <th>mileage_per_year</th>\n",
       "    </tr>\n",
       "  </thead>\n",
       "  <tbody>\n",
       "    <tr>\n",
       "      <th>price</th>\n",
       "      <td>1.000000</td>\n",
       "      <td>-0.618526</td>\n",
       "      <td>0.164926</td>\n",
       "    </tr>\n",
       "    <tr>\n",
       "      <th>vehicle_age</th>\n",
       "      <td>-0.618526</td>\n",
       "      <td>1.000000</td>\n",
       "      <td>-0.482075</td>\n",
       "    </tr>\n",
       "    <tr>\n",
       "      <th>mileage_per_year</th>\n",
       "      <td>0.164926</td>\n",
       "      <td>-0.482075</td>\n",
       "      <td>1.000000</td>\n",
       "    </tr>\n",
       "  </tbody>\n",
       "</table>\n",
       "</div>"
      ],
      "text/plain": [
       "                     price  vehicle_age  mileage_per_year\n",
       "price             1.000000    -0.618526          0.164926\n",
       "vehicle_age      -0.618526     1.000000         -0.482075\n",
       "mileage_per_year  0.164926    -0.482075          1.000000"
      ]
     },
     "metadata": {},
     "output_type": "display_data"
    }
   ],
   "source": [
    "sedan_corr_df=sedan_df[['price','vehicle_age','mileage_per_year']]\n",
    "display(sedan_corr_df.corr())"
   ]
  },
  {
   "cell_type": "markdown",
   "metadata": {},
   "source": [
    "We see that 'price' reduces with increse in 'vehicle_age'"
   ]
  },
  {
   "cell_type": "markdown",
   "metadata": {},
   "source": [
    "Observing the data in sedan dataset , we see similarity with that of SUV.\n",
    "The 'automatic' transmission increases the price of vehicle in this case.\n",
    "vehicle age reduces the price.\n",
    "mileage does not show a significant correlation with price.\n"
   ]
  },
  {
   "cell_type": "markdown",
   "metadata": {},
   "source": [
    "## General conclusion\n",
    "\n",
    "\n",
    "When viewed initially using info() , we see some missing values in few columns like  'odometer','paint_color','model_year' and 'cylinders' and 'is_4wd'.\n",
    "\n",
    "'is_4wd' could have missing values as they were boolean false (not 4wd).So we safely assume \n",
    "their missing values as 0.\n",
    "\n",
    "Some data types were 'float' which were then converted  to more appropriate 'int' type'odometer','paint_color','model_year' and 'cylinders'\n",
    "\n",
    "Tesing for duplicates revealed that the dataset is free of duplicates.\n",
    "\n",
    "We came across some rows with just 1 as price which is totally wrong.We replaced all 1s with  the least value that appears frequently and which doesnot impact the dataset.\n",
    "\n",
    "To work on outliers , we used histogram to visualize each core parameter and also used IQR to\n",
    "calculate upper and lower limits.\n",
    "By comparing these two results , we came up with outlier range.\n",
    "\n",
    "We visualized the same data set after removing outliers.\n",
    "\n",
    "Analyzing the number of ads and the average price for each type of vehicle we plot a graph showing the dependence of the number of ads on the vehicle type. We found that the 'SUV' and 'truck' are the two types with the greatest number of ads.\n",
    "\n",
    "\n",
    "Plotting the important parameters like 'price','vehicle_age','mileage_per_year' shows negative correlation between 'vehicle_age' and 'price' proving our hypothesis.\n",
    "Also we see that 'mileage_per_year' and 'condition' also affects the 'price'. \n",
    "\n",
    "\n",
    "\n",
    "\n",
    "\n",
    "\n",
    "\n",
    "\n",
    "\n",
    "\n",
    "\n",
    "\n",
    "\n",
    "\n",
    "\n",
    "\n",
    "\n",
    "\n",
    "\n",
    "\n",
    "\n",
    "\n",
    "\n",
    "\n",
    "\n",
    "\n"
   ]
  }
 ],
 "metadata": {
  "ExecuteTimeLog": [
   {
    "duration": 828,
    "start_time": "2021-11-16T09:21:11.304Z"
   },
   {
    "duration": 893,
    "start_time": "2021-11-16T09:21:17.728Z"
   },
   {
    "duration": 1150,
    "start_time": "2021-11-16T09:21:29.568Z"
   },
   {
    "duration": 3,
    "start_time": "2021-11-16T09:24:14.495Z"
   },
   {
    "duration": 120,
    "start_time": "2021-11-16T09:24:46.630Z"
   },
   {
    "duration": 3,
    "start_time": "2021-11-16T09:28:27.882Z"
   },
   {
    "duration": 4,
    "start_time": "2021-11-16T09:29:54.281Z"
   },
   {
    "duration": 3,
    "start_time": "2021-11-16T09:30:45.936Z"
   },
   {
    "duration": 4,
    "start_time": "2021-11-16T09:31:06.300Z"
   },
   {
    "duration": 113,
    "start_time": "2021-11-16T09:31:37.208Z"
   },
   {
    "duration": 143,
    "start_time": "2021-11-16T09:31:48.656Z"
   },
   {
    "duration": 98,
    "start_time": "2021-11-16T09:31:55.678Z"
   },
   {
    "duration": 3,
    "start_time": "2021-11-16T09:32:08.535Z"
   },
   {
    "duration": 111,
    "start_time": "2021-11-16T09:32:10.120Z"
   },
   {
    "duration": 3,
    "start_time": "2021-11-16T09:32:15.732Z"
   },
   {
    "duration": 4,
    "start_time": "2021-11-16T09:32:29.423Z"
   },
   {
    "duration": 3,
    "start_time": "2021-11-16T10:03:03.074Z"
   },
   {
    "duration": 3,
    "start_time": "2021-11-16T10:10:01.288Z"
   },
   {
    "duration": 3,
    "start_time": "2021-11-16T10:10:46.923Z"
   },
   {
    "duration": 121,
    "start_time": "2021-11-16T10:37:46.494Z"
   },
   {
    "duration": 125,
    "start_time": "2021-11-16T10:38:20.632Z"
   },
   {
    "duration": 112,
    "start_time": "2021-11-16T10:46:53.001Z"
   },
   {
    "duration": 110,
    "start_time": "2021-11-16T10:48:25.775Z"
   },
   {
    "duration": 3,
    "start_time": "2021-11-16T10:50:18.720Z"
   },
   {
    "duration": 4,
    "start_time": "2021-11-16T10:50:37.649Z"
   },
   {
    "duration": 2,
    "start_time": "2021-11-16T10:50:51.884Z"
   },
   {
    "duration": 3,
    "start_time": "2021-11-16T10:51:56.237Z"
   },
   {
    "duration": 101,
    "start_time": "2021-11-16T10:53:13.791Z"
   },
   {
    "duration": 3,
    "start_time": "2021-11-16T10:55:59.186Z"
   },
   {
    "duration": 3,
    "start_time": "2021-11-16T10:56:10.751Z"
   },
   {
    "duration": 3,
    "start_time": "2021-11-16T10:56:49.038Z"
   },
   {
    "duration": 3,
    "start_time": "2021-11-16T10:56:49.174Z"
   },
   {
    "duration": 4,
    "start_time": "2021-11-16T10:56:49.414Z"
   },
   {
    "duration": 3,
    "start_time": "2021-11-16T10:56:49.680Z"
   },
   {
    "duration": 3,
    "start_time": "2021-11-16T10:56:50.370Z"
   },
   {
    "duration": 114,
    "start_time": "2021-11-16T10:59:34.518Z"
   },
   {
    "duration": 3,
    "start_time": "2021-11-16T11:01:41.201Z"
   },
   {
    "duration": 116,
    "start_time": "2021-11-16T11:01:48.754Z"
   },
   {
    "duration": 3,
    "start_time": "2021-11-16T11:02:16.685Z"
   },
   {
    "duration": 3,
    "start_time": "2021-11-16T11:02:19.479Z"
   },
   {
    "duration": 3,
    "start_time": "2021-11-16T11:02:47.067Z"
   },
   {
    "duration": 3,
    "start_time": "2021-11-16T11:02:49.353Z"
   },
   {
    "duration": 3,
    "start_time": "2021-11-16T11:03:07.835Z"
   },
   {
    "duration": 3,
    "start_time": "2021-11-16T11:03:07.953Z"
   },
   {
    "duration": 112,
    "start_time": "2021-11-16T11:07:52.072Z"
   },
   {
    "duration": 187,
    "start_time": "2021-11-16T11:09:23.468Z"
   },
   {
    "duration": 4,
    "start_time": "2021-11-16T11:10:01.455Z"
   },
   {
    "duration": 3,
    "start_time": "2021-11-16T11:10:05.069Z"
   },
   {
    "duration": 4,
    "start_time": "2021-11-16T11:10:13.376Z"
   },
   {
    "duration": 3,
    "start_time": "2021-11-16T11:10:14.434Z"
   },
   {
    "duration": 3,
    "start_time": "2021-11-16T11:10:22.853Z"
   },
   {
    "duration": 4,
    "start_time": "2021-11-16T11:27:29.279Z"
   },
   {
    "duration": 4,
    "start_time": "2021-11-16T11:29:08.919Z"
   },
   {
    "duration": 118,
    "start_time": "2021-11-16T11:29:46.703Z"
   },
   {
    "duration": 437,
    "start_time": "2021-11-16T11:36:02.181Z"
   },
   {
    "duration": 157,
    "start_time": "2021-11-16T11:36:14.388Z"
   },
   {
    "duration": 207,
    "start_time": "2021-11-16T11:47:15.898Z"
   },
   {
    "duration": 3,
    "start_time": "2021-11-16T11:53:52.092Z"
   },
   {
    "duration": 3,
    "start_time": "2021-11-16T11:53:52.236Z"
   },
   {
    "duration": 3,
    "start_time": "2021-11-16T11:59:12.005Z"
   },
   {
    "duration": 112,
    "start_time": "2021-11-16T12:00:33.446Z"
   },
   {
    "duration": 3,
    "start_time": "2021-11-16T12:02:14.453Z"
   },
   {
    "duration": 3,
    "start_time": "2021-11-16T12:02:39.512Z"
   },
   {
    "duration": 106,
    "start_time": "2021-11-16T12:03:03.460Z"
   },
   {
    "duration": 589,
    "start_time": "2021-12-05T05:35:45.409Z"
   },
   {
    "duration": 86,
    "start_time": "2021-12-05T05:35:50.324Z"
   },
   {
    "duration": 19,
    "start_time": "2021-12-05T05:36:13.341Z"
   },
   {
    "duration": 10,
    "start_time": "2021-12-05T05:37:36.985Z"
   },
   {
    "duration": 306,
    "start_time": "2021-12-05T05:55:26.018Z"
   },
   {
    "duration": 102,
    "start_time": "2021-12-05T06:18:36.638Z"
   },
   {
    "duration": 353,
    "start_time": "2021-12-05T14:48:46.203Z"
   },
   {
    "duration": 570,
    "start_time": "2021-12-05T14:48:52.567Z"
   },
   {
    "duration": 78,
    "start_time": "2021-12-05T14:48:53.138Z"
   },
   {
    "duration": 17,
    "start_time": "2021-12-05T14:48:53.218Z"
   },
   {
    "duration": 8,
    "start_time": "2021-12-05T14:48:53.236Z"
   },
   {
    "duration": 13,
    "start_time": "2021-12-05T14:48:53.245Z"
   },
   {
    "duration": 13,
    "start_time": "2021-12-05T14:51:40.721Z"
   },
   {
    "duration": 13,
    "start_time": "2021-12-05T14:53:05.934Z"
   },
   {
    "duration": 15,
    "start_time": "2021-12-05T14:54:05.314Z"
   },
   {
    "duration": 14,
    "start_time": "2021-12-05T14:54:33.622Z"
   },
   {
    "duration": 12,
    "start_time": "2021-12-05T14:59:50.127Z"
   },
   {
    "duration": 12,
    "start_time": "2021-12-05T15:01:15.291Z"
   },
   {
    "duration": 12,
    "start_time": "2021-12-05T15:01:29.219Z"
   },
   {
    "duration": 9,
    "start_time": "2021-12-05T15:02:02.667Z"
   },
   {
    "duration": 12,
    "start_time": "2021-12-05T15:03:00.228Z"
   },
   {
    "duration": 12,
    "start_time": "2021-12-05T15:03:34.011Z"
   },
   {
    "duration": 14,
    "start_time": "2021-12-05T15:04:32.260Z"
   },
   {
    "duration": 14,
    "start_time": "2021-12-05T15:05:18.209Z"
   },
   {
    "duration": 15,
    "start_time": "2021-12-05T15:06:02.724Z"
   },
   {
    "duration": 12,
    "start_time": "2021-12-05T15:06:44.755Z"
   },
   {
    "duration": 13,
    "start_time": "2021-12-05T15:07:53.479Z"
   },
   {
    "duration": 79,
    "start_time": "2021-12-05T15:09:47.199Z"
   },
   {
    "duration": 11,
    "start_time": "2021-12-05T15:10:47.448Z"
   },
   {
    "duration": 15,
    "start_time": "2021-12-05T15:11:33.603Z"
   },
   {
    "duration": 15,
    "start_time": "2021-12-05T15:12:00.157Z"
   },
   {
    "duration": 17,
    "start_time": "2021-12-05T15:12:29.603Z"
   },
   {
    "duration": 16,
    "start_time": "2021-12-05T15:13:20.914Z"
   },
   {
    "duration": 374,
    "start_time": "2021-12-05T16:21:56.535Z"
   },
   {
    "duration": 12,
    "start_time": "2021-12-05T16:22:17.429Z"
   },
   {
    "duration": 12,
    "start_time": "2021-12-05T16:22:51.358Z"
   },
   {
    "duration": 15,
    "start_time": "2021-12-05T16:23:31.129Z"
   },
   {
    "duration": 14,
    "start_time": "2021-12-05T16:23:51.726Z"
   },
   {
    "duration": 5,
    "start_time": "2021-12-05T16:26:13.853Z"
   },
   {
    "duration": 235,
    "start_time": "2021-12-05T16:34:22.868Z"
   },
   {
    "duration": 18095,
    "start_time": "2021-12-05T16:34:34.113Z"
   },
   {
    "duration": 18722,
    "start_time": "2021-12-05T16:35:01.742Z"
   },
   {
    "duration": 2,
    "start_time": "2021-12-05T17:53:38.970Z"
   },
   {
    "duration": 85,
    "start_time": "2021-12-05T17:53:38.975Z"
   },
   {
    "duration": 19,
    "start_time": "2021-12-05T17:53:39.062Z"
   },
   {
    "duration": 8,
    "start_time": "2021-12-05T17:53:39.088Z"
   },
   {
    "duration": 13,
    "start_time": "2021-12-05T17:53:39.098Z"
   },
   {
    "duration": 13,
    "start_time": "2021-12-05T17:53:39.112Z"
   },
   {
    "duration": 12,
    "start_time": "2021-12-05T17:53:39.127Z"
   },
   {
    "duration": 47,
    "start_time": "2021-12-05T17:53:39.141Z"
   },
   {
    "duration": 17,
    "start_time": "2021-12-05T17:53:39.190Z"
   },
   {
    "duration": 6,
    "start_time": "2021-12-05T17:53:39.209Z"
   },
   {
    "duration": 4,
    "start_time": "2021-12-05T18:04:35.506Z"
   },
   {
    "duration": 73,
    "start_time": "2021-12-05T18:04:39.787Z"
   },
   {
    "duration": 18,
    "start_time": "2021-12-05T18:04:46.658Z"
   },
   {
    "duration": 9,
    "start_time": "2021-12-05T18:04:50.293Z"
   },
   {
    "duration": 13,
    "start_time": "2021-12-05T18:04:55.922Z"
   },
   {
    "duration": 15,
    "start_time": "2021-12-05T18:05:15.361Z"
   },
   {
    "duration": 4,
    "start_time": "2021-12-05T18:05:20.671Z"
   },
   {
    "duration": 3,
    "start_time": "2021-12-05T18:50:36.443Z"
   },
   {
    "duration": 79,
    "start_time": "2021-12-05T18:50:36.451Z"
   },
   {
    "duration": 17,
    "start_time": "2021-12-05T18:50:36.532Z"
   },
   {
    "duration": 9,
    "start_time": "2021-12-05T18:50:36.550Z"
   },
   {
    "duration": 27,
    "start_time": "2021-12-05T18:50:36.561Z"
   },
   {
    "duration": 12,
    "start_time": "2021-12-05T18:50:36.589Z"
   },
   {
    "duration": 11,
    "start_time": "2021-12-05T18:50:36.602Z"
   },
   {
    "duration": 13,
    "start_time": "2021-12-05T18:50:36.615Z"
   },
   {
    "duration": 13,
    "start_time": "2021-12-05T18:50:36.630Z"
   },
   {
    "duration": 5,
    "start_time": "2021-12-05T18:50:36.644Z"
   },
   {
    "duration": 57,
    "start_time": "2021-12-05T18:50:36.650Z"
   },
   {
    "duration": 2,
    "start_time": "2021-12-05T18:50:36.709Z"
   },
   {
    "duration": 11,
    "start_time": "2021-12-05T18:50:36.712Z"
   },
   {
    "duration": 4,
    "start_time": "2021-12-05T18:50:36.724Z"
   },
   {
    "duration": 5,
    "start_time": "2021-12-05T18:50:36.729Z"
   },
   {
    "duration": 5,
    "start_time": "2021-12-05T18:50:36.735Z"
   },
   {
    "duration": 10,
    "start_time": "2021-12-05T18:50:36.741Z"
   },
   {
    "duration": 4,
    "start_time": "2021-12-05T18:50:36.754Z"
   },
   {
    "duration": 4,
    "start_time": "2021-12-05T18:50:36.760Z"
   },
   {
    "duration": 12,
    "start_time": "2021-12-05T18:50:36.765Z"
   },
   {
    "duration": 8,
    "start_time": "2021-12-05T18:50:36.778Z"
   },
   {
    "duration": 7,
    "start_time": "2021-12-05T18:50:36.788Z"
   },
   {
    "duration": 9,
    "start_time": "2021-12-05T18:50:36.796Z"
   },
   {
    "duration": 8,
    "start_time": "2021-12-05T18:50:36.807Z"
   },
   {
    "duration": 5,
    "start_time": "2021-12-05T18:50:36.817Z"
   },
   {
    "duration": 5,
    "start_time": "2021-12-05T18:50:36.824Z"
   },
   {
    "duration": 9,
    "start_time": "2021-12-05T18:51:21.567Z"
   },
   {
    "duration": 9,
    "start_time": "2021-12-05T18:53:34.275Z"
   },
   {
    "duration": 9,
    "start_time": "2021-12-05T18:54:59.324Z"
   },
   {
    "duration": 2,
    "start_time": "2021-12-05T18:55:54.895Z"
   },
   {
    "duration": 73,
    "start_time": "2021-12-05T18:55:54.901Z"
   },
   {
    "duration": 18,
    "start_time": "2021-12-05T18:55:54.976Z"
   },
   {
    "duration": 16,
    "start_time": "2021-12-05T18:55:54.996Z"
   },
   {
    "duration": 23,
    "start_time": "2021-12-05T18:55:55.014Z"
   },
   {
    "duration": 12,
    "start_time": "2021-12-05T18:55:55.039Z"
   },
   {
    "duration": 10,
    "start_time": "2021-12-05T18:55:55.053Z"
   },
   {
    "duration": 29,
    "start_time": "2021-12-05T18:55:55.064Z"
   },
   {
    "duration": 14,
    "start_time": "2021-12-05T18:55:55.096Z"
   },
   {
    "duration": 6,
    "start_time": "2021-12-05T18:55:55.112Z"
   },
   {
    "duration": 9,
    "start_time": "2021-12-05T18:55:55.119Z"
   },
   {
    "duration": 4,
    "start_time": "2021-12-05T18:55:55.130Z"
   },
   {
    "duration": 20,
    "start_time": "2021-12-05T18:55:55.135Z"
   },
   {
    "duration": 15,
    "start_time": "2021-12-05T18:55:55.157Z"
   },
   {
    "duration": 15,
    "start_time": "2021-12-05T18:55:55.173Z"
   },
   {
    "duration": 25,
    "start_time": "2021-12-05T18:55:55.190Z"
   },
   {
    "duration": 20,
    "start_time": "2021-12-05T18:55:55.216Z"
   },
   {
    "duration": 16,
    "start_time": "2021-12-05T18:55:55.237Z"
   },
   {
    "duration": 18,
    "start_time": "2021-12-05T18:55:55.254Z"
   },
   {
    "duration": 4,
    "start_time": "2021-12-05T18:55:55.273Z"
   },
   {
    "duration": 4,
    "start_time": "2021-12-05T18:55:55.278Z"
   },
   {
    "duration": 5,
    "start_time": "2021-12-05T18:55:55.283Z"
   },
   {
    "duration": 5,
    "start_time": "2021-12-05T18:55:55.289Z"
   },
   {
    "duration": 4,
    "start_time": "2021-12-05T18:55:55.296Z"
   },
   {
    "duration": 5,
    "start_time": "2021-12-05T18:55:55.301Z"
   },
   {
    "duration": 5,
    "start_time": "2021-12-05T18:55:55.307Z"
   },
   {
    "duration": 8,
    "start_time": "2021-12-05T18:58:25.651Z"
   },
   {
    "duration": 9,
    "start_time": "2021-12-05T19:00:33.168Z"
   },
   {
    "duration": 6,
    "start_time": "2021-12-05T19:01:00.654Z"
   },
   {
    "duration": 5,
    "start_time": "2021-12-05T19:01:32.618Z"
   },
   {
    "duration": 5,
    "start_time": "2021-12-05T19:12:12.350Z"
   },
   {
    "duration": 5,
    "start_time": "2021-12-05T19:12:39.986Z"
   },
   {
    "duration": 6,
    "start_time": "2021-12-05T22:47:07.831Z"
   },
   {
    "duration": 7,
    "start_time": "2021-12-05T22:53:16.752Z"
   },
   {
    "duration": 7,
    "start_time": "2021-12-05T22:53:36.020Z"
   },
   {
    "duration": 9,
    "start_time": "2021-12-05T22:55:02.934Z"
   },
   {
    "duration": 10,
    "start_time": "2021-12-05T22:55:49.441Z"
   },
   {
    "duration": 8,
    "start_time": "2021-12-05T23:00:14.009Z"
   },
   {
    "duration": 8,
    "start_time": "2021-12-05T23:00:31.592Z"
   },
   {
    "duration": 9,
    "start_time": "2021-12-05T23:01:36.677Z"
   },
   {
    "duration": 2878,
    "start_time": "2021-12-05T23:03:29.803Z"
   },
   {
    "duration": 1625,
    "start_time": "2021-12-05T23:03:48.365Z"
   },
   {
    "duration": 8,
    "start_time": "2021-12-05T23:05:37.915Z"
   },
   {
    "duration": 8,
    "start_time": "2021-12-05T23:08:53.739Z"
   },
   {
    "duration": 8,
    "start_time": "2021-12-05T23:09:10.700Z"
   },
   {
    "duration": 8,
    "start_time": "2021-12-05T23:09:59.235Z"
   },
   {
    "duration": 8,
    "start_time": "2021-12-05T23:10:20.707Z"
   },
   {
    "duration": 7,
    "start_time": "2021-12-05T23:11:07.742Z"
   },
   {
    "duration": 7,
    "start_time": "2021-12-05T23:13:45.201Z"
   },
   {
    "duration": 9,
    "start_time": "2021-12-05T23:15:53.675Z"
   },
   {
    "duration": 8,
    "start_time": "2021-12-05T23:16:44.091Z"
   },
   {
    "duration": 9,
    "start_time": "2021-12-05T23:17:11.659Z"
   },
   {
    "duration": 8,
    "start_time": "2021-12-05T23:17:24.796Z"
   },
   {
    "duration": 88,
    "start_time": "2021-12-05T23:18:26.922Z"
   },
   {
    "duration": 11,
    "start_time": "2021-12-05T23:19:09.197Z"
   },
   {
    "duration": 13,
    "start_time": "2021-12-05T23:21:20.820Z"
   },
   {
    "duration": 12,
    "start_time": "2021-12-05T23:23:54.311Z"
   },
   {
    "duration": 15,
    "start_time": "2021-12-05T23:24:06.802Z"
   },
   {
    "duration": 89,
    "start_time": "2021-12-05T23:32:30.940Z"
   },
   {
    "duration": 73,
    "start_time": "2021-12-05T23:32:36.413Z"
   },
   {
    "duration": 84,
    "start_time": "2021-12-05T23:32:43.863Z"
   },
   {
    "duration": 15,
    "start_time": "2021-12-05T23:33:04.998Z"
   },
   {
    "duration": 11,
    "start_time": "2021-12-05T23:52:27.143Z"
   },
   {
    "duration": 10,
    "start_time": "2021-12-05T23:52:34.084Z"
   },
   {
    "duration": 12,
    "start_time": "2021-12-05T23:53:00.603Z"
   },
   {
    "duration": 12,
    "start_time": "2021-12-06T00:00:14.389Z"
   },
   {
    "duration": 4,
    "start_time": "2021-12-06T00:05:29.404Z"
   },
   {
    "duration": 3,
    "start_time": "2021-12-06T00:05:35.434Z"
   },
   {
    "duration": 5,
    "start_time": "2021-12-06T00:05:55.471Z"
   },
   {
    "duration": 6,
    "start_time": "2021-12-06T00:07:29.978Z"
   },
   {
    "duration": 6,
    "start_time": "2021-12-06T00:08:47.115Z"
   },
   {
    "duration": 5,
    "start_time": "2021-12-06T00:09:51.214Z"
   },
   {
    "duration": 2,
    "start_time": "2021-12-06T00:10:07.705Z"
   },
   {
    "duration": 119,
    "start_time": "2021-12-06T00:10:07.709Z"
   },
   {
    "duration": 17,
    "start_time": "2021-12-06T00:10:07.830Z"
   },
   {
    "duration": 8,
    "start_time": "2021-12-06T00:10:07.849Z"
   },
   {
    "duration": 13,
    "start_time": "2021-12-06T00:10:07.858Z"
   },
   {
    "duration": 19,
    "start_time": "2021-12-06T00:10:07.872Z"
   },
   {
    "duration": 13,
    "start_time": "2021-12-06T00:10:07.893Z"
   },
   {
    "duration": 11,
    "start_time": "2021-12-06T00:10:07.908Z"
   },
   {
    "duration": 11,
    "start_time": "2021-12-06T00:10:07.921Z"
   },
   {
    "duration": 12,
    "start_time": "2021-12-06T00:10:07.933Z"
   },
   {
    "duration": 46,
    "start_time": "2021-12-06T00:10:07.947Z"
   },
   {
    "duration": 16,
    "start_time": "2021-12-06T00:10:07.994Z"
   },
   {
    "duration": 15,
    "start_time": "2021-12-06T00:10:08.011Z"
   },
   {
    "duration": 4,
    "start_time": "2021-12-06T00:10:08.027Z"
   },
   {
    "duration": 4,
    "start_time": "2021-12-06T00:10:08.033Z"
   },
   {
    "duration": 4,
    "start_time": "2021-12-06T00:10:08.038Z"
   },
   {
    "duration": 5,
    "start_time": "2021-12-06T00:10:08.043Z"
   },
   {
    "duration": 38,
    "start_time": "2021-12-06T00:10:08.050Z"
   },
   {
    "duration": 5,
    "start_time": "2021-12-06T00:10:08.090Z"
   },
   {
    "duration": 3,
    "start_time": "2021-12-06T00:10:08.097Z"
   },
   {
    "duration": 4,
    "start_time": "2021-12-06T00:10:08.102Z"
   },
   {
    "duration": 10,
    "start_time": "2021-12-06T00:10:08.107Z"
   },
   {
    "duration": 5,
    "start_time": "2021-12-06T00:10:08.118Z"
   },
   {
    "duration": 10,
    "start_time": "2021-12-06T00:10:08.125Z"
   },
   {
    "duration": 7,
    "start_time": "2021-12-06T00:10:08.137Z"
   },
   {
    "duration": 4,
    "start_time": "2021-12-06T00:10:08.146Z"
   },
   {
    "duration": 5,
    "start_time": "2021-12-06T00:10:08.151Z"
   },
   {
    "duration": 4,
    "start_time": "2021-12-06T00:10:08.158Z"
   },
   {
    "duration": 5,
    "start_time": "2021-12-06T00:10:08.163Z"
   },
   {
    "duration": 7,
    "start_time": "2021-12-06T00:10:08.170Z"
   },
   {
    "duration": 8,
    "start_time": "2021-12-06T00:10:08.178Z"
   },
   {
    "duration": 5,
    "start_time": "2021-12-06T00:10:08.188Z"
   },
   {
    "duration": 3,
    "start_time": "2021-12-06T00:10:08.195Z"
   },
   {
    "duration": 4,
    "start_time": "2021-12-06T00:10:08.200Z"
   },
   {
    "duration": 3,
    "start_time": "2021-12-06T00:10:25.444Z"
   },
   {
    "duration": 79,
    "start_time": "2021-12-06T00:10:25.453Z"
   },
   {
    "duration": 19,
    "start_time": "2021-12-06T00:10:25.534Z"
   },
   {
    "duration": 8,
    "start_time": "2021-12-06T00:10:25.555Z"
   },
   {
    "duration": 29,
    "start_time": "2021-12-06T00:10:25.565Z"
   },
   {
    "duration": 9,
    "start_time": "2021-12-06T00:10:25.596Z"
   },
   {
    "duration": 13,
    "start_time": "2021-12-06T00:10:25.607Z"
   },
   {
    "duration": 12,
    "start_time": "2021-12-06T00:10:25.622Z"
   },
   {
    "duration": 13,
    "start_time": "2021-12-06T00:10:25.635Z"
   },
   {
    "duration": 50,
    "start_time": "2021-12-06T00:10:25.650Z"
   },
   {
    "duration": 17,
    "start_time": "2021-12-06T00:10:25.701Z"
   },
   {
    "duration": 17,
    "start_time": "2021-12-06T00:10:25.719Z"
   },
   {
    "duration": 52,
    "start_time": "2021-12-06T00:10:25.738Z"
   },
   {
    "duration": 6,
    "start_time": "2021-12-06T00:10:25.793Z"
   },
   {
    "duration": 6,
    "start_time": "2021-12-06T00:10:25.800Z"
   },
   {
    "duration": 5,
    "start_time": "2021-12-06T00:10:25.808Z"
   },
   {
    "duration": 5,
    "start_time": "2021-12-06T00:10:25.815Z"
   },
   {
    "duration": 5,
    "start_time": "2021-12-06T00:10:25.821Z"
   },
   {
    "duration": 5,
    "start_time": "2021-12-06T00:10:25.828Z"
   },
   {
    "duration": 2,
    "start_time": "2021-12-06T00:10:25.835Z"
   },
   {
    "duration": 50,
    "start_time": "2021-12-06T00:10:25.839Z"
   },
   {
    "duration": 3,
    "start_time": "2021-12-06T00:10:25.892Z"
   },
   {
    "duration": 4,
    "start_time": "2021-12-06T00:10:25.897Z"
   },
   {
    "duration": 4,
    "start_time": "2021-12-06T00:10:25.902Z"
   },
   {
    "duration": 4,
    "start_time": "2021-12-06T00:10:25.908Z"
   },
   {
    "duration": 4,
    "start_time": "2021-12-06T00:10:25.914Z"
   },
   {
    "duration": 5,
    "start_time": "2021-12-06T00:10:25.919Z"
   },
   {
    "duration": 4,
    "start_time": "2021-12-06T00:10:25.925Z"
   },
   {
    "duration": 9,
    "start_time": "2021-12-06T00:10:25.930Z"
   },
   {
    "duration": 4,
    "start_time": "2021-12-06T00:10:25.941Z"
   },
   {
    "duration": 8,
    "start_time": "2021-12-06T00:10:25.946Z"
   },
   {
    "duration": 5,
    "start_time": "2021-12-06T00:10:25.955Z"
   },
   {
    "duration": 6,
    "start_time": "2021-12-06T00:10:25.961Z"
   },
   {
    "duration": 5,
    "start_time": "2021-12-06T00:10:25.969Z"
   },
   {
    "duration": 3,
    "start_time": "2021-12-06T00:13:03.695Z"
   },
   {
    "duration": 5799,
    "start_time": "2021-12-06T00:14:27.912Z"
   },
   {
    "duration": 2316,
    "start_time": "2021-12-06T00:19:19.653Z"
   },
   {
    "duration": 3,
    "start_time": "2021-12-06T05:07:36.461Z"
   },
   {
    "duration": 74,
    "start_time": "2021-12-06T05:07:36.470Z"
   },
   {
    "duration": 17,
    "start_time": "2021-12-06T05:07:36.545Z"
   },
   {
    "duration": 25,
    "start_time": "2021-12-06T05:07:36.564Z"
   },
   {
    "duration": 13,
    "start_time": "2021-12-06T05:07:36.590Z"
   },
   {
    "duration": 8,
    "start_time": "2021-12-06T05:07:36.604Z"
   },
   {
    "duration": 12,
    "start_time": "2021-12-06T05:07:36.614Z"
   },
   {
    "duration": 10,
    "start_time": "2021-12-06T05:07:36.628Z"
   },
   {
    "duration": 52,
    "start_time": "2021-12-06T05:07:36.639Z"
   },
   {
    "duration": 12,
    "start_time": "2021-12-06T05:07:36.692Z"
   },
   {
    "duration": 14,
    "start_time": "2021-12-06T05:07:36.706Z"
   },
   {
    "duration": 19,
    "start_time": "2021-12-06T05:07:36.723Z"
   },
   {
    "duration": 43,
    "start_time": "2021-12-06T05:07:36.744Z"
   },
   {
    "duration": 15,
    "start_time": "2021-12-06T05:07:36.789Z"
   },
   {
    "duration": 27,
    "start_time": "2021-12-06T05:07:36.805Z"
   },
   {
    "duration": 26,
    "start_time": "2021-12-06T05:07:36.834Z"
   },
   {
    "duration": 25,
    "start_time": "2021-12-06T05:07:36.862Z"
   },
   {
    "duration": 40,
    "start_time": "2021-12-06T05:07:36.888Z"
   },
   {
    "duration": 25,
    "start_time": "2021-12-06T05:07:36.929Z"
   },
   {
    "duration": 4094,
    "start_time": "2021-12-06T05:07:42.670Z"
   },
   {
    "duration": 16,
    "start_time": "2021-12-06T05:09:12.795Z"
   },
   {
    "duration": 7,
    "start_time": "2021-12-06T05:10:25.900Z"
   },
   {
    "duration": 2,
    "start_time": "2021-12-06T05:10:27.501Z"
   },
   {
    "duration": 2,
    "start_time": "2021-12-06T05:10:27.788Z"
   },
   {
    "duration": 2,
    "start_time": "2021-12-06T05:10:28.226Z"
   },
   {
    "duration": 6,
    "start_time": "2021-12-06T05:10:33.463Z"
   },
   {
    "duration": 10,
    "start_time": "2021-12-06T05:12:16.477Z"
   },
   {
    "duration": 20,
    "start_time": "2021-12-06T05:12:45.183Z"
   },
   {
    "duration": 240,
    "start_time": "2021-12-06T05:15:00.409Z"
   },
   {
    "duration": 68,
    "start_time": "2021-12-06T05:19:14.460Z"
   },
   {
    "duration": 25,
    "start_time": "2021-12-06T05:19:38.854Z"
   },
   {
    "duration": 25,
    "start_time": "2021-12-06T05:20:06.649Z"
   },
   {
    "duration": 275,
    "start_time": "2021-12-06T05:23:13.292Z"
   },
   {
    "duration": 24,
    "start_time": "2021-12-06T05:23:54.152Z"
   },
   {
    "duration": 239,
    "start_time": "2021-12-06T05:25:13.391Z"
   },
   {
    "duration": 227,
    "start_time": "2021-12-06T05:26:32.546Z"
   },
   {
    "duration": 2,
    "start_time": "2021-12-06T05:26:34.712Z"
   },
   {
    "duration": 240,
    "start_time": "2021-12-06T05:28:08.644Z"
   },
   {
    "duration": 2,
    "start_time": "2021-12-06T05:28:13.616Z"
   },
   {
    "duration": 339,
    "start_time": "2021-12-06T05:30:23.544Z"
   },
   {
    "duration": 43,
    "start_time": "2021-12-06T05:31:15.604Z"
   },
   {
    "duration": 2,
    "start_time": "2021-12-06T05:32:31.971Z"
   },
   {
    "duration": 83,
    "start_time": "2021-12-06T05:32:31.974Z"
   },
   {
    "duration": 16,
    "start_time": "2021-12-06T05:32:32.059Z"
   },
   {
    "duration": 16,
    "start_time": "2021-12-06T05:32:32.077Z"
   },
   {
    "duration": 23,
    "start_time": "2021-12-06T05:32:32.094Z"
   },
   {
    "duration": 8,
    "start_time": "2021-12-06T05:32:32.118Z"
   },
   {
    "duration": 13,
    "start_time": "2021-12-06T05:32:32.128Z"
   },
   {
    "duration": 10,
    "start_time": "2021-12-06T05:32:32.142Z"
   },
   {
    "duration": 40,
    "start_time": "2021-12-06T05:32:32.153Z"
   },
   {
    "duration": 12,
    "start_time": "2021-12-06T05:32:32.194Z"
   },
   {
    "duration": 14,
    "start_time": "2021-12-06T05:32:32.208Z"
   },
   {
    "duration": 15,
    "start_time": "2021-12-06T05:32:32.224Z"
   },
   {
    "duration": 52,
    "start_time": "2021-12-06T05:32:32.241Z"
   },
   {
    "duration": 4,
    "start_time": "2021-12-06T05:32:32.295Z"
   },
   {
    "duration": 7,
    "start_time": "2021-12-06T05:32:32.301Z"
   },
   {
    "duration": 5,
    "start_time": "2021-12-06T05:32:32.310Z"
   },
   {
    "duration": 6,
    "start_time": "2021-12-06T05:32:32.317Z"
   },
   {
    "duration": 5,
    "start_time": "2021-12-06T05:32:32.324Z"
   },
   {
    "duration": 4,
    "start_time": "2021-12-06T05:32:32.330Z"
   },
   {
    "duration": 71,
    "start_time": "2021-12-06T05:32:32.336Z"
   },
   {
    "duration": 43,
    "start_time": "2021-12-06T05:32:32.408Z"
   },
   {
    "duration": 234,
    "start_time": "2021-12-06T05:32:48.389Z"
   },
   {
    "duration": 3,
    "start_time": "2021-12-06T05:33:01.676Z"
   },
   {
    "duration": 84,
    "start_time": "2021-12-06T05:33:01.683Z"
   },
   {
    "duration": 22,
    "start_time": "2021-12-06T05:33:01.768Z"
   },
   {
    "duration": 38,
    "start_time": "2021-12-06T05:33:01.792Z"
   },
   {
    "duration": 38,
    "start_time": "2021-12-06T05:33:01.831Z"
   },
   {
    "duration": 17,
    "start_time": "2021-12-06T05:33:01.871Z"
   },
   {
    "duration": 31,
    "start_time": "2021-12-06T05:33:01.889Z"
   },
   {
    "duration": 17,
    "start_time": "2021-12-06T05:33:01.921Z"
   },
   {
    "duration": 23,
    "start_time": "2021-12-06T05:33:01.940Z"
   },
   {
    "duration": 11,
    "start_time": "2021-12-06T05:33:01.965Z"
   },
   {
    "duration": 26,
    "start_time": "2021-12-06T05:33:01.978Z"
   },
   {
    "duration": 17,
    "start_time": "2021-12-06T05:33:02.005Z"
   },
   {
    "duration": 20,
    "start_time": "2021-12-06T05:33:02.024Z"
   },
   {
    "duration": 10,
    "start_time": "2021-12-06T05:33:02.046Z"
   },
   {
    "duration": 21,
    "start_time": "2021-12-06T05:33:02.057Z"
   },
   {
    "duration": 14,
    "start_time": "2021-12-06T05:33:02.080Z"
   },
   {
    "duration": 18,
    "start_time": "2021-12-06T05:33:02.095Z"
   },
   {
    "duration": 26,
    "start_time": "2021-12-06T05:33:02.114Z"
   },
   {
    "duration": 7,
    "start_time": "2021-12-06T05:33:02.141Z"
   },
   {
    "duration": 37,
    "start_time": "2021-12-06T05:33:02.150Z"
   },
   {
    "duration": 42,
    "start_time": "2021-12-06T05:33:02.189Z"
   },
   {
    "duration": 232,
    "start_time": "2021-12-06T05:33:02.233Z"
   },
   {
    "duration": -653,
    "start_time": "2021-12-06T05:33:03.120Z"
   },
   {
    "duration": -671,
    "start_time": "2021-12-06T05:33:03.139Z"
   },
   {
    "duration": -689,
    "start_time": "2021-12-06T05:33:03.158Z"
   },
   {
    "duration": -708,
    "start_time": "2021-12-06T05:33:03.178Z"
   },
   {
    "duration": -726,
    "start_time": "2021-12-06T05:33:03.197Z"
   },
   {
    "duration": -761,
    "start_time": "2021-12-06T05:33:03.233Z"
   },
   {
    "duration": -769,
    "start_time": "2021-12-06T05:33:03.242Z"
   },
   {
    "duration": -785,
    "start_time": "2021-12-06T05:33:03.258Z"
   },
   {
    "duration": -804,
    "start_time": "2021-12-06T05:33:03.278Z"
   },
   {
    "duration": -822,
    "start_time": "2021-12-06T05:33:03.297Z"
   },
   {
    "duration": -838,
    "start_time": "2021-12-06T05:33:03.314Z"
   },
   {
    "duration": -847,
    "start_time": "2021-12-06T05:33:03.324Z"
   },
   {
    "duration": 24,
    "start_time": "2021-12-06T05:34:00.927Z"
   },
   {
    "duration": 49,
    "start_time": "2021-12-06T05:35:50.677Z"
   },
   {
    "duration": 243,
    "start_time": "2021-12-06T05:38:47.441Z"
   },
   {
    "duration": 2,
    "start_time": "2021-12-06T05:38:50.221Z"
   },
   {
    "duration": 29,
    "start_time": "2021-12-06T05:39:46.331Z"
   },
   {
    "duration": 249,
    "start_time": "2021-12-06T05:41:03.653Z"
   },
   {
    "duration": 2,
    "start_time": "2021-12-06T05:44:53.494Z"
   },
   {
    "duration": 79,
    "start_time": "2021-12-06T05:44:53.500Z"
   },
   {
    "duration": 18,
    "start_time": "2021-12-06T05:44:53.580Z"
   },
   {
    "duration": 8,
    "start_time": "2021-12-06T05:44:53.600Z"
   },
   {
    "duration": 12,
    "start_time": "2021-12-06T05:44:53.610Z"
   },
   {
    "duration": 8,
    "start_time": "2021-12-06T05:44:53.624Z"
   },
   {
    "duration": 55,
    "start_time": "2021-12-06T05:44:53.633Z"
   },
   {
    "duration": 11,
    "start_time": "2021-12-06T05:44:53.689Z"
   },
   {
    "duration": 11,
    "start_time": "2021-12-06T05:44:53.702Z"
   },
   {
    "duration": 11,
    "start_time": "2021-12-06T05:44:53.714Z"
   },
   {
    "duration": 44,
    "start_time": "2021-12-06T05:44:53.744Z"
   },
   {
    "duration": 18,
    "start_time": "2021-12-06T05:44:53.789Z"
   },
   {
    "duration": 19,
    "start_time": "2021-12-06T05:44:53.809Z"
   },
   {
    "duration": 4,
    "start_time": "2021-12-06T05:44:53.830Z"
   },
   {
    "duration": 5,
    "start_time": "2021-12-06T05:44:53.836Z"
   },
   {
    "duration": 6,
    "start_time": "2021-12-06T05:44:53.843Z"
   },
   {
    "duration": 5,
    "start_time": "2021-12-06T05:44:53.888Z"
   },
   {
    "duration": 7,
    "start_time": "2021-12-06T05:44:53.894Z"
   },
   {
    "duration": 5,
    "start_time": "2021-12-06T05:44:53.903Z"
   },
   {
    "duration": 28,
    "start_time": "2021-12-06T05:44:53.910Z"
   },
   {
    "duration": 81,
    "start_time": "2021-12-06T05:44:53.940Z"
   },
   {
    "duration": 254,
    "start_time": "2021-12-06T05:44:54.022Z"
   },
   {
    "duration": -380,
    "start_time": "2021-12-06T05:44:54.658Z"
   },
   {
    "duration": -402,
    "start_time": "2021-12-06T05:44:54.681Z"
   },
   {
    "duration": -411,
    "start_time": "2021-12-06T05:44:54.691Z"
   },
   {
    "duration": -418,
    "start_time": "2021-12-06T05:44:54.699Z"
   },
   {
    "duration": -437,
    "start_time": "2021-12-06T05:44:54.719Z"
   },
   {
    "duration": -452,
    "start_time": "2021-12-06T05:44:54.735Z"
   },
   {
    "duration": -459,
    "start_time": "2021-12-06T05:44:54.743Z"
   },
   {
    "duration": -474,
    "start_time": "2021-12-06T05:44:54.759Z"
   },
   {
    "duration": -496,
    "start_time": "2021-12-06T05:44:54.781Z"
   },
   {
    "duration": -513,
    "start_time": "2021-12-06T05:44:54.799Z"
   },
   {
    "duration": -529,
    "start_time": "2021-12-06T05:44:54.816Z"
   },
   {
    "duration": -544,
    "start_time": "2021-12-06T05:44:54.832Z"
   },
   {
    "duration": 279,
    "start_time": "2021-12-06T05:47:22.202Z"
   },
   {
    "duration": 259,
    "start_time": "2021-12-06T05:47:51.412Z"
   },
   {
    "duration": 4,
    "start_time": "2021-12-06T05:54:40.879Z"
   },
   {
    "duration": 6,
    "start_time": "2021-12-06T05:55:09.151Z"
   },
   {
    "duration": 5,
    "start_time": "2021-12-06T05:55:31.470Z"
   },
   {
    "duration": 242,
    "start_time": "2021-12-06T05:56:04.131Z"
   },
   {
    "duration": 11,
    "start_time": "2021-12-06T05:56:42.594Z"
   },
   {
    "duration": 25,
    "start_time": "2021-12-06T05:57:22.451Z"
   },
   {
    "duration": 276,
    "start_time": "2021-12-06T05:58:30.894Z"
   },
   {
    "duration": 3,
    "start_time": "2021-12-06T05:58:50.116Z"
   },
   {
    "duration": 102,
    "start_time": "2021-12-06T05:58:50.130Z"
   },
   {
    "duration": 18,
    "start_time": "2021-12-06T05:58:50.233Z"
   },
   {
    "duration": 8,
    "start_time": "2021-12-06T05:58:50.253Z"
   },
   {
    "duration": 32,
    "start_time": "2021-12-06T05:58:50.263Z"
   },
   {
    "duration": 11,
    "start_time": "2021-12-06T05:58:50.296Z"
   },
   {
    "duration": 15,
    "start_time": "2021-12-06T05:58:50.309Z"
   },
   {
    "duration": 13,
    "start_time": "2021-12-06T05:58:50.326Z"
   },
   {
    "duration": 58,
    "start_time": "2021-12-06T05:58:50.342Z"
   },
   {
    "duration": 14,
    "start_time": "2021-12-06T05:58:50.402Z"
   },
   {
    "duration": 17,
    "start_time": "2021-12-06T05:58:50.417Z"
   },
   {
    "duration": 55,
    "start_time": "2021-12-06T05:58:50.435Z"
   },
   {
    "duration": 24,
    "start_time": "2021-12-06T05:58:50.492Z"
   },
   {
    "duration": 6,
    "start_time": "2021-12-06T05:58:50.518Z"
   },
   {
    "duration": 5,
    "start_time": "2021-12-06T05:58:50.526Z"
   },
   {
    "duration": 6,
    "start_time": "2021-12-06T05:58:50.533Z"
   },
   {
    "duration": 47,
    "start_time": "2021-12-06T05:58:50.541Z"
   },
   {
    "duration": 4,
    "start_time": "2021-12-06T05:58:50.589Z"
   },
   {
    "duration": 5,
    "start_time": "2021-12-06T05:58:50.595Z"
   },
   {
    "duration": 31,
    "start_time": "2021-12-06T05:58:50.602Z"
   },
   {
    "duration": 77,
    "start_time": "2021-12-06T05:58:50.636Z"
   },
   {
    "duration": 260,
    "start_time": "2021-12-06T05:58:50.715Z"
   },
   {
    "duration": 262,
    "start_time": "2021-12-06T05:59:13.756Z"
   },
   {
    "duration": 280,
    "start_time": "2021-12-06T05:59:59.407Z"
   },
   {
    "duration": 2,
    "start_time": "2021-12-06T06:00:02.000Z"
   },
   {
    "duration": 271,
    "start_time": "2021-12-06T06:00:39.976Z"
   },
   {
    "duration": 316,
    "start_time": "2021-12-06T06:01:45.249Z"
   },
   {
    "duration": 3,
    "start_time": "2021-12-06T06:02:25.857Z"
   },
   {
    "duration": 75,
    "start_time": "2021-12-06T06:02:28.613Z"
   },
   {
    "duration": 18,
    "start_time": "2021-12-06T06:02:30.688Z"
   },
   {
    "duration": 9,
    "start_time": "2021-12-06T06:02:31.596Z"
   },
   {
    "duration": 14,
    "start_time": "2021-12-06T06:02:45.517Z"
   },
   {
    "duration": 10,
    "start_time": "2021-12-06T06:02:47.292Z"
   },
   {
    "duration": 17,
    "start_time": "2021-12-06T06:02:48.112Z"
   },
   {
    "duration": 13,
    "start_time": "2021-12-06T06:02:49.784Z"
   },
   {
    "duration": 14,
    "start_time": "2021-12-06T06:02:50.613Z"
   },
   {
    "duration": 14,
    "start_time": "2021-12-06T06:02:52.394Z"
   },
   {
    "duration": 16,
    "start_time": "2021-12-06T06:02:53.280Z"
   },
   {
    "duration": 16,
    "start_time": "2021-12-06T06:02:54.828Z"
   },
   {
    "duration": 14,
    "start_time": "2021-12-06T06:02:55.676Z"
   },
   {
    "duration": 5,
    "start_time": "2021-12-06T06:02:57.325Z"
   },
   {
    "duration": 5,
    "start_time": "2021-12-06T06:02:58.935Z"
   },
   {
    "duration": 5,
    "start_time": "2021-12-06T06:03:02.276Z"
   },
   {
    "duration": 5,
    "start_time": "2021-12-06T06:03:03.130Z"
   },
   {
    "duration": 5,
    "start_time": "2021-12-06T06:03:03.934Z"
   },
   {
    "duration": 5,
    "start_time": "2021-12-06T06:03:04.789Z"
   },
   {
    "duration": 26,
    "start_time": "2021-12-06T06:03:10.385Z"
   },
   {
    "duration": 41,
    "start_time": "2021-12-06T06:03:11.544Z"
   },
   {
    "duration": 260,
    "start_time": "2021-12-06T06:03:13.102Z"
   },
   {
    "duration": 19,
    "start_time": "2021-12-06T06:04:14.227Z"
   },
   {
    "duration": 7,
    "start_time": "2021-12-06T06:04:45.147Z"
   },
   {
    "duration": 10,
    "start_time": "2021-12-06T06:14:10.727Z"
   },
   {
    "duration": 9,
    "start_time": "2021-12-06T06:14:14.624Z"
   },
   {
    "duration": 12,
    "start_time": "2021-12-06T06:14:38.785Z"
   },
   {
    "duration": 15,
    "start_time": "2021-12-06T06:15:33.182Z"
   },
   {
    "duration": 15,
    "start_time": "2021-12-06T06:16:54.879Z"
   },
   {
    "duration": 13,
    "start_time": "2021-12-06T06:17:17.541Z"
   },
   {
    "duration": 251,
    "start_time": "2021-12-06T06:19:12.072Z"
   },
   {
    "duration": 255,
    "start_time": "2021-12-06T06:19:30.306Z"
   },
   {
    "duration": 238,
    "start_time": "2021-12-06T06:19:53.696Z"
   },
   {
    "duration": 259,
    "start_time": "2021-12-06T06:20:31.236Z"
   },
   {
    "duration": 254,
    "start_time": "2021-12-06T19:43:53.849Z"
   },
   {
    "duration": 580,
    "start_time": "2021-12-06T19:44:04.158Z"
   },
   {
    "duration": 77,
    "start_time": "2021-12-06T19:44:07.376Z"
   },
   {
    "duration": 19,
    "start_time": "2021-12-06T19:44:09.356Z"
   },
   {
    "duration": 9,
    "start_time": "2021-12-06T19:44:09.939Z"
   },
   {
    "duration": 13,
    "start_time": "2021-12-06T19:44:16.612Z"
   },
   {
    "duration": 11,
    "start_time": "2021-12-06T19:44:17.752Z"
   },
   {
    "duration": 15,
    "start_time": "2021-12-06T19:44:18.230Z"
   },
   {
    "duration": 12,
    "start_time": "2021-12-06T19:44:19.126Z"
   },
   {
    "duration": 14,
    "start_time": "2021-12-06T19:44:19.667Z"
   },
   {
    "duration": 13,
    "start_time": "2021-12-06T19:44:20.834Z"
   },
   {
    "duration": 17,
    "start_time": "2021-12-06T19:44:21.468Z"
   },
   {
    "duration": 17,
    "start_time": "2021-12-06T19:44:28.328Z"
   },
   {
    "duration": 14,
    "start_time": "2021-12-06T19:44:28.820Z"
   },
   {
    "duration": 7,
    "start_time": "2021-12-06T19:44:30.036Z"
   },
   {
    "duration": 5,
    "start_time": "2021-12-06T19:44:31.336Z"
   },
   {
    "duration": 6,
    "start_time": "2021-12-06T19:44:34.029Z"
   },
   {
    "duration": 6,
    "start_time": "2021-12-06T19:44:34.751Z"
   },
   {
    "duration": 5,
    "start_time": "2021-12-06T19:44:35.419Z"
   },
   {
    "duration": 5,
    "start_time": "2021-12-06T19:44:35.966Z"
   },
   {
    "duration": 30,
    "start_time": "2021-12-06T19:44:38.021Z"
   },
   {
    "duration": 52,
    "start_time": "2021-12-06T19:44:38.595Z"
   },
   {
    "duration": 5,
    "start_time": "2021-12-06T19:44:39.149Z"
   },
   {
    "duration": 299,
    "start_time": "2021-12-06T19:44:39.901Z"
   },
   {
    "duration": 235,
    "start_time": "2021-12-06T19:44:52.556Z"
   },
   {
    "duration": 19,
    "start_time": "2021-12-06T19:45:12.036Z"
   },
   {
    "duration": 293,
    "start_time": "2021-12-06T19:45:32.018Z"
   },
   {
    "duration": 229,
    "start_time": "2021-12-06T19:45:35.416Z"
   },
   {
    "duration": 1077,
    "start_time": "2021-12-06T20:09:16.117Z"
   },
   {
    "duration": 1174,
    "start_time": "2021-12-06T20:11:19.001Z"
   },
   {
    "duration": 1061,
    "start_time": "2021-12-06T20:14:19.969Z"
   },
   {
    "duration": 19,
    "start_time": "2021-12-06T20:17:21.024Z"
   },
   {
    "duration": 18,
    "start_time": "2021-12-06T20:19:05.090Z"
   },
   {
    "duration": 2,
    "start_time": "2021-12-06T20:19:12.890Z"
   },
   {
    "duration": 80,
    "start_time": "2021-12-06T20:19:12.898Z"
   },
   {
    "duration": 20,
    "start_time": "2021-12-06T20:19:12.980Z"
   },
   {
    "duration": 9,
    "start_time": "2021-12-06T20:19:13.003Z"
   },
   {
    "duration": 14,
    "start_time": "2021-12-06T20:19:13.014Z"
   },
   {
    "duration": 11,
    "start_time": "2021-12-06T20:19:13.030Z"
   },
   {
    "duration": 17,
    "start_time": "2021-12-06T20:19:13.087Z"
   },
   {
    "duration": 13,
    "start_time": "2021-12-06T20:19:13.106Z"
   },
   {
    "duration": 13,
    "start_time": "2021-12-06T20:19:13.122Z"
   },
   {
    "duration": 54,
    "start_time": "2021-12-06T20:19:13.137Z"
   },
   {
    "duration": 18,
    "start_time": "2021-12-06T20:19:13.193Z"
   },
   {
    "duration": 17,
    "start_time": "2021-12-06T20:19:13.213Z"
   },
   {
    "duration": 21,
    "start_time": "2021-12-06T20:19:13.232Z"
   },
   {
    "duration": 36,
    "start_time": "2021-12-06T20:19:13.255Z"
   },
   {
    "duration": 6,
    "start_time": "2021-12-06T20:19:13.292Z"
   },
   {
    "duration": 11,
    "start_time": "2021-12-06T20:19:13.299Z"
   },
   {
    "duration": 6,
    "start_time": "2021-12-06T20:19:13.311Z"
   },
   {
    "duration": 4,
    "start_time": "2021-12-06T20:19:13.318Z"
   },
   {
    "duration": 4,
    "start_time": "2021-12-06T20:19:13.323Z"
   },
   {
    "duration": 66,
    "start_time": "2021-12-06T20:19:13.328Z"
   },
   {
    "duration": 42,
    "start_time": "2021-12-06T20:19:13.395Z"
   },
   {
    "duration": 4,
    "start_time": "2021-12-06T20:19:13.438Z"
   },
   {
    "duration": 11,
    "start_time": "2021-12-06T20:19:13.444Z"
   },
   {
    "duration": 1111,
    "start_time": "2021-12-06T20:19:33.075Z"
   },
   {
    "duration": 1245,
    "start_time": "2021-12-06T20:21:53.464Z"
   },
   {
    "duration": 28,
    "start_time": "2021-12-06T20:22:15.884Z"
   },
   {
    "duration": 8,
    "start_time": "2021-12-06T20:22:40.142Z"
   },
   {
    "duration": 17,
    "start_time": "2021-12-06T20:22:55.942Z"
   },
   {
    "duration": 239,
    "start_time": "2021-12-06T20:24:36.020Z"
   },
   {
    "duration": 29,
    "start_time": "2021-12-06T20:25:25.100Z"
   },
   {
    "duration": 296,
    "start_time": "2021-12-06T20:28:22.933Z"
   },
   {
    "duration": 479,
    "start_time": "2021-12-06T20:28:46.543Z"
   },
   {
    "duration": 267,
    "start_time": "2021-12-06T20:29:03.453Z"
   },
   {
    "duration": 160,
    "start_time": "2021-12-06T20:31:11.917Z"
   },
   {
    "duration": 189,
    "start_time": "2021-12-06T20:34:22.089Z"
   },
   {
    "duration": 428,
    "start_time": "2021-12-06T20:35:30.003Z"
   },
   {
    "duration": 217,
    "start_time": "2021-12-06T20:35:45.746Z"
   },
   {
    "duration": 232,
    "start_time": "2021-12-06T20:40:08.970Z"
   },
   {
    "duration": 236,
    "start_time": "2021-12-06T20:40:18.186Z"
   },
   {
    "duration": 62,
    "start_time": "2021-12-06T20:40:20.035Z"
   },
   {
    "duration": 245,
    "start_time": "2021-12-06T20:42:16.136Z"
   },
   {
    "duration": 261,
    "start_time": "2021-12-06T20:42:19.281Z"
   },
   {
    "duration": 3,
    "start_time": "2021-12-06T20:42:39.832Z"
   },
   {
    "duration": 61,
    "start_time": "2021-12-06T20:42:42.160Z"
   },
   {
    "duration": 3,
    "start_time": "2021-12-06T20:42:45.032Z"
   },
   {
    "duration": 4,
    "start_time": "2021-12-06T20:43:21.439Z"
   },
   {
    "duration": 4,
    "start_time": "2021-12-06T20:43:24.299Z"
   },
   {
    "duration": 301,
    "start_time": "2021-12-06T20:44:03.711Z"
   },
   {
    "duration": 67,
    "start_time": "2021-12-06T20:44:15.368Z"
   },
   {
    "duration": 4,
    "start_time": "2021-12-06T20:44:42.256Z"
   },
   {
    "duration": 9,
    "start_time": "2021-12-06T20:44:51.632Z"
   },
   {
    "duration": 61,
    "start_time": "2021-12-06T20:44:52.633Z"
   },
   {
    "duration": 41,
    "start_time": "2021-12-06T20:46:20.471Z"
   },
   {
    "duration": 10,
    "start_time": "2021-12-06T20:47:03.111Z"
   },
   {
    "duration": 9,
    "start_time": "2021-12-06T20:47:59.855Z"
   },
   {
    "duration": 239,
    "start_time": "2021-12-06T20:49:41.008Z"
   },
   {
    "duration": 84,
    "start_time": "2021-12-06T20:51:11.679Z"
   },
   {
    "duration": 79,
    "start_time": "2021-12-06T20:52:43.639Z"
   },
   {
    "duration": 252,
    "start_time": "2021-12-06T20:52:49.438Z"
   },
   {
    "duration": 243,
    "start_time": "2021-12-06T20:53:22.397Z"
   },
   {
    "duration": 251,
    "start_time": "2021-12-06T20:54:00.453Z"
   },
   {
    "duration": 61,
    "start_time": "2021-12-06T20:54:02.630Z"
   },
   {
    "duration": 235,
    "start_time": "2021-12-06T20:54:09.589Z"
   },
   {
    "duration": 2,
    "start_time": "2021-12-06T20:54:17.877Z"
   },
   {
    "duration": 72,
    "start_time": "2021-12-06T20:54:19.351Z"
   },
   {
    "duration": 18,
    "start_time": "2021-12-06T20:54:20.471Z"
   },
   {
    "duration": 9,
    "start_time": "2021-12-06T20:54:20.804Z"
   },
   {
    "duration": 12,
    "start_time": "2021-12-06T20:54:24.548Z"
   },
   {
    "duration": 10,
    "start_time": "2021-12-06T20:54:25.272Z"
   },
   {
    "duration": 14,
    "start_time": "2021-12-06T20:54:25.577Z"
   },
   {
    "duration": 12,
    "start_time": "2021-12-06T20:54:27.205Z"
   },
   {
    "duration": 13,
    "start_time": "2021-12-06T20:54:29.286Z"
   },
   {
    "duration": 14,
    "start_time": "2021-12-06T20:54:30.437Z"
   },
   {
    "duration": 17,
    "start_time": "2021-12-06T20:54:31.117Z"
   },
   {
    "duration": 17,
    "start_time": "2021-12-06T20:54:32.423Z"
   },
   {
    "duration": 14,
    "start_time": "2021-12-06T20:54:33.047Z"
   },
   {
    "duration": 5,
    "start_time": "2021-12-06T20:54:34.348Z"
   },
   {
    "duration": 5,
    "start_time": "2021-12-06T20:54:35.813Z"
   },
   {
    "duration": 5,
    "start_time": "2021-12-06T20:54:39.182Z"
   },
   {
    "duration": 5,
    "start_time": "2021-12-06T20:54:39.829Z"
   },
   {
    "duration": 5,
    "start_time": "2021-12-06T20:54:40.813Z"
   },
   {
    "duration": 5,
    "start_time": "2021-12-06T20:54:41.431Z"
   },
   {
    "duration": 25,
    "start_time": "2021-12-06T20:54:44.285Z"
   },
   {
    "duration": 11,
    "start_time": "2021-12-06T20:54:45.324Z"
   },
   {
    "duration": 272,
    "start_time": "2021-12-06T20:54:46.182Z"
   },
   {
    "duration": 229,
    "start_time": "2021-12-06T20:54:55.319Z"
   },
   {
    "duration": 239,
    "start_time": "2021-12-06T20:56:19.999Z"
   },
   {
    "duration": 231,
    "start_time": "2021-12-06T20:56:25.581Z"
   },
   {
    "duration": 2,
    "start_time": "2021-12-06T21:31:33.776Z"
   },
   {
    "duration": 74,
    "start_time": "2021-12-06T21:31:33.786Z"
   },
   {
    "duration": 17,
    "start_time": "2021-12-06T21:31:33.862Z"
   },
   {
    "duration": 8,
    "start_time": "2021-12-06T21:31:33.881Z"
   },
   {
    "duration": 12,
    "start_time": "2021-12-06T21:31:33.891Z"
   },
   {
    "duration": 8,
    "start_time": "2021-12-06T21:31:33.905Z"
   },
   {
    "duration": 13,
    "start_time": "2021-12-06T21:31:33.914Z"
   },
   {
    "duration": 11,
    "start_time": "2021-12-06T21:31:33.928Z"
   },
   {
    "duration": 51,
    "start_time": "2021-12-06T21:31:33.940Z"
   },
   {
    "duration": 12,
    "start_time": "2021-12-06T21:31:33.993Z"
   },
   {
    "duration": 15,
    "start_time": "2021-12-06T21:31:34.007Z"
   },
   {
    "duration": 16,
    "start_time": "2021-12-06T21:31:34.023Z"
   },
   {
    "duration": 47,
    "start_time": "2021-12-06T21:31:34.041Z"
   },
   {
    "duration": 4,
    "start_time": "2021-12-06T21:31:34.090Z"
   },
   {
    "duration": 5,
    "start_time": "2021-12-06T21:31:34.096Z"
   },
   {
    "duration": 5,
    "start_time": "2021-12-06T21:31:34.103Z"
   },
   {
    "duration": 4,
    "start_time": "2021-12-06T21:31:34.109Z"
   },
   {
    "duration": 4,
    "start_time": "2021-12-06T21:31:34.115Z"
   },
   {
    "duration": 4,
    "start_time": "2021-12-06T21:31:34.121Z"
   },
   {
    "duration": 82,
    "start_time": "2021-12-06T21:31:34.127Z"
   },
   {
    "duration": 10,
    "start_time": "2021-12-06T21:31:34.211Z"
   },
   {
    "duration": 260,
    "start_time": "2021-12-06T21:38:34.423Z"
   },
   {
    "duration": 241,
    "start_time": "2021-12-06T21:38:41.429Z"
   },
   {
    "duration": 237,
    "start_time": "2021-12-06T21:39:38.510Z"
   },
   {
    "duration": 320,
    "start_time": "2021-12-06T21:40:33.501Z"
   },
   {
    "duration": 2,
    "start_time": "2021-12-06T21:40:35.847Z"
   },
   {
    "duration": 84,
    "start_time": "2021-12-06T21:40:35.854Z"
   },
   {
    "duration": 19,
    "start_time": "2021-12-06T21:40:35.940Z"
   },
   {
    "duration": 28,
    "start_time": "2021-12-06T21:40:35.961Z"
   },
   {
    "duration": 14,
    "start_time": "2021-12-06T21:40:35.991Z"
   },
   {
    "duration": 9,
    "start_time": "2021-12-06T21:40:36.007Z"
   },
   {
    "duration": 17,
    "start_time": "2021-12-06T21:40:36.018Z"
   },
   {
    "duration": 51,
    "start_time": "2021-12-06T21:40:36.037Z"
   },
   {
    "duration": 14,
    "start_time": "2021-12-06T21:40:36.091Z"
   },
   {
    "duration": 14,
    "start_time": "2021-12-06T21:40:36.107Z"
   },
   {
    "duration": 17,
    "start_time": "2021-12-06T21:40:36.123Z"
   },
   {
    "duration": 60,
    "start_time": "2021-12-06T21:40:36.142Z"
   },
   {
    "duration": 16,
    "start_time": "2021-12-06T21:40:36.204Z"
   },
   {
    "duration": 6,
    "start_time": "2021-12-06T21:40:36.222Z"
   },
   {
    "duration": 6,
    "start_time": "2021-12-06T21:40:36.230Z"
   },
   {
    "duration": 51,
    "start_time": "2021-12-06T21:40:36.237Z"
   },
   {
    "duration": 6,
    "start_time": "2021-12-06T21:40:36.290Z"
   },
   {
    "duration": 8,
    "start_time": "2021-12-06T21:40:36.298Z"
   },
   {
    "duration": 6,
    "start_time": "2021-12-06T21:40:36.307Z"
   },
   {
    "duration": 28,
    "start_time": "2021-12-06T21:40:36.315Z"
   },
   {
    "duration": 11,
    "start_time": "2021-12-06T21:40:36.389Z"
   },
   {
    "duration": 240,
    "start_time": "2021-12-06T21:40:36.402Z"
   },
   {
    "duration": 237,
    "start_time": "2021-12-06T21:40:41.037Z"
   },
   {
    "duration": 29,
    "start_time": "2021-12-06T21:40:41.769Z"
   },
   {
    "duration": 20,
    "start_time": "2021-12-06T21:40:43.800Z"
   },
   {
    "duration": 7,
    "start_time": "2021-12-06T21:40:44.165Z"
   },
   {
    "duration": 26,
    "start_time": "2021-12-06T21:40:45.022Z"
   },
   {
    "duration": 161,
    "start_time": "2021-12-06T21:40:48.111Z"
   },
   {
    "duration": 235,
    "start_time": "2021-12-06T21:44:11.104Z"
   },
   {
    "duration": 3,
    "start_time": "2021-12-06T21:44:32.657Z"
   },
   {
    "duration": 79,
    "start_time": "2021-12-06T21:44:34.792Z"
   },
   {
    "duration": 20,
    "start_time": "2021-12-06T21:44:36.730Z"
   },
   {
    "duration": 10,
    "start_time": "2021-12-06T21:44:37.457Z"
   },
   {
    "duration": 13,
    "start_time": "2021-12-06T21:44:45.187Z"
   },
   {
    "duration": 10,
    "start_time": "2021-12-06T21:44:46.775Z"
   },
   {
    "duration": 15,
    "start_time": "2021-12-06T21:44:47.800Z"
   },
   {
    "duration": 12,
    "start_time": "2021-12-06T21:44:49.366Z"
   },
   {
    "duration": 14,
    "start_time": "2021-12-06T21:44:50.070Z"
   },
   {
    "duration": 14,
    "start_time": "2021-12-06T21:44:51.466Z"
   },
   {
    "duration": 16,
    "start_time": "2021-12-06T21:44:52.207Z"
   },
   {
    "duration": 17,
    "start_time": "2021-12-06T21:44:54.016Z"
   },
   {
    "duration": 14,
    "start_time": "2021-12-06T21:44:54.759Z"
   },
   {
    "duration": 6,
    "start_time": "2021-12-06T21:44:56.239Z"
   },
   {
    "duration": 6,
    "start_time": "2021-12-06T21:44:57.744Z"
   },
   {
    "duration": 5,
    "start_time": "2021-12-06T21:45:00.786Z"
   },
   {
    "duration": 5,
    "start_time": "2021-12-06T21:45:01.576Z"
   },
   {
    "duration": 5,
    "start_time": "2021-12-06T21:45:02.292Z"
   },
   {
    "duration": 6,
    "start_time": "2021-12-06T21:45:03.023Z"
   },
   {
    "duration": 26,
    "start_time": "2021-12-06T21:45:05.958Z"
   },
   {
    "duration": 12,
    "start_time": "2021-12-06T21:45:06.726Z"
   },
   {
    "duration": 278,
    "start_time": "2021-12-06T21:45:07.743Z"
   },
   {
    "duration": 30,
    "start_time": "2021-12-06T21:45:08.432Z"
   },
   {
    "duration": 19,
    "start_time": "2021-12-06T21:45:12.311Z"
   },
   {
    "duration": 7,
    "start_time": "2021-12-06T21:45:13.090Z"
   },
   {
    "duration": 26,
    "start_time": "2021-12-06T21:45:13.749Z"
   },
   {
    "duration": 234,
    "start_time": "2021-12-06T21:45:24.251Z"
   },
   {
    "duration": 7389,
    "start_time": "2021-12-06T21:49:59.410Z"
   },
   {
    "duration": 83,
    "start_time": "2021-12-06T21:50:38.030Z"
   },
   {
    "duration": 73,
    "start_time": "2021-12-06T21:51:06.884Z"
   },
   {
    "duration": 164,
    "start_time": "2021-12-06T21:51:22.952Z"
   },
   {
    "duration": 77,
    "start_time": "2021-12-06T21:51:27.374Z"
   },
   {
    "duration": 179,
    "start_time": "2021-12-06T21:53:06.413Z"
   },
   {
    "duration": 192,
    "start_time": "2021-12-06T21:54:40.589Z"
   },
   {
    "duration": 2,
    "start_time": "2021-12-06T22:05:42.097Z"
   },
   {
    "duration": 74,
    "start_time": "2021-12-06T22:05:43.473Z"
   },
   {
    "duration": 18,
    "start_time": "2021-12-06T22:05:44.685Z"
   },
   {
    "duration": 12,
    "start_time": "2021-12-06T22:05:45.037Z"
   },
   {
    "duration": 12,
    "start_time": "2021-12-06T22:05:50.329Z"
   },
   {
    "duration": 10,
    "start_time": "2021-12-06T22:05:51.573Z"
   },
   {
    "duration": 14,
    "start_time": "2021-12-06T22:05:52.160Z"
   },
   {
    "duration": 12,
    "start_time": "2021-12-06T22:05:53.804Z"
   },
   {
    "duration": 17,
    "start_time": "2021-12-06T22:05:54.412Z"
   },
   {
    "duration": 14,
    "start_time": "2021-12-06T22:05:55.644Z"
   },
   {
    "duration": 19,
    "start_time": "2021-12-06T22:05:56.446Z"
   },
   {
    "duration": 19,
    "start_time": "2021-12-06T22:05:57.692Z"
   },
   {
    "duration": 15,
    "start_time": "2021-12-06T22:05:58.294Z"
   },
   {
    "duration": 6,
    "start_time": "2021-12-06T22:05:59.661Z"
   },
   {
    "duration": 5,
    "start_time": "2021-12-06T22:06:01.379Z"
   },
   {
    "duration": 6,
    "start_time": "2021-12-06T22:06:03.604Z"
   },
   {
    "duration": 6,
    "start_time": "2021-12-06T22:06:04.579Z"
   },
   {
    "duration": 5,
    "start_time": "2021-12-06T22:06:05.197Z"
   },
   {
    "duration": 5,
    "start_time": "2021-12-06T22:06:07.493Z"
   },
   {
    "duration": 25,
    "start_time": "2021-12-06T22:06:10.141Z"
   },
   {
    "duration": 10,
    "start_time": "2021-12-06T22:06:11.916Z"
   },
   {
    "duration": 250,
    "start_time": "2021-12-06T22:06:12.980Z"
   },
   {
    "duration": 29,
    "start_time": "2021-12-06T22:06:14.856Z"
   },
   {
    "duration": 20,
    "start_time": "2021-12-06T22:06:23.385Z"
   },
   {
    "duration": 7,
    "start_time": "2021-12-06T22:06:24.068Z"
   },
   {
    "duration": 25,
    "start_time": "2021-12-06T22:06:24.725Z"
   },
   {
    "duration": 156,
    "start_time": "2021-12-06T22:06:27.509Z"
   },
   {
    "duration": 85,
    "start_time": "2021-12-06T22:06:28.204Z"
   },
   {
    "duration": 177,
    "start_time": "2021-12-06T22:06:28.875Z"
   },
   {
    "duration": 180,
    "start_time": "2021-12-06T22:06:29.598Z"
   },
   {
    "duration": 2,
    "start_time": "2021-12-06T22:06:30.300Z"
   },
   {
    "duration": 3,
    "start_time": "2021-12-06T22:06:31.123Z"
   },
   {
    "duration": 391,
    "start_time": "2021-12-07T15:55:45.758Z"
   },
   {
    "duration": 321,
    "start_time": "2021-12-07T15:55:50.321Z"
   },
   {
    "duration": 587,
    "start_time": "2021-12-07T15:56:00.552Z"
   },
   {
    "duration": 78,
    "start_time": "2021-12-07T15:56:03.479Z"
   },
   {
    "duration": 21,
    "start_time": "2021-12-07T15:56:07.585Z"
   },
   {
    "duration": 8,
    "start_time": "2021-12-07T15:56:08.721Z"
   },
   {
    "duration": 13,
    "start_time": "2021-12-07T15:56:36.878Z"
   },
   {
    "duration": 11,
    "start_time": "2021-12-07T15:57:57.310Z"
   },
   {
    "duration": 14,
    "start_time": "2021-12-07T15:58:33.617Z"
   },
   {
    "duration": 344,
    "start_time": "2021-12-07T21:11:29.536Z"
   },
   {
    "duration": 778,
    "start_time": "2021-12-07T21:11:42.882Z"
   },
   {
    "duration": 112,
    "start_time": "2021-12-07T21:11:43.994Z"
   },
   {
    "duration": 31,
    "start_time": "2021-12-07T21:11:44.938Z"
   },
   {
    "duration": 15,
    "start_time": "2021-12-07T21:11:45.242Z"
   },
   {
    "duration": 20,
    "start_time": "2021-12-07T21:11:48.546Z"
   },
   {
    "duration": 14,
    "start_time": "2021-12-07T21:11:49.410Z"
   },
   {
    "duration": 24,
    "start_time": "2021-12-07T21:11:49.783Z"
   },
   {
    "duration": 19,
    "start_time": "2021-12-07T21:11:50.450Z"
   },
   {
    "duration": 21,
    "start_time": "2021-12-07T21:11:50.798Z"
   },
   {
    "duration": 19,
    "start_time": "2021-12-07T21:11:51.436Z"
   },
   {
    "duration": 26,
    "start_time": "2021-12-07T21:11:51.707Z"
   },
   {
    "duration": 24,
    "start_time": "2021-12-07T21:11:52.274Z"
   },
   {
    "duration": 24,
    "start_time": "2021-12-07T21:11:53.076Z"
   },
   {
    "duration": 7,
    "start_time": "2021-12-07T21:11:53.746Z"
   },
   {
    "duration": 7,
    "start_time": "2021-12-07T21:11:54.746Z"
   },
   {
    "duration": 9,
    "start_time": "2021-12-07T21:11:57.243Z"
   },
   {
    "duration": 8,
    "start_time": "2021-12-07T21:11:58.235Z"
   },
   {
    "duration": 7,
    "start_time": "2021-12-07T21:11:58.794Z"
   },
   {
    "duration": 7,
    "start_time": "2021-12-07T21:11:59.673Z"
   },
   {
    "duration": 39,
    "start_time": "2021-12-07T21:12:02.082Z"
   },
   {
    "duration": 22,
    "start_time": "2021-12-07T21:12:02.666Z"
   },
   {
    "duration": 7674,
    "start_time": "2021-12-07T21:12:03.388Z"
   },
   {
    "duration": 49,
    "start_time": "2021-12-07T21:12:16.125Z"
   },
   {
    "duration": 32,
    "start_time": "2021-12-07T21:12:44.394Z"
   },
   {
    "duration": 13,
    "start_time": "2021-12-07T21:12:54.049Z"
   },
   {
    "duration": 560,
    "start_time": "2021-12-07T21:19:48.600Z"
   },
   {
    "duration": 278,
    "start_time": "2021-12-07T21:20:17.433Z"
   },
   {
    "duration": 116,
    "start_time": "2021-12-07T21:22:35.929Z"
   },
   {
    "duration": 14,
    "start_time": "2021-12-07T21:22:45.416Z"
   },
   {
    "duration": 18,
    "start_time": "2021-12-07T21:23:51.462Z"
   },
   {
    "duration": 315,
    "start_time": "2021-12-07T21:26:07.191Z"
   },
   {
    "duration": 296,
    "start_time": "2021-12-07T21:31:46.336Z"
   },
   {
    "duration": 456,
    "start_time": "2021-12-07T21:36:37.651Z"
   },
   {
    "duration": 7519,
    "start_time": "2021-12-07T21:40:08.287Z"
   },
   {
    "duration": 312,
    "start_time": "2021-12-07T21:40:29.543Z"
   },
   {
    "duration": 297,
    "start_time": "2021-12-07T21:40:43.789Z"
   },
   {
    "duration": 114,
    "start_time": "2021-12-07T21:47:39.213Z"
   },
   {
    "duration": 5,
    "start_time": "2021-12-07T21:47:48.450Z"
   },
   {
    "duration": 360,
    "start_time": "2021-12-07T21:49:08.715Z"
   },
   {
    "duration": 434,
    "start_time": "2021-12-07T22:16:58.635Z"
   },
   {
    "duration": 372,
    "start_time": "2021-12-07T22:18:05.189Z"
   },
   {
    "duration": 284,
    "start_time": "2021-12-07T22:18:36.293Z"
   },
   {
    "duration": 321,
    "start_time": "2021-12-07T22:19:03.366Z"
   },
   {
    "duration": 352,
    "start_time": "2021-12-07T22:20:59.940Z"
   },
   {
    "duration": 5,
    "start_time": "2021-12-07T22:28:20.283Z"
   },
   {
    "duration": 347,
    "start_time": "2021-12-07T22:31:14.425Z"
   },
   {
    "duration": 330,
    "start_time": "2021-12-07T22:37:01.429Z"
   },
   {
    "duration": 11,
    "start_time": "2021-12-07T22:37:13.664Z"
   },
   {
    "duration": 10,
    "start_time": "2021-12-07T22:40:20.988Z"
   },
   {
    "duration": 4,
    "start_time": "2021-12-07T22:41:59.391Z"
   },
   {
    "duration": 15,
    "start_time": "2021-12-07T22:45:43.393Z"
   },
   {
    "duration": 5,
    "start_time": "2021-12-07T22:45:49.669Z"
   },
   {
    "duration": 17,
    "start_time": "2021-12-07T22:46:36.073Z"
   },
   {
    "duration": 5,
    "start_time": "2021-12-07T22:46:46.088Z"
   },
   {
    "duration": 6,
    "start_time": "2021-12-07T23:04:17.862Z"
   },
   {
    "duration": 29,
    "start_time": "2021-12-07T23:04:24.508Z"
   },
   {
    "duration": 5,
    "start_time": "2021-12-07T23:05:47.426Z"
   },
   {
    "duration": 30,
    "start_time": "2021-12-07T23:05:49.109Z"
   },
   {
    "duration": 30,
    "start_time": "2021-12-07T23:09:53.332Z"
   },
   {
    "duration": 5,
    "start_time": "2021-12-07T23:10:39.786Z"
   },
   {
    "duration": 32,
    "start_time": "2021-12-07T23:10:42.108Z"
   },
   {
    "duration": 5,
    "start_time": "2021-12-07T23:11:05.002Z"
   },
   {
    "duration": 33,
    "start_time": "2021-12-07T23:11:08.474Z"
   },
   {
    "duration": 369,
    "start_time": "2021-12-07T23:28:45.204Z"
   },
   {
    "duration": 34,
    "start_time": "2021-12-07T23:29:02.623Z"
   },
   {
    "duration": 283,
    "start_time": "2021-12-07T23:30:24.800Z"
   },
   {
    "duration": 293,
    "start_time": "2021-12-07T23:31:05.759Z"
   },
   {
    "duration": 333,
    "start_time": "2021-12-07T23:31:55.223Z"
   },
   {
    "duration": 35,
    "start_time": "2021-12-07T23:32:40.175Z"
   },
   {
    "duration": 309,
    "start_time": "2021-12-07T23:32:46.908Z"
   },
   {
    "duration": 478,
    "start_time": "2021-12-07T23:33:10.144Z"
   },
   {
    "duration": 7229,
    "start_time": "2021-12-07T23:34:27.901Z"
   },
   {
    "duration": 311,
    "start_time": "2021-12-07T23:34:38.264Z"
   },
   {
    "duration": 38,
    "start_time": "2021-12-07T23:34:57.338Z"
   },
   {
    "duration": 321,
    "start_time": "2021-12-07T23:35:05.189Z"
   },
   {
    "duration": 311,
    "start_time": "2021-12-07T23:38:38.428Z"
   },
   {
    "duration": 39,
    "start_time": "2021-12-07T23:40:06.296Z"
   },
   {
    "duration": 391,
    "start_time": "2021-12-07T23:40:12.047Z"
   },
   {
    "duration": 318,
    "start_time": "2021-12-07T23:40:15.387Z"
   },
   {
    "duration": 284,
    "start_time": "2021-12-07T23:40:19.594Z"
   },
   {
    "duration": 293,
    "start_time": "2021-12-07T23:40:22.649Z"
   },
   {
    "duration": 6,
    "start_time": "2021-12-07T23:41:34.295Z"
   },
   {
    "duration": 5,
    "start_time": "2021-12-07T23:42:04.963Z"
   },
   {
    "duration": 6,
    "start_time": "2021-12-07T23:42:16.616Z"
   },
   {
    "duration": 7,
    "start_time": "2021-12-07T23:42:50.922Z"
   },
   {
    "duration": 12,
    "start_time": "2021-12-07T23:50:45.251Z"
   },
   {
    "duration": 10,
    "start_time": "2021-12-07T23:51:46.323Z"
   },
   {
    "duration": 10,
    "start_time": "2021-12-07T23:52:11.970Z"
   },
   {
    "duration": 10,
    "start_time": "2021-12-07T23:52:29.476Z"
   },
   {
    "duration": 10,
    "start_time": "2021-12-07T23:53:15.563Z"
   },
   {
    "duration": 324,
    "start_time": "2021-12-07T23:55:08.975Z"
   },
   {
    "duration": 329,
    "start_time": "2021-12-07T23:55:53.930Z"
   },
   {
    "duration": 325,
    "start_time": "2021-12-07T23:56:29.321Z"
   },
   {
    "duration": 287,
    "start_time": "2021-12-07T23:58:01.935Z"
   },
   {
    "duration": 290,
    "start_time": "2021-12-07T23:58:58.853Z"
   },
   {
    "duration": 298,
    "start_time": "2021-12-07T23:59:18.138Z"
   },
   {
    "duration": 361,
    "start_time": "2021-12-08T00:04:22.865Z"
   },
   {
    "duration": 309,
    "start_time": "2021-12-08T00:04:35.332Z"
   },
   {
    "duration": 314,
    "start_time": "2021-12-08T00:04:44.665Z"
   },
   {
    "duration": 7,
    "start_time": "2021-12-08T00:09:00.275Z"
   },
   {
    "duration": 277,
    "start_time": "2021-12-08T00:10:04.960Z"
   },
   {
    "duration": 286,
    "start_time": "2021-12-08T00:10:58.408Z"
   },
   {
    "duration": 279,
    "start_time": "2021-12-08T00:11:15.498Z"
   },
   {
    "duration": 104,
    "start_time": "2021-12-08T00:18:44.225Z"
   },
   {
    "duration": 481,
    "start_time": "2021-12-08T00:19:03.066Z"
   },
   {
    "duration": 33,
    "start_time": "2021-12-08T00:19:11.871Z"
   },
   {
    "duration": 309,
    "start_time": "2021-12-08T00:29:19.868Z"
   },
   {
    "duration": 107,
    "start_time": "2021-12-08T00:29:49.398Z"
   },
   {
    "duration": 105,
    "start_time": "2021-12-08T00:30:03.138Z"
   },
   {
    "duration": 100,
    "start_time": "2021-12-08T00:30:28.131Z"
   },
   {
    "duration": 25,
    "start_time": "2021-12-08T00:31:06.123Z"
   },
   {
    "duration": 8009,
    "start_time": "2021-12-08T00:38:41.566Z"
   },
   {
    "duration": 7864,
    "start_time": "2021-12-08T00:39:23.418Z"
   },
   {
    "duration": 14,
    "start_time": "2021-12-08T00:41:01.534Z"
   },
   {
    "duration": 7597,
    "start_time": "2021-12-08T00:41:35.591Z"
   },
   {
    "duration": 13,
    "start_time": "2021-12-08T00:42:15.651Z"
   },
   {
    "duration": 7242,
    "start_time": "2021-12-08T00:42:41.993Z"
   },
   {
    "duration": 8095,
    "start_time": "2021-12-08T00:43:25.849Z"
   },
   {
    "duration": 288,
    "start_time": "2021-12-08T00:44:09.059Z"
   },
   {
    "duration": 6,
    "start_time": "2021-12-08T00:47:57.352Z"
   },
   {
    "duration": 325,
    "start_time": "2021-12-08T00:48:00.744Z"
   },
   {
    "duration": 269,
    "start_time": "2021-12-08T00:48:25.267Z"
   },
   {
    "duration": 542,
    "start_time": "2021-12-08T00:49:10.447Z"
   },
   {
    "duration": 253,
    "start_time": "2021-12-08T00:49:24.881Z"
   },
   {
    "duration": 350,
    "start_time": "2021-12-08T00:50:49.072Z"
   },
   {
    "duration": 390,
    "start_time": "2021-12-08T00:51:11.569Z"
   },
   {
    "duration": 328,
    "start_time": "2021-12-08T00:51:20.862Z"
   },
   {
    "duration": 766,
    "start_time": "2021-12-08T04:02:09.771Z"
   },
   {
    "duration": 112,
    "start_time": "2021-12-08T04:02:12.823Z"
   },
   {
    "duration": 28,
    "start_time": "2021-12-08T04:02:15.318Z"
   },
   {
    "duration": 13,
    "start_time": "2021-12-08T04:02:20.225Z"
   },
   {
    "duration": 20,
    "start_time": "2021-12-08T04:02:24.710Z"
   },
   {
    "duration": 16,
    "start_time": "2021-12-08T04:02:25.287Z"
   },
   {
    "duration": 25,
    "start_time": "2021-12-08T04:02:25.628Z"
   },
   {
    "duration": 17,
    "start_time": "2021-12-08T04:02:26.222Z"
   },
   {
    "duration": 20,
    "start_time": "2021-12-08T04:02:26.523Z"
   },
   {
    "duration": 20,
    "start_time": "2021-12-08T04:02:27.453Z"
   },
   {
    "duration": 26,
    "start_time": "2021-12-08T04:02:27.894Z"
   },
   {
    "duration": 26,
    "start_time": "2021-12-08T04:02:28.517Z"
   },
   {
    "duration": 23,
    "start_time": "2021-12-08T04:02:28.862Z"
   },
   {
    "duration": 8,
    "start_time": "2021-12-08T04:02:29.584Z"
   },
   {
    "duration": 7,
    "start_time": "2021-12-08T04:02:30.230Z"
   },
   {
    "duration": 7,
    "start_time": "2021-12-08T04:02:31.406Z"
   },
   {
    "duration": 7,
    "start_time": "2021-12-08T04:02:31.722Z"
   },
   {
    "duration": 7,
    "start_time": "2021-12-08T04:02:32.012Z"
   },
   {
    "duration": 7,
    "start_time": "2021-12-08T04:02:32.303Z"
   },
   {
    "duration": 56,
    "start_time": "2021-12-08T04:02:33.201Z"
   },
   {
    "duration": 22,
    "start_time": "2021-12-08T04:02:33.486Z"
   },
   {
    "duration": 7527,
    "start_time": "2021-12-08T04:02:33.842Z"
   },
   {
    "duration": 63,
    "start_time": "2021-12-08T04:02:41.372Z"
   },
   {
    "duration": 28,
    "start_time": "2021-12-08T04:02:41.438Z"
   },
   {
    "duration": 11,
    "start_time": "2021-12-08T04:02:41.469Z"
   },
   {
    "duration": 81,
    "start_time": "2021-12-08T04:02:41.483Z"
   },
   {
    "duration": 306,
    "start_time": "2021-12-08T04:02:41.567Z"
   },
   {
    "duration": 100,
    "start_time": "2021-12-08T04:02:41.876Z"
   },
   {
    "duration": 569,
    "start_time": "2021-12-08T04:02:41.410Z"
   },
   {
    "duration": 561,
    "start_time": "2021-12-08T04:02:41.419Z"
   },
   {
    "duration": 541,
    "start_time": "2021-12-08T04:02:41.441Z"
   },
   {
    "duration": 518,
    "start_time": "2021-12-08T04:02:41.465Z"
   },
   {
    "duration": 508,
    "start_time": "2021-12-08T04:02:41.476Z"
   },
   {
    "duration": 487,
    "start_time": "2021-12-08T04:02:41.499Z"
   },
   {
    "duration": 467,
    "start_time": "2021-12-08T04:02:41.520Z"
   },
   {
    "duration": 446,
    "start_time": "2021-12-08T04:02:41.542Z"
   },
   {
    "duration": 429,
    "start_time": "2021-12-08T04:02:41.561Z"
   },
   {
    "duration": 399,
    "start_time": "2021-12-08T04:02:41.592Z"
   },
   {
    "duration": 124,
    "start_time": "2021-12-08T04:02:42.113Z"
   },
   {
    "duration": 307,
    "start_time": "2021-12-08T04:02:42.477Z"
   },
   {
    "duration": 270,
    "start_time": "2021-12-08T04:02:43.597Z"
   },
   {
    "duration": 6,
    "start_time": "2021-12-08T04:02:44.964Z"
   },
   {
    "duration": 26,
    "start_time": "2021-12-08T04:02:45.307Z"
   },
   {
    "duration": 3,
    "start_time": "2021-12-08T04:02:45.750Z"
   },
   {
    "duration": 3,
    "start_time": "2021-12-08T04:02:46.110Z"
   },
   {
    "duration": 35,
    "start_time": "2021-12-08T04:02:46.462Z"
   },
   {
    "duration": 287,
    "start_time": "2021-12-08T04:02:47.724Z"
   },
   {
    "duration": 283,
    "start_time": "2021-12-08T04:02:48.142Z"
   },
   {
    "duration": 271,
    "start_time": "2021-12-08T04:02:48.562Z"
   },
   {
    "duration": 285,
    "start_time": "2021-12-08T04:02:49.869Z"
   },
   {
    "duration": 301,
    "start_time": "2021-12-08T04:02:50.391Z"
   },
   {
    "duration": 361,
    "start_time": "2021-12-08T04:03:26.762Z"
   },
   {
    "duration": 299,
    "start_time": "2021-12-08T04:04:21.313Z"
   },
   {
    "duration": 292,
    "start_time": "2021-12-08T04:07:05.921Z"
   },
   {
    "duration": 319,
    "start_time": "2021-12-08T04:12:51.181Z"
   },
   {
    "duration": 292,
    "start_time": "2021-12-08T04:13:42.037Z"
   },
   {
    "duration": 297,
    "start_time": "2021-12-08T04:14:32.403Z"
   },
   {
    "duration": 341,
    "start_time": "2021-12-08T04:16:00.984Z"
   },
   {
    "duration": 312,
    "start_time": "2021-12-08T04:17:22.375Z"
   },
   {
    "duration": 984,
    "start_time": "2021-12-08T04:20:48.108Z"
   },
   {
    "duration": 971,
    "start_time": "2021-12-08T04:22:34.106Z"
   },
   {
    "duration": 1046,
    "start_time": "2021-12-08T04:25:17.964Z"
   },
   {
    "duration": 983,
    "start_time": "2021-12-08T04:25:45.779Z"
   },
   {
    "duration": 372,
    "start_time": "2021-12-08T04:30:05.202Z"
   },
   {
    "duration": 303,
    "start_time": "2021-12-08T04:32:29.060Z"
   },
   {
    "duration": 271,
    "start_time": "2021-12-08T04:32:39.042Z"
   },
   {
    "duration": 563,
    "start_time": "2021-12-08T04:32:52.569Z"
   },
   {
    "duration": 498,
    "start_time": "2021-12-08T04:33:16.996Z"
   },
   {
    "duration": 572,
    "start_time": "2021-12-08T04:34:04.856Z"
   },
   {
    "duration": 437,
    "start_time": "2021-12-08T04:39:03.668Z"
   },
   {
    "duration": 11,
    "start_time": "2021-12-08T04:39:46.192Z"
   },
   {
    "duration": 518,
    "start_time": "2021-12-08T04:40:14.555Z"
   },
   {
    "duration": 604,
    "start_time": "2021-12-08T04:40:20.842Z"
   },
   {
    "duration": 489,
    "start_time": "2021-12-08T04:40:27.464Z"
   },
   {
    "duration": 519,
    "start_time": "2021-12-08T04:40:49.104Z"
   },
   {
    "duration": 501,
    "start_time": "2021-12-08T04:51:27.484Z"
   },
   {
    "duration": 501,
    "start_time": "2021-12-08T04:51:54.715Z"
   },
   {
    "duration": 505,
    "start_time": "2021-12-08T04:55:33.022Z"
   },
   {
    "duration": 1021,
    "start_time": "2021-12-08T05:12:33.723Z"
   },
   {
    "duration": 1033,
    "start_time": "2021-12-08T05:15:33.489Z"
   },
   {
    "duration": 70,
    "start_time": "2021-12-08T05:15:59.960Z"
   },
   {
    "duration": 284,
    "start_time": "2021-12-08T05:31:53.721Z"
   },
   {
    "duration": 11,
    "start_time": "2021-12-08T05:31:57.418Z"
   },
   {
    "duration": 297,
    "start_time": "2021-12-08T05:32:13.471Z"
   },
   {
    "duration": 4383,
    "start_time": "2021-12-08T05:38:51.957Z"
   },
   {
    "duration": 42255,
    "start_time": "2021-12-08T05:39:15.756Z"
   },
   {
    "duration": 1053,
    "start_time": "2021-12-08T14:28:43.599Z"
   },
   {
    "duration": 1460,
    "start_time": "2021-12-08T14:29:03.810Z"
   },
   {
    "duration": 930,
    "start_time": "2021-12-08T14:33:31.116Z"
   },
   {
    "duration": 922,
    "start_time": "2021-12-08T14:33:49.530Z"
   },
   {
    "duration": 59818,
    "start_time": "2021-12-08T15:19:10.500Z"
   },
   {
    "duration": 366,
    "start_time": "2021-12-08T15:27:19.648Z"
   },
   {
    "duration": 359,
    "start_time": "2021-12-08T15:28:32.790Z"
   },
   {
    "duration": 62150,
    "start_time": "2021-12-08T17:40:18.199Z"
   },
   {
    "duration": 65116,
    "start_time": "2021-12-08T17:42:33.625Z"
   },
   {
    "duration": 19,
    "start_time": "2021-12-08T17:44:32.174Z"
   },
   {
    "duration": 23,
    "start_time": "2021-12-08T18:52:36.916Z"
   },
   {
    "duration": 34,
    "start_time": "2021-12-08T18:54:02.881Z"
   },
   {
    "duration": 42,
    "start_time": "2021-12-08T18:56:05.190Z"
   },
   {
    "duration": 58,
    "start_time": "2021-12-08T18:57:06.733Z"
   },
   {
    "duration": 69,
    "start_time": "2021-12-08T18:58:00.998Z"
   },
   {
    "duration": 60,
    "start_time": "2021-12-08T18:59:02.328Z"
   },
   {
    "duration": 22,
    "start_time": "2021-12-08T19:01:19.178Z"
   },
   {
    "duration": 27,
    "start_time": "2021-12-08T19:03:53.694Z"
   },
   {
    "duration": 22,
    "start_time": "2021-12-08T19:06:00.197Z"
   },
   {
    "duration": 368,
    "start_time": "2021-12-08T19:06:33.656Z"
   },
   {
    "duration": 22,
    "start_time": "2021-12-08T19:06:52.581Z"
   },
   {
    "duration": 23,
    "start_time": "2021-12-08T19:07:13.668Z"
   },
   {
    "duration": 40,
    "start_time": "2021-12-08T19:14:48.848Z"
   },
   {
    "duration": 44,
    "start_time": "2021-12-08T19:15:30.113Z"
   },
   {
    "duration": 33,
    "start_time": "2021-12-08T19:17:09.464Z"
   },
   {
    "duration": 30,
    "start_time": "2021-12-08T19:17:54.591Z"
   },
   {
    "duration": 33,
    "start_time": "2021-12-08T19:19:05.446Z"
   },
   {
    "duration": 21,
    "start_time": "2021-12-08T19:20:22.270Z"
   },
   {
    "duration": 42,
    "start_time": "2021-12-08T19:20:49.996Z"
   },
   {
    "duration": 49,
    "start_time": "2021-12-08T19:21:10.093Z"
   },
   {
    "duration": 34,
    "start_time": "2021-12-08T19:21:40.783Z"
   },
   {
    "duration": 9,
    "start_time": "2021-12-08T19:21:40.960Z"
   },
   {
    "duration": 37,
    "start_time": "2021-12-08T19:23:44.457Z"
   },
   {
    "duration": 54,
    "start_time": "2021-12-08T19:24:11.458Z"
   },
   {
    "duration": 57,
    "start_time": "2021-12-08T19:25:12.504Z"
   },
   {
    "duration": 363,
    "start_time": "2021-12-08T19:27:05.098Z"
   },
   {
    "duration": 37,
    "start_time": "2021-12-08T19:27:22.621Z"
   },
   {
    "duration": 50,
    "start_time": "2021-12-08T19:28:55.012Z"
   },
   {
    "duration": 7,
    "start_time": "2021-12-08T19:36:06.499Z"
   },
   {
    "duration": 6,
    "start_time": "2021-12-08T19:36:20.363Z"
   },
   {
    "duration": 7,
    "start_time": "2021-12-08T19:36:58.223Z"
   },
   {
    "duration": 7,
    "start_time": "2021-12-08T19:37:19.456Z"
   },
   {
    "duration": 15,
    "start_time": "2021-12-08T19:38:10.604Z"
   },
   {
    "duration": 406,
    "start_time": "2021-12-08T19:38:21.868Z"
   },
   {
    "duration": 13216,
    "start_time": "2021-12-08T19:46:36.366Z"
   },
   {
    "duration": 2,
    "start_time": "2021-12-08T19:47:52.571Z"
   },
   {
    "duration": 294,
    "start_time": "2021-12-08T19:47:55.002Z"
   },
   {
    "duration": 48,
    "start_time": "2021-12-08T19:47:57.611Z"
   },
   {
    "duration": 27,
    "start_time": "2021-12-08T19:47:58.503Z"
   },
   {
    "duration": 14,
    "start_time": "2021-12-08T19:48:04.325Z"
   },
   {
    "duration": 14,
    "start_time": "2021-12-08T19:48:05.899Z"
   },
   {
    "duration": 18,
    "start_time": "2021-12-08T19:48:06.519Z"
   },
   {
    "duration": 13,
    "start_time": "2021-12-08T19:48:08.115Z"
   },
   {
    "duration": 14,
    "start_time": "2021-12-08T19:48:08.726Z"
   },
   {
    "duration": 14,
    "start_time": "2021-12-08T19:48:10.048Z"
   },
   {
    "duration": 19,
    "start_time": "2021-12-08T19:48:10.680Z"
   },
   {
    "duration": 19,
    "start_time": "2021-12-08T19:48:11.942Z"
   },
   {
    "duration": 17,
    "start_time": "2021-12-08T19:48:12.569Z"
   },
   {
    "duration": 5,
    "start_time": "2021-12-08T19:48:13.779Z"
   },
   {
    "duration": 6,
    "start_time": "2021-12-08T19:48:15.022Z"
   },
   {
    "duration": 6,
    "start_time": "2021-12-08T19:48:17.595Z"
   },
   {
    "duration": 6,
    "start_time": "2021-12-08T19:48:18.275Z"
   },
   {
    "duration": 6,
    "start_time": "2021-12-08T19:48:19.067Z"
   },
   {
    "duration": 5,
    "start_time": "2021-12-08T19:48:19.781Z"
   },
   {
    "duration": 37,
    "start_time": "2021-12-08T19:48:21.887Z"
   },
   {
    "duration": 13,
    "start_time": "2021-12-08T19:48:22.735Z"
   },
   {
    "duration": 4537,
    "start_time": "2021-12-08T19:48:23.885Z"
   },
   {
    "duration": 35,
    "start_time": "2021-12-08T19:48:28.425Z"
   },
   {
    "duration": 21,
    "start_time": "2021-12-08T19:48:28.462Z"
   },
   {
    "duration": 36,
    "start_time": "2021-12-08T19:48:28.485Z"
   },
   {
    "duration": 33,
    "start_time": "2021-12-08T19:48:28.524Z"
   },
   {
    "duration": 189,
    "start_time": "2021-12-08T19:48:30.546Z"
   },
   {
    "duration": 262,
    "start_time": "2021-12-08T19:48:30.992Z"
   },
   {
    "duration": 525,
    "start_time": "2021-12-08T19:48:31.655Z"
   },
   {
    "duration": 222,
    "start_time": "2021-12-08T19:49:37.934Z"
   },
   {
    "duration": 193,
    "start_time": "2021-12-08T19:50:59.108Z"
   },
   {
    "duration": 207,
    "start_time": "2021-12-08T19:51:06.966Z"
   },
   {
    "duration": 3,
    "start_time": "2021-12-08T20:05:52.702Z"
   },
   {
    "duration": 724,
    "start_time": "2021-12-08T20:05:52.707Z"
   },
   {
    "duration": 50,
    "start_time": "2021-12-08T20:05:53.433Z"
   },
   {
    "duration": 9,
    "start_time": "2021-12-08T20:05:53.485Z"
   },
   {
    "duration": 28,
    "start_time": "2021-12-08T20:05:53.496Z"
   },
   {
    "duration": 12,
    "start_time": "2021-12-08T20:05:53.526Z"
   },
   {
    "duration": 19,
    "start_time": "2021-12-08T20:05:53.540Z"
   },
   {
    "duration": 14,
    "start_time": "2021-12-08T20:05:53.561Z"
   },
   {
    "duration": 38,
    "start_time": "2021-12-08T20:05:53.578Z"
   },
   {
    "duration": 16,
    "start_time": "2021-12-08T20:05:53.619Z"
   },
   {
    "duration": 17,
    "start_time": "2021-12-08T20:05:53.637Z"
   },
   {
    "duration": 18,
    "start_time": "2021-12-08T20:05:53.656Z"
   },
   {
    "duration": 40,
    "start_time": "2021-12-08T20:05:53.676Z"
   },
   {
    "duration": 5,
    "start_time": "2021-12-08T20:05:53.717Z"
   },
   {
    "duration": 5,
    "start_time": "2021-12-08T20:05:53.724Z"
   },
   {
    "duration": 5,
    "start_time": "2021-12-08T20:05:53.730Z"
   },
   {
    "duration": 5,
    "start_time": "2021-12-08T20:05:53.737Z"
   },
   {
    "duration": 5,
    "start_time": "2021-12-08T20:05:53.743Z"
   },
   {
    "duration": 5,
    "start_time": "2021-12-08T20:05:53.749Z"
   },
   {
    "duration": 36,
    "start_time": "2021-12-08T20:05:53.756Z"
   },
   {
    "duration": 13,
    "start_time": "2021-12-08T20:05:53.794Z"
   },
   {
    "duration": 4103,
    "start_time": "2021-12-08T20:05:53.809Z"
   },
   {
    "duration": 32,
    "start_time": "2021-12-08T20:05:57.914Z"
   },
   {
    "duration": 21,
    "start_time": "2021-12-08T20:05:57.948Z"
   },
   {
    "duration": 7,
    "start_time": "2021-12-08T20:05:57.971Z"
   },
   {
    "duration": 42,
    "start_time": "2021-12-08T20:05:57.980Z"
   },
   {
    "duration": 271,
    "start_time": "2021-12-08T20:05:58.029Z"
   },
   {
    "duration": 181,
    "start_time": "2021-12-08T21:13:56.695Z"
   },
   {
    "duration": 179,
    "start_time": "2021-12-08T21:14:41.481Z"
   },
   {
    "duration": 15,
    "start_time": "2021-12-08T21:15:56.790Z"
   },
   {
    "duration": 14,
    "start_time": "2021-12-08T21:16:18.934Z"
   },
   {
    "duration": 180,
    "start_time": "2021-12-08T21:17:20.689Z"
   },
   {
    "duration": 190,
    "start_time": "2021-12-08T21:18:26.084Z"
   },
   {
    "duration": 211,
    "start_time": "2021-12-08T21:20:11.335Z"
   },
   {
    "duration": 3,
    "start_time": "2021-12-08T21:20:17.649Z"
   },
   {
    "duration": 83,
    "start_time": "2021-12-08T21:20:19.054Z"
   },
   {
    "duration": 43,
    "start_time": "2021-12-08T21:20:20.688Z"
   },
   {
    "duration": 10,
    "start_time": "2021-12-08T21:20:22.067Z"
   },
   {
    "duration": 14,
    "start_time": "2021-12-08T21:20:29.104Z"
   },
   {
    "duration": 12,
    "start_time": "2021-12-08T21:20:30.340Z"
   },
   {
    "duration": 17,
    "start_time": "2021-12-08T21:20:30.872Z"
   },
   {
    "duration": 14,
    "start_time": "2021-12-08T21:20:31.923Z"
   },
   {
    "duration": 15,
    "start_time": "2021-12-08T21:20:32.425Z"
   },
   {
    "duration": 16,
    "start_time": "2021-12-08T21:20:33.488Z"
   },
   {
    "duration": 18,
    "start_time": "2021-12-08T21:20:33.995Z"
   },
   {
    "duration": 19,
    "start_time": "2021-12-08T21:20:35.329Z"
   },
   {
    "duration": 16,
    "start_time": "2021-12-08T21:20:35.857Z"
   },
   {
    "duration": 6,
    "start_time": "2021-12-08T21:20:37.157Z"
   },
   {
    "duration": 6,
    "start_time": "2021-12-08T21:20:39.122Z"
   },
   {
    "duration": 6,
    "start_time": "2021-12-08T21:20:41.822Z"
   },
   {
    "duration": 5,
    "start_time": "2021-12-08T21:20:42.416Z"
   },
   {
    "duration": 5,
    "start_time": "2021-12-08T21:20:43.120Z"
   },
   {
    "duration": 6,
    "start_time": "2021-12-08T21:20:43.795Z"
   },
   {
    "duration": 28,
    "start_time": "2021-12-08T21:20:45.854Z"
   },
   {
    "duration": 12,
    "start_time": "2021-12-08T21:20:46.499Z"
   },
   {
    "duration": 4613,
    "start_time": "2021-12-08T21:20:47.408Z"
   },
   {
    "duration": 33,
    "start_time": "2021-12-08T21:20:52.023Z"
   },
   {
    "duration": 20,
    "start_time": "2021-12-08T21:20:52.057Z"
   },
   {
    "duration": 8,
    "start_time": "2021-12-08T21:20:52.217Z"
   },
   {
    "duration": 40,
    "start_time": "2021-12-08T21:20:54.239Z"
   },
   {
    "duration": 32,
    "start_time": "2021-12-08T21:21:01.722Z"
   },
   {
    "duration": 176,
    "start_time": "2021-12-08T21:21:07.004Z"
   },
   {
    "duration": 197,
    "start_time": "2021-12-08T21:21:24.922Z"
   },
   {
    "duration": 205,
    "start_time": "2021-12-08T21:21:25.964Z"
   },
   {
    "duration": 191,
    "start_time": "2021-12-08T21:21:27.836Z"
   },
   {
    "duration": 171,
    "start_time": "2021-12-08T21:21:28.865Z"
   },
   {
    "duration": 182,
    "start_time": "2021-12-08T21:21:30.935Z"
   },
   {
    "duration": 9,
    "start_time": "2021-12-08T21:21:33.202Z"
   },
   {
    "duration": 250,
    "start_time": "2021-12-08T21:21:34.026Z"
   },
   {
    "duration": 131,
    "start_time": "2021-12-08T21:21:34.753Z"
   },
   {
    "duration": 164,
    "start_time": "2021-12-08T21:21:35.649Z"
   },
   {
    "duration": 178,
    "start_time": "2021-12-08T21:21:37.013Z"
   },
   {
    "duration": 116,
    "start_time": "2021-12-08T21:21:37.720Z"
   },
   {
    "duration": 187,
    "start_time": "2021-12-08T21:21:38.424Z"
   },
   {
    "duration": 181,
    "start_time": "2021-12-08T21:22:03.251Z"
   },
   {
    "duration": 517,
    "start_time": "2021-12-08T21:22:06.647Z"
   },
   {
    "duration": 183,
    "start_time": "2021-12-08T21:22:07.465Z"
   },
   {
    "duration": 4,
    "start_time": "2021-12-08T21:22:09.683Z"
   },
   {
    "duration": 21,
    "start_time": "2021-12-08T21:22:10.682Z"
   },
   {
    "duration": 3,
    "start_time": "2021-12-08T21:22:11.612Z"
   },
   {
    "duration": 2,
    "start_time": "2021-12-08T21:22:12.880Z"
   },
   {
    "duration": 24,
    "start_time": "2021-12-08T21:22:13.716Z"
   },
   {
    "duration": 182,
    "start_time": "2021-12-08T21:22:31.847Z"
   },
   {
    "duration": 183,
    "start_time": "2021-12-08T21:22:32.976Z"
   },
   {
    "duration": 14,
    "start_time": "2021-12-08T21:22:34.125Z"
   },
   {
    "duration": 181,
    "start_time": "2021-12-08T21:22:36.052Z"
   },
   {
    "duration": 187,
    "start_time": "2021-12-08T21:22:40.240Z"
   },
   {
    "duration": 186,
    "start_time": "2021-12-08T21:22:57.272Z"
   },
   {
    "duration": 15,
    "start_time": "2021-12-08T21:23:49.399Z"
   },
   {
    "duration": 16,
    "start_time": "2021-12-08T21:24:06.952Z"
   },
   {
    "duration": 13,
    "start_time": "2021-12-08T21:24:40.870Z"
   },
   {
    "duration": 194,
    "start_time": "2021-12-08T21:26:07.477Z"
   },
   {
    "duration": 16,
    "start_time": "2021-12-08T21:28:33.779Z"
   },
   {
    "duration": 18,
    "start_time": "2021-12-08T21:33:00.700Z"
   },
   {
    "duration": 8915,
    "start_time": "2021-12-08T21:33:57.765Z"
   },
   {
    "duration": 6276,
    "start_time": "2021-12-08T21:34:20.187Z"
   },
   {
    "duration": 25,
    "start_time": "2021-12-08T21:34:30.097Z"
   },
   {
    "duration": 192,
    "start_time": "2021-12-08T21:38:12.485Z"
   },
   {
    "duration": 14,
    "start_time": "2021-12-08T21:41:29.600Z"
   },
   {
    "duration": 179,
    "start_time": "2021-12-08T21:41:35.748Z"
   },
   {
    "duration": 181,
    "start_time": "2021-12-08T21:41:36.242Z"
   },
   {
    "duration": 13,
    "start_time": "2021-12-08T21:41:36.707Z"
   },
   {
    "duration": 178,
    "start_time": "2021-12-08T21:41:37.342Z"
   },
   {
    "duration": 202,
    "start_time": "2021-12-08T21:41:37.825Z"
   },
   {
    "duration": 195,
    "start_time": "2021-12-08T21:41:38.516Z"
   },
   {
    "duration": 201,
    "start_time": "2021-12-08T21:41:40.269Z"
   },
   {
    "duration": 7,
    "start_time": "2021-12-08T21:41:42.801Z"
   },
   {
    "duration": 183,
    "start_time": "2021-12-08T21:41:43.553Z"
   },
   {
    "duration": 185,
    "start_time": "2021-12-08T21:41:44.995Z"
   },
   {
    "duration": 22,
    "start_time": "2021-12-08T21:41:48.297Z"
   },
   {
    "duration": 4,
    "start_time": "2021-12-08T21:41:49.280Z"
   },
   {
    "duration": 204,
    "start_time": "2021-12-08T21:41:50.120Z"
   },
   {
    "duration": 735,
    "start_time": "2021-12-08T21:41:56.107Z"
   },
   {
    "duration": 759,
    "start_time": "2021-12-08T21:41:58.020Z"
   },
   {
    "duration": 115,
    "start_time": "2021-12-08T21:42:00.191Z"
   },
   {
    "duration": 725,
    "start_time": "2021-12-08T21:42:01.323Z"
   },
   {
    "duration": 714,
    "start_time": "2021-12-08T21:42:23.366Z"
   },
   {
    "duration": 719,
    "start_time": "2021-12-08T21:45:18.834Z"
   },
   {
    "duration": 723,
    "start_time": "2021-12-08T21:46:25.247Z"
   },
   {
    "duration": 509,
    "start_time": "2021-12-08T21:47:42.650Z"
   },
   {
    "duration": 732,
    "start_time": "2021-12-08T21:49:55.446Z"
   },
   {
    "duration": 19,
    "start_time": "2021-12-08T22:01:41.188Z"
   },
   {
    "duration": 25,
    "start_time": "2021-12-08T22:01:53.033Z"
   },
   {
    "duration": 23,
    "start_time": "2021-12-08T22:02:06.636Z"
   },
   {
    "duration": 23,
    "start_time": "2021-12-08T22:02:23.761Z"
   },
   {
    "duration": 24,
    "start_time": "2021-12-08T22:02:38.302Z"
   },
   {
    "duration": 27,
    "start_time": "2021-12-08T22:05:48.326Z"
   },
   {
    "duration": 196,
    "start_time": "2021-12-08T22:06:28.350Z"
   },
   {
    "duration": 7,
    "start_time": "2021-12-08T22:09:14.797Z"
   },
   {
    "duration": 5,
    "start_time": "2021-12-08T22:09:34.202Z"
   },
   {
    "duration": 9,
    "start_time": "2021-12-08T22:09:52.742Z"
   },
   {
    "duration": 6,
    "start_time": "2021-12-08T22:10:44.941Z"
   },
   {
    "duration": 8,
    "start_time": "2021-12-08T22:10:54.268Z"
   },
   {
    "duration": 8,
    "start_time": "2021-12-08T22:11:55.842Z"
   },
   {
    "duration": 4,
    "start_time": "2021-12-08T22:13:27.462Z"
   },
   {
    "duration": 5,
    "start_time": "2021-12-08T22:13:43.177Z"
   },
   {
    "duration": 15,
    "start_time": "2021-12-08T22:16:38.549Z"
   },
   {
    "duration": 207,
    "start_time": "2021-12-08T22:28:34.246Z"
   },
   {
    "duration": 200,
    "start_time": "2021-12-08T22:28:47.605Z"
   },
   {
    "duration": 201,
    "start_time": "2021-12-08T22:29:09.652Z"
   },
   {
    "duration": 195,
    "start_time": "2021-12-08T22:29:20.428Z"
   },
   {
    "duration": 188,
    "start_time": "2021-12-08T22:29:38.575Z"
   },
   {
    "duration": 198,
    "start_time": "2021-12-08T22:30:08.034Z"
   },
   {
    "duration": 207,
    "start_time": "2021-12-08T22:30:15.368Z"
   },
   {
    "duration": 214,
    "start_time": "2021-12-08T22:30:45.099Z"
   },
   {
    "duration": 193,
    "start_time": "2021-12-08T22:31:09.753Z"
   },
   {
    "duration": 200,
    "start_time": "2021-12-08T22:31:26.808Z"
   },
   {
    "duration": 203,
    "start_time": "2021-12-08T22:31:38.438Z"
   },
   {
    "duration": 197,
    "start_time": "2021-12-08T22:31:49.878Z"
   },
   {
    "duration": 211,
    "start_time": "2021-12-08T22:32:02.104Z"
   },
   {
    "duration": 282,
    "start_time": "2021-12-08T22:32:11.126Z"
   },
   {
    "duration": 197,
    "start_time": "2021-12-08T22:32:21.987Z"
   },
   {
    "duration": 193,
    "start_time": "2021-12-08T22:32:40.134Z"
   },
   {
    "duration": 209,
    "start_time": "2021-12-08T22:32:51.020Z"
   },
   {
    "duration": 169,
    "start_time": "2021-12-08T22:33:00.680Z"
   },
   {
    "duration": 292,
    "start_time": "2021-12-08T22:33:11.709Z"
   },
   {
    "duration": 196,
    "start_time": "2021-12-08T22:33:26.957Z"
   },
   {
    "duration": 337,
    "start_time": "2021-12-08T22:40:43.421Z"
   },
   {
    "duration": 31,
    "start_time": "2021-12-08T22:49:40.217Z"
   },
   {
    "duration": 435,
    "start_time": "2021-12-08T22:50:29.446Z"
   },
   {
    "duration": 3,
    "start_time": "2021-12-08T22:50:46.812Z"
   },
   {
    "duration": 81,
    "start_time": "2021-12-08T22:50:46.824Z"
   },
   {
    "duration": 41,
    "start_time": "2021-12-08T22:50:46.907Z"
   },
   {
    "duration": 8,
    "start_time": "2021-12-08T22:50:46.950Z"
   },
   {
    "duration": 15,
    "start_time": "2021-12-08T22:50:46.960Z"
   },
   {
    "duration": 36,
    "start_time": "2021-12-08T22:50:46.976Z"
   },
   {
    "duration": 16,
    "start_time": "2021-12-08T22:50:47.014Z"
   },
   {
    "duration": 12,
    "start_time": "2021-12-08T22:50:47.031Z"
   },
   {
    "duration": 13,
    "start_time": "2021-12-08T22:50:47.045Z"
   },
   {
    "duration": 47,
    "start_time": "2021-12-08T22:50:47.060Z"
   },
   {
    "duration": 17,
    "start_time": "2021-12-08T22:50:47.109Z"
   },
   {
    "duration": 17,
    "start_time": "2021-12-08T22:50:47.128Z"
   },
   {
    "duration": 20,
    "start_time": "2021-12-08T22:50:47.147Z"
   },
   {
    "duration": 5,
    "start_time": "2021-12-08T22:50:47.168Z"
   },
   {
    "duration": 36,
    "start_time": "2021-12-08T22:50:47.175Z"
   },
   {
    "duration": 7,
    "start_time": "2021-12-08T22:50:47.213Z"
   },
   {
    "duration": 6,
    "start_time": "2021-12-08T22:50:47.221Z"
   },
   {
    "duration": 17,
    "start_time": "2021-12-08T22:50:47.229Z"
   },
   {
    "duration": 6,
    "start_time": "2021-12-08T22:50:47.248Z"
   },
   {
    "duration": 78,
    "start_time": "2021-12-08T22:50:47.256Z"
   },
   {
    "duration": 12,
    "start_time": "2021-12-08T22:50:47.336Z"
   },
   {
    "duration": 4328,
    "start_time": "2021-12-08T22:50:47.350Z"
   },
   {
    "duration": 40,
    "start_time": "2021-12-08T22:50:51.680Z"
   },
   {
    "duration": 19,
    "start_time": "2021-12-08T22:50:51.724Z"
   },
   {
    "duration": 8,
    "start_time": "2021-12-08T22:50:51.746Z"
   },
   {
    "duration": 31,
    "start_time": "2021-12-08T22:50:51.755Z"
   },
   {
    "duration": 186,
    "start_time": "2021-12-08T22:50:51.807Z"
   },
   {
    "duration": 212,
    "start_time": "2021-12-08T22:50:51.994Z"
   },
   {
    "duration": 209,
    "start_time": "2021-12-08T22:50:52.208Z"
   },
   {
    "duration": 206,
    "start_time": "2021-12-08T22:50:52.419Z"
   },
   {
    "duration": 184,
    "start_time": "2021-12-08T22:50:52.627Z"
   },
   {
    "duration": 185,
    "start_time": "2021-12-08T22:50:52.813Z"
   },
   {
    "duration": 15,
    "start_time": "2021-12-08T22:50:53.000Z"
   },
   {
    "duration": 272,
    "start_time": "2021-12-08T22:50:53.017Z"
   },
   {
    "duration": 113,
    "start_time": "2021-12-08T22:50:53.291Z"
   },
   {
    "duration": -159,
    "start_time": "2021-12-08T22:50:53.565Z"
   },
   {
    "duration": -185,
    "start_time": "2021-12-08T22:50:53.592Z"
   },
   {
    "duration": -209,
    "start_time": "2021-12-08T22:50:53.618Z"
   },
   {
    "duration": -225,
    "start_time": "2021-12-08T22:50:53.635Z"
   },
   {
    "duration": -257,
    "start_time": "2021-12-08T22:50:53.669Z"
   },
   {
    "duration": -287,
    "start_time": "2021-12-08T22:50:53.700Z"
   },
   {
    "duration": -316,
    "start_time": "2021-12-08T22:50:53.731Z"
   },
   {
    "duration": -352,
    "start_time": "2021-12-08T22:50:53.768Z"
   },
   {
    "duration": -363,
    "start_time": "2021-12-08T22:50:53.781Z"
   },
   {
    "duration": -390,
    "start_time": "2021-12-08T22:50:53.809Z"
   },
   {
    "duration": -411,
    "start_time": "2021-12-08T22:50:53.832Z"
   },
   {
    "duration": -442,
    "start_time": "2021-12-08T22:50:53.864Z"
   },
   {
    "duration": -470,
    "start_time": "2021-12-08T22:50:53.893Z"
   },
   {
    "duration": -489,
    "start_time": "2021-12-08T22:50:53.914Z"
   },
   {
    "duration": -509,
    "start_time": "2021-12-08T22:50:53.935Z"
   },
   {
    "duration": -565,
    "start_time": "2021-12-08T22:50:53.992Z"
   },
   {
    "duration": -586,
    "start_time": "2021-12-08T22:50:54.014Z"
   },
   {
    "duration": -606,
    "start_time": "2021-12-08T22:50:54.035Z"
   },
   {
    "duration": -616,
    "start_time": "2021-12-08T22:50:54.046Z"
   },
   {
    "duration": -648,
    "start_time": "2021-12-08T22:50:54.079Z"
   },
   {
    "duration": -675,
    "start_time": "2021-12-08T22:50:54.107Z"
   },
   {
    "duration": -689,
    "start_time": "2021-12-08T22:50:54.122Z"
   },
   {
    "duration": -703,
    "start_time": "2021-12-08T22:50:54.137Z"
   },
   {
    "duration": -723,
    "start_time": "2021-12-08T22:50:54.158Z"
   },
   {
    "duration": -746,
    "start_time": "2021-12-08T22:50:54.182Z"
   },
   {
    "duration": -766,
    "start_time": "2021-12-08T22:50:54.203Z"
   },
   {
    "duration": -786,
    "start_time": "2021-12-08T22:50:54.224Z"
   },
   {
    "duration": -808,
    "start_time": "2021-12-08T22:50:54.247Z"
   },
   {
    "duration": -829,
    "start_time": "2021-12-08T22:50:54.269Z"
   },
   {
    "duration": -840,
    "start_time": "2021-12-08T22:50:54.281Z"
   },
   {
    "duration": -869,
    "start_time": "2021-12-08T22:50:54.311Z"
   },
   {
    "duration": -891,
    "start_time": "2021-12-08T22:50:54.334Z"
   },
   {
    "duration": -909,
    "start_time": "2021-12-08T22:50:54.353Z"
   },
   {
    "duration": -929,
    "start_time": "2021-12-08T22:50:54.374Z"
   },
   {
    "duration": 366,
    "start_time": "2021-12-08T22:51:12.210Z"
   },
   {
    "duration": 29,
    "start_time": "2021-12-08T22:51:40.381Z"
   },
   {
    "duration": 195,
    "start_time": "2021-12-08T22:51:43.002Z"
   },
   {
    "duration": 6,
    "start_time": "2021-12-08T22:51:44.075Z"
   },
   {
    "duration": 165,
    "start_time": "2021-12-08T22:51:44.670Z"
   },
   {
    "duration": 176,
    "start_time": "2021-12-08T22:51:45.412Z"
   },
   {
    "duration": 19,
    "start_time": "2021-12-08T22:51:46.663Z"
   },
   {
    "duration": 4,
    "start_time": "2021-12-08T22:51:47.855Z"
   },
   {
    "duration": 202,
    "start_time": "2021-12-08T22:51:48.386Z"
   },
   {
    "duration": 682,
    "start_time": "2021-12-08T22:51:51.752Z"
   },
   {
    "duration": 690,
    "start_time": "2021-12-08T22:51:53.454Z"
   },
   {
    "duration": 674,
    "start_time": "2021-12-08T22:51:54.872Z"
   },
   {
    "duration": 136,
    "start_time": "2021-12-08T22:51:55.548Z"
   },
   {
    "duration": 1216,
    "start_time": "2021-12-08T22:51:56.010Z"
   },
   {
    "duration": -10351,
    "start_time": "2021-12-08T22:52:07.597Z"
   },
   {
    "duration": 885,
    "start_time": "2021-12-08T22:51:57.310Z"
   },
   {
    "duration": -14648,
    "start_time": "2021-12-08T22:52:12.855Z"
   },
   {
    "duration": 353,
    "start_time": "2021-12-08T22:52:00.098Z"
   },
   {
    "duration": 350,
    "start_time": "2021-12-08T22:52:39.507Z"
   },
   {
    "duration": 12,
    "start_time": "2021-12-08T22:52:52.030Z"
   },
   {
    "duration": 395,
    "start_time": "2021-12-08T22:54:12.633Z"
   },
   {
    "duration": 20,
    "start_time": "2021-12-08T22:54:27.259Z"
   },
   {
    "duration": 9373,
    "start_time": "2021-12-08T22:56:18.160Z"
   },
   {
    "duration": 3,
    "start_time": "2021-12-08T22:59:39.578Z"
   },
   {
    "duration": 82,
    "start_time": "2021-12-08T22:59:40.242Z"
   },
   {
    "duration": 45,
    "start_time": "2021-12-08T22:59:40.898Z"
   },
   {
    "duration": 10,
    "start_time": "2021-12-08T22:59:41.153Z"
   },
   {
    "duration": 14,
    "start_time": "2021-12-08T22:59:43.859Z"
   },
   {
    "duration": 12,
    "start_time": "2021-12-08T22:59:44.278Z"
   },
   {
    "duration": 16,
    "start_time": "2021-12-08T22:59:44.509Z"
   },
   {
    "duration": 12,
    "start_time": "2021-12-08T22:59:44.949Z"
   },
   {
    "duration": 14,
    "start_time": "2021-12-08T22:59:45.162Z"
   },
   {
    "duration": 14,
    "start_time": "2021-12-08T22:59:45.586Z"
   },
   {
    "duration": 18,
    "start_time": "2021-12-08T22:59:45.779Z"
   },
   {
    "duration": 19,
    "start_time": "2021-12-08T22:59:46.215Z"
   },
   {
    "duration": 17,
    "start_time": "2021-12-08T22:59:46.428Z"
   },
   {
    "duration": 6,
    "start_time": "2021-12-08T22:59:46.848Z"
   },
   {
    "duration": 6,
    "start_time": "2021-12-08T22:59:47.273Z"
   },
   {
    "duration": 5,
    "start_time": "2021-12-08T22:59:48.128Z"
   },
   {
    "duration": 7,
    "start_time": "2021-12-08T22:59:48.311Z"
   },
   {
    "duration": 16,
    "start_time": "2021-12-08T22:59:48.533Z"
   },
   {
    "duration": 5,
    "start_time": "2021-12-08T22:59:48.764Z"
   },
   {
    "duration": 28,
    "start_time": "2021-12-08T22:59:49.439Z"
   },
   {
    "duration": 13,
    "start_time": "2021-12-08T22:59:49.681Z"
   },
   {
    "duration": 3983,
    "start_time": "2021-12-08T22:59:49.887Z"
   },
   {
    "duration": 44,
    "start_time": "2021-12-08T22:59:53.872Z"
   },
   {
    "duration": 21,
    "start_time": "2021-12-08T22:59:53.918Z"
   },
   {
    "duration": 8,
    "start_time": "2021-12-08T22:59:53.941Z"
   },
   {
    "duration": 31,
    "start_time": "2021-12-08T22:59:53.951Z"
   },
   {
    "duration": 206,
    "start_time": "2021-12-08T22:59:53.984Z"
   },
   {
    "duration": 215,
    "start_time": "2021-12-08T22:59:54.191Z"
   },
   {
    "duration": 223,
    "start_time": "2021-12-08T22:59:54.408Z"
   },
   {
    "duration": 215,
    "start_time": "2021-12-08T22:59:54.633Z"
   },
   {
    "duration": 184,
    "start_time": "2021-12-08T22:59:54.850Z"
   },
   {
    "duration": 189,
    "start_time": "2021-12-08T22:59:55.035Z"
   },
   {
    "duration": 9,
    "start_time": "2021-12-08T22:59:55.226Z"
   },
   {
    "duration": 262,
    "start_time": "2021-12-08T22:59:55.236Z"
   },
   {
    "duration": 175,
    "start_time": "2021-12-08T22:59:55.500Z"
   },
   {
    "duration": 199,
    "start_time": "2021-12-08T22:59:55.677Z"
   },
   {
    "duration": 198,
    "start_time": "2021-12-08T22:59:55.878Z"
   },
   {
    "duration": 189,
    "start_time": "2021-12-08T22:59:57.651Z"
   },
   {
    "duration": 172,
    "start_time": "2021-12-08T22:59:57.972Z"
   },
   {
    "duration": 4,
    "start_time": "2021-12-08T22:59:58.876Z"
   },
   {
    "duration": 20,
    "start_time": "2021-12-08T22:59:59.147Z"
   },
   {
    "duration": 2,
    "start_time": "2021-12-08T22:59:59.385Z"
   },
   {
    "duration": 2,
    "start_time": "2021-12-08T22:59:59.653Z"
   },
   {
    "duration": 26,
    "start_time": "2021-12-08T22:59:59.967Z"
   },
   {
    "duration": 9,
    "start_time": "2021-12-08T23:00:00.193Z"
   },
   {
    "duration": 199,
    "start_time": "2021-12-08T23:00:00.909Z"
   },
   {
    "duration": 192,
    "start_time": "2021-12-08T23:00:01.123Z"
   },
   {
    "duration": 13,
    "start_time": "2021-12-08T23:00:01.337Z"
   },
   {
    "duration": 189,
    "start_time": "2021-12-08T23:00:01.573Z"
   },
   {
    "duration": 218,
    "start_time": "2021-12-08T23:00:01.806Z"
   },
   {
    "duration": 210,
    "start_time": "2021-12-08T23:00:02.026Z"
   },
   {
    "duration": 33,
    "start_time": "2021-12-08T23:00:02.241Z"
   },
   {
    "duration": 209,
    "start_time": "2021-12-08T23:00:02.754Z"
   },
   {
    "duration": 6,
    "start_time": "2021-12-08T23:00:03.652Z"
   },
   {
    "duration": 180,
    "start_time": "2021-12-08T23:00:03.928Z"
   },
   {
    "duration": 186,
    "start_time": "2021-12-08T23:00:04.450Z"
   },
   {
    "duration": 21,
    "start_time": "2021-12-08T23:00:05.529Z"
   },
   {
    "duration": 4,
    "start_time": "2021-12-08T23:00:05.772Z"
   },
   {
    "duration": 207,
    "start_time": "2021-12-08T23:00:06.021Z"
   },
   {
    "duration": 727,
    "start_time": "2021-12-08T23:00:07.204Z"
   },
   {
    "duration": 734,
    "start_time": "2021-12-08T23:00:07.933Z"
   },
   {
    "duration": 739,
    "start_time": "2021-12-08T23:00:08.669Z"
   },
   {
    "duration": 51,
    "start_time": "2021-12-08T23:00:09.411Z"
   },
   {
    "duration": 6881,
    "start_time": "2021-12-08T23:00:09.464Z"
   },
   {
    "duration": 367,
    "start_time": "2021-12-08T23:05:18.010Z"
   },
   {
    "duration": 10620,
    "start_time": "2021-12-08T23:10:50.449Z"
   },
   {
    "duration": 14070,
    "start_time": "2021-12-08T23:11:43.949Z"
   },
   {
    "duration": 14825,
    "start_time": "2021-12-08T23:12:30.536Z"
   },
   {
    "duration": 350,
    "start_time": "2021-12-08T23:12:55.048Z"
   },
   {
    "duration": 358,
    "start_time": "2021-12-08T23:13:16.125Z"
   },
   {
    "duration": 358,
    "start_time": "2021-12-08T23:13:28.961Z"
   },
   {
    "duration": 373,
    "start_time": "2021-12-08T23:15:18.891Z"
   },
   {
    "duration": 2,
    "start_time": "2021-12-08T23:16:34.669Z"
   },
   {
    "duration": 86,
    "start_time": "2021-12-08T23:16:35.351Z"
   },
   {
    "duration": 48,
    "start_time": "2021-12-08T23:16:36.020Z"
   },
   {
    "duration": 9,
    "start_time": "2021-12-08T23:16:36.426Z"
   },
   {
    "duration": 14,
    "start_time": "2021-12-08T23:16:39.653Z"
   },
   {
    "duration": 13,
    "start_time": "2021-12-08T23:16:40.165Z"
   },
   {
    "duration": 17,
    "start_time": "2021-12-08T23:16:40.396Z"
   },
   {
    "duration": 13,
    "start_time": "2021-12-08T23:16:41.733Z"
   },
   {
    "duration": 14,
    "start_time": "2021-12-08T23:16:42.074Z"
   },
   {
    "duration": 15,
    "start_time": "2021-12-08T23:16:42.684Z"
   },
   {
    "duration": 18,
    "start_time": "2021-12-08T23:16:42.946Z"
   },
   {
    "duration": 19,
    "start_time": "2021-12-08T23:16:43.390Z"
   },
   {
    "duration": 18,
    "start_time": "2021-12-08T23:16:43.611Z"
   },
   {
    "duration": 5,
    "start_time": "2021-12-08T23:16:44.083Z"
   },
   {
    "duration": 5,
    "start_time": "2021-12-08T23:16:44.514Z"
   },
   {
    "duration": 6,
    "start_time": "2021-12-08T23:16:45.396Z"
   },
   {
    "duration": 6,
    "start_time": "2021-12-08T23:16:45.666Z"
   },
   {
    "duration": 16,
    "start_time": "2021-12-08T23:16:45.905Z"
   },
   {
    "duration": 5,
    "start_time": "2021-12-08T23:16:46.130Z"
   },
   {
    "duration": 28,
    "start_time": "2021-12-08T23:16:46.770Z"
   },
   {
    "duration": 12,
    "start_time": "2021-12-08T23:16:47.005Z"
   },
   {
    "duration": 4510,
    "start_time": "2021-12-08T23:16:47.214Z"
   },
   {
    "duration": 35,
    "start_time": "2021-12-08T23:16:51.726Z"
   },
   {
    "duration": 20,
    "start_time": "2021-12-08T23:16:51.763Z"
   },
   {
    "duration": 30,
    "start_time": "2021-12-08T23:16:51.785Z"
   },
   {
    "duration": 33,
    "start_time": "2021-12-08T23:16:51.816Z"
   },
   {
    "duration": 209,
    "start_time": "2021-12-08T23:16:51.851Z"
   },
   {
    "duration": 217,
    "start_time": "2021-12-08T23:16:52.062Z"
   },
   {
    "duration": 211,
    "start_time": "2021-12-08T23:16:52.281Z"
   },
   {
    "duration": 212,
    "start_time": "2021-12-08T23:16:52.494Z"
   },
   {
    "duration": 191,
    "start_time": "2021-12-08T23:16:52.708Z"
   },
   {
    "duration": 198,
    "start_time": "2021-12-08T23:16:52.901Z"
   },
   {
    "duration": 12,
    "start_time": "2021-12-08T23:16:53.101Z"
   },
   {
    "duration": 263,
    "start_time": "2021-12-08T23:16:53.114Z"
   },
   {
    "duration": 189,
    "start_time": "2021-12-08T23:16:53.379Z"
   },
   {
    "duration": 183,
    "start_time": "2021-12-08T23:16:54.964Z"
   },
   {
    "duration": 173,
    "start_time": "2021-12-08T23:16:55.463Z"
   },
   {
    "duration": 213,
    "start_time": "2021-12-08T23:16:55.953Z"
   },
   {
    "duration": 166,
    "start_time": "2021-12-08T23:16:56.248Z"
   },
   {
    "duration": 4,
    "start_time": "2021-12-08T23:16:58.450Z"
   },
   {
    "duration": 22,
    "start_time": "2021-12-08T23:16:58.812Z"
   },
   {
    "duration": 2,
    "start_time": "2021-12-08T23:16:59.151Z"
   },
   {
    "duration": 2,
    "start_time": "2021-12-08T23:17:00.152Z"
   },
   {
    "duration": 27,
    "start_time": "2021-12-08T23:17:00.413Z"
   },
   {
    "duration": 9,
    "start_time": "2021-12-08T23:17:01.443Z"
   },
   {
    "duration": 178,
    "start_time": "2021-12-08T23:17:03.806Z"
   },
   {
    "duration": 184,
    "start_time": "2021-12-08T23:17:04.305Z"
   },
   {
    "duration": 13,
    "start_time": "2021-12-08T23:17:04.542Z"
   },
   {
    "duration": 174,
    "start_time": "2021-12-08T23:17:04.955Z"
   },
   {
    "duration": 187,
    "start_time": "2021-12-08T23:17:05.175Z"
   },
   {
    "duration": 180,
    "start_time": "2021-12-08T23:17:05.410Z"
   },
   {
    "duration": 351,
    "start_time": "2021-12-08T23:17:05.653Z"
   },
   {
    "duration": 195,
    "start_time": "2021-12-08T23:17:06.104Z"
   },
   {
    "duration": 6,
    "start_time": "2021-12-08T23:17:07.682Z"
   },
   {
    "duration": 163,
    "start_time": "2021-12-08T23:17:08.230Z"
   },
   {
    "duration": 172,
    "start_time": "2021-12-08T23:17:08.798Z"
   },
   {
    "duration": 26,
    "start_time": "2021-12-08T23:17:11.083Z"
   },
   {
    "duration": 3,
    "start_time": "2021-12-08T23:17:11.848Z"
   },
   {
    "duration": 199,
    "start_time": "2021-12-08T23:17:12.258Z"
   },
   {
    "duration": 709,
    "start_time": "2021-12-08T23:17:16.539Z"
   },
   {
    "duration": 709,
    "start_time": "2021-12-08T23:17:17.250Z"
   },
   {
    "duration": 711,
    "start_time": "2021-12-08T23:17:17.960Z"
   },
   {
    "duration": 48,
    "start_time": "2021-12-08T23:17:18.995Z"
   },
   {
    "duration": 440,
    "start_time": "2021-12-08T23:17:20.388Z"
   },
   {
    "duration": 391,
    "start_time": "2021-12-08T23:17:34.007Z"
   },
   {
    "duration": 798,
    "start_time": "2021-12-08T23:18:15.189Z"
   },
   {
    "duration": 3,
    "start_time": "2021-12-08T23:18:41.800Z"
   },
   {
    "duration": 83,
    "start_time": "2021-12-08T23:18:41.809Z"
   },
   {
    "duration": 49,
    "start_time": "2021-12-08T23:18:41.894Z"
   },
   {
    "duration": 9,
    "start_time": "2021-12-08T23:18:41.946Z"
   },
   {
    "duration": 14,
    "start_time": "2021-12-08T23:18:41.957Z"
   },
   {
    "duration": 42,
    "start_time": "2021-12-08T23:18:41.973Z"
   },
   {
    "duration": 16,
    "start_time": "2021-12-08T23:18:42.017Z"
   },
   {
    "duration": 13,
    "start_time": "2021-12-08T23:18:42.035Z"
   },
   {
    "duration": 54,
    "start_time": "2021-12-08T23:18:42.052Z"
   },
   {
    "duration": 14,
    "start_time": "2021-12-08T23:18:42.108Z"
   },
   {
    "duration": 16,
    "start_time": "2021-12-08T23:18:42.124Z"
   },
   {
    "duration": 17,
    "start_time": "2021-12-08T23:18:42.141Z"
   },
   {
    "duration": 49,
    "start_time": "2021-12-08T23:18:42.159Z"
   },
   {
    "duration": 5,
    "start_time": "2021-12-08T23:18:42.210Z"
   },
   {
    "duration": 5,
    "start_time": "2021-12-08T23:18:42.216Z"
   },
   {
    "duration": 5,
    "start_time": "2021-12-08T23:18:42.223Z"
   },
   {
    "duration": 6,
    "start_time": "2021-12-08T23:18:42.229Z"
   },
   {
    "duration": 14,
    "start_time": "2021-12-08T23:18:42.237Z"
   },
   {
    "duration": 5,
    "start_time": "2021-12-08T23:18:42.252Z"
   },
   {
    "duration": 68,
    "start_time": "2021-12-08T23:18:42.259Z"
   },
   {
    "duration": 12,
    "start_time": "2021-12-08T23:18:42.328Z"
   },
   {
    "duration": 3825,
    "start_time": "2021-12-08T23:18:42.341Z"
   },
   {
    "duration": 44,
    "start_time": "2021-12-08T23:18:46.168Z"
   },
   {
    "duration": 21,
    "start_time": "2021-12-08T23:18:46.217Z"
   },
   {
    "duration": 8,
    "start_time": "2021-12-08T23:18:46.241Z"
   },
   {
    "duration": 30,
    "start_time": "2021-12-08T23:18:46.251Z"
   },
   {
    "duration": 201,
    "start_time": "2021-12-08T23:18:46.307Z"
   },
   {
    "duration": 282,
    "start_time": "2021-12-08T23:18:46.510Z"
   },
   {
    "duration": 198,
    "start_time": "2021-12-08T23:18:46.794Z"
   },
   {
    "duration": 202,
    "start_time": "2021-12-08T23:18:46.994Z"
   },
   {
    "duration": 185,
    "start_time": "2021-12-08T23:18:47.197Z"
   },
   {
    "duration": 181,
    "start_time": "2021-12-08T23:18:47.383Z"
   },
   {
    "duration": 8,
    "start_time": "2021-12-08T23:18:47.566Z"
   },
   {
    "duration": 265,
    "start_time": "2021-12-08T23:18:47.576Z"
   },
   {
    "duration": 178,
    "start_time": "2021-12-08T23:18:47.843Z"
   },
   {
    "duration": 190,
    "start_time": "2021-12-08T23:18:48.023Z"
   },
   {
    "duration": 188,
    "start_time": "2021-12-08T23:18:48.214Z"
   },
   {
    "duration": 212,
    "start_time": "2021-12-08T23:18:48.404Z"
   },
   {
    "duration": 188,
    "start_time": "2021-12-08T23:18:48.618Z"
   },
   {
    "duration": 5,
    "start_time": "2021-12-08T23:18:48.808Z"
   },
   {
    "duration": 21,
    "start_time": "2021-12-08T23:18:48.815Z"
   },
   {
    "duration": 2,
    "start_time": "2021-12-08T23:18:48.838Z"
   },
   {
    "duration": 4,
    "start_time": "2021-12-08T23:18:48.843Z"
   },
   {
    "duration": 25,
    "start_time": "2021-12-08T23:18:48.848Z"
   },
   {
    "duration": 39,
    "start_time": "2021-12-08T23:18:48.875Z"
   },
   {
    "duration": 194,
    "start_time": "2021-12-08T23:18:48.916Z"
   },
   {
    "duration": 187,
    "start_time": "2021-12-08T23:18:49.112Z"
   },
   {
    "duration": 12,
    "start_time": "2021-12-08T23:18:49.300Z"
   },
   {
    "duration": 185,
    "start_time": "2021-12-08T23:18:49.314Z"
   },
   {
    "duration": 199,
    "start_time": "2021-12-08T23:18:49.500Z"
   },
   {
    "duration": 187,
    "start_time": "2021-12-08T23:18:49.700Z"
   },
   {
    "duration": 483,
    "start_time": "2021-12-08T23:18:49.888Z"
   },
   {
    "duration": -165,
    "start_time": "2021-12-08T23:18:50.539Z"
   },
   {
    "duration": -179,
    "start_time": "2021-12-08T23:18:50.554Z"
   },
   {
    "duration": -190,
    "start_time": "2021-12-08T23:18:50.566Z"
   },
   {
    "duration": -223,
    "start_time": "2021-12-08T23:18:50.600Z"
   },
   {
    "duration": -318,
    "start_time": "2021-12-08T23:18:50.696Z"
   },
   {
    "duration": -337,
    "start_time": "2021-12-08T23:18:50.716Z"
   },
   {
    "duration": -356,
    "start_time": "2021-12-08T23:18:50.736Z"
   },
   {
    "duration": -368,
    "start_time": "2021-12-08T23:18:50.749Z"
   },
   {
    "duration": -403,
    "start_time": "2021-12-08T23:18:50.785Z"
   },
   {
    "duration": -422,
    "start_time": "2021-12-08T23:18:50.805Z"
   },
   {
    "duration": -451,
    "start_time": "2021-12-08T23:18:50.835Z"
   },
   {
    "duration": -479,
    "start_time": "2021-12-08T23:18:50.864Z"
   },
   {
    "duration": 425,
    "start_time": "2021-12-08T23:19:10.213Z"
   },
   {
    "duration": 34,
    "start_time": "2021-12-08T23:19:24.444Z"
   },
   {
    "duration": 6886,
    "start_time": "2021-12-08T23:19:35.891Z"
   },
   {
    "duration": 3,
    "start_time": "2021-12-08T23:36:45.376Z"
   },
   {
    "duration": 87,
    "start_time": "2021-12-08T23:36:47.521Z"
   },
   {
    "duration": 92,
    "start_time": "2021-12-08T23:40:46.708Z"
   },
   {
    "duration": 20,
    "start_time": "2021-12-08T23:42:11.938Z"
   },
   {
    "duration": 9,
    "start_time": "2021-12-08T23:42:38.884Z"
   },
   {
    "duration": 15,
    "start_time": "2021-12-08T23:47:16.826Z"
   },
   {
    "duration": 11,
    "start_time": "2021-12-08T23:48:23.676Z"
   },
   {
    "duration": 11,
    "start_time": "2021-12-08T23:50:15.483Z"
   },
   {
    "duration": 13,
    "start_time": "2021-12-08T23:51:42.175Z"
   },
   {
    "duration": 18,
    "start_time": "2021-12-08T23:53:41.685Z"
   },
   {
    "duration": 335,
    "start_time": "2021-12-08T23:55:24.093Z"
   },
   {
    "duration": 113,
    "start_time": "2021-12-08T23:56:21.054Z"
   },
   {
    "duration": 344,
    "start_time": "2021-12-08T23:56:38.169Z"
   },
   {
    "duration": 4972,
    "start_time": "2021-12-08T23:58:41.385Z"
   },
   {
    "duration": 3,
    "start_time": "2021-12-09T00:06:14.596Z"
   },
   {
    "duration": 90,
    "start_time": "2021-12-09T00:06:15.590Z"
   },
   {
    "duration": 20,
    "start_time": "2021-12-09T00:06:17.253Z"
   },
   {
    "duration": 9,
    "start_time": "2021-12-09T00:06:17.830Z"
   },
   {
    "duration": 15,
    "start_time": "2021-12-09T00:07:00.068Z"
   },
   {
    "duration": 13,
    "start_time": "2021-12-09T00:07:01.931Z"
   },
   {
    "duration": 16,
    "start_time": "2021-12-09T00:07:02.672Z"
   },
   {
    "duration": 14,
    "start_time": "2021-12-09T00:07:04.422Z"
   },
   {
    "duration": 14,
    "start_time": "2021-12-09T00:07:05.477Z"
   },
   {
    "duration": 14,
    "start_time": "2021-12-09T00:07:08.027Z"
   },
   {
    "duration": 18,
    "start_time": "2021-12-09T00:07:09.458Z"
   },
   {
    "duration": 20,
    "start_time": "2021-12-09T00:07:11.384Z"
   },
   {
    "duration": 15,
    "start_time": "2021-12-09T00:07:12.526Z"
   },
   {
    "duration": 6,
    "start_time": "2021-12-09T00:07:14.870Z"
   },
   {
    "duration": 6,
    "start_time": "2021-12-09T00:07:16.786Z"
   },
   {
    "duration": 6,
    "start_time": "2021-12-09T00:07:19.915Z"
   },
   {
    "duration": 7,
    "start_time": "2021-12-09T00:07:20.699Z"
   },
   {
    "duration": 4,
    "start_time": "2021-12-09T00:07:21.459Z"
   },
   {
    "duration": 7,
    "start_time": "2021-12-09T00:07:22.298Z"
   },
   {
    "duration": 29,
    "start_time": "2021-12-09T00:07:31.528Z"
   },
   {
    "duration": 13,
    "start_time": "2021-12-09T00:07:33.357Z"
   },
   {
    "duration": 4327,
    "start_time": "2021-12-09T00:07:34.133Z"
   },
   {
    "duration": 44,
    "start_time": "2021-12-09T00:07:38.462Z"
   },
   {
    "duration": 21,
    "start_time": "2021-12-09T00:07:38.509Z"
   },
   {
    "duration": 10,
    "start_time": "2021-12-09T00:07:38.532Z"
   },
   {
    "duration": 32,
    "start_time": "2021-12-09T00:07:38.544Z"
   },
   {
    "duration": 177,
    "start_time": "2021-12-09T00:07:40.503Z"
   },
   {
    "duration": 208,
    "start_time": "2021-12-09T00:07:41.270Z"
   },
   {
    "duration": 202,
    "start_time": "2021-12-09T00:07:42.107Z"
   },
   {
    "duration": 201,
    "start_time": "2021-12-09T00:07:44.614Z"
   },
   {
    "duration": 179,
    "start_time": "2021-12-09T00:07:45.560Z"
   },
   {
    "duration": 176,
    "start_time": "2021-12-09T00:07:47.116Z"
   },
   {
    "duration": 9,
    "start_time": "2021-12-09T00:07:49.714Z"
   },
   {
    "duration": 248,
    "start_time": "2021-12-09T00:07:50.771Z"
   },
   {
    "duration": 172,
    "start_time": "2021-12-09T00:07:52.166Z"
   },
   {
    "duration": 176,
    "start_time": "2021-12-09T00:07:53.972Z"
   },
   {
    "duration": 236,
    "start_time": "2021-12-09T00:07:56.110Z"
   },
   {
    "duration": 203,
    "start_time": "2021-12-09T00:07:58.235Z"
   },
   {
    "duration": 175,
    "start_time": "2021-12-09T00:07:59.147Z"
   },
   {
    "duration": 4,
    "start_time": "2021-12-09T00:10:28.642Z"
   },
   {
    "duration": 22,
    "start_time": "2021-12-09T00:10:29.468Z"
   },
   {
    "duration": 26,
    "start_time": "2021-12-09T00:10:41.016Z"
   },
   {
    "duration": 21,
    "start_time": "2021-12-09T00:10:50.949Z"
   },
   {
    "duration": 21,
    "start_time": "2021-12-09T00:11:02.011Z"
   },
   {
    "duration": 177,
    "start_time": "2021-12-09T00:12:25.748Z"
   },
   {
    "duration": 179,
    "start_time": "2021-12-09T00:12:27.402Z"
   },
   {
    "duration": 13,
    "start_time": "2021-12-09T00:12:35.094Z"
   },
   {
    "duration": 171,
    "start_time": "2021-12-09T00:12:36.860Z"
   },
   {
    "duration": 191,
    "start_time": "2021-12-09T00:12:38.153Z"
   },
   {
    "duration": 185,
    "start_time": "2021-12-09T00:12:39.842Z"
   },
   {
    "duration": 29,
    "start_time": "2021-12-09T00:12:41.487Z"
   },
   {
    "duration": 199,
    "start_time": "2021-12-09T00:14:29.904Z"
   },
   {
    "duration": 6,
    "start_time": "2021-12-09T00:15:35.617Z"
   },
   {
    "duration": 6,
    "start_time": "2021-12-09T00:16:00.670Z"
   },
   {
    "duration": 175,
    "start_time": "2021-12-09T00:16:11.898Z"
   },
   {
    "duration": 177,
    "start_time": "2021-12-09T00:16:42.690Z"
   },
   {
    "duration": 20,
    "start_time": "2021-12-09T00:17:17.664Z"
   },
   {
    "duration": 4,
    "start_time": "2021-12-09T00:17:24.698Z"
   },
   {
    "duration": 201,
    "start_time": "2021-12-09T00:17:29.673Z"
   },
   {
    "duration": 678,
    "start_time": "2021-12-09T00:18:06.360Z"
   },
   {
    "duration": 706,
    "start_time": "2021-12-09T00:18:38.978Z"
   },
   {
    "duration": 696,
    "start_time": "2021-12-09T00:19:26.733Z"
   },
   {
    "duration": 48,
    "start_time": "2021-12-09T00:19:44.578Z"
   },
   {
    "duration": 5663,
    "start_time": "2021-12-09T00:21:27.089Z"
   },
   {
    "duration": 127,
    "start_time": "2021-12-09T00:24:21.681Z"
   },
   {
    "duration": 3,
    "start_time": "2021-12-09T00:29:58.673Z"
   },
   {
    "duration": 85,
    "start_time": "2021-12-09T00:30:00.678Z"
   },
   {
    "duration": 19,
    "start_time": "2021-12-09T00:30:04.910Z"
   },
   {
    "duration": 9,
    "start_time": "2021-12-09T00:30:06.593Z"
   },
   {
    "duration": 14,
    "start_time": "2021-12-09T00:30:13.721Z"
   },
   {
    "duration": 12,
    "start_time": "2021-12-09T00:30:17.545Z"
   },
   {
    "duration": 15,
    "start_time": "2021-12-09T00:30:18.758Z"
   },
   {
    "duration": 12,
    "start_time": "2021-12-09T00:30:22.047Z"
   },
   {
    "duration": 15,
    "start_time": "2021-12-09T00:30:22.846Z"
   },
   {
    "duration": 15,
    "start_time": "2021-12-09T00:30:41.450Z"
   },
   {
    "duration": 18,
    "start_time": "2021-12-09T00:30:42.761Z"
   },
   {
    "duration": 18,
    "start_time": "2021-12-09T00:30:45.552Z"
   },
   {
    "duration": 16,
    "start_time": "2021-12-09T00:30:46.776Z"
   },
   {
    "duration": 5,
    "start_time": "2021-12-09T00:30:48.296Z"
   },
   {
    "duration": 5,
    "start_time": "2021-12-09T00:30:50.494Z"
   },
   {
    "duration": 7,
    "start_time": "2021-12-09T00:30:56.208Z"
   },
   {
    "duration": 6,
    "start_time": "2021-12-09T00:30:57.019Z"
   },
   {
    "duration": 4,
    "start_time": "2021-12-09T00:30:58.020Z"
   },
   {
    "duration": 5,
    "start_time": "2021-12-09T00:30:59.023Z"
   },
   {
    "duration": 29,
    "start_time": "2021-12-09T00:31:01.393Z"
   },
   {
    "duration": 12,
    "start_time": "2021-12-09T00:31:02.344Z"
   },
   {
    "duration": 3816,
    "start_time": "2021-12-09T00:31:03.123Z"
   },
   {
    "duration": 30,
    "start_time": "2021-12-09T00:31:08.480Z"
   },
   {
    "duration": 20,
    "start_time": "2021-12-09T00:31:10.170Z"
   },
   {
    "duration": 8,
    "start_time": "2021-12-09T00:31:10.837Z"
   },
   {
    "duration": 29,
    "start_time": "2021-12-09T00:31:12.534Z"
   },
   {
    "duration": 166,
    "start_time": "2021-12-09T00:31:14.913Z"
   },
   {
    "duration": 188,
    "start_time": "2021-12-09T00:31:15.628Z"
   },
   {
    "duration": 183,
    "start_time": "2021-12-09T00:31:16.600Z"
   },
   {
    "duration": 198,
    "start_time": "2021-12-09T00:31:17.610Z"
   },
   {
    "duration": 170,
    "start_time": "2021-12-09T00:31:19.162Z"
   },
   {
    "duration": 175,
    "start_time": "2021-12-09T00:31:20.719Z"
   },
   {
    "duration": 9,
    "start_time": "2021-12-09T00:31:23.359Z"
   },
   {
    "duration": 250,
    "start_time": "2021-12-09T00:31:24.305Z"
   },
   {
    "duration": 192,
    "start_time": "2021-12-09T00:31:26.008Z"
   },
   {
    "duration": 174,
    "start_time": "2021-12-09T00:31:27.382Z"
   },
   {
    "duration": 170,
    "start_time": "2021-12-09T00:31:28.795Z"
   },
   {
    "duration": 199,
    "start_time": "2021-12-09T00:31:30.088Z"
   },
   {
    "duration": 174,
    "start_time": "2021-12-09T00:31:30.666Z"
   },
   {
    "duration": 4,
    "start_time": "2021-12-09T00:31:32.543Z"
   },
   {
    "duration": 22,
    "start_time": "2021-12-09T00:31:33.189Z"
   },
   {
    "duration": 19,
    "start_time": "2021-12-09T00:31:33.838Z"
   },
   {
    "duration": 181,
    "start_time": "2021-12-09T00:31:35.702Z"
   },
   {
    "duration": 182,
    "start_time": "2021-12-09T00:31:36.406Z"
   },
   {
    "duration": 13,
    "start_time": "2021-12-09T00:31:36.967Z"
   },
   {
    "duration": 177,
    "start_time": "2021-12-09T00:31:37.580Z"
   },
   {
    "duration": 190,
    "start_time": "2021-12-09T00:31:38.138Z"
   },
   {
    "duration": 177,
    "start_time": "2021-12-09T00:31:38.705Z"
   },
   {
    "duration": 31,
    "start_time": "2021-12-09T00:31:39.257Z"
   },
   {
    "duration": 190,
    "start_time": "2021-12-09T00:31:40.362Z"
   },
   {
    "duration": 6,
    "start_time": "2021-12-09T00:31:41.623Z"
   },
   {
    "duration": 162,
    "start_time": "2021-12-09T00:31:42.134Z"
   },
   {
    "duration": 174,
    "start_time": "2021-12-09T00:31:43.286Z"
   },
   {
    "duration": 20,
    "start_time": "2021-12-09T00:31:45.545Z"
   },
   {
    "duration": 3,
    "start_time": "2021-12-09T00:31:46.077Z"
   },
   {
    "duration": 213,
    "start_time": "2021-12-09T00:31:46.608Z"
   },
   {
    "duration": 713,
    "start_time": "2021-12-09T00:31:48.616Z"
   },
   {
    "duration": 726,
    "start_time": "2021-12-09T00:31:49.502Z"
   },
   {
    "duration": 734,
    "start_time": "2021-12-09T00:31:50.392Z"
   },
   {
    "duration": 64,
    "start_time": "2021-12-09T00:31:51.400Z"
   },
   {
    "duration": 6491,
    "start_time": "2021-12-09T00:31:51.906Z"
   },
   {
    "duration": 925,
    "start_time": "2021-12-09T12:15:49.981Z"
   },
   {
    "duration": 122,
    "start_time": "2021-12-09T12:15:50.908Z"
   },
   {
    "duration": 26,
    "start_time": "2021-12-09T12:15:51.033Z"
   },
   {
    "duration": 13,
    "start_time": "2021-12-09T12:15:51.062Z"
   },
   {
    "duration": 51,
    "start_time": "2021-12-09T12:15:51.077Z"
   },
   {
    "duration": 16,
    "start_time": "2021-12-09T12:15:51.130Z"
   },
   {
    "duration": 22,
    "start_time": "2021-12-09T12:15:51.148Z"
   },
   {
    "duration": 53,
    "start_time": "2021-12-09T12:15:51.173Z"
   },
   {
    "duration": 19,
    "start_time": "2021-12-09T12:15:51.229Z"
   },
   {
    "duration": 19,
    "start_time": "2021-12-09T12:15:51.251Z"
   },
   {
    "duration": 58,
    "start_time": "2021-12-09T12:15:51.272Z"
   },
   {
    "duration": 24,
    "start_time": "2021-12-09T12:15:51.332Z"
   },
   {
    "duration": 27,
    "start_time": "2021-12-09T12:15:51.358Z"
   },
   {
    "duration": 37,
    "start_time": "2021-12-09T12:15:51.387Z"
   },
   {
    "duration": 7,
    "start_time": "2021-12-09T12:15:51.426Z"
   },
   {
    "duration": 8,
    "start_time": "2021-12-09T12:15:51.435Z"
   },
   {
    "duration": 7,
    "start_time": "2021-12-09T12:15:51.446Z"
   },
   {
    "duration": 5,
    "start_time": "2021-12-09T12:15:51.455Z"
   },
   {
    "duration": 55,
    "start_time": "2021-12-09T12:15:51.462Z"
   },
   {
    "duration": 41,
    "start_time": "2021-12-09T12:15:51.520Z"
   },
   {
    "duration": 23,
    "start_time": "2021-12-09T12:15:51.563Z"
   },
   {
    "duration": 7795,
    "start_time": "2021-12-09T12:15:51.617Z"
   },
   {
    "duration": 48,
    "start_time": "2021-12-09T12:15:59.421Z"
   },
   {
    "duration": 54,
    "start_time": "2021-12-09T12:15:59.472Z"
   },
   {
    "duration": 12,
    "start_time": "2021-12-09T12:15:59.528Z"
   },
   {
    "duration": 54,
    "start_time": "2021-12-09T12:15:59.542Z"
   },
   {
    "duration": 304,
    "start_time": "2021-12-09T12:15:59.617Z"
   },
   {
    "duration": 343,
    "start_time": "2021-12-09T12:15:59.923Z"
   },
   {
    "duration": 369,
    "start_time": "2021-12-09T12:16:00.269Z"
   },
   {
    "duration": 357,
    "start_time": "2021-12-09T12:16:00.641Z"
   },
   {
    "duration": 318,
    "start_time": "2021-12-09T12:16:01.001Z"
   },
   {
    "duration": 312,
    "start_time": "2021-12-09T12:16:01.322Z"
   },
   {
    "duration": 16,
    "start_time": "2021-12-09T12:16:01.637Z"
   },
   {
    "duration": 447,
    "start_time": "2021-12-09T12:16:01.656Z"
   },
   {
    "duration": 303,
    "start_time": "2021-12-09T12:16:02.105Z"
   },
   {
    "duration": 379,
    "start_time": "2021-12-09T12:16:02.410Z"
   },
   {
    "duration": 306,
    "start_time": "2021-12-09T12:16:02.791Z"
   },
   {
    "duration": 348,
    "start_time": "2021-12-09T12:16:03.100Z"
   },
   {
    "duration": 309,
    "start_time": "2021-12-09T12:16:03.450Z"
   },
   {
    "duration": 5,
    "start_time": "2021-12-09T12:16:03.762Z"
   },
   {
    "duration": 52,
    "start_time": "2021-12-09T12:16:03.770Z"
   },
   {
    "duration": 31,
    "start_time": "2021-12-09T12:16:03.825Z"
   },
   {
    "duration": 322,
    "start_time": "2021-12-09T12:16:03.858Z"
   },
   {
    "duration": 312,
    "start_time": "2021-12-09T12:16:04.182Z"
   },
   {
    "duration": 23,
    "start_time": "2021-12-09T12:16:04.497Z"
   },
   {
    "duration": 304,
    "start_time": "2021-12-09T12:16:04.522Z"
   },
   {
    "duration": 327,
    "start_time": "2021-12-09T12:16:04.829Z"
   },
   {
    "duration": 311,
    "start_time": "2021-12-09T12:16:05.158Z"
   },
   {
    "duration": 61,
    "start_time": "2021-12-09T12:16:05.471Z"
   },
   {
    "duration": 344,
    "start_time": "2021-12-09T12:16:05.534Z"
   },
   {
    "duration": 8,
    "start_time": "2021-12-09T12:16:05.880Z"
   },
   {
    "duration": 313,
    "start_time": "2021-12-09T12:16:05.890Z"
   },
   {
    "duration": 314,
    "start_time": "2021-12-09T12:16:06.205Z"
   },
   {
    "duration": 33,
    "start_time": "2021-12-09T12:16:06.521Z"
   },
   {
    "duration": 4,
    "start_time": "2021-12-09T12:16:06.556Z"
   },
   {
    "duration": 354,
    "start_time": "2021-12-09T12:16:06.563Z"
   },
   {
    "duration": 1085,
    "start_time": "2021-12-09T12:16:06.919Z"
   },
   {
    "duration": 1253,
    "start_time": "2021-12-09T12:16:08.007Z"
   },
   {
    "duration": 1076,
    "start_time": "2021-12-09T12:16:09.263Z"
   },
   {
    "duration": 94,
    "start_time": "2021-12-09T12:16:10.342Z"
   },
   {
    "duration": 9506,
    "start_time": "2021-12-09T12:16:10.439Z"
   },
   {
    "duration": 146,
    "start_time": "2021-12-09T15:41:50.480Z"
   },
   {
    "duration": 93,
    "start_time": "2021-12-09T15:43:27.650Z"
   },
   {
    "duration": 106,
    "start_time": "2021-12-09T15:43:53.845Z"
   },
   {
    "duration": 153,
    "start_time": "2021-12-09T15:44:15.630Z"
   },
   {
    "duration": 1027,
    "start_time": "2021-12-09T15:44:34.642Z"
   },
   {
    "duration": 349,
    "start_time": "2021-12-09T15:45:06.682Z"
   },
   {
    "duration": 890,
    "start_time": "2021-12-09T19:51:35.607Z"
   },
   {
    "duration": 395,
    "start_time": "2021-12-09T19:51:38.948Z"
   },
   {
    "duration": 132,
    "start_time": "2021-12-09T19:54:16.500Z"
   },
   {
    "duration": 139,
    "start_time": "2021-12-09T19:55:07.558Z"
   },
   {
    "duration": 27,
    "start_time": "2021-12-09T19:55:26.958Z"
   },
   {
    "duration": 23,
    "start_time": "2021-12-09T19:55:36.783Z"
   },
   {
    "duration": 11,
    "start_time": "2021-12-09T19:55:59.389Z"
   },
   {
    "duration": 36,
    "start_time": "2021-12-09T19:57:28.299Z"
   },
   {
    "duration": 29,
    "start_time": "2021-12-09T19:57:34.723Z"
   },
   {
    "duration": 29,
    "start_time": "2021-12-09T19:57:58.237Z"
   },
   {
    "duration": 31,
    "start_time": "2021-12-09T20:00:58.492Z"
   },
   {
    "duration": 51,
    "start_time": "2021-12-09T20:01:46.011Z"
   },
   {
    "duration": 56,
    "start_time": "2021-12-09T20:02:05.459Z"
   },
   {
    "duration": 29,
    "start_time": "2021-12-09T20:03:42.859Z"
   },
   {
    "duration": 10,
    "start_time": "2021-12-09T20:07:08.940Z"
   },
   {
    "duration": 309,
    "start_time": "2021-12-09T20:43:33.882Z"
   },
   {
    "duration": 20,
    "start_time": "2021-12-09T20:45:00.796Z"
   },
   {
    "duration": 29,
    "start_time": "2021-12-09T20:47:30.701Z"
   },
   {
    "duration": 38,
    "start_time": "2021-12-09T20:48:39.616Z"
   },
   {
    "duration": 55,
    "start_time": "2021-12-09T20:48:56.033Z"
   },
   {
    "duration": 64,
    "start_time": "2021-12-09T20:49:51.928Z"
   },
   {
    "duration": 66,
    "start_time": "2021-12-09T20:50:20.731Z"
   },
   {
    "duration": 47,
    "start_time": "2021-12-09T20:53:51.065Z"
   },
   {
    "duration": 7470,
    "start_time": "2021-12-09T21:28:10.345Z"
   },
   {
    "duration": 7922,
    "start_time": "2021-12-09T21:30:04.399Z"
   },
   {
    "duration": 7659,
    "start_time": "2021-12-09T21:31:37.605Z"
   },
   {
    "duration": 37,
    "start_time": "2021-12-09T21:32:46.590Z"
   },
   {
    "duration": 65,
    "start_time": "2021-12-09T21:32:52.503Z"
   },
   {
    "duration": 418,
    "start_time": "2021-12-09T21:39:47.959Z"
   },
   {
    "duration": 329,
    "start_time": "2021-12-09T21:40:15.233Z"
   },
   {
    "duration": 312,
    "start_time": "2021-12-09T21:40:41.655Z"
   },
   {
    "duration": 468,
    "start_time": "2021-12-09T21:40:55.269Z"
   },
   {
    "duration": 325,
    "start_time": "2021-12-09T21:41:47.795Z"
   },
   {
    "duration": 301,
    "start_time": "2021-12-09T21:42:52.920Z"
   },
   {
    "duration": 7818,
    "start_time": "2021-12-09T21:42:55.021Z"
   },
   {
    "duration": 3,
    "start_time": "2021-12-09T21:44:18.524Z"
   },
   {
    "duration": 156,
    "start_time": "2021-12-09T21:44:19.117Z"
   },
   {
    "duration": 26,
    "start_time": "2021-12-09T21:44:20.722Z"
   },
   {
    "duration": 23,
    "start_time": "2021-12-09T21:44:21.004Z"
   },
   {
    "duration": 29,
    "start_time": "2021-12-09T21:44:23.315Z"
   },
   {
    "duration": 61,
    "start_time": "2021-12-09T21:44:25.478Z"
   },
   {
    "duration": 47,
    "start_time": "2021-12-09T21:44:26.409Z"
   },
   {
    "duration": 9,
    "start_time": "2021-12-09T21:44:27.342Z"
   },
   {
    "duration": 16,
    "start_time": "2021-12-09T21:44:28.106Z"
   },
   {
    "duration": 10,
    "start_time": "2021-12-09T21:44:28.467Z"
   },
   {
    "duration": 19,
    "start_time": "2021-12-09T21:44:29.084Z"
   },
   {
    "duration": 27,
    "start_time": "2021-12-09T21:44:29.300Z"
   },
   {
    "duration": 24,
    "start_time": "2021-12-09T21:44:29.803Z"
   },
   {
    "duration": 24,
    "start_time": "2021-12-09T21:44:30.042Z"
   },
   {
    "duration": 7,
    "start_time": "2021-12-09T21:44:30.549Z"
   },
   {
    "duration": 8,
    "start_time": "2021-12-09T21:44:31.033Z"
   },
   {
    "duration": 7,
    "start_time": "2021-12-09T21:44:35.391Z"
   },
   {
    "duration": 7,
    "start_time": "2021-12-09T21:44:36.060Z"
   },
   {
    "duration": 5,
    "start_time": "2021-12-09T21:44:36.580Z"
   },
   {
    "duration": 7,
    "start_time": "2021-12-09T21:44:37.012Z"
   },
   {
    "duration": 39,
    "start_time": "2021-12-09T21:44:37.836Z"
   },
   {
    "duration": 296,
    "start_time": "2021-12-09T21:44:46.096Z"
   },
   {
    "duration": 9860,
    "start_time": "2021-12-09T21:44:47.823Z"
   },
   {
    "duration": 315,
    "start_time": "2021-12-09T21:47:32.542Z"
   },
   {
    "duration": 297,
    "start_time": "2021-12-09T21:47:46.230Z"
   },
   {
    "duration": 324,
    "start_time": "2021-12-09T21:49:30.026Z"
   },
   {
    "duration": 38,
    "start_time": "2021-12-09T21:50:15.344Z"
   },
   {
    "duration": 19,
    "start_time": "2021-12-09T21:51:37.923Z"
   },
   {
    "duration": 63,
    "start_time": "2021-12-09T21:52:17.402Z"
   },
   {
    "duration": 91,
    "start_time": "2021-12-09T21:52:39.026Z"
   },
   {
    "duration": 98,
    "start_time": "2021-12-09T21:53:56.620Z"
   },
   {
    "duration": 40,
    "start_time": "2021-12-09T21:56:13.165Z"
   },
   {
    "duration": 298,
    "start_time": "2021-12-09T21:56:37.316Z"
   },
   {
    "duration": 309,
    "start_time": "2021-12-09T21:57:13.633Z"
   },
   {
    "duration": 33,
    "start_time": "2021-12-09T22:02:36.154Z"
   },
   {
    "duration": 35,
    "start_time": "2021-12-09T22:03:09.415Z"
   },
   {
    "duration": 3,
    "start_time": "2021-12-09T22:03:18.527Z"
   },
   {
    "duration": 138,
    "start_time": "2021-12-09T22:03:19.021Z"
   },
   {
    "duration": 26,
    "start_time": "2021-12-09T22:03:20.267Z"
   },
   {
    "duration": 22,
    "start_time": "2021-12-09T22:03:20.662Z"
   },
   {
    "duration": 28,
    "start_time": "2021-12-09T22:03:23.682Z"
   },
   {
    "duration": 60,
    "start_time": "2021-12-09T22:03:26.561Z"
   },
   {
    "duration": 49,
    "start_time": "2021-12-09T22:03:26.992Z"
   },
   {
    "duration": 9,
    "start_time": "2021-12-09T22:03:28.616Z"
   },
   {
    "duration": 16,
    "start_time": "2021-12-09T22:03:30.406Z"
   },
   {
    "duration": 9,
    "start_time": "2021-12-09T22:03:30.867Z"
   },
   {
    "duration": 20,
    "start_time": "2021-12-09T22:03:31.431Z"
   },
   {
    "duration": 26,
    "start_time": "2021-12-09T22:03:31.862Z"
   },
   {
    "duration": 23,
    "start_time": "2021-12-09T22:03:32.427Z"
   },
   {
    "duration": 26,
    "start_time": "2021-12-09T22:03:32.745Z"
   },
   {
    "duration": 7,
    "start_time": "2021-12-09T22:03:33.458Z"
   },
   {
    "duration": 6,
    "start_time": "2021-12-09T22:03:34.119Z"
   },
   {
    "duration": 8,
    "start_time": "2021-12-09T22:03:36.870Z"
   },
   {
    "duration": 7,
    "start_time": "2021-12-09T22:03:37.495Z"
   },
   {
    "duration": 5,
    "start_time": "2021-12-09T22:03:38.064Z"
   },
   {
    "duration": 7,
    "start_time": "2021-12-09T22:03:38.754Z"
   },
   {
    "duration": 39,
    "start_time": "2021-12-09T22:03:40.262Z"
   },
   {
    "duration": 92,
    "start_time": "2021-12-09T22:03:43.128Z"
   },
   {
    "duration": 106,
    "start_time": "2021-12-09T22:03:43.746Z"
   },
   {
    "duration": 31,
    "start_time": "2021-12-09T22:03:47.350Z"
   },
   {
    "duration": 24,
    "start_time": "2021-12-09T22:04:59.139Z"
   },
   {
    "duration": 270,
    "start_time": "2021-12-09T22:08:26.226Z"
   },
   {
    "duration": 291,
    "start_time": "2021-12-09T22:08:54.965Z"
   },
   {
    "duration": 374,
    "start_time": "2021-12-09T22:11:06.331Z"
   },
   {
    "duration": 285,
    "start_time": "2021-12-09T22:11:59.069Z"
   },
   {
    "duration": 312,
    "start_time": "2021-12-09T22:14:21.047Z"
   },
   {
    "duration": 651,
    "start_time": "2021-12-09T22:14:28.560Z"
   },
   {
    "duration": 579,
    "start_time": "2021-12-09T22:14:42.939Z"
   },
   {
    "duration": 672,
    "start_time": "2021-12-09T22:14:51.402Z"
   },
   {
    "duration": 351,
    "start_time": "2021-12-09T22:16:52.254Z"
   },
   {
    "duration": 310,
    "start_time": "2021-12-09T22:17:40.657Z"
   },
   {
    "duration": 298,
    "start_time": "2021-12-09T22:19:00.766Z"
   },
   {
    "duration": 313,
    "start_time": "2021-12-09T22:20:18.554Z"
   },
   {
    "duration": 294,
    "start_time": "2021-12-09T22:20:45.023Z"
   },
   {
    "duration": 6,
    "start_time": "2021-12-09T22:22:14.919Z"
   },
   {
    "duration": 3,
    "start_time": "2021-12-09T22:22:34.251Z"
   },
   {
    "duration": 140,
    "start_time": "2021-12-09T22:22:35.214Z"
   },
   {
    "duration": 25,
    "start_time": "2021-12-09T22:22:38.880Z"
   },
   {
    "duration": 22,
    "start_time": "2021-12-09T22:22:39.420Z"
   },
   {
    "duration": 29,
    "start_time": "2021-12-09T22:22:47.482Z"
   },
   {
    "duration": 150,
    "start_time": "2021-12-09T22:23:02.471Z"
   },
   {
    "duration": 47,
    "start_time": "2021-12-09T22:23:05.723Z"
   },
   {
    "duration": 47,
    "start_time": "2021-12-09T22:24:08.605Z"
   },
   {
    "duration": 25,
    "start_time": "2021-12-09T22:24:16.288Z"
   },
   {
    "duration": 25,
    "start_time": "2021-12-09T22:24:18.935Z"
   },
   {
    "duration": 25,
    "start_time": "2021-12-09T22:24:20.232Z"
   },
   {
    "duration": 7,
    "start_time": "2021-12-09T22:24:22.676Z"
   },
   {
    "duration": 8,
    "start_time": "2021-12-09T22:24:24.772Z"
   },
   {
    "duration": 8,
    "start_time": "2021-12-09T22:24:31.910Z"
   },
   {
    "duration": 8,
    "start_time": "2021-12-09T22:24:32.804Z"
   },
   {
    "duration": 6,
    "start_time": "2021-12-09T22:24:33.564Z"
   },
   {
    "duration": 8,
    "start_time": "2021-12-09T22:24:34.168Z"
   },
   {
    "duration": 38,
    "start_time": "2021-12-09T22:24:36.496Z"
   },
   {
    "duration": 97,
    "start_time": "2021-12-09T22:24:39.084Z"
   },
   {
    "duration": 128,
    "start_time": "2021-12-09T22:24:40.912Z"
   },
   {
    "duration": 32,
    "start_time": "2021-12-09T22:24:45.031Z"
   },
   {
    "duration": 28,
    "start_time": "2021-12-09T22:24:48.930Z"
   },
   {
    "duration": 23,
    "start_time": "2021-12-09T22:24:49.727Z"
   },
   {
    "duration": 48,
    "start_time": "2021-12-09T22:24:50.474Z"
   },
   {
    "duration": 282,
    "start_time": "2021-12-09T22:24:53.475Z"
   },
   {
    "duration": 358,
    "start_time": "2021-12-09T22:24:54.179Z"
   },
   {
    "duration": 313,
    "start_time": "2021-12-09T22:24:54.960Z"
   },
   {
    "duration": 307,
    "start_time": "2021-12-09T22:24:55.701Z"
   },
   {
    "duration": 282,
    "start_time": "2021-12-09T22:24:56.302Z"
   },
   {
    "duration": 288,
    "start_time": "2021-12-09T22:24:57.294Z"
   },
   {
    "duration": 6,
    "start_time": "2021-12-09T22:24:58.421Z"
   },
   {
    "duration": 14,
    "start_time": "2021-12-09T22:25:00.261Z"
   },
   {
    "duration": 284,
    "start_time": "2021-12-09T22:25:14.464Z"
   },
   {
    "duration": 5,
    "start_time": "2021-12-09T22:25:21.273Z"
   },
   {
    "duration": 10,
    "start_time": "2021-12-09T22:25:53.155Z"
   },
   {
    "duration": 9,
    "start_time": "2021-12-09T22:25:58.705Z"
   },
   {
    "duration": 106,
    "start_time": "2021-12-09T22:26:27.996Z"
   },
   {
    "duration": 40,
    "start_time": "2021-12-09T22:26:36.983Z"
   },
   {
    "duration": 41,
    "start_time": "2021-12-09T22:28:16.382Z"
   },
   {
    "duration": 321,
    "start_time": "2021-12-09T22:30:11.521Z"
   },
   {
    "duration": 316,
    "start_time": "2021-12-09T22:31:33.532Z"
   },
   {
    "duration": 8836,
    "start_time": "2021-12-09T22:32:19.694Z"
   },
   {
    "duration": 300,
    "start_time": "2021-12-09T22:32:34.573Z"
   },
   {
    "duration": 5,
    "start_time": "2021-12-09T22:32:43.046Z"
   },
   {
    "duration": 28,
    "start_time": "2021-12-09T22:32:44.073Z"
   },
   {
    "duration": 41,
    "start_time": "2021-12-09T22:32:57.668Z"
   },
   {
    "duration": 302,
    "start_time": "2021-12-09T22:33:31.797Z"
   },
   {
    "duration": 385,
    "start_time": "2021-12-09T22:34:27.012Z"
   },
   {
    "duration": 698,
    "start_time": "2021-12-09T22:34:43.625Z"
   },
   {
    "duration": 314,
    "start_time": "2021-12-09T22:34:52.933Z"
   },
   {
    "duration": 27,
    "start_time": "2021-12-09T22:36:21.403Z"
   },
   {
    "duration": 304,
    "start_time": "2021-12-09T22:37:12.040Z"
   },
   {
    "duration": 277,
    "start_time": "2021-12-09T22:37:48.053Z"
   },
   {
    "duration": 285,
    "start_time": "2021-12-09T22:38:04.447Z"
   },
   {
    "duration": 320,
    "start_time": "2021-12-09T22:38:44.870Z"
   },
   {
    "duration": 350,
    "start_time": "2021-12-09T22:39:44.798Z"
   },
   {
    "duration": 45,
    "start_time": "2021-12-09T22:40:19.462Z"
   },
   {
    "duration": 396,
    "start_time": "2021-12-09T22:41:18.814Z"
   },
   {
    "duration": 359,
    "start_time": "2021-12-09T22:44:01.889Z"
   },
   {
    "duration": 375,
    "start_time": "2021-12-09T22:45:13.516Z"
   },
   {
    "duration": 269,
    "start_time": "2021-12-09T22:45:44.677Z"
   },
   {
    "duration": 9170,
    "start_time": "2021-12-09T22:46:53.820Z"
   },
   {
    "duration": 315,
    "start_time": "2021-12-09T22:47:42.742Z"
   },
   {
    "duration": 44,
    "start_time": "2021-12-09T22:48:20.815Z"
   },
   {
    "duration": 10,
    "start_time": "2021-12-09T22:48:30.284Z"
   },
   {
    "duration": 639,
    "start_time": "2021-12-09T22:51:02.146Z"
   },
   {
    "duration": 31,
    "start_time": "2021-12-09T23:14:58.884Z"
   },
   {
    "duration": 8315,
    "start_time": "2021-12-09T23:16:36.584Z"
   },
   {
    "duration": 433,
    "start_time": "2021-12-09T23:19:13.068Z"
   },
   {
    "duration": 146,
    "start_time": "2021-12-09T23:19:36.307Z"
   },
   {
    "duration": 8798,
    "start_time": "2021-12-09T23:20:47.978Z"
   },
   {
    "duration": 13,
    "start_time": "2021-12-09T23:21:27.373Z"
   },
   {
    "duration": 17,
    "start_time": "2021-12-09T23:22:11.587Z"
   },
   {
    "duration": 295,
    "start_time": "2021-12-09T23:22:34.628Z"
   },
   {
    "duration": 517,
    "start_time": "2021-12-09T23:24:04.520Z"
   },
   {
    "duration": 505,
    "start_time": "2021-12-09T23:25:48.053Z"
   },
   {
    "duration": 433,
    "start_time": "2021-12-09T23:26:06.336Z"
   },
   {
    "duration": 46,
    "start_time": "2021-12-09T23:33:48.384Z"
   },
   {
    "duration": 44,
    "start_time": "2021-12-09T23:34:28.610Z"
   },
   {
    "duration": 3,
    "start_time": "2021-12-10T00:20:13.312Z"
   },
   {
    "duration": 144,
    "start_time": "2021-12-10T00:20:14.393Z"
   },
   {
    "duration": 27,
    "start_time": "2021-12-10T00:20:17.392Z"
   },
   {
    "duration": 112,
    "start_time": "2021-12-10T00:20:18.129Z"
   },
   {
    "duration": 22,
    "start_time": "2021-12-10T00:20:21.943Z"
   },
   {
    "duration": 28,
    "start_time": "2021-12-10T00:20:26.375Z"
   },
   {
    "duration": 62,
    "start_time": "2021-12-10T00:20:39.576Z"
   },
   {
    "duration": 49,
    "start_time": "2021-12-10T00:20:45.811Z"
   },
   {
    "duration": 25,
    "start_time": "2021-12-10T00:21:04.926Z"
   },
   {
    "duration": 26,
    "start_time": "2021-12-10T00:21:12.071Z"
   },
   {
    "duration": 25,
    "start_time": "2021-12-10T00:21:17.529Z"
   },
   {
    "duration": 7,
    "start_time": "2021-12-10T00:21:22.058Z"
   },
   {
    "duration": 8,
    "start_time": "2021-12-10T00:21:26.654Z"
   },
   {
    "duration": 7,
    "start_time": "2021-12-10T00:21:33.361Z"
   },
   {
    "duration": 8,
    "start_time": "2021-12-10T00:21:38.683Z"
   },
   {
    "duration": 7,
    "start_time": "2021-12-10T00:21:39.757Z"
   },
   {
    "duration": 5,
    "start_time": "2021-12-10T00:21:41.949Z"
   },
   {
    "duration": 7,
    "start_time": "2021-12-10T00:21:43.873Z"
   },
   {
    "duration": 37,
    "start_time": "2021-12-10T00:21:49.093Z"
   },
   {
    "duration": 97,
    "start_time": "2021-12-10T00:21:53.121Z"
   },
   {
    "duration": 107,
    "start_time": "2021-12-10T00:21:55.159Z"
   },
   {
    "duration": 32,
    "start_time": "2021-12-10T00:22:01.135Z"
   },
   {
    "duration": 26,
    "start_time": "2021-12-10T00:22:06.583Z"
   },
   {
    "duration": 29,
    "start_time": "2021-12-10T00:22:09.089Z"
   },
   {
    "duration": 48,
    "start_time": "2021-12-10T00:22:11.942Z"
   },
   {
    "duration": 289,
    "start_time": "2021-12-10T00:22:16.020Z"
   },
   {
    "duration": 356,
    "start_time": "2021-12-10T00:22:18.005Z"
   },
   {
    "duration": 370,
    "start_time": "2021-12-10T00:22:18.861Z"
   },
   {
    "duration": 356,
    "start_time": "2021-12-10T00:22:19.604Z"
   },
   {
    "duration": 288,
    "start_time": "2021-12-10T00:22:20.324Z"
   },
   {
    "duration": 290,
    "start_time": "2021-12-10T00:22:21.767Z"
   },
   {
    "duration": 38,
    "start_time": "2021-12-10T00:22:22.846Z"
   },
   {
    "duration": 317,
    "start_time": "2021-12-10T00:22:24.500Z"
   },
   {
    "duration": 319,
    "start_time": "2021-12-10T00:22:26.888Z"
   },
   {
    "duration": 312,
    "start_time": "2021-12-10T00:22:27.679Z"
   },
   {
    "duration": 10,
    "start_time": "2021-12-10T00:22:31.223Z"
   },
   {
    "duration": 30,
    "start_time": "2021-12-10T00:22:31.933Z"
   },
   {
    "duration": 43,
    "start_time": "2021-12-10T00:22:32.725Z"
   },
   {
    "duration": 293,
    "start_time": "2021-12-10T00:22:35.731Z"
   },
   {
    "duration": 307,
    "start_time": "2021-12-10T00:22:36.396Z"
   },
   {
    "duration": 27,
    "start_time": "2021-12-10T00:22:36.706Z"
   },
   {
    "duration": 326,
    "start_time": "2021-12-10T00:22:37.073Z"
   },
   {
    "duration": 566,
    "start_time": "2021-12-10T00:22:37.791Z"
   },
   {
    "duration": 371,
    "start_time": "2021-12-10T00:22:38.360Z"
   },
   {
    "duration": 45,
    "start_time": "2021-12-10T00:22:38.965Z"
   },
   {
    "duration": 374,
    "start_time": "2021-12-10T00:22:41.111Z"
   },
   {
    "duration": 10,
    "start_time": "2021-12-10T00:22:43.141Z"
   },
   {
    "duration": 312,
    "start_time": "2021-12-10T00:22:43.989Z"
   },
   {
    "duration": 316,
    "start_time": "2021-12-10T00:22:45.506Z"
   },
   {
    "duration": 33,
    "start_time": "2021-12-10T00:22:49.253Z"
   },
   {
    "duration": 17,
    "start_time": "2021-12-10T00:22:52.315Z"
   },
   {
    "duration": 452,
    "start_time": "2021-12-10T00:22:54.819Z"
   },
   {
    "duration": 44,
    "start_time": "2021-12-10T00:23:25.414Z"
   },
   {
    "duration": 42,
    "start_time": "2021-12-10T00:23:26.749Z"
   },
   {
    "duration": 299,
    "start_time": "2021-12-10T00:29:52.780Z"
   },
   {
    "duration": 545,
    "start_time": "2021-12-10T00:32:33.315Z"
   },
   {
    "duration": 544,
    "start_time": "2021-12-10T00:34:49.690Z"
   },
   {
    "duration": 7,
    "start_time": "2021-12-10T00:35:43.116Z"
   },
   {
    "duration": 137,
    "start_time": "2021-12-10T00:35:45.555Z"
   },
   {
    "duration": 26,
    "start_time": "2021-12-10T00:35:50.129Z"
   },
   {
    "duration": 22,
    "start_time": "2021-12-10T00:35:50.805Z"
   },
   {
    "duration": 30,
    "start_time": "2021-12-10T00:35:57.245Z"
   },
   {
    "duration": 47,
    "start_time": "2021-12-10T00:36:16.129Z"
   },
   {
    "duration": 47,
    "start_time": "2021-12-10T00:36:21.455Z"
   },
   {
    "duration": 27,
    "start_time": "2021-12-10T00:36:31.963Z"
   },
   {
    "duration": 25,
    "start_time": "2021-12-10T00:36:36.337Z"
   },
   {
    "duration": 25,
    "start_time": "2021-12-10T00:36:51.500Z"
   },
   {
    "duration": 26,
    "start_time": "2021-12-10T00:36:55.713Z"
   },
   {
    "duration": 8,
    "start_time": "2021-12-10T00:36:59.991Z"
   },
   {
    "duration": 7,
    "start_time": "2021-12-10T00:37:02.413Z"
   },
   {
    "duration": 8,
    "start_time": "2021-12-10T00:37:10.962Z"
   },
   {
    "duration": 8,
    "start_time": "2021-12-10T00:37:11.929Z"
   },
   {
    "duration": 5,
    "start_time": "2021-12-10T00:37:14.029Z"
   },
   {
    "duration": 7,
    "start_time": "2021-12-10T00:37:14.938Z"
   },
   {
    "duration": 42,
    "start_time": "2021-12-10T00:37:26.747Z"
   },
   {
    "duration": 88,
    "start_time": "2021-12-10T00:37:29.205Z"
   },
   {
    "duration": 118,
    "start_time": "2021-12-10T00:37:30.673Z"
   },
   {
    "duration": 32,
    "start_time": "2021-12-10T00:37:33.830Z"
   },
   {
    "duration": 89,
    "start_time": "2021-12-10T00:38:17.590Z"
   },
   {
    "duration": 33,
    "start_time": "2021-12-10T00:38:28.755Z"
   },
   {
    "duration": 29,
    "start_time": "2021-12-10T00:38:33.173Z"
   },
   {
    "duration": 39,
    "start_time": "2021-12-10T00:38:51.222Z"
   },
   {
    "duration": 3,
    "start_time": "2021-12-10T00:38:57.634Z"
   },
   {
    "duration": 136,
    "start_time": "2021-12-10T00:38:58.201Z"
   },
   {
    "duration": 26,
    "start_time": "2021-12-10T00:38:59.512Z"
   },
   {
    "duration": 23,
    "start_time": "2021-12-10T00:38:59.799Z"
   },
   {
    "duration": 29,
    "start_time": "2021-12-10T00:39:01.469Z"
   },
   {
    "duration": 45,
    "start_time": "2021-12-10T00:39:02.363Z"
   },
   {
    "duration": 50,
    "start_time": "2021-12-10T00:39:02.622Z"
   },
   {
    "duration": 26,
    "start_time": "2021-12-10T00:39:03.110Z"
   },
   {
    "duration": 27,
    "start_time": "2021-12-10T00:39:03.728Z"
   },
   {
    "duration": 26,
    "start_time": "2021-12-10T00:39:04.266Z"
   },
   {
    "duration": 9,
    "start_time": "2021-12-10T00:39:04.835Z"
   },
   {
    "duration": 8,
    "start_time": "2021-12-10T00:39:06.103Z"
   },
   {
    "duration": 9,
    "start_time": "2021-12-10T00:39:08.189Z"
   },
   {
    "duration": 8,
    "start_time": "2021-12-10T00:39:08.449Z"
   },
   {
    "duration": 6,
    "start_time": "2021-12-10T00:39:08.760Z"
   },
   {
    "duration": 8,
    "start_time": "2021-12-10T00:39:09.073Z"
   },
   {
    "duration": 39,
    "start_time": "2021-12-10T00:39:11.341Z"
   },
   {
    "duration": 101,
    "start_time": "2021-12-10T00:39:14.541Z"
   },
   {
    "duration": 3,
    "start_time": "2021-12-10T00:39:15.603Z"
   },
   {
    "duration": 33,
    "start_time": "2021-12-10T00:39:26.391Z"
   },
   {
    "duration": 334,
    "start_time": "2021-12-10T00:40:39.262Z"
   },
   {
    "duration": 361,
    "start_time": "2021-12-10T00:40:47.418Z"
   },
   {
    "duration": 30,
    "start_time": "2021-12-10T00:41:23.119Z"
   },
   {
    "duration": 31,
    "start_time": "2021-12-10T00:41:26.998Z"
   },
   {
    "duration": 87,
    "start_time": "2021-12-10T00:41:50.811Z"
   },
   {
    "duration": 87,
    "start_time": "2021-12-10T00:41:59.479Z"
   },
   {
    "duration": 21,
    "start_time": "2021-12-10T00:45:04.143Z"
   },
   {
    "duration": 17,
    "start_time": "2021-12-10T00:45:46.160Z"
   },
   {
    "duration": 19,
    "start_time": "2021-12-10T00:46:33.533Z"
   },
   {
    "duration": 292,
    "start_time": "2021-12-10T00:49:07.998Z"
   },
   {
    "duration": 258,
    "start_time": "2021-12-10T00:49:21.248Z"
   },
   {
    "duration": 7926,
    "start_time": "2021-12-10T00:51:39.915Z"
   },
   {
    "duration": 21,
    "start_time": "2021-12-10T00:52:35.609Z"
   },
   {
    "duration": 278,
    "start_time": "2021-12-10T00:52:37.140Z"
   },
   {
    "duration": 21,
    "start_time": "2021-12-10T00:52:41.338Z"
   },
   {
    "duration": 372,
    "start_time": "2021-12-10T00:52:43.055Z"
   },
   {
    "duration": 19,
    "start_time": "2021-12-10T00:52:46.345Z"
   },
   {
    "duration": 281,
    "start_time": "2021-12-10T00:52:57.103Z"
   },
   {
    "duration": 20,
    "start_time": "2021-12-10T00:54:52.945Z"
   },
   {
    "duration": 21,
    "start_time": "2021-12-10T00:55:53.632Z"
   },
   {
    "duration": 9677,
    "start_time": "2021-12-10T00:55:55.185Z"
   },
   {
    "duration": 23,
    "start_time": "2021-12-10T00:56:04.865Z"
   },
   {
    "duration": 24,
    "start_time": "2021-12-10T00:56:11.464Z"
   },
   {
    "duration": 23,
    "start_time": "2021-12-10T00:56:26.254Z"
   },
   {
    "duration": 747,
    "start_time": "2021-12-10T01:00:24.918Z"
   },
   {
    "duration": 338,
    "start_time": "2021-12-10T01:06:07.186Z"
   },
   {
    "duration": 502,
    "start_time": "2021-12-10T01:06:30.939Z"
   },
   {
    "duration": 7,
    "start_time": "2021-12-10T01:06:50.164Z"
   },
   {
    "duration": 317,
    "start_time": "2021-12-10T01:07:32.785Z"
   },
   {
    "duration": 6,
    "start_time": "2021-12-10T01:11:11.340Z"
   },
   {
    "duration": 10,
    "start_time": "2021-12-10T01:11:35.854Z"
   },
   {
    "duration": 10,
    "start_time": "2021-12-10T01:11:51.133Z"
   },
   {
    "duration": 9,
    "start_time": "2021-12-10T01:11:59.462Z"
   },
   {
    "duration": 749,
    "start_time": "2021-12-10T01:12:52.933Z"
   },
   {
    "duration": 231,
    "start_time": "2021-12-10T01:17:10.812Z"
   },
   {
    "duration": 319,
    "start_time": "2021-12-10T01:33:10.221Z"
   },
   {
    "duration": 326,
    "start_time": "2021-12-10T01:35:26.525Z"
   },
   {
    "duration": 226,
    "start_time": "2021-12-10T01:36:08.763Z"
   },
   {
    "duration": 221,
    "start_time": "2021-12-10T01:37:10.347Z"
   },
   {
    "duration": 218,
    "start_time": "2021-12-10T01:38:45.265Z"
   },
   {
    "duration": 218,
    "start_time": "2021-12-10T01:39:25.462Z"
   },
   {
    "duration": 529,
    "start_time": "2021-12-10T01:42:19.372Z"
   },
   {
    "duration": 522,
    "start_time": "2021-12-10T01:43:00.447Z"
   },
   {
    "duration": 301,
    "start_time": "2021-12-10T01:43:55.416Z"
   },
   {
    "duration": 19,
    "start_time": "2021-12-10T01:44:07.600Z"
   },
   {
    "duration": 20,
    "start_time": "2021-12-10T01:44:17.241Z"
   },
   {
    "duration": 19,
    "start_time": "2021-12-10T01:44:22.186Z"
   },
   {
    "duration": 307,
    "start_time": "2021-12-10T01:45:02.507Z"
   },
   {
    "duration": 237,
    "start_time": "2021-12-10T01:46:11.641Z"
   },
   {
    "duration": 220,
    "start_time": "2021-12-10T01:47:34.831Z"
   },
   {
    "duration": 318,
    "start_time": "2021-12-10T02:11:18.658Z"
   },
   {
    "duration": 843,
    "start_time": "2021-12-10T02:18:35.450Z"
   },
   {
    "duration": 323,
    "start_time": "2021-12-10T02:19:24.678Z"
   },
   {
    "duration": 1228,
    "start_time": "2021-12-10T02:27:07.134Z"
   },
   {
    "duration": 646,
    "start_time": "2021-12-10T02:27:51.550Z"
   },
   {
    "duration": 664,
    "start_time": "2021-12-10T02:28:28.145Z"
   },
   {
    "duration": 679,
    "start_time": "2021-12-10T02:30:12.817Z"
   },
   {
    "duration": 307,
    "start_time": "2021-12-10T02:31:13.713Z"
   },
   {
    "duration": 683,
    "start_time": "2021-12-10T02:33:04.746Z"
   },
   {
    "duration": 457,
    "start_time": "2021-12-10T02:33:53.876Z"
   },
   {
    "duration": 8,
    "start_time": "2021-12-10T02:34:58.816Z"
   },
   {
    "duration": 731,
    "start_time": "2021-12-10T02:36:56.092Z"
   },
   {
    "duration": 21,
    "start_time": "2021-12-10T02:41:46.234Z"
   },
   {
    "duration": 13,
    "start_time": "2021-12-10T02:43:54.679Z"
   },
   {
    "duration": 12,
    "start_time": "2021-12-10T02:45:38.627Z"
   },
   {
    "duration": 4,
    "start_time": "2021-12-10T02:46:57.712Z"
   },
   {
    "duration": 133,
    "start_time": "2021-12-10T02:46:59.802Z"
   },
   {
    "duration": 25,
    "start_time": "2021-12-10T02:47:02.793Z"
   },
   {
    "duration": 23,
    "start_time": "2021-12-10T02:47:03.276Z"
   },
   {
    "duration": 29,
    "start_time": "2021-12-10T02:47:07.077Z"
   },
   {
    "duration": 54,
    "start_time": "2021-12-10T02:47:09.047Z"
   },
   {
    "duration": 47,
    "start_time": "2021-12-10T02:47:09.867Z"
   },
   {
    "duration": 25,
    "start_time": "2021-12-10T02:47:10.981Z"
   },
   {
    "duration": 26,
    "start_time": "2021-12-10T02:47:12.130Z"
   },
   {
    "duration": 27,
    "start_time": "2021-12-10T02:47:12.616Z"
   },
   {
    "duration": 9,
    "start_time": "2021-12-10T02:47:13.689Z"
   },
   {
    "duration": 9,
    "start_time": "2021-12-10T02:47:14.755Z"
   },
   {
    "duration": 8,
    "start_time": "2021-12-10T02:47:17.810Z"
   },
   {
    "duration": 9,
    "start_time": "2021-12-10T02:47:18.650Z"
   },
   {
    "duration": 5,
    "start_time": "2021-12-10T02:47:19.202Z"
   },
   {
    "duration": 7,
    "start_time": "2021-12-10T02:47:19.660Z"
   },
   {
    "duration": 38,
    "start_time": "2021-12-10T02:47:21.001Z"
   },
   {
    "duration": 87,
    "start_time": "2021-12-10T02:47:22.197Z"
   },
   {
    "duration": 31,
    "start_time": "2021-12-10T02:47:24.120Z"
   },
   {
    "duration": 23,
    "start_time": "2021-12-10T02:47:24.578Z"
   },
   {
    "duration": 49,
    "start_time": "2021-12-10T02:47:24.997Z"
   },
   {
    "duration": 299,
    "start_time": "2021-12-10T02:47:26.769Z"
   },
   {
    "duration": 326,
    "start_time": "2021-12-10T02:47:27.120Z"
   },
   {
    "duration": 316,
    "start_time": "2021-12-10T02:47:27.504Z"
   },
   {
    "duration": 341,
    "start_time": "2021-12-10T02:47:27.863Z"
   },
   {
    "duration": 277,
    "start_time": "2021-12-10T02:47:28.246Z"
   },
   {
    "duration": 284,
    "start_time": "2021-12-10T02:47:28.933Z"
   },
   {
    "duration": 36,
    "start_time": "2021-12-10T02:47:29.665Z"
   },
   {
    "duration": 4,
    "start_time": "2021-12-10T03:07:32.525Z"
   },
   {
    "duration": 132,
    "start_time": "2021-12-10T03:07:36.840Z"
   },
   {
    "duration": 26,
    "start_time": "2021-12-10T03:07:55.447Z"
   },
   {
    "duration": 24,
    "start_time": "2021-12-10T03:07:56.433Z"
   },
   {
    "duration": 30,
    "start_time": "2021-12-10T03:08:05.435Z"
   },
   {
    "duration": 38,
    "start_time": "2021-12-10T03:08:14.124Z"
   },
   {
    "duration": 47,
    "start_time": "2021-12-10T03:08:29.712Z"
   },
   {
    "duration": 25,
    "start_time": "2021-12-10T03:09:00.017Z"
   },
   {
    "duration": 26,
    "start_time": "2021-12-10T03:09:34.687Z"
   },
   {
    "duration": 7,
    "start_time": "2021-12-10T03:10:06.980Z"
   },
   {
    "duration": 8,
    "start_time": "2021-12-10T03:10:07.955Z"
   },
   {
    "duration": 8,
    "start_time": "2021-12-10T03:10:22.439Z"
   },
   {
    "duration": 8,
    "start_time": "2021-12-10T03:10:23.461Z"
   },
   {
    "duration": 5,
    "start_time": "2021-12-10T03:10:24.773Z"
   },
   {
    "duration": 7,
    "start_time": "2021-12-10T03:10:24.904Z"
   },
   {
    "duration": 40,
    "start_time": "2021-12-10T03:10:35.916Z"
   },
   {
    "duration": 37,
    "start_time": "2021-12-10T03:12:50.750Z"
   },
   {
    "duration": 37,
    "start_time": "2021-12-10T03:13:00.408Z"
   },
   {
    "duration": 7,
    "start_time": "2021-12-10T03:13:26.749Z"
   },
   {
    "duration": 7,
    "start_time": "2021-12-10T03:13:49.725Z"
   },
   {
    "duration": 7,
    "start_time": "2021-12-10T03:14:01.510Z"
   },
   {
    "duration": 6,
    "start_time": "2021-12-10T03:14:31.440Z"
   },
   {
    "duration": 97,
    "start_time": "2021-12-10T03:14:58.634Z"
   },
   {
    "duration": 29,
    "start_time": "2021-12-10T03:15:37.385Z"
   },
   {
    "duration": 23,
    "start_time": "2021-12-10T03:15:51.439Z"
   },
   {
    "duration": 280,
    "start_time": "2021-12-10T03:16:18.223Z"
   },
   {
    "duration": 309,
    "start_time": "2021-12-10T03:16:59.649Z"
   },
   {
    "duration": 310,
    "start_time": "2021-12-10T03:17:30.680Z"
   },
   {
    "duration": 355,
    "start_time": "2021-12-10T03:17:54.675Z"
   },
   {
    "duration": 320,
    "start_time": "2021-12-10T03:18:23.357Z"
   },
   {
    "duration": 289,
    "start_time": "2021-12-10T03:18:30.214Z"
   },
   {
    "duration": 285,
    "start_time": "2021-12-10T03:18:59.766Z"
   },
   {
    "duration": 289,
    "start_time": "2021-12-10T03:19:03.828Z"
   },
   {
    "duration": 958,
    "start_time": "2021-12-10T03:21:08.783Z"
   },
   {
    "duration": 138,
    "start_time": "2021-12-10T03:21:15.757Z"
   },
   {
    "duration": 29,
    "start_time": "2021-12-10T03:21:20.824Z"
   },
   {
    "duration": 22,
    "start_time": "2021-12-10T03:21:22.428Z"
   },
   {
    "duration": 30,
    "start_time": "2021-12-10T03:21:29.901Z"
   },
   {
    "duration": 37,
    "start_time": "2021-12-10T03:21:36.141Z"
   },
   {
    "duration": 40,
    "start_time": "2021-12-10T03:22:48.136Z"
   },
   {
    "duration": 45,
    "start_time": "2021-12-10T03:24:20.889Z"
   },
   {
    "duration": 25,
    "start_time": "2021-12-10T03:24:41.843Z"
   },
   {
    "duration": 7,
    "start_time": "2021-12-10T03:24:50.054Z"
   },
   {
    "duration": 6,
    "start_time": "2021-12-10T03:24:54.844Z"
   },
   {
    "duration": 7,
    "start_time": "2021-12-10T03:25:09.933Z"
   },
   {
    "duration": 7,
    "start_time": "2021-12-10T03:25:11.311Z"
   },
   {
    "duration": 5,
    "start_time": "2021-12-10T03:25:17.022Z"
   },
   {
    "duration": 8,
    "start_time": "2021-12-10T03:25:18.148Z"
   },
   {
    "duration": 40,
    "start_time": "2021-12-10T03:25:43.558Z"
   },
   {
    "duration": 95,
    "start_time": "2021-12-10T03:26:03.407Z"
   },
   {
    "duration": 33,
    "start_time": "2021-12-10T03:26:22.149Z"
   },
   {
    "duration": 31,
    "start_time": "2021-12-10T03:26:24.127Z"
   },
   {
    "duration": 50,
    "start_time": "2021-12-10T03:26:28.096Z"
   },
   {
    "duration": 293,
    "start_time": "2021-12-10T03:26:31.662Z"
   },
   {
    "duration": 307,
    "start_time": "2021-12-10T03:26:32.830Z"
   },
   {
    "duration": 322,
    "start_time": "2021-12-10T03:26:34.342Z"
   },
   {
    "duration": 366,
    "start_time": "2021-12-10T03:26:38.103Z"
   },
   {
    "duration": 281,
    "start_time": "2021-12-10T03:26:40.445Z"
   },
   {
    "duration": 278,
    "start_time": "2021-12-10T03:26:44.660Z"
   },
   {
    "duration": 344,
    "start_time": "2021-12-10T03:32:17.966Z"
   },
   {
    "duration": 291,
    "start_time": "2021-12-10T03:33:13.041Z"
   },
   {
    "duration": 317,
    "start_time": "2021-12-10T03:33:16.908Z"
   },
   {
    "duration": 313,
    "start_time": "2021-12-10T03:33:22.021Z"
   },
   {
    "duration": 842,
    "start_time": "2021-12-10T03:33:32.546Z"
   },
   {
    "duration": 138,
    "start_time": "2021-12-10T03:33:35.310Z"
   },
   {
    "duration": 26,
    "start_time": "2021-12-10T03:33:42.089Z"
   },
   {
    "duration": 21,
    "start_time": "2021-12-10T03:33:43.360Z"
   },
   {
    "duration": 36,
    "start_time": "2021-12-10T03:33:51.058Z"
   },
   {
    "duration": 36,
    "start_time": "2021-12-10T03:33:57.769Z"
   },
   {
    "duration": 47,
    "start_time": "2021-12-10T03:34:00.182Z"
   },
   {
    "duration": 25,
    "start_time": "2021-12-10T03:34:03.773Z"
   },
   {
    "duration": 8,
    "start_time": "2021-12-10T03:34:07.459Z"
   },
   {
    "duration": 8,
    "start_time": "2021-12-10T03:34:09.114Z"
   },
   {
    "duration": 8,
    "start_time": "2021-12-10T03:34:16.267Z"
   },
   {
    "duration": 6,
    "start_time": "2021-12-10T03:34:17.221Z"
   },
   {
    "duration": 5,
    "start_time": "2021-12-10T03:34:18.265Z"
   },
   {
    "duration": 8,
    "start_time": "2021-12-10T03:34:23.972Z"
   },
   {
    "duration": 38,
    "start_time": "2021-12-10T03:34:27.683Z"
   },
   {
    "duration": 104,
    "start_time": "2021-12-10T03:34:31.325Z"
   },
   {
    "duration": 32,
    "start_time": "2021-12-10T03:34:36.452Z"
   },
   {
    "duration": 22,
    "start_time": "2021-12-10T03:34:37.390Z"
   },
   {
    "duration": 52,
    "start_time": "2021-12-10T03:34:38.468Z"
   },
   {
    "duration": 283,
    "start_time": "2021-12-10T03:34:42.269Z"
   },
   {
    "duration": 312,
    "start_time": "2021-12-10T03:34:43.570Z"
   },
   {
    "duration": 322,
    "start_time": "2021-12-10T03:34:44.909Z"
   },
   {
    "duration": 366,
    "start_time": "2021-12-10T03:34:46.220Z"
   },
   {
    "duration": 273,
    "start_time": "2021-12-10T03:34:47.933Z"
   },
   {
    "duration": 280,
    "start_time": "2021-12-10T03:34:57.544Z"
   },
   {
    "duration": 587,
    "start_time": "2021-12-10T05:37:43.324Z"
   },
   {
    "duration": 137,
    "start_time": "2021-12-10T05:37:46.106Z"
   },
   {
    "duration": 17,
    "start_time": "2021-12-10T05:37:49.845Z"
   },
   {
    "duration": 13,
    "start_time": "2021-12-10T05:37:50.335Z"
   },
   {
    "duration": 24,
    "start_time": "2021-12-10T05:37:53.820Z"
   },
   {
    "duration": 22,
    "start_time": "2021-12-10T05:37:56.243Z"
   },
   {
    "duration": 31,
    "start_time": "2021-12-10T05:37:57.061Z"
   },
   {
    "duration": 16,
    "start_time": "2021-12-10T05:37:58.928Z"
   },
   {
    "duration": 6,
    "start_time": "2021-12-10T05:38:00.306Z"
   },
   {
    "duration": 5,
    "start_time": "2021-12-10T05:38:01.808Z"
   },
   {
    "duration": 6,
    "start_time": "2021-12-10T05:38:04.719Z"
   },
   {
    "duration": 6,
    "start_time": "2021-12-10T05:38:05.267Z"
   },
   {
    "duration": 4,
    "start_time": "2021-12-10T05:38:05.769Z"
   },
   {
    "duration": 7,
    "start_time": "2021-12-10T05:38:06.255Z"
   },
   {
    "duration": 29,
    "start_time": "2021-12-10T05:38:07.788Z"
   },
   {
    "duration": 55,
    "start_time": "2021-12-10T05:38:09.414Z"
   },
   {
    "duration": 23,
    "start_time": "2021-12-10T05:38:11.745Z"
   },
   {
    "duration": 13,
    "start_time": "2021-12-10T05:38:12.324Z"
   },
   {
    "duration": 43,
    "start_time": "2021-12-10T05:38:12.794Z"
   },
   {
    "duration": 174,
    "start_time": "2021-12-10T05:38:14.142Z"
   },
   {
    "duration": 169,
    "start_time": "2021-12-10T05:38:14.662Z"
   },
   {
    "duration": 171,
    "start_time": "2021-12-10T05:38:15.873Z"
   },
   {
    "duration": 214,
    "start_time": "2021-12-10T05:38:16.795Z"
   },
   {
    "duration": 154,
    "start_time": "2021-12-10T05:38:17.302Z"
   },
   {
    "duration": 150,
    "start_time": "2021-12-10T05:38:18.467Z"
   },
   {
    "duration": 230473,
    "start_time": "2021-12-10T05:38:20.164Z"
   },
   {
    "duration": -473,
    "start_time": "2021-12-10T05:42:11.114Z"
   },
   {
    "duration": -494,
    "start_time": "2021-12-10T05:42:11.136Z"
   },
   {
    "duration": 191,
    "start_time": "2021-12-10T05:44:18.022Z"
   },
   {
    "duration": 4,
    "start_time": "2021-12-10T05:45:53.056Z"
   },
   {
    "duration": 673,
    "start_time": "2021-12-10T05:45:55.191Z"
   },
   {
    "duration": 3,
    "start_time": "2021-12-10T05:46:20.385Z"
   },
   {
    "duration": 96,
    "start_time": "2021-12-10T05:46:20.397Z"
   },
   {
    "duration": 19,
    "start_time": "2021-12-10T05:46:20.494Z"
   },
   {
    "duration": 13,
    "start_time": "2021-12-10T05:46:20.515Z"
   },
   {
    "duration": 21,
    "start_time": "2021-12-10T05:46:20.529Z"
   },
   {
    "duration": 47,
    "start_time": "2021-12-10T05:46:20.552Z"
   },
   {
    "duration": 31,
    "start_time": "2021-12-10T05:46:20.600Z"
   },
   {
    "duration": 17,
    "start_time": "2021-12-10T05:46:20.633Z"
   },
   {
    "duration": 38,
    "start_time": "2021-12-10T05:46:20.653Z"
   },
   {
    "duration": 4,
    "start_time": "2021-12-10T05:46:20.693Z"
   },
   {
    "duration": 5,
    "start_time": "2021-12-10T05:46:20.698Z"
   },
   {
    "duration": 5,
    "start_time": "2021-12-10T05:46:20.704Z"
   },
   {
    "duration": 4,
    "start_time": "2021-12-10T05:46:20.710Z"
   },
   {
    "duration": 6,
    "start_time": "2021-12-10T05:46:20.715Z"
   },
   {
    "duration": 30,
    "start_time": "2021-12-10T05:46:20.722Z"
   },
   {
    "duration": 99,
    "start_time": "2021-12-10T05:46:20.754Z"
   },
   {
    "duration": 38,
    "start_time": "2021-12-10T05:46:20.855Z"
   },
   {
    "duration": 13,
    "start_time": "2021-12-10T05:46:20.894Z"
   },
   {
    "duration": 34,
    "start_time": "2021-12-10T05:46:20.909Z"
   },
   {
    "duration": 193,
    "start_time": "2021-12-10T05:46:20.945Z"
   },
   {
    "duration": 178,
    "start_time": "2021-12-10T05:46:21.140Z"
   },
   {
    "duration": 179,
    "start_time": "2021-12-10T05:46:21.320Z"
   },
   {
    "duration": 191,
    "start_time": "2021-12-10T05:46:21.500Z"
   },
   {
    "duration": 3,
    "start_time": "2021-12-10T05:49:42.726Z"
   },
   {
    "duration": 82,
    "start_time": "2021-12-10T05:49:46.242Z"
   },
   {
    "duration": 21,
    "start_time": "2021-12-10T05:49:53.611Z"
   },
   {
    "duration": 13,
    "start_time": "2021-12-10T05:49:54.777Z"
   },
   {
    "duration": 20,
    "start_time": "2021-12-10T05:50:06.530Z"
   },
   {
    "duration": 23,
    "start_time": "2021-12-10T05:50:13.234Z"
   },
   {
    "duration": 28,
    "start_time": "2021-12-10T05:50:18.556Z"
   },
   {
    "duration": 17,
    "start_time": "2021-12-10T05:50:24.976Z"
   },
   {
    "duration": 5,
    "start_time": "2021-12-10T05:50:28.123Z"
   },
   {
    "duration": 5,
    "start_time": "2021-12-10T05:50:30.733Z"
   },
   {
    "duration": 6,
    "start_time": "2021-12-10T05:50:38.394Z"
   },
   {
    "duration": 5,
    "start_time": "2021-12-10T05:50:39.037Z"
   },
   {
    "duration": 4,
    "start_time": "2021-12-10T05:50:40.255Z"
   },
   {
    "duration": 5,
    "start_time": "2021-12-10T05:50:41.371Z"
   },
   {
    "duration": 26,
    "start_time": "2021-12-10T05:50:55.793Z"
   },
   {
    "duration": 74,
    "start_time": "2021-12-10T05:51:00.332Z"
   },
   {
    "duration": 19,
    "start_time": "2021-12-10T05:51:05.722Z"
   },
   {
    "duration": 16,
    "start_time": "2021-12-10T05:51:18.490Z"
   },
   {
    "duration": 29,
    "start_time": "2021-12-10T05:51:26.008Z"
   },
   {
    "duration": 162,
    "start_time": "2021-12-10T05:51:29.464Z"
   },
   {
    "duration": 5081,
    "start_time": "2021-12-10T05:51:37.148Z"
   },
   {
    "duration": 175,
    "start_time": "2021-12-10T05:51:44.951Z"
   },
   {
    "duration": 180,
    "start_time": "2021-12-10T05:51:53.051Z"
   },
   {
    "duration": 160,
    "start_time": "2021-12-10T05:52:03.860Z"
   },
   {
    "duration": 164,
    "start_time": "2021-12-10T05:52:15.946Z"
   },
   {
    "duration": 154,
    "start_time": "2021-12-10T05:52:26.267Z"
   },
   {
    "duration": 153,
    "start_time": "2021-12-10T05:52:31.570Z"
   },
   {
    "duration": 3,
    "start_time": "2021-12-10T05:52:43.383Z"
   },
   {
    "duration": 667,
    "start_time": "2021-12-10T05:52:52.524Z"
   },
   {
    "duration": 8,
    "start_time": "2021-12-10T05:58:30.655Z"
   },
   {
    "duration": 19,
    "start_time": "2021-12-10T05:58:36.048Z"
   },
   {
    "duration": 13,
    "start_time": "2021-12-10T05:58:37.362Z"
   },
   {
    "duration": 169,
    "start_time": "2021-12-10T05:59:05.622Z"
   },
   {
    "duration": 4,
    "start_time": "2021-12-10T05:59:18.960Z"
   },
   {
    "duration": 20,
    "start_time": "2021-12-10T05:59:20.051Z"
   },
   {
    "duration": 23,
    "start_time": "2021-12-10T05:59:28.025Z"
   },
   {
    "duration": 161,
    "start_time": "2021-12-10T05:59:36.331Z"
   },
   {
    "duration": 158,
    "start_time": "2021-12-10T05:59:46.596Z"
   },
   {
    "duration": 15,
    "start_time": "2021-12-10T06:00:01.126Z"
   },
   {
    "duration": 165,
    "start_time": "2021-12-10T06:00:02.702Z"
   },
   {
    "duration": 178,
    "start_time": "2021-12-10T06:00:10.258Z"
   },
   {
    "duration": 177,
    "start_time": "2021-12-10T06:00:17.309Z"
   },
   {
    "duration": 28,
    "start_time": "2021-12-10T06:00:18.809Z"
   },
   {
    "duration": 190,
    "start_time": "2021-12-10T06:00:29.633Z"
   },
   {
    "duration": 6,
    "start_time": "2021-12-10T06:00:34.877Z"
   },
   {
    "duration": 159,
    "start_time": "2021-12-10T06:00:35.888Z"
   },
   {
    "duration": 154,
    "start_time": "2021-12-10T06:00:46.158Z"
   },
   {
    "duration": 21,
    "start_time": "2021-12-10T06:00:51.683Z"
   },
   {
    "duration": 11,
    "start_time": "2021-12-10T06:00:53.350Z"
   },
   {
    "duration": 241,
    "start_time": "2021-12-10T06:00:54.924Z"
   },
   {
    "duration": 27,
    "start_time": "2021-12-10T06:01:31.155Z"
   },
   {
    "duration": 23,
    "start_time": "2021-12-10T06:01:32.353Z"
   },
   {
    "duration": 330,
    "start_time": "2021-12-10T06:01:36.735Z"
   },
   {
    "duration": 349,
    "start_time": "2021-12-10T06:01:49.038Z"
   },
   {
    "duration": 15,
    "start_time": "2021-12-10T06:01:52.848Z"
   },
   {
    "duration": 156,
    "start_time": "2021-12-10T06:01:54.400Z"
   },
   {
    "duration": 171,
    "start_time": "2021-12-10T06:02:04.436Z"
   },
   {
    "duration": 368,
    "start_time": "2021-12-10T06:02:08.526Z"
   },
   {
    "duration": 8,
    "start_time": "2021-12-10T06:02:11.010Z"
   },
   {
    "duration": 372,
    "start_time": "2021-12-10T06:02:12.048Z"
   },
   {
    "duration": 376,
    "start_time": "2021-12-10T06:02:14.024Z"
   },
   {
    "duration": 13,
    "start_time": "2021-12-10T06:02:18.069Z"
   },
   {
    "duration": 159,
    "start_time": "2021-12-10T06:02:19.075Z"
   },
   {
    "duration": 245,
    "start_time": "2021-12-10T06:02:20.396Z"
   },
   {
    "duration": 351,
    "start_time": "2021-12-10T06:02:21.204Z"
   },
   {
    "duration": 9,
    "start_time": "2021-12-10T06:02:22.778Z"
   },
   {
    "duration": 18,
    "start_time": "2021-12-10T06:03:14.037Z"
   },
   {
    "duration": 18,
    "start_time": "2021-12-10T06:03:27.758Z"
   },
   {
    "duration": 348,
    "start_time": "2021-12-10T06:04:06.494Z"
   },
   {
    "duration": 354,
    "start_time": "2021-12-10T06:04:45.034Z"
   },
   {
    "duration": 177,
    "start_time": "2021-12-10T06:08:40.787Z"
   },
   {
    "duration": 169,
    "start_time": "2021-12-10T06:10:12.593Z"
   },
   {
    "duration": 374,
    "start_time": "2021-12-10T06:11:25.705Z"
   },
   {
    "duration": 356,
    "start_time": "2021-12-10T06:14:32.067Z"
   },
   {
    "duration": 352,
    "start_time": "2021-12-10T06:15:07.341Z"
   },
   {
    "duration": 12,
    "start_time": "2021-12-10T06:15:36.579Z"
   },
   {
    "duration": 3,
    "start_time": "2021-12-10T06:27:18.836Z"
   },
   {
    "duration": 81,
    "start_time": "2021-12-10T06:27:24.696Z"
   },
   {
    "duration": 18,
    "start_time": "2021-12-10T06:27:30.458Z"
   },
   {
    "duration": 14,
    "start_time": "2021-12-10T06:27:31.638Z"
   },
   {
    "duration": 23,
    "start_time": "2021-12-10T06:27:53.300Z"
   },
   {
    "duration": 25,
    "start_time": "2021-12-10T06:28:10.967Z"
   },
   {
    "duration": 35,
    "start_time": "2021-12-10T06:28:22.290Z"
   },
   {
    "duration": 17,
    "start_time": "2021-12-10T06:28:33.937Z"
   },
   {
    "duration": 5,
    "start_time": "2021-12-10T06:28:37.371Z"
   },
   {
    "duration": 5,
    "start_time": "2021-12-10T06:28:40.397Z"
   },
   {
    "duration": 5,
    "start_time": "2021-12-10T06:29:11.803Z"
   },
   {
    "duration": 6,
    "start_time": "2021-12-10T06:29:12.857Z"
   },
   {
    "duration": 4,
    "start_time": "2021-12-10T06:29:13.683Z"
   },
   {
    "duration": 5,
    "start_time": "2021-12-10T06:29:14.475Z"
   },
   {
    "duration": 6,
    "start_time": "2021-12-10T06:29:54.283Z"
   },
   {
    "duration": 26,
    "start_time": "2021-12-10T06:30:14.857Z"
   },
   {
    "duration": 80,
    "start_time": "2021-12-10T06:30:29.453Z"
   },
   {
    "duration": 8,
    "start_time": "2021-12-10T06:30:42.851Z"
   },
   {
    "duration": 19,
    "start_time": "2021-12-10T06:30:45.209Z"
   },
   {
    "duration": 23,
    "start_time": "2021-12-10T06:30:51.180Z"
   },
   {
    "duration": 35,
    "start_time": "2021-12-10T06:31:00.070Z"
   },
   {
    "duration": 170,
    "start_time": "2021-12-10T06:31:09.932Z"
   },
   {
    "duration": 189,
    "start_time": "2021-12-10T06:31:17.349Z"
   },
   {
    "duration": 203,
    "start_time": "2021-12-10T06:31:27.636Z"
   },
   {
    "duration": 193,
    "start_time": "2021-12-10T06:31:35.092Z"
   },
   {
    "duration": 175,
    "start_time": "2021-12-10T06:31:43.148Z"
   },
   {
    "duration": 185,
    "start_time": "2021-12-10T06:31:53.262Z"
   },
   {
    "duration": 166,
    "start_time": "2021-12-10T06:32:04.196Z"
   },
   {
    "duration": 177,
    "start_time": "2021-12-10T06:32:15.650Z"
   },
   {
    "duration": 190,
    "start_time": "2021-12-10T06:32:21.672Z"
   },
   {
    "duration": 3,
    "start_time": "2021-12-10T06:32:29.682Z"
   },
   {
    "duration": 19,
    "start_time": "2021-12-10T06:32:30.914Z"
   },
   {
    "duration": 23,
    "start_time": "2021-12-10T06:32:47.254Z"
   },
   {
    "duration": 182,
    "start_time": "2021-12-10T06:32:55.652Z"
   },
   {
    "duration": 172,
    "start_time": "2021-12-10T06:33:03.411Z"
   },
   {
    "duration": 16,
    "start_time": "2021-12-10T06:33:05.195Z"
   },
   {
    "duration": 176,
    "start_time": "2021-12-10T06:33:11.678Z"
   },
   {
    "duration": 199,
    "start_time": "2021-12-10T06:33:13.320Z"
   },
   {
    "duration": 195,
    "start_time": "2021-12-10T06:33:21.631Z"
   },
   {
    "duration": 29,
    "start_time": "2021-12-10T06:33:29.326Z"
   },
   {
    "duration": 218,
    "start_time": "2021-12-10T06:33:36.576Z"
   },
   {
    "duration": 5,
    "start_time": "2021-12-10T06:33:39.581Z"
   },
   {
    "duration": 164,
    "start_time": "2021-12-10T06:33:49.514Z"
   },
   {
    "duration": 21,
    "start_time": "2021-12-10T06:33:59.927Z"
   },
   {
    "duration": 12,
    "start_time": "2021-12-10T06:34:08.616Z"
   },
   {
    "duration": 265,
    "start_time": "2021-12-10T06:34:14.754Z"
   },
   {
    "duration": 23,
    "start_time": "2021-12-10T06:34:48.992Z"
   },
   {
    "duration": 19,
    "start_time": "2021-12-10T06:34:51.632Z"
   },
   {
    "duration": 369,
    "start_time": "2021-12-10T06:35:01.098Z"
   },
   {
    "duration": 402,
    "start_time": "2021-12-10T06:35:04.344Z"
   },
   {
    "duration": 12,
    "start_time": "2021-12-10T06:35:07.924Z"
   },
   {
    "duration": 177,
    "start_time": "2021-12-10T06:35:09.263Z"
   },
   {
    "duration": 190,
    "start_time": "2021-12-10T06:35:21.740Z"
   },
   {
    "duration": 403,
    "start_time": "2021-12-10T06:35:23.693Z"
   },
   {
    "duration": 9,
    "start_time": "2021-12-10T06:35:36.321Z"
   },
   {
    "duration": 349,
    "start_time": "2021-12-10T06:35:45.743Z"
   },
   {
    "duration": 376,
    "start_time": "2021-12-10T06:35:53.129Z"
   },
   {
    "duration": 13,
    "start_time": "2021-12-10T06:35:55.056Z"
   },
   {
    "duration": 195,
    "start_time": "2021-12-10T06:36:01.314Z"
   },
   {
    "duration": 369,
    "start_time": "2021-12-10T06:36:07.752Z"
   },
   {
    "duration": 549,
    "start_time": "2021-12-10T06:36:14.274Z"
   },
   {
    "duration": 11,
    "start_time": "2021-12-10T06:36:19.765Z"
   },
   {
    "duration": 175,
    "start_time": "2021-12-10T06:36:21.973Z"
   },
   {
    "duration": 3,
    "start_time": "2021-12-10T06:37:28.491Z"
   },
   {
    "duration": 83,
    "start_time": "2021-12-10T06:37:28.496Z"
   },
   {
    "duration": 21,
    "start_time": "2021-12-10T06:37:28.581Z"
   },
   {
    "duration": 13,
    "start_time": "2021-12-10T06:37:28.604Z"
   },
   {
    "duration": 33,
    "start_time": "2021-12-10T06:37:28.619Z"
   },
   {
    "duration": 51,
    "start_time": "2021-12-10T06:37:28.654Z"
   },
   {
    "duration": 41,
    "start_time": "2021-12-10T06:37:28.707Z"
   },
   {
    "duration": 49,
    "start_time": "2021-12-10T06:37:28.749Z"
   },
   {
    "duration": 5,
    "start_time": "2021-12-10T06:37:28.802Z"
   },
   {
    "duration": 5,
    "start_time": "2021-12-10T06:37:28.810Z"
   },
   {
    "duration": 5,
    "start_time": "2021-12-10T06:37:28.817Z"
   },
   {
    "duration": 7,
    "start_time": "2021-12-10T06:37:28.824Z"
   },
   {
    "duration": 4,
    "start_time": "2021-12-10T06:37:28.832Z"
   },
   {
    "duration": 6,
    "start_time": "2021-12-10T06:37:28.837Z"
   },
   {
    "duration": 64,
    "start_time": "2021-12-10T06:37:28.845Z"
   },
   {
    "duration": 58,
    "start_time": "2021-12-10T06:37:28.911Z"
   },
   {
    "duration": 7,
    "start_time": "2021-12-10T06:37:28.988Z"
   },
   {
    "duration": 18,
    "start_time": "2021-12-10T06:37:28.997Z"
   },
   {
    "duration": 13,
    "start_time": "2021-12-10T06:37:29.017Z"
   },
   {
    "duration": 28,
    "start_time": "2021-12-10T06:37:29.032Z"
   },
   {
    "duration": 200,
    "start_time": "2021-12-10T06:37:29.061Z"
   },
   {
    "duration": 177,
    "start_time": "2021-12-10T06:37:29.263Z"
   },
   {
    "duration": 182,
    "start_time": "2021-12-10T06:37:29.442Z"
   },
   {
    "duration": 189,
    "start_time": "2021-12-10T06:37:29.626Z"
   },
   {
    "duration": 164,
    "start_time": "2021-12-10T06:37:29.817Z"
   },
   {
    "duration": 175,
    "start_time": "2021-12-10T06:37:29.983Z"
   },
   {
    "duration": 163,
    "start_time": "2021-12-10T06:37:30.162Z"
   },
   {
    "duration": 171,
    "start_time": "2021-12-10T06:37:30.327Z"
   },
   {
    "duration": 244,
    "start_time": "2021-12-10T06:37:30.500Z"
   },
   {
    "duration": 5,
    "start_time": "2021-12-10T06:37:30.745Z"
   },
   {
    "duration": 36,
    "start_time": "2021-12-10T06:37:30.752Z"
   },
   {
    "duration": 33,
    "start_time": "2021-12-10T06:37:30.789Z"
   },
   {
    "duration": 263,
    "start_time": "2021-12-10T06:37:30.824Z"
   },
   {
    "duration": 245,
    "start_time": "2021-12-10T06:37:31.089Z"
   },
   {
    "duration": 17,
    "start_time": "2021-12-10T06:37:31.336Z"
   },
   {
    "duration": 354,
    "start_time": "2021-12-10T06:37:31.355Z"
   },
   {
    "duration": 189,
    "start_time": "2021-12-10T06:37:31.710Z"
   },
   {
    "duration": 189,
    "start_time": "2021-12-10T06:37:31.901Z"
   },
   {
    "duration": 26,
    "start_time": "2021-12-10T06:37:32.092Z"
   },
   {
    "duration": 212,
    "start_time": "2021-12-10T06:37:32.120Z"
   },
   {
    "duration": 5,
    "start_time": "2021-12-10T06:37:32.334Z"
   },
   {
    "duration": 272,
    "start_time": "2021-12-10T06:37:32.341Z"
   },
   {
    "duration": 163,
    "start_time": "2021-12-10T06:37:32.615Z"
   },
   {
    "duration": 24,
    "start_time": "2021-12-10T06:37:32.780Z"
   },
   {
    "duration": 9,
    "start_time": "2021-12-10T06:37:32.805Z"
   },
   {
    "duration": 258,
    "start_time": "2021-12-10T06:37:32.816Z"
   },
   {
    "duration": 27,
    "start_time": "2021-12-10T06:37:33.076Z"
   },
   {
    "duration": 18,
    "start_time": "2021-12-10T06:37:33.104Z"
   },
   {
    "duration": 343,
    "start_time": "2021-12-10T06:37:33.124Z"
   },
   {
    "duration": 405,
    "start_time": "2021-12-10T06:37:33.469Z"
   },
   {
    "duration": 16,
    "start_time": "2021-12-10T06:37:33.876Z"
   },
   {
    "duration": 164,
    "start_time": "2021-12-10T06:37:33.894Z"
   },
   {
    "duration": 181,
    "start_time": "2021-12-10T06:37:34.060Z"
   },
   {
    "duration": 385,
    "start_time": "2021-12-10T06:37:34.242Z"
   },
   {
    "duration": 8,
    "start_time": "2021-12-10T06:37:34.628Z"
   },
   {
    "duration": 385,
    "start_time": "2021-12-10T06:37:34.639Z"
   },
   {
    "duration": 356,
    "start_time": "2021-12-10T06:37:35.025Z"
   },
   {
    "duration": 12,
    "start_time": "2021-12-10T06:37:35.383Z"
   },
   {
    "duration": 170,
    "start_time": "2021-12-10T06:37:35.396Z"
   },
   {
    "duration": 248,
    "start_time": "2021-12-10T06:37:35.568Z"
   },
   {
    "duration": 367,
    "start_time": "2021-12-10T06:37:35.817Z"
   },
   {
    "duration": 9,
    "start_time": "2021-12-10T06:37:36.185Z"
   },
   {
    "duration": 690,
    "start_time": "2021-12-10T08:41:57.286Z"
   },
   {
    "duration": 102,
    "start_time": "2021-12-10T08:41:57.978Z"
   },
   {
    "duration": 19,
    "start_time": "2021-12-10T08:41:58.083Z"
   },
   {
    "duration": 35,
    "start_time": "2021-12-10T08:41:58.104Z"
   },
   {
    "duration": 39,
    "start_time": "2021-12-10T08:41:58.141Z"
   },
   {
    "duration": 26,
    "start_time": "2021-12-10T08:41:58.183Z"
   },
   {
    "duration": 32,
    "start_time": "2021-12-10T08:41:58.212Z"
   },
   {
    "duration": 19,
    "start_time": "2021-12-10T08:41:58.263Z"
   },
   {
    "duration": 34,
    "start_time": "2021-12-10T08:41:58.284Z"
   },
   {
    "duration": 16,
    "start_time": "2021-12-10T08:41:58.320Z"
   },
   {
    "duration": 21,
    "start_time": "2021-12-10T08:41:58.338Z"
   },
   {
    "duration": 17,
    "start_time": "2021-12-10T08:41:58.360Z"
   },
   {
    "duration": 7,
    "start_time": "2021-12-10T08:41:58.379Z"
   },
   {
    "duration": 8,
    "start_time": "2021-12-10T08:41:58.388Z"
   },
   {
    "duration": 58,
    "start_time": "2021-12-10T08:41:58.398Z"
   },
   {
    "duration": 65,
    "start_time": "2021-12-10T08:41:58.459Z"
   },
   {
    "duration": 15,
    "start_time": "2021-12-10T08:41:58.527Z"
   },
   {
    "duration": 42,
    "start_time": "2021-12-10T08:41:58.543Z"
   },
   {
    "duration": 15,
    "start_time": "2021-12-10T08:41:58.587Z"
   },
   {
    "duration": 35,
    "start_time": "2021-12-10T08:41:58.604Z"
   },
   {
    "duration": 193,
    "start_time": "2021-12-10T08:41:58.664Z"
   },
   {
    "duration": 190,
    "start_time": "2021-12-10T08:41:58.863Z"
   },
   {
    "duration": 214,
    "start_time": "2021-12-10T08:41:59.057Z"
   },
   {
    "duration": 271,
    "start_time": "2021-12-10T08:41:59.274Z"
   },
   {
    "duration": 194,
    "start_time": "2021-12-10T08:41:59.547Z"
   },
   {
    "duration": 191,
    "start_time": "2021-12-10T08:41:59.742Z"
   },
   {
    "duration": 192,
    "start_time": "2021-12-10T08:41:59.935Z"
   },
   {
    "duration": 194,
    "start_time": "2021-12-10T08:42:00.129Z"
   },
   {
    "duration": 188,
    "start_time": "2021-12-10T08:42:00.325Z"
   },
   {
    "duration": 4,
    "start_time": "2021-12-10T08:42:00.514Z"
   },
   {
    "duration": 42,
    "start_time": "2021-12-10T08:42:00.519Z"
   },
   {
    "duration": 26,
    "start_time": "2021-12-10T08:42:00.563Z"
   },
   {
    "duration": 209,
    "start_time": "2021-12-10T08:42:00.591Z"
   },
   {
    "duration": 205,
    "start_time": "2021-12-10T08:42:00.803Z"
   },
   {
    "duration": 16,
    "start_time": "2021-12-10T08:42:01.010Z"
   },
   {
    "duration": 225,
    "start_time": "2021-12-10T08:42:01.028Z"
   },
   {
    "duration": 230,
    "start_time": "2021-12-10T08:42:01.255Z"
   },
   {
    "duration": 213,
    "start_time": "2021-12-10T08:42:01.487Z"
   },
   {
    "duration": 36,
    "start_time": "2021-12-10T08:42:01.702Z"
   },
   {
    "duration": 482,
    "start_time": "2021-12-10T08:42:01.740Z"
   },
   {
    "duration": 8,
    "start_time": "2021-12-10T08:42:02.224Z"
   },
   {
    "duration": 213,
    "start_time": "2021-12-10T08:42:02.234Z"
   },
   {
    "duration": 189,
    "start_time": "2021-12-10T08:42:02.450Z"
   },
   {
    "duration": 37,
    "start_time": "2021-12-10T08:42:02.641Z"
   },
   {
    "duration": 115,
    "start_time": "2021-12-10T08:42:02.680Z"
   },
   {
    "duration": 310,
    "start_time": "2021-12-10T08:42:02.797Z"
   },
   {
    "duration": 20,
    "start_time": "2021-12-10T08:42:03.109Z"
   },
   {
    "duration": 95,
    "start_time": "2021-12-10T08:42:03.131Z"
   },
   {
    "duration": 401,
    "start_time": "2021-12-10T08:42:03.228Z"
   },
   {
    "duration": 425,
    "start_time": "2021-12-10T08:42:03.631Z"
   },
   {
    "duration": 13,
    "start_time": "2021-12-10T08:42:04.058Z"
   },
   {
    "duration": 196,
    "start_time": "2021-12-10T08:42:04.074Z"
   },
   {
    "duration": 195,
    "start_time": "2021-12-10T08:42:04.272Z"
   },
   {
    "duration": 432,
    "start_time": "2021-12-10T08:42:04.469Z"
   },
   {
    "duration": 11,
    "start_time": "2021-12-10T08:42:04.904Z"
   },
   {
    "duration": 415,
    "start_time": "2021-12-10T08:42:04.917Z"
   },
   {
    "duration": 481,
    "start_time": "2021-12-10T08:42:05.334Z"
   },
   {
    "duration": 14,
    "start_time": "2021-12-10T08:42:05.817Z"
   },
   {
    "duration": 202,
    "start_time": "2021-12-10T08:42:05.832Z"
   },
   {
    "duration": 282,
    "start_time": "2021-12-10T08:42:06.036Z"
   },
   {
    "duration": 413,
    "start_time": "2021-12-10T08:42:06.320Z"
   },
   {
    "duration": 10,
    "start_time": "2021-12-10T08:42:06.735Z"
   },
   {
    "duration": 882,
    "start_time": "2021-12-12T21:34:18.028Z"
   },
   {
    "duration": 136,
    "start_time": "2021-12-12T21:34:22.316Z"
   },
   {
    "duration": 26,
    "start_time": "2021-12-12T21:35:09.832Z"
   },
   {
    "duration": 22,
    "start_time": "2021-12-12T21:35:11.247Z"
   },
   {
    "duration": 37,
    "start_time": "2021-12-12T21:36:00.089Z"
   },
   {
    "duration": 45,
    "start_time": "2021-12-12T21:36:26.199Z"
   },
   {
    "duration": 45,
    "start_time": "2021-12-12T21:36:38.779Z"
   },
   {
    "duration": 23,
    "start_time": "2021-12-12T21:36:49.756Z"
   },
   {
    "duration": 7,
    "start_time": "2021-12-12T21:36:56.948Z"
   },
   {
    "duration": 6,
    "start_time": "2021-12-12T21:37:04.269Z"
   },
   {
    "duration": 8,
    "start_time": "2021-12-12T21:37:45.657Z"
   },
   {
    "duration": 6,
    "start_time": "2021-12-12T21:37:46.581Z"
   },
   {
    "duration": 5,
    "start_time": "2021-12-12T21:37:47.500Z"
   },
   {
    "duration": 8,
    "start_time": "2021-12-12T21:37:53.700Z"
   },
   {
    "duration": 41,
    "start_time": "2021-12-12T21:38:10.233Z"
   },
   {
    "duration": 91,
    "start_time": "2021-12-12T21:38:25.383Z"
   },
   {
    "duration": 11,
    "start_time": "2021-12-12T21:38:45.923Z"
   },
   {
    "duration": 53,
    "start_time": "2021-12-12T21:38:52.770Z"
   },
   {
    "duration": 22,
    "start_time": "2021-12-12T21:38:54.169Z"
   },
   {
    "duration": 52,
    "start_time": "2021-12-12T21:38:55.734Z"
   },
   {
    "duration": 296,
    "start_time": "2021-12-12T21:39:02.283Z"
   },
   {
    "duration": 312,
    "start_time": "2021-12-12T21:39:03.691Z"
   },
   {
    "duration": 326,
    "start_time": "2021-12-12T21:39:05.158Z"
   },
   {
    "duration": 349,
    "start_time": "2021-12-12T21:39:06.514Z"
   },
   {
    "duration": 276,
    "start_time": "2021-12-12T21:39:08.092Z"
   },
   {
    "duration": 329,
    "start_time": "2021-12-12T21:39:10.801Z"
   },
   {
    "duration": 266,
    "start_time": "2021-12-12T21:39:14.213Z"
   },
   {
    "duration": 290,
    "start_time": "2021-12-12T21:39:17.376Z"
   },
   {
    "duration": 268,
    "start_time": "2021-12-12T21:39:18.368Z"
   },
   {
    "duration": 5,
    "start_time": "2021-12-12T21:39:30.159Z"
   },
   {
    "duration": 28,
    "start_time": "2021-12-12T21:39:31.853Z"
   },
   {
    "duration": 44,
    "start_time": "2021-12-12T21:39:33.748Z"
   },
   {
    "duration": 317,
    "start_time": "2021-12-12T21:39:50.001Z"
   },
   {
    "duration": 288,
    "start_time": "2021-12-12T21:39:50.705Z"
   },
   {
    "duration": 21,
    "start_time": "2021-12-12T21:39:51.351Z"
   },
   {
    "duration": 315,
    "start_time": "2021-12-12T21:39:52.237Z"
   },
   {
    "duration": 310,
    "start_time": "2021-12-12T21:39:52.908Z"
   },
   {
    "duration": 303,
    "start_time": "2021-12-12T21:39:53.673Z"
   },
   {
    "duration": 43,
    "start_time": "2021-12-12T21:39:54.429Z"
   },
   {
    "duration": 448,
    "start_time": "2021-12-12T21:41:00.714Z"
   },
   {
    "duration": 7,
    "start_time": "2021-12-12T21:41:03.391Z"
   },
   {
    "duration": 411,
    "start_time": "2021-12-12T21:41:04.925Z"
   },
   {
    "duration": 281,
    "start_time": "2021-12-12T21:41:07.478Z"
   },
   {
    "duration": 34,
    "start_time": "2021-12-12T21:41:21.734Z"
   },
   {
    "duration": 15,
    "start_time": "2021-12-12T21:41:23.372Z"
   },
   {
    "duration": 431,
    "start_time": "2021-12-12T21:41:24.665Z"
   },
   {
    "duration": 40,
    "start_time": "2021-12-12T21:42:20.298Z"
   },
   {
    "duration": 31,
    "start_time": "2021-12-12T21:42:21.381Z"
   },
   {
    "duration": 661,
    "start_time": "2021-12-12T21:42:24.107Z"
   },
   {
    "duration": 593,
    "start_time": "2021-12-12T21:42:26.328Z"
   },
   {
    "duration": 21,
    "start_time": "2021-12-12T21:42:29.204Z"
   },
   {
    "duration": 272,
    "start_time": "2021-12-12T21:42:30.307Z"
   },
   {
    "duration": 306,
    "start_time": "2021-12-12T21:42:33.456Z"
   },
   {
    "duration": 817,
    "start_time": "2021-12-12T21:42:34.960Z"
   },
   {
    "duration": 15,
    "start_time": "2021-12-12T21:42:36.448Z"
   },
   {
    "duration": 497,
    "start_time": "2021-12-12T21:42:41.564Z"
   },
   {
    "duration": 598,
    "start_time": "2021-12-12T21:42:42.279Z"
   },
   {
    "duration": 22,
    "start_time": "2021-12-12T21:42:43.124Z"
   },
   {
    "duration": 281,
    "start_time": "2021-12-12T21:42:43.925Z"
   },
   {
    "duration": 447,
    "start_time": "2021-12-12T21:42:44.951Z"
   },
   {
    "duration": 625,
    "start_time": "2021-12-12T21:42:46.103Z"
   },
   {
    "duration": 13,
    "start_time": "2021-12-12T21:42:47.367Z"
   },
   {
    "duration": 4,
    "start_time": "2021-12-12T21:43:44.174Z"
   },
   {
    "duration": 135,
    "start_time": "2021-12-12T21:43:44.183Z"
   },
   {
    "duration": 38,
    "start_time": "2021-12-12T21:43:44.321Z"
   },
   {
    "duration": 22,
    "start_time": "2021-12-12T21:43:44.362Z"
   },
   {
    "duration": 30,
    "start_time": "2021-12-12T21:43:44.386Z"
   },
   {
    "duration": 69,
    "start_time": "2021-12-12T21:43:44.419Z"
   },
   {
    "duration": 77,
    "start_time": "2021-12-12T21:43:44.490Z"
   },
   {
    "duration": 25,
    "start_time": "2021-12-12T21:43:44.569Z"
   },
   {
    "duration": 9,
    "start_time": "2021-12-12T21:43:44.598Z"
   },
   {
    "duration": 51,
    "start_time": "2021-12-12T21:43:44.610Z"
   },
   {
    "duration": 7,
    "start_time": "2021-12-12T21:43:44.664Z"
   },
   {
    "duration": 8,
    "start_time": "2021-12-12T21:43:44.674Z"
   },
   {
    "duration": 4,
    "start_time": "2021-12-12T21:43:44.685Z"
   },
   {
    "duration": 8,
    "start_time": "2021-12-12T21:43:44.692Z"
   },
   {
    "duration": 93,
    "start_time": "2021-12-12T21:43:44.702Z"
   },
   {
    "duration": 106,
    "start_time": "2021-12-12T21:43:44.798Z"
   },
   {
    "duration": 13,
    "start_time": "2021-12-12T21:43:44.906Z"
   },
   {
    "duration": 58,
    "start_time": "2021-12-12T21:43:44.922Z"
   },
   {
    "duration": 23,
    "start_time": "2021-12-12T21:43:44.982Z"
   },
   {
    "duration": 63,
    "start_time": "2021-12-12T21:43:45.007Z"
   },
   {
    "duration": 300,
    "start_time": "2021-12-12T21:43:45.072Z"
   },
   {
    "duration": 326,
    "start_time": "2021-12-12T21:43:45.374Z"
   },
   {
    "duration": 343,
    "start_time": "2021-12-12T21:43:45.704Z"
   },
   {
    "duration": 340,
    "start_time": "2021-12-12T21:43:46.053Z"
   },
   {
    "duration": 293,
    "start_time": "2021-12-12T21:43:46.396Z"
   },
   {
    "duration": 298,
    "start_time": "2021-12-12T21:43:46.691Z"
   },
   {
    "duration": 347,
    "start_time": "2021-12-12T21:43:46.991Z"
   },
   {
    "duration": 293,
    "start_time": "2021-12-12T21:43:47.340Z"
   },
   {
    "duration": 288,
    "start_time": "2021-12-12T21:43:47.635Z"
   },
   {
    "duration": 6,
    "start_time": "2021-12-12T21:43:47.926Z"
   },
   {
    "duration": 49,
    "start_time": "2021-12-12T21:43:47.935Z"
   },
   {
    "duration": 40,
    "start_time": "2021-12-12T21:43:47.987Z"
   },
   {
    "duration": 316,
    "start_time": "2021-12-12T21:43:48.030Z"
   },
   {
    "duration": 296,
    "start_time": "2021-12-12T21:43:48.349Z"
   },
   {
    "duration": 27,
    "start_time": "2021-12-12T21:43:48.647Z"
   },
   {
    "duration": 307,
    "start_time": "2021-12-12T21:43:48.677Z"
   },
   {
    "duration": 335,
    "start_time": "2021-12-12T21:43:48.987Z"
   },
   {
    "duration": 312,
    "start_time": "2021-12-12T21:43:49.324Z"
   },
   {
    "duration": 54,
    "start_time": "2021-12-12T21:43:49.639Z"
   },
   {
    "duration": 378,
    "start_time": "2021-12-12T21:43:49.696Z"
   },
   {
    "duration": 7,
    "start_time": "2021-12-12T21:43:50.077Z"
   },
   {
    "duration": 291,
    "start_time": "2021-12-12T21:43:50.087Z"
   },
   {
    "duration": 288,
    "start_time": "2021-12-12T21:43:50.380Z"
   },
   {
    "duration": 33,
    "start_time": "2021-12-12T21:43:50.670Z"
   },
   {
    "duration": 14,
    "start_time": "2021-12-12T21:43:50.706Z"
   },
   {
    "duration": 528,
    "start_time": "2021-12-12T21:43:50.723Z"
   },
   {
    "duration": 29,
    "start_time": "2021-12-12T21:43:51.258Z"
   },
   {
    "duration": 27,
    "start_time": "2021-12-12T21:43:51.289Z"
   },
   {
    "duration": 541,
    "start_time": "2021-12-12T21:43:51.319Z"
   },
   {
    "duration": 542,
    "start_time": "2021-12-12T21:43:51.862Z"
   },
   {
    "duration": 19,
    "start_time": "2021-12-12T21:43:52.406Z"
   },
   {
    "duration": 293,
    "start_time": "2021-12-12T21:43:52.427Z"
   },
   {
    "duration": 327,
    "start_time": "2021-12-12T21:43:52.722Z"
   },
   {
    "duration": 688,
    "start_time": "2021-12-12T21:43:53.060Z"
   },
   {
    "duration": 19,
    "start_time": "2021-12-12T21:43:53.751Z"
   },
   {
    "duration": 500,
    "start_time": "2021-12-12T21:43:53.772Z"
   },
   {
    "duration": 525,
    "start_time": "2021-12-12T21:43:54.274Z"
   },
   {
    "duration": 19,
    "start_time": "2021-12-12T21:43:54.801Z"
   },
   {
    "duration": 305,
    "start_time": "2021-12-12T21:43:54.822Z"
   },
   {
    "duration": 529,
    "start_time": "2021-12-12T21:43:55.130Z"
   },
   {
    "duration": 812,
    "start_time": "2021-12-12T21:43:55.662Z"
   },
   {
    "duration": 13,
    "start_time": "2021-12-12T21:43:56.476Z"
   },
   {
    "duration": 859,
    "start_time": "2021-12-14T06:20:06.285Z"
   },
   {
    "duration": 509,
    "start_time": "2021-12-14T06:20:08.944Z"
   },
   {
    "duration": 25,
    "start_time": "2021-12-14T06:20:14.067Z"
   },
   {
    "duration": 22,
    "start_time": "2021-12-14T06:20:15.143Z"
   },
   {
    "duration": 36,
    "start_time": "2021-12-14T06:20:22.083Z"
   },
   {
    "duration": 8316,
    "start_time": "2021-12-14T06:21:46.056Z"
   },
   {
    "duration": 33,
    "start_time": "2021-12-14T06:22:36.464Z"
   },
   {
    "duration": 53,
    "start_time": "2021-12-14T06:40:52.503Z"
   },
   {
    "duration": 48,
    "start_time": "2021-12-14T06:41:41.551Z"
   },
   {
    "duration": 52,
    "start_time": "2021-12-14T06:42:13.764Z"
   },
   {
    "duration": 68,
    "start_time": "2021-12-14T06:46:16.985Z"
   },
   {
    "duration": 2232,
    "start_time": "2022-04-18T20:11:10.516Z"
   },
   {
    "duration": 383,
    "start_time": "2022-04-18T20:11:12.751Z"
   },
   {
    "duration": 54,
    "start_time": "2022-04-18T20:11:13.137Z"
   },
   {
    "duration": 38,
    "start_time": "2022-04-18T20:11:13.195Z"
   },
   {
    "duration": 63,
    "start_time": "2022-04-18T20:11:13.236Z"
   },
   {
    "duration": 45,
    "start_time": "2022-04-18T20:11:13.302Z"
   },
   {
    "duration": 73,
    "start_time": "2022-04-18T20:11:13.350Z"
   },
   {
    "duration": 63,
    "start_time": "2022-04-18T20:11:13.425Z"
   },
   {
    "duration": 14,
    "start_time": "2022-04-18T20:11:13.491Z"
   },
   {
    "duration": 10,
    "start_time": "2022-04-18T20:11:13.509Z"
   },
   {
    "duration": 12,
    "start_time": "2022-04-18T20:11:13.522Z"
   },
   {
    "duration": 7,
    "start_time": "2022-04-18T20:11:13.537Z"
   },
   {
    "duration": 40,
    "start_time": "2022-04-18T20:11:13.546Z"
   },
   {
    "duration": 11,
    "start_time": "2022-04-18T20:11:13.589Z"
   },
   {
    "duration": 77,
    "start_time": "2022-04-18T20:11:13.605Z"
   },
   {
    "duration": 104,
    "start_time": "2022-04-18T20:11:13.685Z"
   },
   {
    "duration": 16,
    "start_time": "2022-04-18T20:11:13.792Z"
   },
   {
    "duration": 34,
    "start_time": "2022-04-18T20:11:13.810Z"
   },
   {
    "duration": 69,
    "start_time": "2022-04-18T20:11:13.847Z"
   },
   {
    "duration": 76,
    "start_time": "2022-04-18T20:11:13.919Z"
   },
   {
    "duration": 242,
    "start_time": "2022-04-18T20:11:13.998Z"
   },
   {
    "duration": 387,
    "start_time": "2022-04-18T20:11:14.243Z"
   },
   {
    "duration": 265,
    "start_time": "2022-04-18T20:11:14.634Z"
   },
   {
    "duration": 255,
    "start_time": "2022-04-18T20:11:14.902Z"
   },
   {
    "duration": 281,
    "start_time": "2022-04-18T20:11:15.159Z"
   },
   {
    "duration": 229,
    "start_time": "2022-04-18T20:11:15.442Z"
   },
   {
    "duration": 331,
    "start_time": "2022-04-18T20:11:15.674Z"
   },
   {
    "duration": 242,
    "start_time": "2022-04-18T20:11:16.011Z"
   },
   {
    "duration": 226,
    "start_time": "2022-04-18T20:11:16.255Z"
   },
   {
    "duration": 5,
    "start_time": "2022-04-18T20:11:16.485Z"
   },
   {
    "duration": 35,
    "start_time": "2022-04-18T20:11:16.493Z"
   },
   {
    "duration": 89,
    "start_time": "2022-04-18T20:11:16.531Z"
   },
   {
    "duration": 337,
    "start_time": "2022-04-18T20:11:16.623Z"
   },
   {
    "duration": 226,
    "start_time": "2022-04-18T20:11:16.963Z"
   },
   {
    "duration": 21,
    "start_time": "2022-04-18T20:11:17.192Z"
   },
   {
    "duration": 367,
    "start_time": "2022-04-18T20:11:17.216Z"
   },
   {
    "duration": 275,
    "start_time": "2022-04-18T20:11:17.587Z"
   },
   {
    "duration": 284,
    "start_time": "2022-04-18T20:11:17.865Z"
   },
   {
    "duration": 59,
    "start_time": "2022-04-18T20:11:18.152Z"
   },
   {
    "duration": 374,
    "start_time": "2022-04-18T20:11:18.216Z"
   },
   {
    "duration": 9,
    "start_time": "2022-04-18T20:11:18.593Z"
   },
   {
    "duration": 400,
    "start_time": "2022-04-18T20:11:18.604Z"
   },
   {
    "duration": 225,
    "start_time": "2022-04-18T20:11:19.006Z"
   },
   {
    "duration": 58,
    "start_time": "2022-04-18T20:11:19.234Z"
   },
   {
    "duration": 20,
    "start_time": "2022-04-18T20:11:19.295Z"
   },
   {
    "duration": 353,
    "start_time": "2022-04-18T20:11:19.317Z"
   },
   {
    "duration": 34,
    "start_time": "2022-04-18T20:11:19.673Z"
   },
   {
    "duration": 32,
    "start_time": "2022-04-18T20:11:19.710Z"
   },
   {
    "duration": 269,
    "start_time": "2022-04-18T20:11:19.745Z"
   },
   {
    "duration": 278,
    "start_time": "2022-04-18T20:11:20.017Z"
   },
   {
    "duration": 22,
    "start_time": "2022-04-18T20:11:20.297Z"
   },
   {
    "duration": 340,
    "start_time": "2022-04-18T20:11:20.322Z"
   },
   {
    "duration": 259,
    "start_time": "2022-04-18T20:11:20.664Z"
   },
   {
    "duration": 566,
    "start_time": "2022-04-18T20:11:20.926Z"
   },
   {
    "duration": 14,
    "start_time": "2022-04-18T20:11:21.495Z"
   },
   {
    "duration": 239,
    "start_time": "2022-04-18T20:11:21.511Z"
   },
   {
    "duration": 269,
    "start_time": "2022-04-18T20:11:21.752Z"
   },
   {
    "duration": 24,
    "start_time": "2022-04-18T20:11:22.024Z"
   },
   {
    "duration": 446,
    "start_time": "2022-04-18T20:11:22.050Z"
   },
   {
    "duration": 465,
    "start_time": "2022-04-18T20:11:22.499Z"
   },
   {
    "duration": 469,
    "start_time": "2022-04-18T20:11:22.966Z"
   },
   {
    "duration": 13,
    "start_time": "2022-04-18T20:11:23.438Z"
   },
   {
    "duration": 1360,
    "start_time": "2022-04-18T20:16:34.139Z"
   },
   {
    "duration": 152,
    "start_time": "2022-04-18T20:16:35.502Z"
   },
   {
    "duration": 44,
    "start_time": "2022-04-18T20:16:35.656Z"
   },
   {
    "duration": 35,
    "start_time": "2022-04-18T20:16:35.703Z"
   },
   {
    "duration": 66,
    "start_time": "2022-04-18T20:16:35.740Z"
   },
   {
    "duration": 39,
    "start_time": "2022-04-18T20:16:35.808Z"
   },
   {
    "duration": 74,
    "start_time": "2022-04-18T20:16:35.849Z"
   },
   {
    "duration": 24,
    "start_time": "2022-04-18T20:16:35.925Z"
   },
   {
    "duration": 30,
    "start_time": "2022-04-18T20:16:35.952Z"
   },
   {
    "duration": 13,
    "start_time": "2022-04-18T20:16:35.989Z"
   },
   {
    "duration": 13,
    "start_time": "2022-04-18T20:16:36.004Z"
   },
   {
    "duration": 7,
    "start_time": "2022-04-18T20:16:36.020Z"
   },
   {
    "duration": 8,
    "start_time": "2022-04-18T20:16:36.029Z"
   },
   {
    "duration": 46,
    "start_time": "2022-04-18T20:16:36.039Z"
   },
   {
    "duration": 53,
    "start_time": "2022-04-18T20:16:36.089Z"
   },
   {
    "duration": 150,
    "start_time": "2022-04-18T20:16:36.144Z"
   },
   {
    "duration": 16,
    "start_time": "2022-04-18T20:16:36.298Z"
   },
   {
    "duration": 35,
    "start_time": "2022-04-18T20:16:36.316Z"
   },
   {
    "duration": 53,
    "start_time": "2022-04-18T20:16:36.353Z"
   },
   {
    "duration": 89,
    "start_time": "2022-04-18T20:16:36.408Z"
   },
   {
    "duration": 248,
    "start_time": "2022-04-18T20:16:36.499Z"
   },
   {
    "duration": 263,
    "start_time": "2022-04-18T20:16:36.749Z"
   },
   {
    "duration": 277,
    "start_time": "2022-04-18T20:16:37.014Z"
   },
   {
    "duration": 276,
    "start_time": "2022-04-18T20:16:37.295Z"
   },
   {
    "duration": 309,
    "start_time": "2022-04-18T20:16:37.574Z"
   },
   {
    "duration": 345,
    "start_time": "2022-04-18T20:16:37.886Z"
   },
   {
    "duration": 244,
    "start_time": "2022-04-18T20:16:38.234Z"
   },
   {
    "duration": 271,
    "start_time": "2022-04-18T20:16:38.488Z"
   },
   {
    "duration": 242,
    "start_time": "2022-04-18T20:16:38.761Z"
   },
   {
    "duration": 6,
    "start_time": "2022-04-18T20:16:39.007Z"
   },
   {
    "duration": 35,
    "start_time": "2022-04-18T20:16:39.015Z"
   },
   {
    "duration": 76,
    "start_time": "2022-04-18T20:16:39.053Z"
   },
   {
    "duration": 260,
    "start_time": "2022-04-18T20:16:39.131Z"
   },
   {
    "duration": 237,
    "start_time": "2022-04-18T20:16:39.394Z"
   },
   {
    "duration": 20,
    "start_time": "2022-04-18T20:16:39.633Z"
   },
   {
    "duration": 254,
    "start_time": "2022-04-18T20:16:39.656Z"
   },
   {
    "duration": 296,
    "start_time": "2022-04-18T20:16:39.913Z"
   },
   {
    "duration": 299,
    "start_time": "2022-04-18T20:16:40.212Z"
   },
   {
    "duration": 42,
    "start_time": "2022-04-18T20:16:40.513Z"
   },
   {
    "duration": 337,
    "start_time": "2022-04-18T20:16:40.558Z"
   },
   {
    "duration": 9,
    "start_time": "2022-04-18T20:16:40.898Z"
   },
   {
    "duration": 320,
    "start_time": "2022-04-18T20:16:40.909Z"
   },
   {
    "duration": 237,
    "start_time": "2022-04-18T20:16:41.232Z"
   },
   {
    "duration": 48,
    "start_time": "2022-04-18T20:16:41.471Z"
   },
   {
    "duration": 18,
    "start_time": "2022-04-18T20:16:41.522Z"
   },
   {
    "duration": 379,
    "start_time": "2022-04-18T20:16:41.542Z"
   },
   {
    "duration": 42,
    "start_time": "2022-04-18T20:16:41.924Z"
   },
   {
    "duration": 35,
    "start_time": "2022-04-18T20:16:41.984Z"
   },
   {
    "duration": 265,
    "start_time": "2022-04-18T20:16:42.021Z"
   },
   {
    "duration": 277,
    "start_time": "2022-04-18T20:16:42.292Z"
   },
   {
    "duration": 34,
    "start_time": "2022-04-18T20:16:42.571Z"
   },
   {
    "duration": 254,
    "start_time": "2022-04-18T20:16:42.608Z"
   },
   {
    "duration": 258,
    "start_time": "2022-04-18T20:16:42.864Z"
   },
   {
    "duration": 522,
    "start_time": "2022-04-18T20:16:43.124Z"
   },
   {
    "duration": 13,
    "start_time": "2022-04-18T20:16:43.649Z"
   },
   {
    "duration": 253,
    "start_time": "2022-04-18T20:16:43.664Z"
   },
   {
    "duration": 256,
    "start_time": "2022-04-18T20:16:43.919Z"
   },
   {
    "duration": 19,
    "start_time": "2022-04-18T20:16:44.181Z"
   },
   {
    "duration": 326,
    "start_time": "2022-04-18T20:16:44.202Z"
   },
   {
    "duration": 357,
    "start_time": "2022-04-18T20:16:44.530Z"
   },
   {
    "duration": 580,
    "start_time": "2022-04-18T20:16:44.889Z"
   },
   {
    "duration": 29,
    "start_time": "2022-04-18T20:16:45.471Z"
   }
  ],
  "kernelspec": {
   "display_name": "Python 3 (ipykernel)",
   "language": "python",
   "name": "python3"
  },
  "language_info": {
   "codemirror_mode": {
    "name": "ipython",
    "version": 3
   },
   "file_extension": ".py",
   "mimetype": "text/x-python",
   "name": "python",
   "nbconvert_exporter": "python",
   "pygments_lexer": "ipython3",
   "version": "3.9.5"
  },
  "toc": {
   "base_numbering": 1,
   "nav_menu": {},
   "number_sections": true,
   "sideBar": true,
   "skip_h1_title": false,
   "title_cell": "Table of Contents",
   "title_sidebar": "Contents",
   "toc_cell": false,
   "toc_position": {
    "height": "calc(100% - 180px)",
    "left": "10px",
    "top": "150px",
    "width": "242.2px"
   },
   "toc_section_display": true,
   "toc_window_display": false
  }
 },
 "nbformat": 4,
 "nbformat_minor": 2
}
